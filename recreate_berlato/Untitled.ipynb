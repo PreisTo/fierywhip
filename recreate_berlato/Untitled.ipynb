{
 "cells": [
  {
   "cell_type": "code",
   "execution_count": 1,
   "id": "47e59fa4-96d7-422f-9e15-a16b25c861eb",
   "metadata": {},
   "outputs": [
    {
     "data": {
      "text/html": [
       "<pre style=\"white-space:pre;overflow-x:auto;line-height:normal;font-family:Menlo,'DejaVu Sans Mono',consolas,'Courier New',monospace\"><span style=\"color: #00ff00; text-decoration-color: #00ff00\">11:44:07 </span><span style=\"color: #af5fd7; text-decoration-color: #af5fd7\">WARNING </span> <span style=\"color: #c6c6c6; text-decoration-color: #c6c6c6; font-weight: bold\"> The naima package is not available. Models that depend on it will not be         </span><a href=\"file:///home/tobi/.virtualenvs/gbm38/lib/python3.8/site-packages/astromodels/functions/functions_1D/functions.py\" target=\"_blank\"><span style=\"color: #7f7f7f; text-decoration-color: #7f7f7f\">functions.py</span></a><span style=\"color: #7f7f7f; text-decoration-color: #7f7f7f\">:</span><a href=\"file:///home/tobi/.virtualenvs/gbm38/lib/python3.8/site-packages/astromodels/functions/functions_1D/functions.py#48\" target=\"_blank\"><span style=\"color: #7f7f7f; text-decoration-color: #7f7f7f\">48</span></a>\n",
       "<span style=\"color: #00ff00; text-decoration-color: #00ff00\">         </span>         <span style=\"color: #c6c6c6; text-decoration-color: #c6c6c6; font-weight: bold\">available                                                                         </span><span style=\"color: #7f7f7f; text-decoration-color: #7f7f7f\">               </span>\n",
       "</pre>\n"
      ],
      "text/plain": [
       "\u001b[38;5;46m11:44:07\u001b[0m\u001b[38;5;46m \u001b[0m\u001b[38;5;134mWARNING \u001b[0m \u001b[1;38;5;251m The naima package is not available. Models that depend on it will not be        \u001b[0m\u001b[1;38;5;251m \u001b[0m\u001b]8;id=765600;file:///home/tobi/.virtualenvs/gbm38/lib/python3.8/site-packages/astromodels/functions/functions_1D/functions.py\u001b\\\u001b[2mfunctions.py\u001b[0m\u001b]8;;\u001b\\\u001b[2m:\u001b[0m\u001b]8;id=131142;file:///home/tobi/.virtualenvs/gbm38/lib/python3.8/site-packages/astromodels/functions/functions_1D/functions.py#48\u001b\\\u001b[2m48\u001b[0m\u001b]8;;\u001b\\\n",
       "\u001b[38;5;46m         \u001b[0m         \u001b[1;38;5;251mavailable                                                                        \u001b[0m\u001b[1;38;5;251m \u001b[0m\u001b[2m               \u001b[0m\n"
      ]
     },
     "metadata": {},
     "output_type": "display_data"
    },
    {
     "data": {
      "text/html": [
       "<pre style=\"white-space:pre;overflow-x:auto;line-height:normal;font-family:Menlo,'DejaVu Sans Mono',consolas,'Courier New',monospace\"><span style=\"color: #00ff00; text-decoration-color: #00ff00\">         </span><span style=\"color: #af5fd7; text-decoration-color: #af5fd7\">WARNING </span> <span style=\"color: #c6c6c6; text-decoration-color: #c6c6c6; font-weight: bold\"> The GSL library or the pygsl wrapper cannot be loaded. Models that depend on it  </span><a href=\"file:///home/tobi/.virtualenvs/gbm38/lib/python3.8/site-packages/astromodels/functions/functions_1D/functions.py\" target=\"_blank\"><span style=\"color: #7f7f7f; text-decoration-color: #7f7f7f\">functions.py</span></a><span style=\"color: #7f7f7f; text-decoration-color: #7f7f7f\">:</span><a href=\"file:///home/tobi/.virtualenvs/gbm38/lib/python3.8/site-packages/astromodels/functions/functions_1D/functions.py#69\" target=\"_blank\"><span style=\"color: #7f7f7f; text-decoration-color: #7f7f7f\">69</span></a>\n",
       "<span style=\"color: #00ff00; text-decoration-color: #00ff00\">         </span>         <span style=\"color: #c6c6c6; text-decoration-color: #c6c6c6; font-weight: bold\">will not be available.                                                            </span><span style=\"color: #7f7f7f; text-decoration-color: #7f7f7f\">               </span>\n",
       "</pre>\n"
      ],
      "text/plain": [
       "\u001b[38;5;46m        \u001b[0m\u001b[38;5;46m \u001b[0m\u001b[38;5;134mWARNING \u001b[0m \u001b[1;38;5;251m The GSL library or the pygsl wrapper cannot be loaded. Models that depend on it \u001b[0m\u001b[1;38;5;251m \u001b[0m\u001b]8;id=267946;file:///home/tobi/.virtualenvs/gbm38/lib/python3.8/site-packages/astromodels/functions/functions_1D/functions.py\u001b\\\u001b[2mfunctions.py\u001b[0m\u001b]8;;\u001b\\\u001b[2m:\u001b[0m\u001b]8;id=232835;file:///home/tobi/.virtualenvs/gbm38/lib/python3.8/site-packages/astromodels/functions/functions_1D/functions.py#69\u001b\\\u001b[2m69\u001b[0m\u001b]8;;\u001b\\\n",
       "\u001b[38;5;46m         \u001b[0m         \u001b[1;38;5;251mwill not be available.                                                           \u001b[0m\u001b[1;38;5;251m \u001b[0m\u001b[2m               \u001b[0m\n"
      ]
     },
     "metadata": {},
     "output_type": "display_data"
    },
    {
     "name": "stderr",
     "output_type": "stream",
     "text": [
      "/home/tobi/.virtualenvs/gbm38/lib/python3.8/site-packages/numba/core/decorators.py:262: NumbaDeprecationWarning: \u001b[1mnumba.generated_jit is deprecated. Please see the documentation at: https://numba.readthedocs.io/en/stable/reference/deprecation.html#deprecation-of-generated-jit for more information and advice on a suitable replacement.\u001b[0m\n",
      "  warnings.warn(msg, NumbaDeprecationWarning)\n"
     ]
    },
    {
     "data": {
      "text/html": [
       "<pre style=\"white-space:pre;overflow-x:auto;line-height:normal;font-family:Menlo,'DejaVu Sans Mono',consolas,'Courier New',monospace\"><span style=\"color: #00ff00; text-decoration-color: #00ff00\">11:44:09 </span><span style=\"color: #af5fd7; text-decoration-color: #af5fd7\">WARNING </span> <span style=\"color: #c6c6c6; text-decoration-color: #c6c6c6; font-weight: bold\"> The ebltable package is not available. Models that depend on it will not be     </span><a href=\"file:///home/tobi/.virtualenvs/gbm38/lib/python3.8/site-packages/astromodels/functions/functions_1D/absorption.py\" target=\"_blank\"><span style=\"color: #7f7f7f; text-decoration-color: #7f7f7f\">absorption.py</span></a><span style=\"color: #7f7f7f; text-decoration-color: #7f7f7f\">:</span><a href=\"file:///home/tobi/.virtualenvs/gbm38/lib/python3.8/site-packages/astromodels/functions/functions_1D/absorption.py#36\" target=\"_blank\"><span style=\"color: #7f7f7f; text-decoration-color: #7f7f7f\">36</span></a>\n",
       "<span style=\"color: #00ff00; text-decoration-color: #00ff00\">         </span>         <span style=\"color: #c6c6c6; text-decoration-color: #c6c6c6; font-weight: bold\">available                                                                        </span><span style=\"color: #7f7f7f; text-decoration-color: #7f7f7f\">                </span>\n",
       "</pre>\n"
      ],
      "text/plain": [
       "\u001b[38;5;46m11:44:09\u001b[0m\u001b[38;5;46m \u001b[0m\u001b[38;5;134mWARNING \u001b[0m \u001b[1;38;5;251m The ebltable package is not available. Models that depend on it will not be    \u001b[0m\u001b[1;38;5;251m \u001b[0m\u001b]8;id=743855;file:///home/tobi/.virtualenvs/gbm38/lib/python3.8/site-packages/astromodels/functions/functions_1D/absorption.py\u001b\\\u001b[2mabsorption.py\u001b[0m\u001b]8;;\u001b\\\u001b[2m:\u001b[0m\u001b]8;id=16059;file:///home/tobi/.virtualenvs/gbm38/lib/python3.8/site-packages/astromodels/functions/functions_1D/absorption.py#36\u001b\\\u001b[2m36\u001b[0m\u001b]8;;\u001b\\\n",
       "\u001b[38;5;46m         \u001b[0m         \u001b[1;38;5;251mavailable                                                                       \u001b[0m\u001b[1;38;5;251m \u001b[0m\u001b[2m                \u001b[0m\n"
      ]
     },
     "metadata": {},
     "output_type": "display_data"
    },
    {
     "data": {
      "text/html": [
       "<pre style=\"white-space:pre;overflow-x:auto;line-height:normal;font-family:Menlo,'DejaVu Sans Mono',consolas,'Courier New',monospace\"><span style=\"color: #00ff00; text-decoration-color: #00ff00\">         </span><span style=\"color: #af5fd7; text-decoration-color: #af5fd7\">WARNING </span> <span style=\"color: #c6c6c6; text-decoration-color: #c6c6c6; font-weight: bold\"> We have set the min_value of K to </span><span style=\"color: #c0c0c0; text-decoration-color: #c0c0c0; font-weight: bold\">1e-99</span><span style=\"color: #c6c6c6; text-decoration-color: #c6c6c6; font-weight: bold\"> because there was a postive transform   </span><a href=\"file:///home/tobi/.virtualenvs/gbm38/lib/python3.8/site-packages/astromodels/core/parameter.py\" target=\"_blank\"><span style=\"color: #7f7f7f; text-decoration-color: #7f7f7f\">parameter.py</span></a><span style=\"color: #7f7f7f; text-decoration-color: #7f7f7f\">:</span><a href=\"file:///home/tobi/.virtualenvs/gbm38/lib/python3.8/site-packages/astromodels/core/parameter.py#704\" target=\"_blank\"><span style=\"color: #7f7f7f; text-decoration-color: #7f7f7f\">704</span></a>\n",
       "</pre>\n"
      ],
      "text/plain": [
       "\u001b[38;5;46m        \u001b[0m\u001b[38;5;46m \u001b[0m\u001b[38;5;134mWARNING \u001b[0m \u001b[1;38;5;251m We have set the min_value of K to \u001b[0m\u001b[1;37m1e-99\u001b[0m\u001b[1;38;5;251m because there was a postive transform  \u001b[0m\u001b[1;38;5;251m \u001b[0m\u001b]8;id=544956;file:///home/tobi/.virtualenvs/gbm38/lib/python3.8/site-packages/astromodels/core/parameter.py\u001b\\\u001b[2mparameter.py\u001b[0m\u001b]8;;\u001b\\\u001b[2m:\u001b[0m\u001b]8;id=595739;file:///home/tobi/.virtualenvs/gbm38/lib/python3.8/site-packages/astromodels/core/parameter.py#704\u001b\\\u001b[2m704\u001b[0m\u001b]8;;\u001b\\\n"
      ]
     },
     "metadata": {},
     "output_type": "display_data"
    },
    {
     "data": {
      "text/html": [
       "<pre style=\"white-space:pre;overflow-x:auto;line-height:normal;font-family:Menlo,'DejaVu Sans Mono',consolas,'Courier New',monospace\"><span style=\"color: #00ff00; text-decoration-color: #00ff00\">         </span><span style=\"color: #af5fd7; text-decoration-color: #af5fd7\">WARNING </span> <span style=\"color: #c6c6c6; text-decoration-color: #c6c6c6; font-weight: bold\"> We have set the min_value of K to </span><span style=\"color: #c0c0c0; text-decoration-color: #c0c0c0; font-weight: bold\">1e-99</span><span style=\"color: #c6c6c6; text-decoration-color: #c6c6c6; font-weight: bold\"> because there was a postive transform   </span><a href=\"file:///home/tobi/.virtualenvs/gbm38/lib/python3.8/site-packages/astromodels/core/parameter.py\" target=\"_blank\"><span style=\"color: #7f7f7f; text-decoration-color: #7f7f7f\">parameter.py</span></a><span style=\"color: #7f7f7f; text-decoration-color: #7f7f7f\">:</span><a href=\"file:///home/tobi/.virtualenvs/gbm38/lib/python3.8/site-packages/astromodels/core/parameter.py#704\" target=\"_blank\"><span style=\"color: #7f7f7f; text-decoration-color: #7f7f7f\">704</span></a>\n",
       "</pre>\n"
      ],
      "text/plain": [
       "\u001b[38;5;46m        \u001b[0m\u001b[38;5;46m \u001b[0m\u001b[38;5;134mWARNING \u001b[0m \u001b[1;38;5;251m We have set the min_value of K to \u001b[0m\u001b[1;37m1e-99\u001b[0m\u001b[1;38;5;251m because there was a postive transform  \u001b[0m\u001b[1;38;5;251m \u001b[0m\u001b]8;id=332280;file:///home/tobi/.virtualenvs/gbm38/lib/python3.8/site-packages/astromodels/core/parameter.py\u001b\\\u001b[2mparameter.py\u001b[0m\u001b]8;;\u001b\\\u001b[2m:\u001b[0m\u001b]8;id=842821;file:///home/tobi/.virtualenvs/gbm38/lib/python3.8/site-packages/astromodels/core/parameter.py#704\u001b\\\u001b[2m704\u001b[0m\u001b]8;;\u001b\\\n"
      ]
     },
     "metadata": {},
     "output_type": "display_data"
    },
    {
     "data": {
      "text/html": [
       "<pre style=\"white-space:pre;overflow-x:auto;line-height:normal;font-family:Menlo,'DejaVu Sans Mono',consolas,'Courier New',monospace\"><span style=\"color: #00ff00; text-decoration-color: #00ff00\">         </span><span style=\"color: #af5fd7; text-decoration-color: #af5fd7\">WARNING </span> <span style=\"color: #c6c6c6; text-decoration-color: #c6c6c6; font-weight: bold\"> We have set the min_value of K to </span><span style=\"color: #c0c0c0; text-decoration-color: #c0c0c0; font-weight: bold\">1e-99</span><span style=\"color: #c6c6c6; text-decoration-color: #c6c6c6; font-weight: bold\"> because there was a postive transform   </span><a href=\"file:///home/tobi/.virtualenvs/gbm38/lib/python3.8/site-packages/astromodels/core/parameter.py\" target=\"_blank\"><span style=\"color: #7f7f7f; text-decoration-color: #7f7f7f\">parameter.py</span></a><span style=\"color: #7f7f7f; text-decoration-color: #7f7f7f\">:</span><a href=\"file:///home/tobi/.virtualenvs/gbm38/lib/python3.8/site-packages/astromodels/core/parameter.py#704\" target=\"_blank\"><span style=\"color: #7f7f7f; text-decoration-color: #7f7f7f\">704</span></a>\n",
       "</pre>\n"
      ],
      "text/plain": [
       "\u001b[38;5;46m        \u001b[0m\u001b[38;5;46m \u001b[0m\u001b[38;5;134mWARNING \u001b[0m \u001b[1;38;5;251m We have set the min_value of K to \u001b[0m\u001b[1;37m1e-99\u001b[0m\u001b[1;38;5;251m because there was a postive transform  \u001b[0m\u001b[1;38;5;251m \u001b[0m\u001b]8;id=354123;file:///home/tobi/.virtualenvs/gbm38/lib/python3.8/site-packages/astromodels/core/parameter.py\u001b\\\u001b[2mparameter.py\u001b[0m\u001b]8;;\u001b\\\u001b[2m:\u001b[0m\u001b]8;id=107416;file:///home/tobi/.virtualenvs/gbm38/lib/python3.8/site-packages/astromodels/core/parameter.py#704\u001b\\\u001b[2m704\u001b[0m\u001b]8;;\u001b\\\n"
      ]
     },
     "metadata": {},
     "output_type": "display_data"
    },
    {
     "data": {
      "text/html": [
       "<pre style=\"white-space:pre;overflow-x:auto;line-height:normal;font-family:Menlo,'DejaVu Sans Mono',consolas,'Courier New',monospace\"><span style=\"color: #00ff00; text-decoration-color: #00ff00\">         </span><span style=\"color: #af5fd7; text-decoration-color: #af5fd7\">WARNING </span> <span style=\"color: #c6c6c6; text-decoration-color: #c6c6c6; font-weight: bold\"> We have set the min_value of K to </span><span style=\"color: #c0c0c0; text-decoration-color: #c0c0c0; font-weight: bold\">1e-99</span><span style=\"color: #c6c6c6; text-decoration-color: #c6c6c6; font-weight: bold\"> because there was a postive transform   </span><a href=\"file:///home/tobi/.virtualenvs/gbm38/lib/python3.8/site-packages/astromodels/core/parameter.py\" target=\"_blank\"><span style=\"color: #7f7f7f; text-decoration-color: #7f7f7f\">parameter.py</span></a><span style=\"color: #7f7f7f; text-decoration-color: #7f7f7f\">:</span><a href=\"file:///home/tobi/.virtualenvs/gbm38/lib/python3.8/site-packages/astromodels/core/parameter.py#704\" target=\"_blank\"><span style=\"color: #7f7f7f; text-decoration-color: #7f7f7f\">704</span></a>\n",
       "</pre>\n"
      ],
      "text/plain": [
       "\u001b[38;5;46m        \u001b[0m\u001b[38;5;46m \u001b[0m\u001b[38;5;134mWARNING \u001b[0m \u001b[1;38;5;251m We have set the min_value of K to \u001b[0m\u001b[1;37m1e-99\u001b[0m\u001b[1;38;5;251m because there was a postive transform  \u001b[0m\u001b[1;38;5;251m \u001b[0m\u001b]8;id=877054;file:///home/tobi/.virtualenvs/gbm38/lib/python3.8/site-packages/astromodels/core/parameter.py\u001b\\\u001b[2mparameter.py\u001b[0m\u001b]8;;\u001b\\\u001b[2m:\u001b[0m\u001b]8;id=358655;file:///home/tobi/.virtualenvs/gbm38/lib/python3.8/site-packages/astromodels/core/parameter.py#704\u001b\\\u001b[2m704\u001b[0m\u001b]8;;\u001b\\\n"
      ]
     },
     "metadata": {},
     "output_type": "display_data"
    },
    {
     "data": {
      "text/html": [
       "<pre style=\"white-space:pre;overflow-x:auto;line-height:normal;font-family:Menlo,'DejaVu Sans Mono',consolas,'Courier New',monospace\"><span style=\"color: #00ff00; text-decoration-color: #00ff00\">         </span><span style=\"color: #af5fd7; text-decoration-color: #af5fd7\">WARNING </span> <span style=\"color: #c6c6c6; text-decoration-color: #c6c6c6; font-weight: bold\"> We have set the min_value of F to </span><span style=\"color: #c0c0c0; text-decoration-color: #c0c0c0; font-weight: bold\">1e-99</span><span style=\"color: #c6c6c6; text-decoration-color: #c6c6c6; font-weight: bold\"> because there was a postive transform   </span><a href=\"file:///home/tobi/.virtualenvs/gbm38/lib/python3.8/site-packages/astromodels/core/parameter.py\" target=\"_blank\"><span style=\"color: #7f7f7f; text-decoration-color: #7f7f7f\">parameter.py</span></a><span style=\"color: #7f7f7f; text-decoration-color: #7f7f7f\">:</span><a href=\"file:///home/tobi/.virtualenvs/gbm38/lib/python3.8/site-packages/astromodels/core/parameter.py#704\" target=\"_blank\"><span style=\"color: #7f7f7f; text-decoration-color: #7f7f7f\">704</span></a>\n",
       "</pre>\n"
      ],
      "text/plain": [
       "\u001b[38;5;46m        \u001b[0m\u001b[38;5;46m \u001b[0m\u001b[38;5;134mWARNING \u001b[0m \u001b[1;38;5;251m We have set the min_value of F to \u001b[0m\u001b[1;37m1e-99\u001b[0m\u001b[1;38;5;251m because there was a postive transform  \u001b[0m\u001b[1;38;5;251m \u001b[0m\u001b]8;id=770378;file:///home/tobi/.virtualenvs/gbm38/lib/python3.8/site-packages/astromodels/core/parameter.py\u001b\\\u001b[2mparameter.py\u001b[0m\u001b]8;;\u001b\\\u001b[2m:\u001b[0m\u001b]8;id=773335;file:///home/tobi/.virtualenvs/gbm38/lib/python3.8/site-packages/astromodels/core/parameter.py#704\u001b\\\u001b[2m704\u001b[0m\u001b]8;;\u001b\\\n"
      ]
     },
     "metadata": {},
     "output_type": "display_data"
    },
    {
     "data": {
      "text/html": [
       "<pre style=\"white-space:pre;overflow-x:auto;line-height:normal;font-family:Menlo,'DejaVu Sans Mono',consolas,'Courier New',monospace\"><span style=\"color: #00ff00; text-decoration-color: #00ff00\">         </span><span style=\"color: #af5fd7; text-decoration-color: #af5fd7\">WARNING </span> <span style=\"color: #c6c6c6; text-decoration-color: #c6c6c6; font-weight: bold\"> We have set the min_value of K to </span><span style=\"color: #c0c0c0; text-decoration-color: #c0c0c0; font-weight: bold\">1e-99</span><span style=\"color: #c6c6c6; text-decoration-color: #c6c6c6; font-weight: bold\"> because there was a postive transform   </span><a href=\"file:///home/tobi/.virtualenvs/gbm38/lib/python3.8/site-packages/astromodels/core/parameter.py\" target=\"_blank\"><span style=\"color: #7f7f7f; text-decoration-color: #7f7f7f\">parameter.py</span></a><span style=\"color: #7f7f7f; text-decoration-color: #7f7f7f\">:</span><a href=\"file:///home/tobi/.virtualenvs/gbm38/lib/python3.8/site-packages/astromodels/core/parameter.py#704\" target=\"_blank\"><span style=\"color: #7f7f7f; text-decoration-color: #7f7f7f\">704</span></a>\n",
       "</pre>\n"
      ],
      "text/plain": [
       "\u001b[38;5;46m        \u001b[0m\u001b[38;5;46m \u001b[0m\u001b[38;5;134mWARNING \u001b[0m \u001b[1;38;5;251m We have set the min_value of K to \u001b[0m\u001b[1;37m1e-99\u001b[0m\u001b[1;38;5;251m because there was a postive transform  \u001b[0m\u001b[1;38;5;251m \u001b[0m\u001b]8;id=978741;file:///home/tobi/.virtualenvs/gbm38/lib/python3.8/site-packages/astromodels/core/parameter.py\u001b\\\u001b[2mparameter.py\u001b[0m\u001b]8;;\u001b\\\u001b[2m:\u001b[0m\u001b]8;id=234429;file:///home/tobi/.virtualenvs/gbm38/lib/python3.8/site-packages/astromodels/core/parameter.py#704\u001b\\\u001b[2m704\u001b[0m\u001b]8;;\u001b\\\n"
      ]
     },
     "metadata": {},
     "output_type": "display_data"
    },
    {
     "name": "stderr",
     "output_type": "stream",
     "text": [
      "/home/tobi/.virtualenvs/gbm38/lib/python3.8/site-packages/numba/core/decorators.py:262: NumbaDeprecationWarning: \u001b[1mnumba.generated_jit is deprecated. Please see the documentation at: https://numba.readthedocs.io/en/stable/reference/deprecation.html#deprecation-of-generated-jit for more information and advice on a suitable replacement.\u001b[0m\n",
      "  warnings.warn(msg, NumbaDeprecationWarning)\n"
     ]
    },
    {
     "data": {
      "text/html": [
       "<pre style=\"white-space:pre;overflow-x:auto;line-height:normal;font-family:Menlo,'DejaVu Sans Mono',consolas,'Courier New',monospace\"><span style=\"color: #00ff00; text-decoration-color: #00ff00\">11:44:10 </span><span style=\"color: #00ffaf; text-decoration-color: #00ffaf\">INFO    </span> <span style=\"color: #c6c6c6; text-decoration-color: #c6c6c6; font-weight: bold\"> Starting 3ML!                                                                     </span><a href=\"file:///home/tobi/.virtualenvs/gbm38/lib/python3.8/site-packages/threeML-2.4.1.dev1-py3.8.egg/threeML/__init__.py\" target=\"_blank\"><span style=\"color: #7f7f7f; text-decoration-color: #7f7f7f\">__init__.py</span></a><span style=\"color: #7f7f7f; text-decoration-color: #7f7f7f\">:</span><a href=\"file:///home/tobi/.virtualenvs/gbm38/lib/python3.8/site-packages/threeML-2.4.1.dev1-py3.8.egg/threeML/__init__.py#35\" target=\"_blank\"><span style=\"color: #7f7f7f; text-decoration-color: #7f7f7f\">35</span></a>\n",
       "</pre>\n"
      ],
      "text/plain": [
       "\u001b[38;5;46m11:44:10\u001b[0m\u001b[38;5;46m \u001b[0m\u001b[38;5;49mINFO    \u001b[0m \u001b[1;38;5;251m Starting 3ML!                                                                    \u001b[0m\u001b[1;38;5;251m \u001b[0m\u001b]8;id=418652;file:///home/tobi/.virtualenvs/gbm38/lib/python3.8/site-packages/threeML-2.4.1.dev1-py3.8.egg/threeML/__init__.py\u001b\\\u001b[2m__init__.py\u001b[0m\u001b]8;;\u001b\\\u001b[2m:\u001b[0m\u001b]8;id=485756;file:///home/tobi/.virtualenvs/gbm38/lib/python3.8/site-packages/threeML-2.4.1.dev1-py3.8.egg/threeML/__init__.py#35\u001b\\\u001b[2m35\u001b[0m\u001b]8;;\u001b\\\n"
      ]
     },
     "metadata": {},
     "output_type": "display_data"
    },
    {
     "data": {
      "text/html": [
       "<pre style=\"white-space:pre;overflow-x:auto;line-height:normal;font-family:Menlo,'DejaVu Sans Mono',consolas,'Courier New',monospace\"><span style=\"color: #00ff00; text-decoration-color: #00ff00\">         </span><span style=\"color: #af5fd7; text-decoration-color: #af5fd7\">WARNING </span> <span style=\"color: #c6c6c6; text-decoration-color: #c6c6c6; font-weight: bold\"> WARNINGs here are </span><span style=\"color: #800000; text-decoration-color: #800000; font-weight: bold\">NOT</span><span style=\"color: #c6c6c6; text-decoration-color: #c6c6c6; font-weight: bold\"> errors                                                      </span><a href=\"file:///home/tobi/.virtualenvs/gbm38/lib/python3.8/site-packages/threeML-2.4.1.dev1-py3.8.egg/threeML/__init__.py\" target=\"_blank\"><span style=\"color: #7f7f7f; text-decoration-color: #7f7f7f\">__init__.py</span></a><span style=\"color: #7f7f7f; text-decoration-color: #7f7f7f\">:</span><a href=\"file:///home/tobi/.virtualenvs/gbm38/lib/python3.8/site-packages/threeML-2.4.1.dev1-py3.8.egg/threeML/__init__.py#36\" target=\"_blank\"><span style=\"color: #7f7f7f; text-decoration-color: #7f7f7f\">36</span></a>\n",
       "</pre>\n"
      ],
      "text/plain": [
       "\u001b[38;5;46m        \u001b[0m\u001b[38;5;46m \u001b[0m\u001b[38;5;134mWARNING \u001b[0m \u001b[1;38;5;251m WARNINGs here are \u001b[0m\u001b[1;31mNOT\u001b[0m\u001b[1;38;5;251m errors                                                     \u001b[0m\u001b[1;38;5;251m \u001b[0m\u001b]8;id=326557;file:///home/tobi/.virtualenvs/gbm38/lib/python3.8/site-packages/threeML-2.4.1.dev1-py3.8.egg/threeML/__init__.py\u001b\\\u001b[2m__init__.py\u001b[0m\u001b]8;;\u001b\\\u001b[2m:\u001b[0m\u001b]8;id=961958;file:///home/tobi/.virtualenvs/gbm38/lib/python3.8/site-packages/threeML-2.4.1.dev1-py3.8.egg/threeML/__init__.py#36\u001b\\\u001b[2m36\u001b[0m\u001b]8;;\u001b\\\n"
      ]
     },
     "metadata": {},
     "output_type": "display_data"
    },
    {
     "data": {
      "text/html": [
       "<pre style=\"white-space:pre;overflow-x:auto;line-height:normal;font-family:Menlo,'DejaVu Sans Mono',consolas,'Courier New',monospace\"><span style=\"color: #00ff00; text-decoration-color: #00ff00\">         </span><span style=\"color: #af5fd7; text-decoration-color: #af5fd7\">WARNING </span> <span style=\"color: #c6c6c6; text-decoration-color: #c6c6c6; font-weight: bold\"> but are inform you about optional packages that can be installed                  </span><a href=\"file:///home/tobi/.virtualenvs/gbm38/lib/python3.8/site-packages/threeML-2.4.1.dev1-py3.8.egg/threeML/__init__.py\" target=\"_blank\"><span style=\"color: #7f7f7f; text-decoration-color: #7f7f7f\">__init__.py</span></a><span style=\"color: #7f7f7f; text-decoration-color: #7f7f7f\">:</span><a href=\"file:///home/tobi/.virtualenvs/gbm38/lib/python3.8/site-packages/threeML-2.4.1.dev1-py3.8.egg/threeML/__init__.py#37\" target=\"_blank\"><span style=\"color: #7f7f7f; text-decoration-color: #7f7f7f\">37</span></a>\n",
       "</pre>\n"
      ],
      "text/plain": [
       "\u001b[38;5;46m        \u001b[0m\u001b[38;5;46m \u001b[0m\u001b[38;5;134mWARNING \u001b[0m \u001b[1;38;5;251m but are inform you about optional packages that can be installed                 \u001b[0m\u001b[1;38;5;251m \u001b[0m\u001b]8;id=590966;file:///home/tobi/.virtualenvs/gbm38/lib/python3.8/site-packages/threeML-2.4.1.dev1-py3.8.egg/threeML/__init__.py\u001b\\\u001b[2m__init__.py\u001b[0m\u001b]8;;\u001b\\\u001b[2m:\u001b[0m\u001b]8;id=77794;file:///home/tobi/.virtualenvs/gbm38/lib/python3.8/site-packages/threeML-2.4.1.dev1-py3.8.egg/threeML/__init__.py#37\u001b\\\u001b[2m37\u001b[0m\u001b]8;;\u001b\\\n"
      ]
     },
     "metadata": {},
     "output_type": "display_data"
    },
    {
     "data": {
      "text/html": [
       "<pre style=\"white-space:pre;overflow-x:auto;line-height:normal;font-family:Menlo,'DejaVu Sans Mono',consolas,'Courier New',monospace\"><span style=\"color: #00ff00; text-decoration-color: #00ff00\">         </span><span style=\"color: #af5fd7; text-decoration-color: #af5fd7\">WARNING </span> <span style=\"color: #c6c6c6; text-decoration-color: #c6c6c6; font-weight: bold\"> </span><span style=\"color: #800000; text-decoration-color: #800000; font-weight: bold\"> to disable these messages, turn off start_warning in your config file</span><span style=\"color: #c6c6c6; text-decoration-color: #c6c6c6; font-weight: bold\">            </span><a href=\"file:///home/tobi/.virtualenvs/gbm38/lib/python3.8/site-packages/threeML-2.4.1.dev1-py3.8.egg/threeML/__init__.py\" target=\"_blank\"><span style=\"color: #7f7f7f; text-decoration-color: #7f7f7f\">__init__.py</span></a><span style=\"color: #7f7f7f; text-decoration-color: #7f7f7f\">:</span><a href=\"file:///home/tobi/.virtualenvs/gbm38/lib/python3.8/site-packages/threeML-2.4.1.dev1-py3.8.egg/threeML/__init__.py#40\" target=\"_blank\"><span style=\"color: #7f7f7f; text-decoration-color: #7f7f7f\">40</span></a>\n",
       "</pre>\n"
      ],
      "text/plain": [
       "\u001b[38;5;46m        \u001b[0m\u001b[38;5;46m \u001b[0m\u001b[38;5;134mWARNING \u001b[0m \u001b[1;38;5;251m \u001b[0m\u001b[1;31m to disable these messages, turn off start_warning in your config file\u001b[0m\u001b[1;38;5;251m           \u001b[0m\u001b[1;38;5;251m \u001b[0m\u001b]8;id=14078;file:///home/tobi/.virtualenvs/gbm38/lib/python3.8/site-packages/threeML-2.4.1.dev1-py3.8.egg/threeML/__init__.py\u001b\\\u001b[2m__init__.py\u001b[0m\u001b]8;;\u001b\\\u001b[2m:\u001b[0m\u001b]8;id=487125;file:///home/tobi/.virtualenvs/gbm38/lib/python3.8/site-packages/threeML-2.4.1.dev1-py3.8.egg/threeML/__init__.py#40\u001b\\\u001b[2m40\u001b[0m\u001b]8;;\u001b\\\n"
      ]
     },
     "metadata": {},
     "output_type": "display_data"
    },
    {
     "data": {
      "text/html": [
       "<pre style=\"white-space:pre;overflow-x:auto;line-height:normal;font-family:Menlo,'DejaVu Sans Mono',consolas,'Courier New',monospace\"><span style=\"color: #00ff00; text-decoration-color: #00ff00\">11:44:11 </span><span style=\"color: #af5fd7; text-decoration-color: #af5fd7\">WARNING </span> <span style=\"color: #c6c6c6; text-decoration-color: #c6c6c6; font-weight: bold\"> ROOT minimizer not available                                                </span><a href=\"file:///home/tobi/.virtualenvs/gbm38/lib/python3.8/site-packages/threeML-2.4.1.dev1-py3.8.egg/threeML/minimizer/minimization.py\" target=\"_blank\"><span style=\"color: #7f7f7f; text-decoration-color: #7f7f7f\">minimization.py</span></a><span style=\"color: #7f7f7f; text-decoration-color: #7f7f7f\">:</span><a href=\"file:///home/tobi/.virtualenvs/gbm38/lib/python3.8/site-packages/threeML-2.4.1.dev1-py3.8.egg/threeML/minimizer/minimization.py#1345\" target=\"_blank\"><span style=\"color: #7f7f7f; text-decoration-color: #7f7f7f\">1345</span></a>\n",
       "</pre>\n"
      ],
      "text/plain": [
       "\u001b[38;5;46m11:44:11\u001b[0m\u001b[38;5;46m \u001b[0m\u001b[38;5;134mWARNING \u001b[0m \u001b[1;38;5;251m ROOT minimizer not available                                               \u001b[0m\u001b[1;38;5;251m \u001b[0m\u001b]8;id=44533;file:///home/tobi/.virtualenvs/gbm38/lib/python3.8/site-packages/threeML-2.4.1.dev1-py3.8.egg/threeML/minimizer/minimization.py\u001b\\\u001b[2mminimization.py\u001b[0m\u001b]8;;\u001b\\\u001b[2m:\u001b[0m\u001b]8;id=391783;file:///home/tobi/.virtualenvs/gbm38/lib/python3.8/site-packages/threeML-2.4.1.dev1-py3.8.egg/threeML/minimizer/minimization.py#1345\u001b\\\u001b[2m1345\u001b[0m\u001b]8;;\u001b\\\n"
      ]
     },
     "metadata": {},
     "output_type": "display_data"
    },
    {
     "data": {
      "text/html": [
       "<pre style=\"white-space:pre;overflow-x:auto;line-height:normal;font-family:Menlo,'DejaVu Sans Mono',consolas,'Courier New',monospace\"><span style=\"color: #00ff00; text-decoration-color: #00ff00\">         </span><span style=\"color: #af5fd7; text-decoration-color: #af5fd7\">WARNING </span> <span style=\"color: #c6c6c6; text-decoration-color: #c6c6c6; font-weight: bold\"> PyGMO is not available                                                      </span><a href=\"file:///home/tobi/.virtualenvs/gbm38/lib/python3.8/site-packages/threeML-2.4.1.dev1-py3.8.egg/threeML/minimizer/minimization.py\" target=\"_blank\"><span style=\"color: #7f7f7f; text-decoration-color: #7f7f7f\">minimization.py</span></a><span style=\"color: #7f7f7f; text-decoration-color: #7f7f7f\">:</span><a href=\"file:///home/tobi/.virtualenvs/gbm38/lib/python3.8/site-packages/threeML-2.4.1.dev1-py3.8.egg/threeML/minimizer/minimization.py#1369\" target=\"_blank\"><span style=\"color: #7f7f7f; text-decoration-color: #7f7f7f\">1369</span></a>\n",
       "</pre>\n"
      ],
      "text/plain": [
       "\u001b[38;5;46m        \u001b[0m\u001b[38;5;46m \u001b[0m\u001b[38;5;134mWARNING \u001b[0m \u001b[1;38;5;251m PyGMO is not available                                                     \u001b[0m\u001b[1;38;5;251m \u001b[0m\u001b]8;id=438075;file:///home/tobi/.virtualenvs/gbm38/lib/python3.8/site-packages/threeML-2.4.1.dev1-py3.8.egg/threeML/minimizer/minimization.py\u001b\\\u001b[2mminimization.py\u001b[0m\u001b]8;;\u001b\\\u001b[2m:\u001b[0m\u001b]8;id=414363;file:///home/tobi/.virtualenvs/gbm38/lib/python3.8/site-packages/threeML-2.4.1.dev1-py3.8.egg/threeML/minimizer/minimization.py#1369\u001b\\\u001b[2m1369\u001b[0m\u001b]8;;\u001b\\\n"
      ]
     },
     "metadata": {},
     "output_type": "display_data"
    },
    {
     "data": {
      "text/html": [
       "<pre style=\"white-space:pre;overflow-x:auto;line-height:normal;font-family:Menlo,'DejaVu Sans Mono',consolas,'Courier New',monospace\"><span style=\"color: #00ff00; text-decoration-color: #00ff00\">11:44:12 </span><span style=\"color: #af5fd7; text-decoration-color: #af5fd7\">WARNING </span> <span style=\"color: #c6c6c6; text-decoration-color: #c6c6c6; font-weight: bold\"> The cthreeML package is not installed. You will not be able to use plugins which  </span><a href=\"file:///home/tobi/.virtualenvs/gbm38/lib/python3.8/site-packages/threeML-2.4.1.dev1-py3.8.egg/threeML/__init__.py\" target=\"_blank\"><span style=\"color: #7f7f7f; text-decoration-color: #7f7f7f\">__init__.py</span></a><span style=\"color: #7f7f7f; text-decoration-color: #7f7f7f\">:</span><a href=\"file:///home/tobi/.virtualenvs/gbm38/lib/python3.8/site-packages/threeML-2.4.1.dev1-py3.8.egg/threeML/__init__.py#94\" target=\"_blank\"><span style=\"color: #7f7f7f; text-decoration-color: #7f7f7f\">94</span></a>\n",
       "<span style=\"color: #00ff00; text-decoration-color: #00ff00\">         </span>         <span style=\"color: #c6c6c6; text-decoration-color: #c6c6c6; font-weight: bold\">require the C/C++ interface (currently HAWC)                                       </span><span style=\"color: #7f7f7f; text-decoration-color: #7f7f7f\">              </span>\n",
       "</pre>\n"
      ],
      "text/plain": [
       "\u001b[38;5;46m11:44:12\u001b[0m\u001b[38;5;46m \u001b[0m\u001b[38;5;134mWARNING \u001b[0m \u001b[1;38;5;251m The cthreeML package is not installed. You will not be able to use plugins which \u001b[0m\u001b[1;38;5;251m \u001b[0m\u001b]8;id=342601;file:///home/tobi/.virtualenvs/gbm38/lib/python3.8/site-packages/threeML-2.4.1.dev1-py3.8.egg/threeML/__init__.py\u001b\\\u001b[2m__init__.py\u001b[0m\u001b]8;;\u001b\\\u001b[2m:\u001b[0m\u001b]8;id=496586;file:///home/tobi/.virtualenvs/gbm38/lib/python3.8/site-packages/threeML-2.4.1.dev1-py3.8.egg/threeML/__init__.py#94\u001b\\\u001b[2m94\u001b[0m\u001b]8;;\u001b\\\n",
       "\u001b[38;5;46m         \u001b[0m         \u001b[1;38;5;251mrequire the C/C++ interface \u001b[0m\u001b[1;38;5;251m(\u001b[0m\u001b[1;38;5;251mcurrently HAWC\u001b[0m\u001b[1;38;5;251m)\u001b[0m\u001b[1;38;5;251m                                      \u001b[0m\u001b[1;38;5;251m \u001b[0m\u001b[2m              \u001b[0m\n"
      ]
     },
     "metadata": {},
     "output_type": "display_data"
    },
    {
     "data": {
      "text/html": [
       "<pre style=\"white-space:pre;overflow-x:auto;line-height:normal;font-family:Menlo,'DejaVu Sans Mono',consolas,'Courier New',monospace\"><span style=\"color: #00ff00; text-decoration-color: #00ff00\">         </span><span style=\"color: #af5fd7; text-decoration-color: #af5fd7\">WARNING </span> <span style=\"color: #c6c6c6; text-decoration-color: #c6c6c6; font-weight: bold\"> Could not import plugin HAWCLike.py. Do you have the relative instrument         </span><a href=\"file:///home/tobi/.virtualenvs/gbm38/lib/python3.8/site-packages/threeML-2.4.1.dev1-py3.8.egg/threeML/__init__.py\" target=\"_blank\"><span style=\"color: #7f7f7f; text-decoration-color: #7f7f7f\">__init__.py</span></a><span style=\"color: #7f7f7f; text-decoration-color: #7f7f7f\">:</span><a href=\"file:///home/tobi/.virtualenvs/gbm38/lib/python3.8/site-packages/threeML-2.4.1.dev1-py3.8.egg/threeML/__init__.py#144\" target=\"_blank\"><span style=\"color: #7f7f7f; text-decoration-color: #7f7f7f\">144</span></a>\n",
       "<span style=\"color: #00ff00; text-decoration-color: #00ff00\">         </span>         <span style=\"color: #c6c6c6; text-decoration-color: #c6c6c6; font-weight: bold\">software installed and configured?                                                </span><span style=\"color: #7f7f7f; text-decoration-color: #7f7f7f\">               </span>\n",
       "</pre>\n"
      ],
      "text/plain": [
       "\u001b[38;5;46m        \u001b[0m\u001b[38;5;46m \u001b[0m\u001b[38;5;134mWARNING \u001b[0m \u001b[1;38;5;251m Could not import plugin HAWCLike.py. Do you have the relative instrument        \u001b[0m\u001b[1;38;5;251m \u001b[0m\u001b]8;id=677364;file:///home/tobi/.virtualenvs/gbm38/lib/python3.8/site-packages/threeML-2.4.1.dev1-py3.8.egg/threeML/__init__.py\u001b\\\u001b[2m__init__.py\u001b[0m\u001b]8;;\u001b\\\u001b[2m:\u001b[0m\u001b]8;id=66363;file:///home/tobi/.virtualenvs/gbm38/lib/python3.8/site-packages/threeML-2.4.1.dev1-py3.8.egg/threeML/__init__.py#144\u001b\\\u001b[2m144\u001b[0m\u001b]8;;\u001b\\\n",
       "\u001b[38;5;46m         \u001b[0m         \u001b[1;38;5;251msoftware installed and configured?                                               \u001b[0m\u001b[1;38;5;251m \u001b[0m\u001b[2m               \u001b[0m\n"
      ]
     },
     "metadata": {},
     "output_type": "display_data"
    },
    {
     "data": {
      "text/html": [
       "<pre style=\"white-space:pre;overflow-x:auto;line-height:normal;font-family:Menlo,'DejaVu Sans Mono',consolas,'Courier New',monospace\"><span style=\"color: #00ff00; text-decoration-color: #00ff00\">         </span><span style=\"color: #af5fd7; text-decoration-color: #af5fd7\">WARNING </span> <span style=\"color: #c6c6c6; text-decoration-color: #c6c6c6; font-weight: bold\"> Could not import plugin FermiLATLike.py. Do you have the relative instrument     </span><a href=\"file:///home/tobi/.virtualenvs/gbm38/lib/python3.8/site-packages/threeML-2.4.1.dev1-py3.8.egg/threeML/__init__.py\" target=\"_blank\"><span style=\"color: #7f7f7f; text-decoration-color: #7f7f7f\">__init__.py</span></a><span style=\"color: #7f7f7f; text-decoration-color: #7f7f7f\">:</span><a href=\"file:///home/tobi/.virtualenvs/gbm38/lib/python3.8/site-packages/threeML-2.4.1.dev1-py3.8.egg/threeML/__init__.py#144\" target=\"_blank\"><span style=\"color: #7f7f7f; text-decoration-color: #7f7f7f\">144</span></a>\n",
       "<span style=\"color: #00ff00; text-decoration-color: #00ff00\">         </span>         <span style=\"color: #c6c6c6; text-decoration-color: #c6c6c6; font-weight: bold\">software installed and configured?                                                </span><span style=\"color: #7f7f7f; text-decoration-color: #7f7f7f\">               </span>\n",
       "</pre>\n"
      ],
      "text/plain": [
       "\u001b[38;5;46m        \u001b[0m\u001b[38;5;46m \u001b[0m\u001b[38;5;134mWARNING \u001b[0m \u001b[1;38;5;251m Could not import plugin FermiLATLike.py. Do you have the relative instrument    \u001b[0m\u001b[1;38;5;251m \u001b[0m\u001b]8;id=4093;file:///home/tobi/.virtualenvs/gbm38/lib/python3.8/site-packages/threeML-2.4.1.dev1-py3.8.egg/threeML/__init__.py\u001b\\\u001b[2m__init__.py\u001b[0m\u001b]8;;\u001b\\\u001b[2m:\u001b[0m\u001b]8;id=952261;file:///home/tobi/.virtualenvs/gbm38/lib/python3.8/site-packages/threeML-2.4.1.dev1-py3.8.egg/threeML/__init__.py#144\u001b\\\u001b[2m144\u001b[0m\u001b]8;;\u001b\\\n",
       "\u001b[38;5;46m         \u001b[0m         \u001b[1;38;5;251msoftware installed and configured?                                               \u001b[0m\u001b[1;38;5;251m \u001b[0m\u001b[2m               \u001b[0m\n"
      ]
     },
     "metadata": {},
     "output_type": "display_data"
    },
    {
     "data": {
      "text/html": [
       "<pre style=\"white-space:pre;overflow-x:auto;line-height:normal;font-family:Menlo,'DejaVu Sans Mono',consolas,'Courier New',monospace\"><span style=\"color: #00ff00; text-decoration-color: #00ff00\">11:44:13 </span><span style=\"color: #af5fd7; text-decoration-color: #af5fd7\">WARNING </span> <span style=\"color: #c6c6c6; text-decoration-color: #c6c6c6; font-weight: bold\"> No fermitools installed                                              </span><a href=\"file:///home/tobi/.virtualenvs/gbm38/lib/python3.8/site-packages/threeML-2.4.1.dev1-py3.8.egg/threeML/utils/data_builders/fermi/lat_transient_builder.py\" target=\"_blank\"><span style=\"color: #7f7f7f; text-decoration-color: #7f7f7f\">lat_transient_builder.py</span></a><span style=\"color: #7f7f7f; text-decoration-color: #7f7f7f\">:</span><a href=\"file:///home/tobi/.virtualenvs/gbm38/lib/python3.8/site-packages/threeML-2.4.1.dev1-py3.8.egg/threeML/utils/data_builders/fermi/lat_transient_builder.py#44\" target=\"_blank\"><span style=\"color: #7f7f7f; text-decoration-color: #7f7f7f\">44</span></a>\n",
       "</pre>\n"
      ],
      "text/plain": [
       "\u001b[38;5;46m11:44:13\u001b[0m\u001b[38;5;46m \u001b[0m\u001b[38;5;134mWARNING \u001b[0m \u001b[1;38;5;251m No fermitools installed                                             \u001b[0m\u001b[1;38;5;251m \u001b[0m\u001b]8;id=939769;file:///home/tobi/.virtualenvs/gbm38/lib/python3.8/site-packages/threeML-2.4.1.dev1-py3.8.egg/threeML/utils/data_builders/fermi/lat_transient_builder.py\u001b\\\u001b[2mlat_transient_builder.py\u001b[0m\u001b]8;;\u001b\\\u001b[2m:\u001b[0m\u001b]8;id=434149;file:///home/tobi/.virtualenvs/gbm38/lib/python3.8/site-packages/threeML-2.4.1.dev1-py3.8.egg/threeML/utils/data_builders/fermi/lat_transient_builder.py#44\u001b\\\u001b[2m44\u001b[0m\u001b]8;;\u001b\\\n"
      ]
     },
     "metadata": {},
     "output_type": "display_data"
    },
    {
     "data": {
      "text/html": [
       "<pre style=\"white-space:pre;overflow-x:auto;line-height:normal;font-family:Menlo,'DejaVu Sans Mono',consolas,'Courier New',monospace\"><span style=\"color: #00ff00; text-decoration-color: #00ff00\">11:44:13 </span><span style=\"color: #af5fd7; text-decoration-color: #af5fd7\">WARNING </span> <span style=\"color: #c6c6c6; text-decoration-color: #c6c6c6; font-weight: bold\"> Env. variable OMP_NUM_THREADS is not set. Please set it to </span><span style=\"color: #c0c0c0; text-decoration-color: #c0c0c0; font-weight: bold\">1</span><span style=\"color: #c6c6c6; text-decoration-color: #c6c6c6; font-weight: bold\"> for optimal         </span><a href=\"file:///home/tobi/.virtualenvs/gbm38/lib/python3.8/site-packages/threeML-2.4.1.dev1-py3.8.egg/threeML/__init__.py\" target=\"_blank\"><span style=\"color: #7f7f7f; text-decoration-color: #7f7f7f\">__init__.py</span></a><span style=\"color: #7f7f7f; text-decoration-color: #7f7f7f\">:</span><a href=\"file:///home/tobi/.virtualenvs/gbm38/lib/python3.8/site-packages/threeML-2.4.1.dev1-py3.8.egg/threeML/__init__.py#387\" target=\"_blank\"><span style=\"color: #7f7f7f; text-decoration-color: #7f7f7f\">387</span></a>\n",
       "<span style=\"color: #00ff00; text-decoration-color: #00ff00\">         </span>         <span style=\"color: #c6c6c6; text-decoration-color: #c6c6c6; font-weight: bold\">performances in 3ML                                                               </span><span style=\"color: #7f7f7f; text-decoration-color: #7f7f7f\">               </span>\n",
       "</pre>\n"
      ],
      "text/plain": [
       "\u001b[38;5;46m11:44:13\u001b[0m\u001b[38;5;46m \u001b[0m\u001b[38;5;134mWARNING \u001b[0m \u001b[1;38;5;251m Env. variable OMP_NUM_THREADS is not set. Please set it to \u001b[0m\u001b[1;37m1\u001b[0m\u001b[1;38;5;251m for optimal        \u001b[0m\u001b[1;38;5;251m \u001b[0m\u001b]8;id=780800;file:///home/tobi/.virtualenvs/gbm38/lib/python3.8/site-packages/threeML-2.4.1.dev1-py3.8.egg/threeML/__init__.py\u001b\\\u001b[2m__init__.py\u001b[0m\u001b]8;;\u001b\\\u001b[2m:\u001b[0m\u001b]8;id=731018;file:///home/tobi/.virtualenvs/gbm38/lib/python3.8/site-packages/threeML-2.4.1.dev1-py3.8.egg/threeML/__init__.py#387\u001b\\\u001b[2m387\u001b[0m\u001b]8;;\u001b\\\n",
       "\u001b[38;5;46m         \u001b[0m         \u001b[1;38;5;251mperformances in 3ML                                                              \u001b[0m\u001b[1;38;5;251m \u001b[0m\u001b[2m               \u001b[0m\n"
      ]
     },
     "metadata": {},
     "output_type": "display_data"
    },
    {
     "data": {
      "text/html": [
       "<pre style=\"white-space:pre;overflow-x:auto;line-height:normal;font-family:Menlo,'DejaVu Sans Mono',consolas,'Courier New',monospace\"><span style=\"color: #00ff00; text-decoration-color: #00ff00\">         </span><span style=\"color: #af5fd7; text-decoration-color: #af5fd7\">WARNING </span> <span style=\"color: #c6c6c6; text-decoration-color: #c6c6c6; font-weight: bold\"> Env. variable MKL_NUM_THREADS is not set. Please set it to </span><span style=\"color: #c0c0c0; text-decoration-color: #c0c0c0; font-weight: bold\">1</span><span style=\"color: #c6c6c6; text-decoration-color: #c6c6c6; font-weight: bold\"> for optimal         </span><a href=\"file:///home/tobi/.virtualenvs/gbm38/lib/python3.8/site-packages/threeML-2.4.1.dev1-py3.8.egg/threeML/__init__.py\" target=\"_blank\"><span style=\"color: #7f7f7f; text-decoration-color: #7f7f7f\">__init__.py</span></a><span style=\"color: #7f7f7f; text-decoration-color: #7f7f7f\">:</span><a href=\"file:///home/tobi/.virtualenvs/gbm38/lib/python3.8/site-packages/threeML-2.4.1.dev1-py3.8.egg/threeML/__init__.py#387\" target=\"_blank\"><span style=\"color: #7f7f7f; text-decoration-color: #7f7f7f\">387</span></a>\n",
       "<span style=\"color: #00ff00; text-decoration-color: #00ff00\">         </span>         <span style=\"color: #c6c6c6; text-decoration-color: #c6c6c6; font-weight: bold\">performances in 3ML                                                               </span><span style=\"color: #7f7f7f; text-decoration-color: #7f7f7f\">               </span>\n",
       "</pre>\n"
      ],
      "text/plain": [
       "\u001b[38;5;46m        \u001b[0m\u001b[38;5;46m \u001b[0m\u001b[38;5;134mWARNING \u001b[0m \u001b[1;38;5;251m Env. variable MKL_NUM_THREADS is not set. Please set it to \u001b[0m\u001b[1;37m1\u001b[0m\u001b[1;38;5;251m for optimal        \u001b[0m\u001b[1;38;5;251m \u001b[0m\u001b]8;id=884498;file:///home/tobi/.virtualenvs/gbm38/lib/python3.8/site-packages/threeML-2.4.1.dev1-py3.8.egg/threeML/__init__.py\u001b\\\u001b[2m__init__.py\u001b[0m\u001b]8;;\u001b\\\u001b[2m:\u001b[0m\u001b]8;id=301232;file:///home/tobi/.virtualenvs/gbm38/lib/python3.8/site-packages/threeML-2.4.1.dev1-py3.8.egg/threeML/__init__.py#387\u001b\\\u001b[2m387\u001b[0m\u001b]8;;\u001b\\\n",
       "\u001b[38;5;46m         \u001b[0m         \u001b[1;38;5;251mperformances in 3ML                                                              \u001b[0m\u001b[1;38;5;251m \u001b[0m\u001b[2m               \u001b[0m\n"
      ]
     },
     "metadata": {},
     "output_type": "display_data"
    },
    {
     "data": {
      "text/html": [
       "<pre style=\"white-space:pre;overflow-x:auto;line-height:normal;font-family:Menlo,'DejaVu Sans Mono',consolas,'Courier New',monospace\"><span style=\"color: #00ff00; text-decoration-color: #00ff00\">         </span><span style=\"color: #af5fd7; text-decoration-color: #af5fd7\">WARNING </span> <span style=\"color: #c6c6c6; text-decoration-color: #c6c6c6; font-weight: bold\"> Env. variable NUMEXPR_NUM_THREADS is not set. Please set it to </span><span style=\"color: #c0c0c0; text-decoration-color: #c0c0c0; font-weight: bold\">1</span><span style=\"color: #c6c6c6; text-decoration-color: #c6c6c6; font-weight: bold\"> for optimal     </span><a href=\"file:///home/tobi/.virtualenvs/gbm38/lib/python3.8/site-packages/threeML-2.4.1.dev1-py3.8.egg/threeML/__init__.py\" target=\"_blank\"><span style=\"color: #7f7f7f; text-decoration-color: #7f7f7f\">__init__.py</span></a><span style=\"color: #7f7f7f; text-decoration-color: #7f7f7f\">:</span><a href=\"file:///home/tobi/.virtualenvs/gbm38/lib/python3.8/site-packages/threeML-2.4.1.dev1-py3.8.egg/threeML/__init__.py#387\" target=\"_blank\"><span style=\"color: #7f7f7f; text-decoration-color: #7f7f7f\">387</span></a>\n",
       "<span style=\"color: #00ff00; text-decoration-color: #00ff00\">         </span>         <span style=\"color: #c6c6c6; text-decoration-color: #c6c6c6; font-weight: bold\">performances in 3ML                                                               </span><span style=\"color: #7f7f7f; text-decoration-color: #7f7f7f\">               </span>\n",
       "</pre>\n"
      ],
      "text/plain": [
       "\u001b[38;5;46m        \u001b[0m\u001b[38;5;46m \u001b[0m\u001b[38;5;134mWARNING \u001b[0m \u001b[1;38;5;251m Env. variable NUMEXPR_NUM_THREADS is not set. Please set it to \u001b[0m\u001b[1;37m1\u001b[0m\u001b[1;38;5;251m for optimal    \u001b[0m\u001b[1;38;5;251m \u001b[0m\u001b]8;id=364812;file:///home/tobi/.virtualenvs/gbm38/lib/python3.8/site-packages/threeML-2.4.1.dev1-py3.8.egg/threeML/__init__.py\u001b\\\u001b[2m__init__.py\u001b[0m\u001b]8;;\u001b\\\u001b[2m:\u001b[0m\u001b]8;id=307660;file:///home/tobi/.virtualenvs/gbm38/lib/python3.8/site-packages/threeML-2.4.1.dev1-py3.8.egg/threeML/__init__.py#387\u001b\\\u001b[2m387\u001b[0m\u001b]8;;\u001b\\\n",
       "\u001b[38;5;46m         \u001b[0m         \u001b[1;38;5;251mperformances in 3ML                                                              \u001b[0m\u001b[1;38;5;251m \u001b[0m\u001b[2m               \u001b[0m\n"
      ]
     },
     "metadata": {},
     "output_type": "display_data"
    }
   ],
   "source": [
    "import matplotlib\n",
    "\n",
    "matplotlib.use(\"Agg\")\n",
    "import matplotlib.pyplot as plt\n",
    "from matplotlib.backends.backend_pdf import PdfPages\n",
    "\n",
    "from mpi4py import MPI\n",
    "\n",
    "mpi = MPI.COMM_WORLD\n",
    "rank = mpi.Get_rank()\n",
    "\n",
    "from astropy.coordinates import SkyCoord\n",
    "import matplotlib.pyplot as plt\n",
    "import numpy as np\n",
    "\n",
    "# from trigdat_reader import TrigReader\n",
    "from morgoth.utils.trig_reader import TrigReader\n",
    "from threeML import *\n",
    "import gbmgeometry as gbmgeo\n",
    "from glob import glob\n",
    "import json\n",
    "import os\n",
    "import sys\n",
    "from gbmbkgpy.io.downloading import download_trigdata_file\n",
    "\n",
    "import warnings\n",
    "\n",
    "warnings.simplefilter(\"ignore\")\n",
    "\n",
    "lu = [\n",
    "    \"n0\",\n",
    "    \"n1\",\n",
    "    \"n2\",\n",
    "    \"n3\",\n",
    "    \"n4\",\n",
    "    \"n5\",\n",
    "    \"n6\",\n",
    "    \"n7\",\n",
    "    \"n8\",\n",
    "    \"n9\",\n",
    "    \"na\",\n",
    "    \"nb\",\n",
    "    \"b0\",\n",
    "    \"b1\",\n",
    "]"
   ]
  },
  {
   "cell_type": "code",
   "execution_count": 2,
   "id": "1095712d-93d0-4bd1-8e80-4e54052932e2",
   "metadata": {},
   "outputs": [],
   "source": [
    "def read_mpe_json_file(json_file):\n",
    "    \"\"\"\n",
    "    Reads the localization json file from the mpe.grb website and returns the parameters used for the fit.\n",
    "    :parameter json_file: json file with the fit parameters.\n",
    "    \"\"\"\n",
    "\n",
    "    with open(json_file, \"r\") as data_file:\n",
    "        json_data = data_file.read()\n",
    "        json_dict = json.loads(json_data)[0]\n",
    "\n",
    "    # looks for the most recent version of the trigdat json data\n",
    "\n",
    "    versions = []\n",
    "\n",
    "    for i in range(len(json_dict[\"grb_params\"])):\n",
    "        ver = json_dict[\"grb_params\"][i][\"version\"]\n",
    "\n",
    "        if ver == \"tte\":\n",
    "            versions.append(-1)\n",
    "            continue\n",
    "\n",
    "        else:\n",
    "            try:\n",
    "                versions.append(int(ver))\n",
    "            except ValueError:\n",
    "                versions.append(int(ver[-1]))\n",
    "\n",
    "    vind = np.argmin(versions)\n",
    "\n",
    "    spectrum = json_dict[\"grb_params\"][vind][\"model_type\"]\n",
    "    det_list = json_dict[\"grb_params\"][vind][\"used_detectors\"].split(\",\")\n",
    "    det_list = list(map(int, det_list))\n",
    "    det_list = [lu[i] for i in det_list]\n",
    "    src_int = [\n",
    "        str(json_dict[\"grb_params\"][vind][\"active_time_start\"])\n",
    "        + \"-\"\n",
    "        + str(json_dict[\"grb_params\"][vind][\"active_time_stop\"])\n",
    "    ]\n",
    "    bkg_neg_int = (\n",
    "        str(json_dict[\"grb_params\"][vind][\"bkg_neg_start\"])\n",
    "        + \"-\"\n",
    "        + str(json_dict[\"grb_params\"][vind][\"bkg_neg_stop\"])\n",
    "    )\n",
    "    bkg_pos_int = (\n",
    "        str(json_dict[\"grb_params\"][vind][\"bkg_pos_start\"])\n",
    "        + \"-\"\n",
    "        + str(json_dict[\"grb_params\"][vind][\"bkg_pos_stop\"])\n",
    "    )\n",
    "    bkg_int = [bkg_neg_int, bkg_pos_int]\n",
    "\n",
    "    return spectrum, det_list, src_int, bkg_int, versions\n",
    "\n",
    "\n",
    "def read_conf_file(conf_file):\n",
    "    \"\"\"\n",
    "    Read json configuration generated by a template notebook.\n",
    "    :parameter conf_file: path of the json configuration file.\n",
    "    \"\"\"\n",
    "    with open(conf_file, \"r\") as data_file:\n",
    "        par_dict = json.load(data_file)\n",
    "\n",
    "    return par_dict\n",
    "\n"
   ]
  },
  {
   "cell_type": "code",
   "execution_count": null,
   "id": "51a37d7f-36be-4d44-9322-4d5dfd196373",
   "metadata": {},
   "outputs": [],
   "source": [
    "def fit_trigdat(\n",
    "    trigger,\n",
    "    trigdat_file=None,\n",
    "    json_file=None,\n",
    "    conf_file=None,\n",
    "    result_path=\"\",\n",
    "    spectrum=None,\n",
    "    det_list=None,\n",
    "    src_int=None,\n",
    "    bkg_int=None,\n",
    "):\n",
    "    # reads the json file, but if the user provides some parameters, those override the ones from the json file\n",
    "    if json_file != None:\n",
    "        parameters = read_mpe_json_file(json_file)\n",
    "\n",
    "        if spectrum == None:\n",
    "            spectrum = parameters[0]\n",
    "\n",
    "        if det_list == None:\n",
    "            det_list = parameters[1]\n",
    "\n",
    "        if src_int == None:\n",
    "            src_int = parameters[2]\n",
    "\n",
    "        if bkg_int == None:\n",
    "            bkg_int = parameters[3]\n",
    "        versions = parameters[4]\n",
    "\n",
    "    elif conf_file != None:\n",
    "        assert os.path.isfile(conf_file), \"ERROR: configuration file not found!\"\n",
    "\n",
    "        par_dict = read_conf_file(conf_file)\n",
    "        trigger = par_dict[\"trigger\"]\n",
    "        src_int = par_dict[\"src_int\"]\n",
    "        bkg_int = par_dict[\"bkg_int\"]\n",
    "        det_list = par_dict[\"det_list\"]\n",
    "        spectrum = par_dict[\"spectrum\"]\n",
    "\n",
    "    # check that all parameters not None\n",
    "    assert trigger != None, \"ERROR: please provide the GBM trigger number!\"\n",
    "    assert spectrum != None, \"ERROR: select a spectral model!\"\n",
    "    assert det_list != None, \"ERROR: provide a detector list!\"\n",
    "    assert src_int != None, \"ERROR: select an active source interval!\"\n",
    "    assert bkg_int != None, \"ERROR: select a background interval!\"\n",
    "\n",
    "    output_name = \"_\" + spectrum\n",
    "\n",
    "    if trigdat_file == None:\n",
    "        try:\n",
    "            data_file = os.path.join(\n",
    "                os.environ.get(\"GBM_TRIGGER_DATA_DIR\"),\n",
    "                f\"glg_trigdat_all_bn_{trigger}_v0{versions[-1]}.fit\",\n",
    "            )\n",
    "        except FileNotFoundError:\n",
    "            print(\"error\")\n",
    "    else:\n",
    "        data_file = trigdat_file\n",
    "\n",
    "    if result_path == \"\":\n",
    "        result_path = os.getcwd()\n",
    "\n",
    "    # pos_int=gbmgeo.PositionInterpolator(T0=0,trigdat=data_file)\n",
    "    # quat=pos_int.quaternion(0)  # computed at t=0 (trigger time)\n",
    "    # dets=gbmgeo.GBM(quat)\n",
    "\n",
    "    trig_reader = TrigReader(data_file, fine=True, verbose=True)\n",
    "    trig_reader.set_active_time_interval(*src_int)\n",
    "    trig_reader.set_background_selections(*bkg_int)\n",
    "\n",
    "    with PdfPages(\"lightcurves.pdf\") as pdf:\n",
    "        figs = trig_reader.view_lightcurve(start=-50, stop=100, return_plots=True)\n",
    "\n",
    "        for fig in figs:\n",
    "            pdf.savefig(fig[1])\n",
    "\n",
    "    trigdata = trig_reader.to_plugin(*det_list)\n",
    "\n",
    "    with PdfPages(\"count_spectra.pdf\") as pdf:\n",
    "        for det_plugin in trigdata:\n",
    "            fig = det_plugin.view_count_spectrum()\n",
    "            plt.title(det_plugin.name)\n",
    "            pdf.savefig(fig)\n",
    "\n",
    "    data_list = DataList(*trigdata)\n",
    "\n",
    "    # starting position, does not affect the result\n",
    "    ra, dec = 0.0, 0.0\n",
    "\n",
    "    if spectrum == \"band_function\":\n",
    "        band = Band()\n",
    "        band.K.prior = Log_uniform_prior(lower_bound=0.0001, upper_bound=500)\n",
    "        band.xp.prior = Log_uniform_prior(lower_bound=10, upper_bound=1000)\n",
    "        band.alpha.set_uninformative_prior(Uniform_prior)\n",
    "        band.beta.set_uninformative_prior(Uniform_prior)\n",
    "        model = Model(PointSource(\"grb\", ra, dec, spectral_shape=band))\n",
    "\n",
    "    elif spectrum == \"cutoff_powerlaw\":\n",
    "        cpl = Cutoff_powerlaw()\n",
    "        cpl.K.prior = Log_uniform_prior(lower_bound=0.0001, upper_bound=500)\n",
    "        cpl.xc.prior = Log_uniform_prior(lower_bound=10, upper_bound=1000)\n",
    "        cpl.index.set_uninformative_prior(Uniform_prior)\n",
    "        model = Model(PointSource(\"grb\", ra, dec, spectral_shape=cpl))\n",
    "\n",
    "    elif spectrum == \"powerlaw\":\n",
    "        pl = Powerlaw()\n",
    "        pl.K.prior = Log_uniform_prior(lower_bound=0.0001, upper_bound=500)\n",
    "        pl.index.set_uninformative_prior(Uniform_prior)\n",
    "        model = Model(PointSource(\"grb\", ra, dec, spectral_shape=pl))\n",
    "\n",
    "    else:\n",
    "        print(\"ERROR: invalid spectral model\")\n",
    "\n",
    "    bayes = BayesianAnalysis(model, data_list)\n",
    "    # MULTINEST\n",
    "    # wrap = [0] * len(model.free_parameters)  # not working properly\n",
    "    # wrap[0] = 1\n",
    "\n",
    "    bayes.set_sampler(\"multinest\")\n",
    "    bayes.sampler.setup(n_live_points=400, verbose=True)\n",
    "    bayes.sample()\n",
    "\n",
    "    # save MULTINEST\n",
    "    bayes.results.write_to(\n",
    "        result_path + \"/grb_\" + trigger + \"_\" + spectrum + \".fits\", overwrite=True\n",
    "    )\n",
    "\n",
    "    results = bayes.results\n",
    "\n",
    "    # spectrum and residuals\n",
    "    spectrum_plot = display_spectrum_model_counts(bayes)\n",
    "    spectrum_plot.savefig(\n",
    "        result_path + \"/grb_\" + trigger + \"_spectrum_\" + spectrum + \".pdf\"\n",
    "    )\n",
    "\n",
    "    # corner plot\n",
    "    cc_plot = results.corner_plot_cc()\n",
    "    cc_plot.savefig(\n",
    "        result_path + \"/grb_\" + trigger + \"_cornerplot_\" + spectrum + \".pdf\")\n",
    " "
   ]
  },
  {
   "cell_type": "code",
   "execution_count": null,
   "id": "5e86e923-ff70-481e-bf57-c02613e94681",
   "metadata": {},
   "outputs": [],
   "source": [
    "def run_trigger(trigger):\n",
    "    url = f\"https://grb.mpe.mpg.de/grb/{trigger}/json\"\n",
    "    with urllib.request.urlopen(url) as json_url:\n",
    "        data = json.load(json_url)  # [0][\"grb_params\"][0]\n",
    "    with open(\"temp.json\", \"w+\") as f:\n",
    "        json.dump(data, f)\n",
    "\n",
    "    trigdat_file = os.path.join(\n",
    "        os.environ.get(\"GBMDATA\"),\n",
    "        f\"trigdat/20{trigger.strip('GRB')[:2]}\",\n",
    "        f\"glg_trigdat_all_bn{trigger.strip('GRB')}_v00.fit\",\n",
    "    )\n",
    "    if not os.path.isfile(trigdat_file):\n",
    "        download_trigdata_file(f\"bn{trigger.strip('GRB')}\")\n",
    "    trigdat_file = glob(\n",
    "        os.path.join(\n",
    "            os.environ.get(\"GBMDATA\"),\n",
    "            f\"trigdat/20{trigger.strip('GRB')[:2]}\",\n",
    "            f\"glg_trigdat_all_bn{trigger.strip('GRB')}_v0*.fit\",\n",
    "        )\n",
    "    )[0]\n",
    "    print(\"Done with data loading\")\n",
    "    fit_trigdat(\n",
    "        str(int(data[0][\"grb_params\"][0][\"trigger_number\"])),\n",
    "        json_file=\"temp.json\",\n",
    "        trigdat_file=trigdat_file,\n",
    "    )\n",
    "    os.remove(\"temp.json\")\n",
    "\n",
    "if __name__ == \"__main__\":\n",
    "    run_trigger(\"GRB230913408\")\n"
   ]
  }
 ],
 "metadata": {
  "kernelspec": {
   "display_name": "Python 3 (ipykernel)",
   "language": "python",
   "name": "python3"
  },
  "language_info": {
   "codemirror_mode": {
    "name": "ipython",
    "version": 3
   },
   "file_extension": ".py",
   "mimetype": "text/x-python",
   "name": "python",
   "nbconvert_exporter": "python",
   "pygments_lexer": "ipython3",
   "version": "3.8.16"
  }
 },
 "nbformat": 4,
 "nbformat_minor": 5
}
