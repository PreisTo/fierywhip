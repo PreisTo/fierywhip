{
 "cells": [
  {
   "cell_type": "code",
   "execution_count": null,
   "id": "1ee5ab68-402f-4a15-8606-e017f3857ecb",
   "metadata": {},
   "outputs": [],
   "source": [
    "from gbmbkgpy.io.downloading import download_gbm_file, download_trigdata_file\n",
    "from gbmgeometry import PositionInterpolator, GBM\n",
    "from astropy.coordinates import SkyCoord\n",
    "from gbmgeometry.utils.gbm_time import GBMTime\n",
    "import astropy.time as time\n",
    "import astropy.units as u\n",
    "import pandas as pd\n",
    "from datetime import datetime,timedelta\n",
    "from morgoth.utils.trig_reader import TrigReader\n",
    "from morgoth.auto_loc.time_selection import TimeSelectionBB\n",
    "from astromodels.functions import Powerlaw, Cutoff_powerlaw, Band\n",
    "from astromodels.sources.point_source import PointSource\n",
    "from astromodels.functions.priors import Log_uniform_prior,Uniform_prior\n",
    "from astromodels.core.model import Model\n",
    "from threeML.data_list import DataList\n",
    "from threeML.bayesian.bayesian_analysis import BayesianAnalysis,BayesianResults\n",
    "from threeML.plugins.OGIPLike import OGIPLike\n",
    "import os"
   ]
  },
  {
   "cell_type": "code",
   "execution_count": 3,
   "id": "aeb2192c-97c1-4c1a-9643-945149d1888c",
   "metadata": {},
   "outputs": [],
   "source": [
    "lu = [\"n0\",\"n1\",\"n2\",\"n3\",\"n4\",\"n5\",\"n6\",\"n7\",\"n8\",\"n9\",\"na\",\"nb\",\"b0\",\"b1\"]"
   ]
  },
  {
   "cell_type": "markdown",
   "id": "3fe7747b-a1db-4358-b562-bae690305edd",
   "metadata": {},
   "source": [
    "Specify GRB and Download Data"
   ]
  },
  {
   "cell_type": "code",
   "execution_count": 4,
   "id": "0f5ba98d-3dd6-4fa7-838e-c4115b4fdd47",
   "metadata": {},
   "outputs": [
    {
     "name": "stdout",
     "output_type": "stream",
     "text": [
      "Total number of 1 Swift trigger(s) found\n",
      "<SkyCoord (ICRS): (ra, dec) in deg\n",
      "    (83.064125, 66.12383333)>\n"
     ]
    }
   ],
   "source": [
    "GRB = \"GRB230826814\"\n",
    "day_seconds = 24*60*60\n",
    "grb_date = datetime(int(f\"20{GRB.strip('GRB')[:2]}\"),int(GRB.strip(\"GRB\")[2:4]),int(GRB.strip(\"GRB\")[4:6]))\n",
    "grb_time = grb_date + timedelta(seconds=int(GRB[-3:])*day_seconds/1000)\n",
    "\n",
    "# get swift grb table and look for coinciding\n",
    "swift_table = pd.read_csv(\"swift_grbs.txt\", sep = \"\\t\", decimal = \".\", encoding='latin-1', index_col=False)\n",
    "swift_table.insert(1, \"Date\", [i[0:-1] for i in swift_table[\"GRB\"]], True)\n",
    "coinc = swift_table.loc[swift_table[\"Date\"] == GRB.strip(\"GRB\")[:-3]]\n",
    "\n",
    "print(f\"Total number of {len(coinc['Date'])} Swift trigger(s) found\")\n",
    "\n",
    "swift_grb = None\n",
    "for c in coinc[\"Time [UT]\"]:\n",
    "    cd = datetime.strptime(c,\"%H:%M:%S\")\n",
    "    cd = cd.replace(year = grb_date.year, month = grb_date.month, day = grb_date.day)\n",
    "    if grb_time >= cd - timedelta(minutes = 2) and grb_time <= cd + timedelta(minutes = 2):\n",
    "        swift_grb = coinc.loc[coinc[\"Time [UT]\"] == c]\n",
    "    else:\n",
    "        print(cd)\n",
    "        print(grb_time)\n",
    "        print((grb_time - cd).total_seconds())\n",
    "\n",
    "if swift_grb is not None:\n",
    "    swift_grb = swift_grb.to_dict()\n",
    "\n",
    "    poshist = os.path.join(os.environ.get(\"GBMDATA\"), \"poshist\",GRB.strip(\"GRB\")[:-3],f\"glg_poshist_all_{GRB.strip('GRB')[:-3]}_v00.fit\")\n",
    "    trigdat = os.path.join(os.environ.get(\"GBMDATA\"),\"trigdat\",str(grb_time.year),f\"glg_trigdat_all_bn{GRB.strip('GRB')}_v00.fit\")\n",
    "    if not os.path.exists(poshist):\n",
    "        download_gbm_file(date = GRB.strip(\"GRB\")[:-3],data_type=\"poshist\")\n",
    "        print(\"Done downloading poshist\")\n",
    "    if not os.path.exists(trigdat):\n",
    "        download_trigdata_file(f\"bn{GRB.strip('GRB')}\")\n",
    "        print(\"Done downloading trigdat\")\n",
    "    interpolator = PositionInterpolator.from_poshist(poshist)\n",
    "    \n",
    "    if swift_grb[\"XRT RA (J2000)\"] != \"n/a\":\n",
    "        sgd = list(swift_grb[\"Date\"].keys())\n",
    "        swift_position = SkyCoord(ra = swift_grb[\"XRT RA (J2000)\"][sgd[0]], dec= swift_grb[\"XRT Dec (J2000)\"][sgd[0]],unit = (u.hourangle,u.deg))\n",
    "        print(swift_position)\n",
    "    else:\n",
    "        print(\"Only BAT localization available\")\n",
    "    interp_trigdat = PositionInterpolator.from_trigdat(trigdat)"
   ]
  },
  {
   "cell_type": "markdown",
   "id": "7b7c5f40-4c2d-4dce-9297-f151bcaef6d2",
   "metadata": {},
   "source": [
    "Get Incident Angle for trigger time "
   ]
  },
  {
   "cell_type": "code",
   "execution_count": 5,
   "id": "074802d5-2ae2-45cf-96d7-aae8f82f2f02",
   "metadata": {},
   "outputs": [
    {
     "name": "stdout",
     "output_type": "stream",
     "text": [
      "n0 96.19411455288557\n",
      "n1 71.88150085008424\n",
      "n2 26.37443017539312\n",
      "n3 115.9598343864683\n",
      "n4 110.29136891470984\n",
      "n5 57.206794670030526\n",
      "n6 136.42387513618092\n",
      "n7 160.336920161373\n",
      "n8 153.5378728746127\n",
      "n9 101.03889733004264\n",
      "na 69.89151079895514\n",
      "nb 122.96858509148946\n",
      "b0 60.04709671479456\n",
      "b1 119.95290328520545\n"
     ]
    }
   ],
   "source": [
    "t0 = time.Time(grb_time, format=\"datetime\", scale=\"utc\")\n",
    "gbm_time = GBMTime(t0)\n",
    "gbm = GBM(\n",
    "    interpolator.quaternion(gbm_time.met),\n",
    "    sc_pos=interpolator.sc_pos(gbm_time.met) * u.km,\n",
    ")\n",
    "sep = gbm.get_separation(swift_position)\n",
    "for d in lu:\n",
    "    print(d,sep[d])"
   ]
  },
  {
   "cell_type": "code",
   "execution_count": 6,
   "id": "187555fd-ad79-48c9-b51a-3724e8b79701",
   "metadata": {},
   "outputs": [
    {
     "data": {
      "text/html": [
       "<pre style=\"white-space:pre;overflow-x:auto;line-height:normal;font-family:Menlo,'DejaVu Sans Mono',consolas,'Courier New',monospace\"><span style=\"color: #00ff00; text-decoration-color: #00ff00\">16:03:34 </span><span style=\"color: #af5fd7; text-decoration-color: #af5fd7\">WARNING </span> <span style=\"color: #c6c6c6; text-decoration-color: #c6c6c6; font-weight: bold\"> Minimum MC energy (</span><span style=\"color: #c0c0c0; text-decoration-color: #c0c0c0; font-weight: bold\">5.0</span><span style=\"color: #c6c6c6; text-decoration-color: #c6c6c6; font-weight: bold\">) is larger than minimum EBOUNDS energy                    </span><a href=\"file:///home/tobi/sw/threeML/threeML/utils/OGIP/response.py\" target=\"_blank\"><span style=\"color: #7f7f7f; text-decoration-color: #7f7f7f\">response.py</span></a><span style=\"color: #7f7f7f; text-decoration-color: #7f7f7f\">:</span><a href=\"file:///home/tobi/sw/threeML/threeML/utils/OGIP/response.py#137\" target=\"_blank\"><span style=\"color: #7f7f7f; text-decoration-color: #7f7f7f\">137</span></a>\n",
       "<span style=\"color: #00ff00; text-decoration-color: #00ff00\">         </span>         <span style=\"color: #c6c6c6; text-decoration-color: #c6c6c6; font-weight: bold\">(</span><span style=\"color: #c0c0c0; text-decoration-color: #c0c0c0; font-weight: bold\">3.4000000953674316</span><span style=\"color: #c6c6c6; text-decoration-color: #c6c6c6; font-weight: bold\">)                                                              </span><span style=\"color: #7f7f7f; text-decoration-color: #7f7f7f\">               </span>\n",
       "</pre>\n"
      ],
      "text/plain": [
       "\u001b[38;5;46m16:03:34\u001b[0m\u001b[38;5;46m \u001b[0m\u001b[38;5;134mWARNING \u001b[0m \u001b[1;38;5;251m Minimum MC energy \u001b[0m\u001b[1;38;5;251m(\u001b[0m\u001b[1;37m5.0\u001b[0m\u001b[1;38;5;251m)\u001b[0m\u001b[1;38;5;251m is larger than minimum EBOUNDS energy                   \u001b[0m\u001b[1;38;5;251m \u001b[0m\u001b]8;id=864705;file:///home/tobi/sw/threeML/threeML/utils/OGIP/response.py\u001b\\\u001b[2mresponse.py\u001b[0m\u001b]8;;\u001b\\\u001b[2m:\u001b[0m\u001b]8;id=108714;file:///home/tobi/sw/threeML/threeML/utils/OGIP/response.py#137\u001b\\\u001b[2m137\u001b[0m\u001b]8;;\u001b\\\n",
       "\u001b[38;5;46m         \u001b[0m         \u001b[1;38;5;251m(\u001b[0m\u001b[1;37m3.4000000953674316\u001b[0m\u001b[1;38;5;251m)\u001b[0m\u001b[1;38;5;251m                                                             \u001b[0m\u001b[1;38;5;251m \u001b[0m\u001b[2m               \u001b[0m\n"
      ]
     },
     "metadata": {},
     "output_type": "display_data"
    },
    {
     "data": {
      "text/html": [
       "<pre style=\"white-space:pre;overflow-x:auto;line-height:normal;font-family:Menlo,'DejaVu Sans Mono',consolas,'Courier New',monospace\"><span style=\"color: #00ff00; text-decoration-color: #00ff00\">         </span><span style=\"color: #af5fd7; text-decoration-color: #af5fd7\">WARNING </span> <span style=\"color: #c6c6c6; text-decoration-color: #c6c6c6; font-weight: bold\"> No instrument name is given. Setting to UNKNOWN                               </span><a href=\"file:///home/tobi/sw/threeML/threeML/utils/time_series/time_series.py\" target=\"_blank\"><span style=\"color: #7f7f7f; text-decoration-color: #7f7f7f\">time_series.py</span></a><span style=\"color: #7f7f7f; text-decoration-color: #7f7f7f\">:</span><a href=\"file:///home/tobi/sw/threeML/threeML/utils/time_series/time_series.py#140\" target=\"_blank\"><span style=\"color: #7f7f7f; text-decoration-color: #7f7f7f\">140</span></a>\n",
       "</pre>\n"
      ],
      "text/plain": [
       "\u001b[38;5;46m        \u001b[0m\u001b[38;5;46m \u001b[0m\u001b[38;5;134mWARNING \u001b[0m \u001b[1;38;5;251m No instrument name is given. Setting to UNKNOWN                              \u001b[0m\u001b[1;38;5;251m \u001b[0m\u001b]8;id=499858;file:///home/tobi/sw/threeML/threeML/utils/time_series/time_series.py\u001b\\\u001b[2mtime_series.py\u001b[0m\u001b]8;;\u001b\\\u001b[2m:\u001b[0m\u001b]8;id=793585;file:///home/tobi/sw/threeML/threeML/utils/time_series/time_series.py#140\u001b\\\u001b[2m140\u001b[0m\u001b]8;;\u001b\\\n"
      ]
     },
     "metadata": {},
     "output_type": "display_data"
    },
    {
     "data": {
      "text/html": [
       "<pre style=\"white-space:pre;overflow-x:auto;line-height:normal;font-family:Menlo,'DejaVu Sans Mono',consolas,'Courier New',monospace\"><span style=\"color: #00ff00; text-decoration-color: #00ff00\">         </span><span style=\"color: #af5fd7; text-decoration-color: #af5fd7\">WARNING </span> <span style=\"color: #c6c6c6; text-decoration-color: #c6c6c6; font-weight: bold\"> No mission name is given. Setting to UNKNOWN                                  </span><a href=\"file:///home/tobi/sw/threeML/threeML/utils/time_series/time_series.py\" target=\"_blank\"><span style=\"color: #7f7f7f; text-decoration-color: #7f7f7f\">time_series.py</span></a><span style=\"color: #7f7f7f; text-decoration-color: #7f7f7f\">:</span><a href=\"file:///home/tobi/sw/threeML/threeML/utils/time_series/time_series.py#150\" target=\"_blank\"><span style=\"color: #7f7f7f; text-decoration-color: #7f7f7f\">150</span></a>\n",
       "</pre>\n"
      ],
      "text/plain": [
       "\u001b[38;5;46m        \u001b[0m\u001b[38;5;46m \u001b[0m\u001b[38;5;134mWARNING \u001b[0m \u001b[1;38;5;251m No mission name is given. Setting to UNKNOWN                                 \u001b[0m\u001b[1;38;5;251m \u001b[0m\u001b]8;id=380127;file:///home/tobi/sw/threeML/threeML/utils/time_series/time_series.py\u001b\\\u001b[2mtime_series.py\u001b[0m\u001b]8;;\u001b\\\u001b[2m:\u001b[0m\u001b]8;id=322854;file:///home/tobi/sw/threeML/threeML/utils/time_series/time_series.py#150\u001b\\\u001b[2m150\u001b[0m\u001b]8;;\u001b\\\n"
      ]
     },
     "metadata": {},
     "output_type": "display_data"
    },
    {
     "data": {
      "text/html": [
       "<pre style=\"white-space:pre;overflow-x:auto;line-height:normal;font-family:Menlo,'DejaVu Sans Mono',consolas,'Courier New',monospace\"><span style=\"color: #00ff00; text-decoration-color: #00ff00\">         </span><span style=\"color: #af5fd7; text-decoration-color: #af5fd7\">WARNING </span> <span style=\"color: #c6c6c6; text-decoration-color: #c6c6c6; font-weight: bold\"> Minimum MC energy (</span><span style=\"color: #c0c0c0; text-decoration-color: #c0c0c0; font-weight: bold\">5.0</span><span style=\"color: #c6c6c6; text-decoration-color: #c6c6c6; font-weight: bold\">) is larger than minimum EBOUNDS energy                    </span><a href=\"file:///home/tobi/sw/threeML/threeML/utils/OGIP/response.py\" target=\"_blank\"><span style=\"color: #7f7f7f; text-decoration-color: #7f7f7f\">response.py</span></a><span style=\"color: #7f7f7f; text-decoration-color: #7f7f7f\">:</span><a href=\"file:///home/tobi/sw/threeML/threeML/utils/OGIP/response.py#137\" target=\"_blank\"><span style=\"color: #7f7f7f; text-decoration-color: #7f7f7f\">137</span></a>\n",
       "<span style=\"color: #00ff00; text-decoration-color: #00ff00\">         </span>         <span style=\"color: #c6c6c6; text-decoration-color: #c6c6c6; font-weight: bold\">(</span><span style=\"color: #c0c0c0; text-decoration-color: #c0c0c0; font-weight: bold\">3.4000000953674316</span><span style=\"color: #c6c6c6; text-decoration-color: #c6c6c6; font-weight: bold\">)                                                              </span><span style=\"color: #7f7f7f; text-decoration-color: #7f7f7f\">               </span>\n",
       "</pre>\n"
      ],
      "text/plain": [
       "\u001b[38;5;46m        \u001b[0m\u001b[38;5;46m \u001b[0m\u001b[38;5;134mWARNING \u001b[0m \u001b[1;38;5;251m Minimum MC energy \u001b[0m\u001b[1;38;5;251m(\u001b[0m\u001b[1;37m5.0\u001b[0m\u001b[1;38;5;251m)\u001b[0m\u001b[1;38;5;251m is larger than minimum EBOUNDS energy                   \u001b[0m\u001b[1;38;5;251m \u001b[0m\u001b]8;id=879637;file:///home/tobi/sw/threeML/threeML/utils/OGIP/response.py\u001b\\\u001b[2mresponse.py\u001b[0m\u001b]8;;\u001b\\\u001b[2m:\u001b[0m\u001b]8;id=803105;file:///home/tobi/sw/threeML/threeML/utils/OGIP/response.py#137\u001b\\\u001b[2m137\u001b[0m\u001b]8;;\u001b\\\n",
       "\u001b[38;5;46m         \u001b[0m         \u001b[1;38;5;251m(\u001b[0m\u001b[1;37m3.4000000953674316\u001b[0m\u001b[1;38;5;251m)\u001b[0m\u001b[1;38;5;251m                                                             \u001b[0m\u001b[1;38;5;251m \u001b[0m\u001b[2m               \u001b[0m\n"
      ]
     },
     "metadata": {},
     "output_type": "display_data"
    },
    {
     "data": {
      "text/html": [
       "<pre style=\"white-space:pre;overflow-x:auto;line-height:normal;font-family:Menlo,'DejaVu Sans Mono',consolas,'Courier New',monospace\"><span style=\"color: #00ff00; text-decoration-color: #00ff00\">         </span><span style=\"color: #af5fd7; text-decoration-color: #af5fd7\">WARNING </span> <span style=\"color: #c6c6c6; text-decoration-color: #c6c6c6; font-weight: bold\"> No instrument name is given. Setting to UNKNOWN                               </span><a href=\"file:///home/tobi/sw/threeML/threeML/utils/time_series/time_series.py\" target=\"_blank\"><span style=\"color: #7f7f7f; text-decoration-color: #7f7f7f\">time_series.py</span></a><span style=\"color: #7f7f7f; text-decoration-color: #7f7f7f\">:</span><a href=\"file:///home/tobi/sw/threeML/threeML/utils/time_series/time_series.py#140\" target=\"_blank\"><span style=\"color: #7f7f7f; text-decoration-color: #7f7f7f\">140</span></a>\n",
       "</pre>\n"
      ],
      "text/plain": [
       "\u001b[38;5;46m        \u001b[0m\u001b[38;5;46m \u001b[0m\u001b[38;5;134mWARNING \u001b[0m \u001b[1;38;5;251m No instrument name is given. Setting to UNKNOWN                              \u001b[0m\u001b[1;38;5;251m \u001b[0m\u001b]8;id=36952;file:///home/tobi/sw/threeML/threeML/utils/time_series/time_series.py\u001b\\\u001b[2mtime_series.py\u001b[0m\u001b]8;;\u001b\\\u001b[2m:\u001b[0m\u001b]8;id=795532;file:///home/tobi/sw/threeML/threeML/utils/time_series/time_series.py#140\u001b\\\u001b[2m140\u001b[0m\u001b]8;;\u001b\\\n"
      ]
     },
     "metadata": {},
     "output_type": "display_data"
    },
    {
     "data": {
      "text/html": [
       "<pre style=\"white-space:pre;overflow-x:auto;line-height:normal;font-family:Menlo,'DejaVu Sans Mono',consolas,'Courier New',monospace\"><span style=\"color: #00ff00; text-decoration-color: #00ff00\">         </span><span style=\"color: #af5fd7; text-decoration-color: #af5fd7\">WARNING </span> <span style=\"color: #c6c6c6; text-decoration-color: #c6c6c6; font-weight: bold\"> No mission name is given. Setting to UNKNOWN                                  </span><a href=\"file:///home/tobi/sw/threeML/threeML/utils/time_series/time_series.py\" target=\"_blank\"><span style=\"color: #7f7f7f; text-decoration-color: #7f7f7f\">time_series.py</span></a><span style=\"color: #7f7f7f; text-decoration-color: #7f7f7f\">:</span><a href=\"file:///home/tobi/sw/threeML/threeML/utils/time_series/time_series.py#150\" target=\"_blank\"><span style=\"color: #7f7f7f; text-decoration-color: #7f7f7f\">150</span></a>\n",
       "</pre>\n"
      ],
      "text/plain": [
       "\u001b[38;5;46m        \u001b[0m\u001b[38;5;46m \u001b[0m\u001b[38;5;134mWARNING \u001b[0m \u001b[1;38;5;251m No mission name is given. Setting to UNKNOWN                                 \u001b[0m\u001b[1;38;5;251m \u001b[0m\u001b]8;id=318955;file:///home/tobi/sw/threeML/threeML/utils/time_series/time_series.py\u001b\\\u001b[2mtime_series.py\u001b[0m\u001b]8;;\u001b\\\u001b[2m:\u001b[0m\u001b]8;id=744285;file:///home/tobi/sw/threeML/threeML/utils/time_series/time_series.py#150\u001b\\\u001b[2m150\u001b[0m\u001b]8;;\u001b\\\n"
      ]
     },
     "metadata": {},
     "output_type": "display_data"
    },
    {
     "data": {
      "text/html": [
       "<pre style=\"white-space:pre;overflow-x:auto;line-height:normal;font-family:Menlo,'DejaVu Sans Mono',consolas,'Courier New',monospace\"><span style=\"color: #00ff00; text-decoration-color: #00ff00\">         </span><span style=\"color: #af5fd7; text-decoration-color: #af5fd7\">WARNING </span> <span style=\"color: #c6c6c6; text-decoration-color: #c6c6c6; font-weight: bold\"> Minimum MC energy (</span><span style=\"color: #c0c0c0; text-decoration-color: #c0c0c0; font-weight: bold\">5.0</span><span style=\"color: #c6c6c6; text-decoration-color: #c6c6c6; font-weight: bold\">) is larger than minimum EBOUNDS energy                    </span><a href=\"file:///home/tobi/sw/threeML/threeML/utils/OGIP/response.py\" target=\"_blank\"><span style=\"color: #7f7f7f; text-decoration-color: #7f7f7f\">response.py</span></a><span style=\"color: #7f7f7f; text-decoration-color: #7f7f7f\">:</span><a href=\"file:///home/tobi/sw/threeML/threeML/utils/OGIP/response.py#137\" target=\"_blank\"><span style=\"color: #7f7f7f; text-decoration-color: #7f7f7f\">137</span></a>\n",
       "<span style=\"color: #00ff00; text-decoration-color: #00ff00\">         </span>         <span style=\"color: #c6c6c6; text-decoration-color: #c6c6c6; font-weight: bold\">(</span><span style=\"color: #c0c0c0; text-decoration-color: #c0c0c0; font-weight: bold\">3.4000000953674316</span><span style=\"color: #c6c6c6; text-decoration-color: #c6c6c6; font-weight: bold\">)                                                              </span><span style=\"color: #7f7f7f; text-decoration-color: #7f7f7f\">               </span>\n",
       "</pre>\n"
      ],
      "text/plain": [
       "\u001b[38;5;46m        \u001b[0m\u001b[38;5;46m \u001b[0m\u001b[38;5;134mWARNING \u001b[0m \u001b[1;38;5;251m Minimum MC energy \u001b[0m\u001b[1;38;5;251m(\u001b[0m\u001b[1;37m5.0\u001b[0m\u001b[1;38;5;251m)\u001b[0m\u001b[1;38;5;251m is larger than minimum EBOUNDS energy                   \u001b[0m\u001b[1;38;5;251m \u001b[0m\u001b]8;id=816688;file:///home/tobi/sw/threeML/threeML/utils/OGIP/response.py\u001b\\\u001b[2mresponse.py\u001b[0m\u001b]8;;\u001b\\\u001b[2m:\u001b[0m\u001b]8;id=116746;file:///home/tobi/sw/threeML/threeML/utils/OGIP/response.py#137\u001b\\\u001b[2m137\u001b[0m\u001b]8;;\u001b\\\n",
       "\u001b[38;5;46m         \u001b[0m         \u001b[1;38;5;251m(\u001b[0m\u001b[1;37m3.4000000953674316\u001b[0m\u001b[1;38;5;251m)\u001b[0m\u001b[1;38;5;251m                                                             \u001b[0m\u001b[1;38;5;251m \u001b[0m\u001b[2m               \u001b[0m\n"
      ]
     },
     "metadata": {},
     "output_type": "display_data"
    },
    {
     "data": {
      "text/html": [
       "<pre style=\"white-space:pre;overflow-x:auto;line-height:normal;font-family:Menlo,'DejaVu Sans Mono',consolas,'Courier New',monospace\"><span style=\"color: #00ff00; text-decoration-color: #00ff00\">         </span><span style=\"color: #af5fd7; text-decoration-color: #af5fd7\">WARNING </span> <span style=\"color: #c6c6c6; text-decoration-color: #c6c6c6; font-weight: bold\"> No instrument name is given. Setting to UNKNOWN                               </span><a href=\"file:///home/tobi/sw/threeML/threeML/utils/time_series/time_series.py\" target=\"_blank\"><span style=\"color: #7f7f7f; text-decoration-color: #7f7f7f\">time_series.py</span></a><span style=\"color: #7f7f7f; text-decoration-color: #7f7f7f\">:</span><a href=\"file:///home/tobi/sw/threeML/threeML/utils/time_series/time_series.py#140\" target=\"_blank\"><span style=\"color: #7f7f7f; text-decoration-color: #7f7f7f\">140</span></a>\n",
       "</pre>\n"
      ],
      "text/plain": [
       "\u001b[38;5;46m        \u001b[0m\u001b[38;5;46m \u001b[0m\u001b[38;5;134mWARNING \u001b[0m \u001b[1;38;5;251m No instrument name is given. Setting to UNKNOWN                              \u001b[0m\u001b[1;38;5;251m \u001b[0m\u001b]8;id=828001;file:///home/tobi/sw/threeML/threeML/utils/time_series/time_series.py\u001b\\\u001b[2mtime_series.py\u001b[0m\u001b]8;;\u001b\\\u001b[2m:\u001b[0m\u001b]8;id=457264;file:///home/tobi/sw/threeML/threeML/utils/time_series/time_series.py#140\u001b\\\u001b[2m140\u001b[0m\u001b]8;;\u001b\\\n"
      ]
     },
     "metadata": {},
     "output_type": "display_data"
    },
    {
     "data": {
      "text/html": [
       "<pre style=\"white-space:pre;overflow-x:auto;line-height:normal;font-family:Menlo,'DejaVu Sans Mono',consolas,'Courier New',monospace\"><span style=\"color: #00ff00; text-decoration-color: #00ff00\">         </span><span style=\"color: #af5fd7; text-decoration-color: #af5fd7\">WARNING </span> <span style=\"color: #c6c6c6; text-decoration-color: #c6c6c6; font-weight: bold\"> No mission name is given. Setting to UNKNOWN                                  </span><a href=\"file:///home/tobi/sw/threeML/threeML/utils/time_series/time_series.py\" target=\"_blank\"><span style=\"color: #7f7f7f; text-decoration-color: #7f7f7f\">time_series.py</span></a><span style=\"color: #7f7f7f; text-decoration-color: #7f7f7f\">:</span><a href=\"file:///home/tobi/sw/threeML/threeML/utils/time_series/time_series.py#150\" target=\"_blank\"><span style=\"color: #7f7f7f; text-decoration-color: #7f7f7f\">150</span></a>\n",
       "</pre>\n"
      ],
      "text/plain": [
       "\u001b[38;5;46m        \u001b[0m\u001b[38;5;46m \u001b[0m\u001b[38;5;134mWARNING \u001b[0m \u001b[1;38;5;251m No mission name is given. Setting to UNKNOWN                                 \u001b[0m\u001b[1;38;5;251m \u001b[0m\u001b]8;id=703249;file:///home/tobi/sw/threeML/threeML/utils/time_series/time_series.py\u001b\\\u001b[2mtime_series.py\u001b[0m\u001b]8;;\u001b\\\u001b[2m:\u001b[0m\u001b]8;id=398503;file:///home/tobi/sw/threeML/threeML/utils/time_series/time_series.py#150\u001b\\\u001b[2m150\u001b[0m\u001b]8;;\u001b\\\n"
      ]
     },
     "metadata": {},
     "output_type": "display_data"
    },
    {
     "data": {
      "text/html": [
       "<pre style=\"white-space:pre;overflow-x:auto;line-height:normal;font-family:Menlo,'DejaVu Sans Mono',consolas,'Courier New',monospace\"><span style=\"color: #00ff00; text-decoration-color: #00ff00\">         </span><span style=\"color: #af5fd7; text-decoration-color: #af5fd7\">WARNING </span> <span style=\"color: #c6c6c6; text-decoration-color: #c6c6c6; font-weight: bold\"> Minimum MC energy (</span><span style=\"color: #c0c0c0; text-decoration-color: #c0c0c0; font-weight: bold\">5.0</span><span style=\"color: #c6c6c6; text-decoration-color: #c6c6c6; font-weight: bold\">) is larger than minimum EBOUNDS energy                    </span><a href=\"file:///home/tobi/sw/threeML/threeML/utils/OGIP/response.py\" target=\"_blank\"><span style=\"color: #7f7f7f; text-decoration-color: #7f7f7f\">response.py</span></a><span style=\"color: #7f7f7f; text-decoration-color: #7f7f7f\">:</span><a href=\"file:///home/tobi/sw/threeML/threeML/utils/OGIP/response.py#137\" target=\"_blank\"><span style=\"color: #7f7f7f; text-decoration-color: #7f7f7f\">137</span></a>\n",
       "<span style=\"color: #00ff00; text-decoration-color: #00ff00\">         </span>         <span style=\"color: #c6c6c6; text-decoration-color: #c6c6c6; font-weight: bold\">(</span><span style=\"color: #c0c0c0; text-decoration-color: #c0c0c0; font-weight: bold\">3.4000000953674316</span><span style=\"color: #c6c6c6; text-decoration-color: #c6c6c6; font-weight: bold\">)                                                              </span><span style=\"color: #7f7f7f; text-decoration-color: #7f7f7f\">               </span>\n",
       "</pre>\n"
      ],
      "text/plain": [
       "\u001b[38;5;46m        \u001b[0m\u001b[38;5;46m \u001b[0m\u001b[38;5;134mWARNING \u001b[0m \u001b[1;38;5;251m Minimum MC energy \u001b[0m\u001b[1;38;5;251m(\u001b[0m\u001b[1;37m5.0\u001b[0m\u001b[1;38;5;251m)\u001b[0m\u001b[1;38;5;251m is larger than minimum EBOUNDS energy                   \u001b[0m\u001b[1;38;5;251m \u001b[0m\u001b]8;id=274613;file:///home/tobi/sw/threeML/threeML/utils/OGIP/response.py\u001b\\\u001b[2mresponse.py\u001b[0m\u001b]8;;\u001b\\\u001b[2m:\u001b[0m\u001b]8;id=208470;file:///home/tobi/sw/threeML/threeML/utils/OGIP/response.py#137\u001b\\\u001b[2m137\u001b[0m\u001b]8;;\u001b\\\n",
       "\u001b[38;5;46m         \u001b[0m         \u001b[1;38;5;251m(\u001b[0m\u001b[1;37m3.4000000953674316\u001b[0m\u001b[1;38;5;251m)\u001b[0m\u001b[1;38;5;251m                                                             \u001b[0m\u001b[1;38;5;251m \u001b[0m\u001b[2m               \u001b[0m\n"
      ]
     },
     "metadata": {},
     "output_type": "display_data"
    },
    {
     "data": {
      "text/html": [
       "<pre style=\"white-space:pre;overflow-x:auto;line-height:normal;font-family:Menlo,'DejaVu Sans Mono',consolas,'Courier New',monospace\"><span style=\"color: #00ff00; text-decoration-color: #00ff00\">         </span><span style=\"color: #af5fd7; text-decoration-color: #af5fd7\">WARNING </span> <span style=\"color: #c6c6c6; text-decoration-color: #c6c6c6; font-weight: bold\"> No instrument name is given. Setting to UNKNOWN                               </span><a href=\"file:///home/tobi/sw/threeML/threeML/utils/time_series/time_series.py\" target=\"_blank\"><span style=\"color: #7f7f7f; text-decoration-color: #7f7f7f\">time_series.py</span></a><span style=\"color: #7f7f7f; text-decoration-color: #7f7f7f\">:</span><a href=\"file:///home/tobi/sw/threeML/threeML/utils/time_series/time_series.py#140\" target=\"_blank\"><span style=\"color: #7f7f7f; text-decoration-color: #7f7f7f\">140</span></a>\n",
       "</pre>\n"
      ],
      "text/plain": [
       "\u001b[38;5;46m        \u001b[0m\u001b[38;5;46m \u001b[0m\u001b[38;5;134mWARNING \u001b[0m \u001b[1;38;5;251m No instrument name is given. Setting to UNKNOWN                              \u001b[0m\u001b[1;38;5;251m \u001b[0m\u001b]8;id=742474;file:///home/tobi/sw/threeML/threeML/utils/time_series/time_series.py\u001b\\\u001b[2mtime_series.py\u001b[0m\u001b]8;;\u001b\\\u001b[2m:\u001b[0m\u001b]8;id=658699;file:///home/tobi/sw/threeML/threeML/utils/time_series/time_series.py#140\u001b\\\u001b[2m140\u001b[0m\u001b]8;;\u001b\\\n"
      ]
     },
     "metadata": {},
     "output_type": "display_data"
    },
    {
     "data": {
      "text/html": [
       "<pre style=\"white-space:pre;overflow-x:auto;line-height:normal;font-family:Menlo,'DejaVu Sans Mono',consolas,'Courier New',monospace\"><span style=\"color: #00ff00; text-decoration-color: #00ff00\">         </span><span style=\"color: #af5fd7; text-decoration-color: #af5fd7\">WARNING </span> <span style=\"color: #c6c6c6; text-decoration-color: #c6c6c6; font-weight: bold\"> No mission name is given. Setting to UNKNOWN                                  </span><a href=\"file:///home/tobi/sw/threeML/threeML/utils/time_series/time_series.py\" target=\"_blank\"><span style=\"color: #7f7f7f; text-decoration-color: #7f7f7f\">time_series.py</span></a><span style=\"color: #7f7f7f; text-decoration-color: #7f7f7f\">:</span><a href=\"file:///home/tobi/sw/threeML/threeML/utils/time_series/time_series.py#150\" target=\"_blank\"><span style=\"color: #7f7f7f; text-decoration-color: #7f7f7f\">150</span></a>\n",
       "</pre>\n"
      ],
      "text/plain": [
       "\u001b[38;5;46m        \u001b[0m\u001b[38;5;46m \u001b[0m\u001b[38;5;134mWARNING \u001b[0m \u001b[1;38;5;251m No mission name is given. Setting to UNKNOWN                                 \u001b[0m\u001b[1;38;5;251m \u001b[0m\u001b]8;id=245076;file:///home/tobi/sw/threeML/threeML/utils/time_series/time_series.py\u001b\\\u001b[2mtime_series.py\u001b[0m\u001b]8;;\u001b\\\u001b[2m:\u001b[0m\u001b]8;id=193497;file:///home/tobi/sw/threeML/threeML/utils/time_series/time_series.py#150\u001b\\\u001b[2m150\u001b[0m\u001b]8;;\u001b\\\n"
      ]
     },
     "metadata": {},
     "output_type": "display_data"
    },
    {
     "data": {
      "text/html": [
       "<pre style=\"white-space:pre;overflow-x:auto;line-height:normal;font-family:Menlo,'DejaVu Sans Mono',consolas,'Courier New',monospace\"><span style=\"color: #00ff00; text-decoration-color: #00ff00\">16:03:35 </span><span style=\"color: #af5fd7; text-decoration-color: #af5fd7\">WARNING </span> <span style=\"color: #c6c6c6; text-decoration-color: #c6c6c6; font-weight: bold\"> Minimum MC energy (</span><span style=\"color: #c0c0c0; text-decoration-color: #c0c0c0; font-weight: bold\">5.0</span><span style=\"color: #c6c6c6; text-decoration-color: #c6c6c6; font-weight: bold\">) is larger than minimum EBOUNDS energy                    </span><a href=\"file:///home/tobi/sw/threeML/threeML/utils/OGIP/response.py\" target=\"_blank\"><span style=\"color: #7f7f7f; text-decoration-color: #7f7f7f\">response.py</span></a><span style=\"color: #7f7f7f; text-decoration-color: #7f7f7f\">:</span><a href=\"file:///home/tobi/sw/threeML/threeML/utils/OGIP/response.py#137\" target=\"_blank\"><span style=\"color: #7f7f7f; text-decoration-color: #7f7f7f\">137</span></a>\n",
       "<span style=\"color: #00ff00; text-decoration-color: #00ff00\">         </span>         <span style=\"color: #c6c6c6; text-decoration-color: #c6c6c6; font-weight: bold\">(</span><span style=\"color: #c0c0c0; text-decoration-color: #c0c0c0; font-weight: bold\">3.4000000953674316</span><span style=\"color: #c6c6c6; text-decoration-color: #c6c6c6; font-weight: bold\">)                                                              </span><span style=\"color: #7f7f7f; text-decoration-color: #7f7f7f\">               </span>\n",
       "</pre>\n"
      ],
      "text/plain": [
       "\u001b[38;5;46m16:03:35\u001b[0m\u001b[38;5;46m \u001b[0m\u001b[38;5;134mWARNING \u001b[0m \u001b[1;38;5;251m Minimum MC energy \u001b[0m\u001b[1;38;5;251m(\u001b[0m\u001b[1;37m5.0\u001b[0m\u001b[1;38;5;251m)\u001b[0m\u001b[1;38;5;251m is larger than minimum EBOUNDS energy                   \u001b[0m\u001b[1;38;5;251m \u001b[0m\u001b]8;id=565983;file:///home/tobi/sw/threeML/threeML/utils/OGIP/response.py\u001b\\\u001b[2mresponse.py\u001b[0m\u001b]8;;\u001b\\\u001b[2m:\u001b[0m\u001b]8;id=200486;file:///home/tobi/sw/threeML/threeML/utils/OGIP/response.py#137\u001b\\\u001b[2m137\u001b[0m\u001b]8;;\u001b\\\n",
       "\u001b[38;5;46m         \u001b[0m         \u001b[1;38;5;251m(\u001b[0m\u001b[1;37m3.4000000953674316\u001b[0m\u001b[1;38;5;251m)\u001b[0m\u001b[1;38;5;251m                                                             \u001b[0m\u001b[1;38;5;251m \u001b[0m\u001b[2m               \u001b[0m\n"
      ]
     },
     "metadata": {},
     "output_type": "display_data"
    },
    {
     "data": {
      "text/html": [
       "<pre style=\"white-space:pre;overflow-x:auto;line-height:normal;font-family:Menlo,'DejaVu Sans Mono',consolas,'Courier New',monospace\"><span style=\"color: #00ff00; text-decoration-color: #00ff00\">         </span><span style=\"color: #af5fd7; text-decoration-color: #af5fd7\">WARNING </span> <span style=\"color: #c6c6c6; text-decoration-color: #c6c6c6; font-weight: bold\"> No instrument name is given. Setting to UNKNOWN                               </span><a href=\"file:///home/tobi/sw/threeML/threeML/utils/time_series/time_series.py\" target=\"_blank\"><span style=\"color: #7f7f7f; text-decoration-color: #7f7f7f\">time_series.py</span></a><span style=\"color: #7f7f7f; text-decoration-color: #7f7f7f\">:</span><a href=\"file:///home/tobi/sw/threeML/threeML/utils/time_series/time_series.py#140\" target=\"_blank\"><span style=\"color: #7f7f7f; text-decoration-color: #7f7f7f\">140</span></a>\n",
       "</pre>\n"
      ],
      "text/plain": [
       "\u001b[38;5;46m        \u001b[0m\u001b[38;5;46m \u001b[0m\u001b[38;5;134mWARNING \u001b[0m \u001b[1;38;5;251m No instrument name is given. Setting to UNKNOWN                              \u001b[0m\u001b[1;38;5;251m \u001b[0m\u001b]8;id=664427;file:///home/tobi/sw/threeML/threeML/utils/time_series/time_series.py\u001b\\\u001b[2mtime_series.py\u001b[0m\u001b]8;;\u001b\\\u001b[2m:\u001b[0m\u001b]8;id=589352;file:///home/tobi/sw/threeML/threeML/utils/time_series/time_series.py#140\u001b\\\u001b[2m140\u001b[0m\u001b]8;;\u001b\\\n"
      ]
     },
     "metadata": {},
     "output_type": "display_data"
    },
    {
     "data": {
      "text/html": [
       "<pre style=\"white-space:pre;overflow-x:auto;line-height:normal;font-family:Menlo,'DejaVu Sans Mono',consolas,'Courier New',monospace\"><span style=\"color: #00ff00; text-decoration-color: #00ff00\">         </span><span style=\"color: #af5fd7; text-decoration-color: #af5fd7\">WARNING </span> <span style=\"color: #c6c6c6; text-decoration-color: #c6c6c6; font-weight: bold\"> No mission name is given. Setting to UNKNOWN                                  </span><a href=\"file:///home/tobi/sw/threeML/threeML/utils/time_series/time_series.py\" target=\"_blank\"><span style=\"color: #7f7f7f; text-decoration-color: #7f7f7f\">time_series.py</span></a><span style=\"color: #7f7f7f; text-decoration-color: #7f7f7f\">:</span><a href=\"file:///home/tobi/sw/threeML/threeML/utils/time_series/time_series.py#150\" target=\"_blank\"><span style=\"color: #7f7f7f; text-decoration-color: #7f7f7f\">150</span></a>\n",
       "</pre>\n"
      ],
      "text/plain": [
       "\u001b[38;5;46m        \u001b[0m\u001b[38;5;46m \u001b[0m\u001b[38;5;134mWARNING \u001b[0m \u001b[1;38;5;251m No mission name is given. Setting to UNKNOWN                                 \u001b[0m\u001b[1;38;5;251m \u001b[0m\u001b]8;id=240480;file:///home/tobi/sw/threeML/threeML/utils/time_series/time_series.py\u001b\\\u001b[2mtime_series.py\u001b[0m\u001b]8;;\u001b\\\u001b[2m:\u001b[0m\u001b]8;id=259915;file:///home/tobi/sw/threeML/threeML/utils/time_series/time_series.py#150\u001b\\\u001b[2m150\u001b[0m\u001b]8;;\u001b\\\n"
      ]
     },
     "metadata": {},
     "output_type": "display_data"
    },
    {
     "data": {
      "text/html": [
       "<pre style=\"white-space:pre;overflow-x:auto;line-height:normal;font-family:Menlo,'DejaVu Sans Mono',consolas,'Courier New',monospace\"><span style=\"color: #00ff00; text-decoration-color: #00ff00\">         </span><span style=\"color: #af5fd7; text-decoration-color: #af5fd7\">WARNING </span> <span style=\"color: #c6c6c6; text-decoration-color: #c6c6c6; font-weight: bold\"> Minimum MC energy (</span><span style=\"color: #c0c0c0; text-decoration-color: #c0c0c0; font-weight: bold\">5.0</span><span style=\"color: #c6c6c6; text-decoration-color: #c6c6c6; font-weight: bold\">) is larger than minimum EBOUNDS energy                    </span><a href=\"file:///home/tobi/sw/threeML/threeML/utils/OGIP/response.py\" target=\"_blank\"><span style=\"color: #7f7f7f; text-decoration-color: #7f7f7f\">response.py</span></a><span style=\"color: #7f7f7f; text-decoration-color: #7f7f7f\">:</span><a href=\"file:///home/tobi/sw/threeML/threeML/utils/OGIP/response.py#137\" target=\"_blank\"><span style=\"color: #7f7f7f; text-decoration-color: #7f7f7f\">137</span></a>\n",
       "<span style=\"color: #00ff00; text-decoration-color: #00ff00\">         </span>         <span style=\"color: #c6c6c6; text-decoration-color: #c6c6c6; font-weight: bold\">(</span><span style=\"color: #c0c0c0; text-decoration-color: #c0c0c0; font-weight: bold\">3.4000000953674316</span><span style=\"color: #c6c6c6; text-decoration-color: #c6c6c6; font-weight: bold\">)                                                              </span><span style=\"color: #7f7f7f; text-decoration-color: #7f7f7f\">               </span>\n",
       "</pre>\n"
      ],
      "text/plain": [
       "\u001b[38;5;46m        \u001b[0m\u001b[38;5;46m \u001b[0m\u001b[38;5;134mWARNING \u001b[0m \u001b[1;38;5;251m Minimum MC energy \u001b[0m\u001b[1;38;5;251m(\u001b[0m\u001b[1;37m5.0\u001b[0m\u001b[1;38;5;251m)\u001b[0m\u001b[1;38;5;251m is larger than minimum EBOUNDS energy                   \u001b[0m\u001b[1;38;5;251m \u001b[0m\u001b]8;id=290161;file:///home/tobi/sw/threeML/threeML/utils/OGIP/response.py\u001b\\\u001b[2mresponse.py\u001b[0m\u001b]8;;\u001b\\\u001b[2m:\u001b[0m\u001b]8;id=917972;file:///home/tobi/sw/threeML/threeML/utils/OGIP/response.py#137\u001b\\\u001b[2m137\u001b[0m\u001b]8;;\u001b\\\n",
       "\u001b[38;5;46m         \u001b[0m         \u001b[1;38;5;251m(\u001b[0m\u001b[1;37m3.4000000953674316\u001b[0m\u001b[1;38;5;251m)\u001b[0m\u001b[1;38;5;251m                                                             \u001b[0m\u001b[1;38;5;251m \u001b[0m\u001b[2m               \u001b[0m\n"
      ]
     },
     "metadata": {},
     "output_type": "display_data"
    },
    {
     "data": {
      "text/html": [
       "<pre style=\"white-space:pre;overflow-x:auto;line-height:normal;font-family:Menlo,'DejaVu Sans Mono',consolas,'Courier New',monospace\"><span style=\"color: #00ff00; text-decoration-color: #00ff00\">         </span><span style=\"color: #af5fd7; text-decoration-color: #af5fd7\">WARNING </span> <span style=\"color: #c6c6c6; text-decoration-color: #c6c6c6; font-weight: bold\"> No instrument name is given. Setting to UNKNOWN                               </span><a href=\"file:///home/tobi/sw/threeML/threeML/utils/time_series/time_series.py\" target=\"_blank\"><span style=\"color: #7f7f7f; text-decoration-color: #7f7f7f\">time_series.py</span></a><span style=\"color: #7f7f7f; text-decoration-color: #7f7f7f\">:</span><a href=\"file:///home/tobi/sw/threeML/threeML/utils/time_series/time_series.py#140\" target=\"_blank\"><span style=\"color: #7f7f7f; text-decoration-color: #7f7f7f\">140</span></a>\n",
       "</pre>\n"
      ],
      "text/plain": [
       "\u001b[38;5;46m        \u001b[0m\u001b[38;5;46m \u001b[0m\u001b[38;5;134mWARNING \u001b[0m \u001b[1;38;5;251m No instrument name is given. Setting to UNKNOWN                              \u001b[0m\u001b[1;38;5;251m \u001b[0m\u001b]8;id=29014;file:///home/tobi/sw/threeML/threeML/utils/time_series/time_series.py\u001b\\\u001b[2mtime_series.py\u001b[0m\u001b]8;;\u001b\\\u001b[2m:\u001b[0m\u001b]8;id=609339;file:///home/tobi/sw/threeML/threeML/utils/time_series/time_series.py#140\u001b\\\u001b[2m140\u001b[0m\u001b]8;;\u001b\\\n"
      ]
     },
     "metadata": {},
     "output_type": "display_data"
    },
    {
     "data": {
      "text/html": [
       "<pre style=\"white-space:pre;overflow-x:auto;line-height:normal;font-family:Menlo,'DejaVu Sans Mono',consolas,'Courier New',monospace\"><span style=\"color: #00ff00; text-decoration-color: #00ff00\">         </span><span style=\"color: #af5fd7; text-decoration-color: #af5fd7\">WARNING </span> <span style=\"color: #c6c6c6; text-decoration-color: #c6c6c6; font-weight: bold\"> No mission name is given. Setting to UNKNOWN                                  </span><a href=\"file:///home/tobi/sw/threeML/threeML/utils/time_series/time_series.py\" target=\"_blank\"><span style=\"color: #7f7f7f; text-decoration-color: #7f7f7f\">time_series.py</span></a><span style=\"color: #7f7f7f; text-decoration-color: #7f7f7f\">:</span><a href=\"file:///home/tobi/sw/threeML/threeML/utils/time_series/time_series.py#150\" target=\"_blank\"><span style=\"color: #7f7f7f; text-decoration-color: #7f7f7f\">150</span></a>\n",
       "</pre>\n"
      ],
      "text/plain": [
       "\u001b[38;5;46m        \u001b[0m\u001b[38;5;46m \u001b[0m\u001b[38;5;134mWARNING \u001b[0m \u001b[1;38;5;251m No mission name is given. Setting to UNKNOWN                                 \u001b[0m\u001b[1;38;5;251m \u001b[0m\u001b]8;id=963071;file:///home/tobi/sw/threeML/threeML/utils/time_series/time_series.py\u001b\\\u001b[2mtime_series.py\u001b[0m\u001b]8;;\u001b\\\u001b[2m:\u001b[0m\u001b]8;id=145467;file:///home/tobi/sw/threeML/threeML/utils/time_series/time_series.py#150\u001b\\\u001b[2m150\u001b[0m\u001b]8;;\u001b\\\n"
      ]
     },
     "metadata": {},
     "output_type": "display_data"
    },
    {
     "data": {
      "text/html": [
       "<pre style=\"white-space:pre;overflow-x:auto;line-height:normal;font-family:Menlo,'DejaVu Sans Mono',consolas,'Courier New',monospace\"><span style=\"color: #00ff00; text-decoration-color: #00ff00\">         </span><span style=\"color: #af5fd7; text-decoration-color: #af5fd7\">WARNING </span> <span style=\"color: #c6c6c6; text-decoration-color: #c6c6c6; font-weight: bold\"> Minimum MC energy (</span><span style=\"color: #c0c0c0; text-decoration-color: #c0c0c0; font-weight: bold\">5.0</span><span style=\"color: #c6c6c6; text-decoration-color: #c6c6c6; font-weight: bold\">) is larger than minimum EBOUNDS energy                    </span><a href=\"file:///home/tobi/sw/threeML/threeML/utils/OGIP/response.py\" target=\"_blank\"><span style=\"color: #7f7f7f; text-decoration-color: #7f7f7f\">response.py</span></a><span style=\"color: #7f7f7f; text-decoration-color: #7f7f7f\">:</span><a href=\"file:///home/tobi/sw/threeML/threeML/utils/OGIP/response.py#137\" target=\"_blank\"><span style=\"color: #7f7f7f; text-decoration-color: #7f7f7f\">137</span></a>\n",
       "<span style=\"color: #00ff00; text-decoration-color: #00ff00\">         </span>         <span style=\"color: #c6c6c6; text-decoration-color: #c6c6c6; font-weight: bold\">(</span><span style=\"color: #c0c0c0; text-decoration-color: #c0c0c0; font-weight: bold\">3.4000000953674316</span><span style=\"color: #c6c6c6; text-decoration-color: #c6c6c6; font-weight: bold\">)                                                              </span><span style=\"color: #7f7f7f; text-decoration-color: #7f7f7f\">               </span>\n",
       "</pre>\n"
      ],
      "text/plain": [
       "\u001b[38;5;46m        \u001b[0m\u001b[38;5;46m \u001b[0m\u001b[38;5;134mWARNING \u001b[0m \u001b[1;38;5;251m Minimum MC energy \u001b[0m\u001b[1;38;5;251m(\u001b[0m\u001b[1;37m5.0\u001b[0m\u001b[1;38;5;251m)\u001b[0m\u001b[1;38;5;251m is larger than minimum EBOUNDS energy                   \u001b[0m\u001b[1;38;5;251m \u001b[0m\u001b]8;id=175044;file:///home/tobi/sw/threeML/threeML/utils/OGIP/response.py\u001b\\\u001b[2mresponse.py\u001b[0m\u001b]8;;\u001b\\\u001b[2m:\u001b[0m\u001b]8;id=898690;file:///home/tobi/sw/threeML/threeML/utils/OGIP/response.py#137\u001b\\\u001b[2m137\u001b[0m\u001b]8;;\u001b\\\n",
       "\u001b[38;5;46m         \u001b[0m         \u001b[1;38;5;251m(\u001b[0m\u001b[1;37m3.4000000953674316\u001b[0m\u001b[1;38;5;251m)\u001b[0m\u001b[1;38;5;251m                                                             \u001b[0m\u001b[1;38;5;251m \u001b[0m\u001b[2m               \u001b[0m\n"
      ]
     },
     "metadata": {},
     "output_type": "display_data"
    },
    {
     "data": {
      "text/html": [
       "<pre style=\"white-space:pre;overflow-x:auto;line-height:normal;font-family:Menlo,'DejaVu Sans Mono',consolas,'Courier New',monospace\"><span style=\"color: #00ff00; text-decoration-color: #00ff00\">         </span><span style=\"color: #af5fd7; text-decoration-color: #af5fd7\">WARNING </span> <span style=\"color: #c6c6c6; text-decoration-color: #c6c6c6; font-weight: bold\"> No instrument name is given. Setting to UNKNOWN                               </span><a href=\"file:///home/tobi/sw/threeML/threeML/utils/time_series/time_series.py\" target=\"_blank\"><span style=\"color: #7f7f7f; text-decoration-color: #7f7f7f\">time_series.py</span></a><span style=\"color: #7f7f7f; text-decoration-color: #7f7f7f\">:</span><a href=\"file:///home/tobi/sw/threeML/threeML/utils/time_series/time_series.py#140\" target=\"_blank\"><span style=\"color: #7f7f7f; text-decoration-color: #7f7f7f\">140</span></a>\n",
       "</pre>\n"
      ],
      "text/plain": [
       "\u001b[38;5;46m        \u001b[0m\u001b[38;5;46m \u001b[0m\u001b[38;5;134mWARNING \u001b[0m \u001b[1;38;5;251m No instrument name is given. Setting to UNKNOWN                              \u001b[0m\u001b[1;38;5;251m \u001b[0m\u001b]8;id=681613;file:///home/tobi/sw/threeML/threeML/utils/time_series/time_series.py\u001b\\\u001b[2mtime_series.py\u001b[0m\u001b]8;;\u001b\\\u001b[2m:\u001b[0m\u001b]8;id=246893;file:///home/tobi/sw/threeML/threeML/utils/time_series/time_series.py#140\u001b\\\u001b[2m140\u001b[0m\u001b]8;;\u001b\\\n"
      ]
     },
     "metadata": {},
     "output_type": "display_data"
    },
    {
     "data": {
      "text/html": [
       "<pre style=\"white-space:pre;overflow-x:auto;line-height:normal;font-family:Menlo,'DejaVu Sans Mono',consolas,'Courier New',monospace\"><span style=\"color: #00ff00; text-decoration-color: #00ff00\">         </span><span style=\"color: #af5fd7; text-decoration-color: #af5fd7\">WARNING </span> <span style=\"color: #c6c6c6; text-decoration-color: #c6c6c6; font-weight: bold\"> No mission name is given. Setting to UNKNOWN                                  </span><a href=\"file:///home/tobi/sw/threeML/threeML/utils/time_series/time_series.py\" target=\"_blank\"><span style=\"color: #7f7f7f; text-decoration-color: #7f7f7f\">time_series.py</span></a><span style=\"color: #7f7f7f; text-decoration-color: #7f7f7f\">:</span><a href=\"file:///home/tobi/sw/threeML/threeML/utils/time_series/time_series.py#150\" target=\"_blank\"><span style=\"color: #7f7f7f; text-decoration-color: #7f7f7f\">150</span></a>\n",
       "</pre>\n"
      ],
      "text/plain": [
       "\u001b[38;5;46m        \u001b[0m\u001b[38;5;46m \u001b[0m\u001b[38;5;134mWARNING \u001b[0m \u001b[1;38;5;251m No mission name is given. Setting to UNKNOWN                                 \u001b[0m\u001b[1;38;5;251m \u001b[0m\u001b]8;id=992238;file:///home/tobi/sw/threeML/threeML/utils/time_series/time_series.py\u001b\\\u001b[2mtime_series.py\u001b[0m\u001b]8;;\u001b\\\u001b[2m:\u001b[0m\u001b]8;id=97666;file:///home/tobi/sw/threeML/threeML/utils/time_series/time_series.py#150\u001b\\\u001b[2m150\u001b[0m\u001b]8;;\u001b\\\n"
      ]
     },
     "metadata": {},
     "output_type": "display_data"
    },
    {
     "data": {
      "text/html": [
       "<pre style=\"white-space:pre;overflow-x:auto;line-height:normal;font-family:Menlo,'DejaVu Sans Mono',consolas,'Courier New',monospace\"><span style=\"color: #00ff00; text-decoration-color: #00ff00\">16:03:36 </span><span style=\"color: #af5fd7; text-decoration-color: #af5fd7\">WARNING </span> <span style=\"color: #c6c6c6; text-decoration-color: #c6c6c6; font-weight: bold\"> Minimum MC energy (</span><span style=\"color: #c0c0c0; text-decoration-color: #c0c0c0; font-weight: bold\">5.0</span><span style=\"color: #c6c6c6; text-decoration-color: #c6c6c6; font-weight: bold\">) is larger than minimum EBOUNDS energy                    </span><a href=\"file:///home/tobi/sw/threeML/threeML/utils/OGIP/response.py\" target=\"_blank\"><span style=\"color: #7f7f7f; text-decoration-color: #7f7f7f\">response.py</span></a><span style=\"color: #7f7f7f; text-decoration-color: #7f7f7f\">:</span><a href=\"file:///home/tobi/sw/threeML/threeML/utils/OGIP/response.py#137\" target=\"_blank\"><span style=\"color: #7f7f7f; text-decoration-color: #7f7f7f\">137</span></a>\n",
       "<span style=\"color: #00ff00; text-decoration-color: #00ff00\">         </span>         <span style=\"color: #c6c6c6; text-decoration-color: #c6c6c6; font-weight: bold\">(</span><span style=\"color: #c0c0c0; text-decoration-color: #c0c0c0; font-weight: bold\">3.4000000953674316</span><span style=\"color: #c6c6c6; text-decoration-color: #c6c6c6; font-weight: bold\">)                                                              </span><span style=\"color: #7f7f7f; text-decoration-color: #7f7f7f\">               </span>\n",
       "</pre>\n"
      ],
      "text/plain": [
       "\u001b[38;5;46m16:03:36\u001b[0m\u001b[38;5;46m \u001b[0m\u001b[38;5;134mWARNING \u001b[0m \u001b[1;38;5;251m Minimum MC energy \u001b[0m\u001b[1;38;5;251m(\u001b[0m\u001b[1;37m5.0\u001b[0m\u001b[1;38;5;251m)\u001b[0m\u001b[1;38;5;251m is larger than minimum EBOUNDS energy                   \u001b[0m\u001b[1;38;5;251m \u001b[0m\u001b]8;id=736724;file:///home/tobi/sw/threeML/threeML/utils/OGIP/response.py\u001b\\\u001b[2mresponse.py\u001b[0m\u001b]8;;\u001b\\\u001b[2m:\u001b[0m\u001b]8;id=32680;file:///home/tobi/sw/threeML/threeML/utils/OGIP/response.py#137\u001b\\\u001b[2m137\u001b[0m\u001b]8;;\u001b\\\n",
       "\u001b[38;5;46m         \u001b[0m         \u001b[1;38;5;251m(\u001b[0m\u001b[1;37m3.4000000953674316\u001b[0m\u001b[1;38;5;251m)\u001b[0m\u001b[1;38;5;251m                                                             \u001b[0m\u001b[1;38;5;251m \u001b[0m\u001b[2m               \u001b[0m\n"
      ]
     },
     "metadata": {},
     "output_type": "display_data"
    },
    {
     "data": {
      "text/html": [
       "<pre style=\"white-space:pre;overflow-x:auto;line-height:normal;font-family:Menlo,'DejaVu Sans Mono',consolas,'Courier New',monospace\"><span style=\"color: #00ff00; text-decoration-color: #00ff00\">         </span><span style=\"color: #af5fd7; text-decoration-color: #af5fd7\">WARNING </span> <span style=\"color: #c6c6c6; text-decoration-color: #c6c6c6; font-weight: bold\"> No instrument name is given. Setting to UNKNOWN                               </span><a href=\"file:///home/tobi/sw/threeML/threeML/utils/time_series/time_series.py\" target=\"_blank\"><span style=\"color: #7f7f7f; text-decoration-color: #7f7f7f\">time_series.py</span></a><span style=\"color: #7f7f7f; text-decoration-color: #7f7f7f\">:</span><a href=\"file:///home/tobi/sw/threeML/threeML/utils/time_series/time_series.py#140\" target=\"_blank\"><span style=\"color: #7f7f7f; text-decoration-color: #7f7f7f\">140</span></a>\n",
       "</pre>\n"
      ],
      "text/plain": [
       "\u001b[38;5;46m        \u001b[0m\u001b[38;5;46m \u001b[0m\u001b[38;5;134mWARNING \u001b[0m \u001b[1;38;5;251m No instrument name is given. Setting to UNKNOWN                              \u001b[0m\u001b[1;38;5;251m \u001b[0m\u001b]8;id=456388;file:///home/tobi/sw/threeML/threeML/utils/time_series/time_series.py\u001b\\\u001b[2mtime_series.py\u001b[0m\u001b]8;;\u001b\\\u001b[2m:\u001b[0m\u001b]8;id=301422;file:///home/tobi/sw/threeML/threeML/utils/time_series/time_series.py#140\u001b\\\u001b[2m140\u001b[0m\u001b]8;;\u001b\\\n"
      ]
     },
     "metadata": {},
     "output_type": "display_data"
    },
    {
     "data": {
      "text/html": [
       "<pre style=\"white-space:pre;overflow-x:auto;line-height:normal;font-family:Menlo,'DejaVu Sans Mono',consolas,'Courier New',monospace\"><span style=\"color: #00ff00; text-decoration-color: #00ff00\">         </span><span style=\"color: #af5fd7; text-decoration-color: #af5fd7\">WARNING </span> <span style=\"color: #c6c6c6; text-decoration-color: #c6c6c6; font-weight: bold\"> No mission name is given. Setting to UNKNOWN                                  </span><a href=\"file:///home/tobi/sw/threeML/threeML/utils/time_series/time_series.py\" target=\"_blank\"><span style=\"color: #7f7f7f; text-decoration-color: #7f7f7f\">time_series.py</span></a><span style=\"color: #7f7f7f; text-decoration-color: #7f7f7f\">:</span><a href=\"file:///home/tobi/sw/threeML/threeML/utils/time_series/time_series.py#150\" target=\"_blank\"><span style=\"color: #7f7f7f; text-decoration-color: #7f7f7f\">150</span></a>\n",
       "</pre>\n"
      ],
      "text/plain": [
       "\u001b[38;5;46m        \u001b[0m\u001b[38;5;46m \u001b[0m\u001b[38;5;134mWARNING \u001b[0m \u001b[1;38;5;251m No mission name is given. Setting to UNKNOWN                                 \u001b[0m\u001b[1;38;5;251m \u001b[0m\u001b]8;id=810494;file:///home/tobi/sw/threeML/threeML/utils/time_series/time_series.py\u001b\\\u001b[2mtime_series.py\u001b[0m\u001b]8;;\u001b\\\u001b[2m:\u001b[0m\u001b]8;id=467778;file:///home/tobi/sw/threeML/threeML/utils/time_series/time_series.py#150\u001b\\\u001b[2m150\u001b[0m\u001b]8;;\u001b\\\n"
      ]
     },
     "metadata": {},
     "output_type": "display_data"
    },
    {
     "data": {
      "text/html": [
       "<pre style=\"white-space:pre;overflow-x:auto;line-height:normal;font-family:Menlo,'DejaVu Sans Mono',consolas,'Courier New',monospace\"><span style=\"color: #00ff00; text-decoration-color: #00ff00\">         </span><span style=\"color: #af5fd7; text-decoration-color: #af5fd7\">WARNING </span> <span style=\"color: #c6c6c6; text-decoration-color: #c6c6c6; font-weight: bold\"> Minimum MC energy (</span><span style=\"color: #c0c0c0; text-decoration-color: #c0c0c0; font-weight: bold\">5.0</span><span style=\"color: #c6c6c6; text-decoration-color: #c6c6c6; font-weight: bold\">) is larger than minimum EBOUNDS energy                    </span><a href=\"file:///home/tobi/sw/threeML/threeML/utils/OGIP/response.py\" target=\"_blank\"><span style=\"color: #7f7f7f; text-decoration-color: #7f7f7f\">response.py</span></a><span style=\"color: #7f7f7f; text-decoration-color: #7f7f7f\">:</span><a href=\"file:///home/tobi/sw/threeML/threeML/utils/OGIP/response.py#137\" target=\"_blank\"><span style=\"color: #7f7f7f; text-decoration-color: #7f7f7f\">137</span></a>\n",
       "<span style=\"color: #00ff00; text-decoration-color: #00ff00\">         </span>         <span style=\"color: #c6c6c6; text-decoration-color: #c6c6c6; font-weight: bold\">(</span><span style=\"color: #c0c0c0; text-decoration-color: #c0c0c0; font-weight: bold\">3.4000000953674316</span><span style=\"color: #c6c6c6; text-decoration-color: #c6c6c6; font-weight: bold\">)                                                              </span><span style=\"color: #7f7f7f; text-decoration-color: #7f7f7f\">               </span>\n",
       "</pre>\n"
      ],
      "text/plain": [
       "\u001b[38;5;46m        \u001b[0m\u001b[38;5;46m \u001b[0m\u001b[38;5;134mWARNING \u001b[0m \u001b[1;38;5;251m Minimum MC energy \u001b[0m\u001b[1;38;5;251m(\u001b[0m\u001b[1;37m5.0\u001b[0m\u001b[1;38;5;251m)\u001b[0m\u001b[1;38;5;251m is larger than minimum EBOUNDS energy                   \u001b[0m\u001b[1;38;5;251m \u001b[0m\u001b]8;id=19151;file:///home/tobi/sw/threeML/threeML/utils/OGIP/response.py\u001b\\\u001b[2mresponse.py\u001b[0m\u001b]8;;\u001b\\\u001b[2m:\u001b[0m\u001b]8;id=392061;file:///home/tobi/sw/threeML/threeML/utils/OGIP/response.py#137\u001b\\\u001b[2m137\u001b[0m\u001b]8;;\u001b\\\n",
       "\u001b[38;5;46m         \u001b[0m         \u001b[1;38;5;251m(\u001b[0m\u001b[1;37m3.4000000953674316\u001b[0m\u001b[1;38;5;251m)\u001b[0m\u001b[1;38;5;251m                                                             \u001b[0m\u001b[1;38;5;251m \u001b[0m\u001b[2m               \u001b[0m\n"
      ]
     },
     "metadata": {},
     "output_type": "display_data"
    },
    {
     "data": {
      "text/html": [
       "<pre style=\"white-space:pre;overflow-x:auto;line-height:normal;font-family:Menlo,'DejaVu Sans Mono',consolas,'Courier New',monospace\"><span style=\"color: #00ff00; text-decoration-color: #00ff00\">         </span><span style=\"color: #af5fd7; text-decoration-color: #af5fd7\">WARNING </span> <span style=\"color: #c6c6c6; text-decoration-color: #c6c6c6; font-weight: bold\"> No instrument name is given. Setting to UNKNOWN                               </span><a href=\"file:///home/tobi/sw/threeML/threeML/utils/time_series/time_series.py\" target=\"_blank\"><span style=\"color: #7f7f7f; text-decoration-color: #7f7f7f\">time_series.py</span></a><span style=\"color: #7f7f7f; text-decoration-color: #7f7f7f\">:</span><a href=\"file:///home/tobi/sw/threeML/threeML/utils/time_series/time_series.py#140\" target=\"_blank\"><span style=\"color: #7f7f7f; text-decoration-color: #7f7f7f\">140</span></a>\n",
       "</pre>\n"
      ],
      "text/plain": [
       "\u001b[38;5;46m        \u001b[0m\u001b[38;5;46m \u001b[0m\u001b[38;5;134mWARNING \u001b[0m \u001b[1;38;5;251m No instrument name is given. Setting to UNKNOWN                              \u001b[0m\u001b[1;38;5;251m \u001b[0m\u001b]8;id=189255;file:///home/tobi/sw/threeML/threeML/utils/time_series/time_series.py\u001b\\\u001b[2mtime_series.py\u001b[0m\u001b]8;;\u001b\\\u001b[2m:\u001b[0m\u001b]8;id=436086;file:///home/tobi/sw/threeML/threeML/utils/time_series/time_series.py#140\u001b\\\u001b[2m140\u001b[0m\u001b]8;;\u001b\\\n"
      ]
     },
     "metadata": {},
     "output_type": "display_data"
    },
    {
     "data": {
      "text/html": [
       "<pre style=\"white-space:pre;overflow-x:auto;line-height:normal;font-family:Menlo,'DejaVu Sans Mono',consolas,'Courier New',monospace\"><span style=\"color: #00ff00; text-decoration-color: #00ff00\">         </span><span style=\"color: #af5fd7; text-decoration-color: #af5fd7\">WARNING </span> <span style=\"color: #c6c6c6; text-decoration-color: #c6c6c6; font-weight: bold\"> No mission name is given. Setting to UNKNOWN                                  </span><a href=\"file:///home/tobi/sw/threeML/threeML/utils/time_series/time_series.py\" target=\"_blank\"><span style=\"color: #7f7f7f; text-decoration-color: #7f7f7f\">time_series.py</span></a><span style=\"color: #7f7f7f; text-decoration-color: #7f7f7f\">:</span><a href=\"file:///home/tobi/sw/threeML/threeML/utils/time_series/time_series.py#150\" target=\"_blank\"><span style=\"color: #7f7f7f; text-decoration-color: #7f7f7f\">150</span></a>\n",
       "</pre>\n"
      ],
      "text/plain": [
       "\u001b[38;5;46m        \u001b[0m\u001b[38;5;46m \u001b[0m\u001b[38;5;134mWARNING \u001b[0m \u001b[1;38;5;251m No mission name is given. Setting to UNKNOWN                                 \u001b[0m\u001b[1;38;5;251m \u001b[0m\u001b]8;id=290966;file:///home/tobi/sw/threeML/threeML/utils/time_series/time_series.py\u001b\\\u001b[2mtime_series.py\u001b[0m\u001b]8;;\u001b\\\u001b[2m:\u001b[0m\u001b]8;id=522018;file:///home/tobi/sw/threeML/threeML/utils/time_series/time_series.py#150\u001b\\\u001b[2m150\u001b[0m\u001b]8;;\u001b\\\n"
      ]
     },
     "metadata": {},
     "output_type": "display_data"
    },
    {
     "data": {
      "text/html": [
       "<pre style=\"white-space:pre;overflow-x:auto;line-height:normal;font-family:Menlo,'DejaVu Sans Mono',consolas,'Courier New',monospace\"><span style=\"color: #00ff00; text-decoration-color: #00ff00\">         </span><span style=\"color: #af5fd7; text-decoration-color: #af5fd7\">WARNING </span> <span style=\"color: #c6c6c6; text-decoration-color: #c6c6c6; font-weight: bold\"> Minimum MC energy (</span><span style=\"color: #c0c0c0; text-decoration-color: #c0c0c0; font-weight: bold\">5.0</span><span style=\"color: #c6c6c6; text-decoration-color: #c6c6c6; font-weight: bold\">) is larger than minimum EBOUNDS energy                    </span><a href=\"file:///home/tobi/sw/threeML/threeML/utils/OGIP/response.py\" target=\"_blank\"><span style=\"color: #7f7f7f; text-decoration-color: #7f7f7f\">response.py</span></a><span style=\"color: #7f7f7f; text-decoration-color: #7f7f7f\">:</span><a href=\"file:///home/tobi/sw/threeML/threeML/utils/OGIP/response.py#137\" target=\"_blank\"><span style=\"color: #7f7f7f; text-decoration-color: #7f7f7f\">137</span></a>\n",
       "<span style=\"color: #00ff00; text-decoration-color: #00ff00\">         </span>         <span style=\"color: #c6c6c6; text-decoration-color: #c6c6c6; font-weight: bold\">(</span><span style=\"color: #c0c0c0; text-decoration-color: #c0c0c0; font-weight: bold\">3.4000000953674316</span><span style=\"color: #c6c6c6; text-decoration-color: #c6c6c6; font-weight: bold\">)                                                              </span><span style=\"color: #7f7f7f; text-decoration-color: #7f7f7f\">               </span>\n",
       "</pre>\n"
      ],
      "text/plain": [
       "\u001b[38;5;46m        \u001b[0m\u001b[38;5;46m \u001b[0m\u001b[38;5;134mWARNING \u001b[0m \u001b[1;38;5;251m Minimum MC energy \u001b[0m\u001b[1;38;5;251m(\u001b[0m\u001b[1;37m5.0\u001b[0m\u001b[1;38;5;251m)\u001b[0m\u001b[1;38;5;251m is larger than minimum EBOUNDS energy                   \u001b[0m\u001b[1;38;5;251m \u001b[0m\u001b]8;id=168455;file:///home/tobi/sw/threeML/threeML/utils/OGIP/response.py\u001b\\\u001b[2mresponse.py\u001b[0m\u001b]8;;\u001b\\\u001b[2m:\u001b[0m\u001b]8;id=73053;file:///home/tobi/sw/threeML/threeML/utils/OGIP/response.py#137\u001b\\\u001b[2m137\u001b[0m\u001b]8;;\u001b\\\n",
       "\u001b[38;5;46m         \u001b[0m         \u001b[1;38;5;251m(\u001b[0m\u001b[1;37m3.4000000953674316\u001b[0m\u001b[1;38;5;251m)\u001b[0m\u001b[1;38;5;251m                                                             \u001b[0m\u001b[1;38;5;251m \u001b[0m\u001b[2m               \u001b[0m\n"
      ]
     },
     "metadata": {},
     "output_type": "display_data"
    },
    {
     "data": {
      "text/html": [
       "<pre style=\"white-space:pre;overflow-x:auto;line-height:normal;font-family:Menlo,'DejaVu Sans Mono',consolas,'Courier New',monospace\"><span style=\"color: #00ff00; text-decoration-color: #00ff00\">         </span><span style=\"color: #af5fd7; text-decoration-color: #af5fd7\">WARNING </span> <span style=\"color: #c6c6c6; text-decoration-color: #c6c6c6; font-weight: bold\"> No instrument name is given. Setting to UNKNOWN                               </span><a href=\"file:///home/tobi/sw/threeML/threeML/utils/time_series/time_series.py\" target=\"_blank\"><span style=\"color: #7f7f7f; text-decoration-color: #7f7f7f\">time_series.py</span></a><span style=\"color: #7f7f7f; text-decoration-color: #7f7f7f\">:</span><a href=\"file:///home/tobi/sw/threeML/threeML/utils/time_series/time_series.py#140\" target=\"_blank\"><span style=\"color: #7f7f7f; text-decoration-color: #7f7f7f\">140</span></a>\n",
       "</pre>\n"
      ],
      "text/plain": [
       "\u001b[38;5;46m        \u001b[0m\u001b[38;5;46m \u001b[0m\u001b[38;5;134mWARNING \u001b[0m \u001b[1;38;5;251m No instrument name is given. Setting to UNKNOWN                              \u001b[0m\u001b[1;38;5;251m \u001b[0m\u001b]8;id=664513;file:///home/tobi/sw/threeML/threeML/utils/time_series/time_series.py\u001b\\\u001b[2mtime_series.py\u001b[0m\u001b]8;;\u001b\\\u001b[2m:\u001b[0m\u001b]8;id=798595;file:///home/tobi/sw/threeML/threeML/utils/time_series/time_series.py#140\u001b\\\u001b[2m140\u001b[0m\u001b]8;;\u001b\\\n"
      ]
     },
     "metadata": {},
     "output_type": "display_data"
    },
    {
     "data": {
      "text/html": [
       "<pre style=\"white-space:pre;overflow-x:auto;line-height:normal;font-family:Menlo,'DejaVu Sans Mono',consolas,'Courier New',monospace\"><span style=\"color: #00ff00; text-decoration-color: #00ff00\">         </span><span style=\"color: #af5fd7; text-decoration-color: #af5fd7\">WARNING </span> <span style=\"color: #c6c6c6; text-decoration-color: #c6c6c6; font-weight: bold\"> No mission name is given. Setting to UNKNOWN                                  </span><a href=\"file:///home/tobi/sw/threeML/threeML/utils/time_series/time_series.py\" target=\"_blank\"><span style=\"color: #7f7f7f; text-decoration-color: #7f7f7f\">time_series.py</span></a><span style=\"color: #7f7f7f; text-decoration-color: #7f7f7f\">:</span><a href=\"file:///home/tobi/sw/threeML/threeML/utils/time_series/time_series.py#150\" target=\"_blank\"><span style=\"color: #7f7f7f; text-decoration-color: #7f7f7f\">150</span></a>\n",
       "</pre>\n"
      ],
      "text/plain": [
       "\u001b[38;5;46m        \u001b[0m\u001b[38;5;46m \u001b[0m\u001b[38;5;134mWARNING \u001b[0m \u001b[1;38;5;251m No mission name is given. Setting to UNKNOWN                                 \u001b[0m\u001b[1;38;5;251m \u001b[0m\u001b]8;id=82158;file:///home/tobi/sw/threeML/threeML/utils/time_series/time_series.py\u001b\\\u001b[2mtime_series.py\u001b[0m\u001b]8;;\u001b\\\u001b[2m:\u001b[0m\u001b]8;id=15230;file:///home/tobi/sw/threeML/threeML/utils/time_series/time_series.py#150\u001b\\\u001b[2m150\u001b[0m\u001b]8;;\u001b\\\n"
      ]
     },
     "metadata": {},
     "output_type": "display_data"
    },
    {
     "data": {
      "text/html": [
       "<pre style=\"white-space:pre;overflow-x:auto;line-height:normal;font-family:Menlo,'DejaVu Sans Mono',consolas,'Courier New',monospace\"><span style=\"color: #00ff00; text-decoration-color: #00ff00\">16:03:37 </span><span style=\"color: #af5fd7; text-decoration-color: #af5fd7\">WARNING </span> <span style=\"color: #c6c6c6; text-decoration-color: #c6c6c6; font-weight: bold\"> Minimum MC energy (</span><span style=\"color: #c0c0c0; text-decoration-color: #c0c0c0; font-weight: bold\">5.0</span><span style=\"color: #c6c6c6; text-decoration-color: #c6c6c6; font-weight: bold\">) is larger than minimum EBOUNDS energy                    </span><a href=\"file:///home/tobi/sw/threeML/threeML/utils/OGIP/response.py\" target=\"_blank\"><span style=\"color: #7f7f7f; text-decoration-color: #7f7f7f\">response.py</span></a><span style=\"color: #7f7f7f; text-decoration-color: #7f7f7f\">:</span><a href=\"file:///home/tobi/sw/threeML/threeML/utils/OGIP/response.py#137\" target=\"_blank\"><span style=\"color: #7f7f7f; text-decoration-color: #7f7f7f\">137</span></a>\n",
       "<span style=\"color: #00ff00; text-decoration-color: #00ff00\">         </span>         <span style=\"color: #c6c6c6; text-decoration-color: #c6c6c6; font-weight: bold\">(</span><span style=\"color: #c0c0c0; text-decoration-color: #c0c0c0; font-weight: bold\">3.4000000953674316</span><span style=\"color: #c6c6c6; text-decoration-color: #c6c6c6; font-weight: bold\">)                                                              </span><span style=\"color: #7f7f7f; text-decoration-color: #7f7f7f\">               </span>\n",
       "</pre>\n"
      ],
      "text/plain": [
       "\u001b[38;5;46m16:03:37\u001b[0m\u001b[38;5;46m \u001b[0m\u001b[38;5;134mWARNING \u001b[0m \u001b[1;38;5;251m Minimum MC energy \u001b[0m\u001b[1;38;5;251m(\u001b[0m\u001b[1;37m5.0\u001b[0m\u001b[1;38;5;251m)\u001b[0m\u001b[1;38;5;251m is larger than minimum EBOUNDS energy                   \u001b[0m\u001b[1;38;5;251m \u001b[0m\u001b]8;id=408100;file:///home/tobi/sw/threeML/threeML/utils/OGIP/response.py\u001b\\\u001b[2mresponse.py\u001b[0m\u001b]8;;\u001b\\\u001b[2m:\u001b[0m\u001b]8;id=486119;file:///home/tobi/sw/threeML/threeML/utils/OGIP/response.py#137\u001b\\\u001b[2m137\u001b[0m\u001b]8;;\u001b\\\n",
       "\u001b[38;5;46m         \u001b[0m         \u001b[1;38;5;251m(\u001b[0m\u001b[1;37m3.4000000953674316\u001b[0m\u001b[1;38;5;251m)\u001b[0m\u001b[1;38;5;251m                                                             \u001b[0m\u001b[1;38;5;251m \u001b[0m\u001b[2m               \u001b[0m\n"
      ]
     },
     "metadata": {},
     "output_type": "display_data"
    },
    {
     "data": {
      "text/html": [
       "<pre style=\"white-space:pre;overflow-x:auto;line-height:normal;font-family:Menlo,'DejaVu Sans Mono',consolas,'Courier New',monospace\"><span style=\"color: #00ff00; text-decoration-color: #00ff00\">         </span><span style=\"color: #af5fd7; text-decoration-color: #af5fd7\">WARNING </span> <span style=\"color: #c6c6c6; text-decoration-color: #c6c6c6; font-weight: bold\"> No instrument name is given. Setting to UNKNOWN                               </span><a href=\"file:///home/tobi/sw/threeML/threeML/utils/time_series/time_series.py\" target=\"_blank\"><span style=\"color: #7f7f7f; text-decoration-color: #7f7f7f\">time_series.py</span></a><span style=\"color: #7f7f7f; text-decoration-color: #7f7f7f\">:</span><a href=\"file:///home/tobi/sw/threeML/threeML/utils/time_series/time_series.py#140\" target=\"_blank\"><span style=\"color: #7f7f7f; text-decoration-color: #7f7f7f\">140</span></a>\n",
       "</pre>\n"
      ],
      "text/plain": [
       "\u001b[38;5;46m        \u001b[0m\u001b[38;5;46m \u001b[0m\u001b[38;5;134mWARNING \u001b[0m \u001b[1;38;5;251m No instrument name is given. Setting to UNKNOWN                              \u001b[0m\u001b[1;38;5;251m \u001b[0m\u001b]8;id=788180;file:///home/tobi/sw/threeML/threeML/utils/time_series/time_series.py\u001b\\\u001b[2mtime_series.py\u001b[0m\u001b]8;;\u001b\\\u001b[2m:\u001b[0m\u001b]8;id=203041;file:///home/tobi/sw/threeML/threeML/utils/time_series/time_series.py#140\u001b\\\u001b[2m140\u001b[0m\u001b]8;;\u001b\\\n"
      ]
     },
     "metadata": {},
     "output_type": "display_data"
    },
    {
     "data": {
      "text/html": [
       "<pre style=\"white-space:pre;overflow-x:auto;line-height:normal;font-family:Menlo,'DejaVu Sans Mono',consolas,'Courier New',monospace\"><span style=\"color: #00ff00; text-decoration-color: #00ff00\">         </span><span style=\"color: #af5fd7; text-decoration-color: #af5fd7\">WARNING </span> <span style=\"color: #c6c6c6; text-decoration-color: #c6c6c6; font-weight: bold\"> No mission name is given. Setting to UNKNOWN                                  </span><a href=\"file:///home/tobi/sw/threeML/threeML/utils/time_series/time_series.py\" target=\"_blank\"><span style=\"color: #7f7f7f; text-decoration-color: #7f7f7f\">time_series.py</span></a><span style=\"color: #7f7f7f; text-decoration-color: #7f7f7f\">:</span><a href=\"file:///home/tobi/sw/threeML/threeML/utils/time_series/time_series.py#150\" target=\"_blank\"><span style=\"color: #7f7f7f; text-decoration-color: #7f7f7f\">150</span></a>\n",
       "</pre>\n"
      ],
      "text/plain": [
       "\u001b[38;5;46m        \u001b[0m\u001b[38;5;46m \u001b[0m\u001b[38;5;134mWARNING \u001b[0m \u001b[1;38;5;251m No mission name is given. Setting to UNKNOWN                                 \u001b[0m\u001b[1;38;5;251m \u001b[0m\u001b]8;id=822051;file:///home/tobi/sw/threeML/threeML/utils/time_series/time_series.py\u001b\\\u001b[2mtime_series.py\u001b[0m\u001b]8;;\u001b\\\u001b[2m:\u001b[0m\u001b]8;id=546420;file:///home/tobi/sw/threeML/threeML/utils/time_series/time_series.py#150\u001b\\\u001b[2m150\u001b[0m\u001b]8;;\u001b\\\n"
      ]
     },
     "metadata": {},
     "output_type": "display_data"
    },
    {
     "data": {
      "text/html": [
       "<pre style=\"white-space:pre;overflow-x:auto;line-height:normal;font-family:Menlo,'DejaVu Sans Mono',consolas,'Courier New',monospace\"><span style=\"color: #00ff00; text-decoration-color: #00ff00\">         </span><span style=\"color: #af5fd7; text-decoration-color: #af5fd7\">WARNING </span> <span style=\"color: #c6c6c6; text-decoration-color: #c6c6c6; font-weight: bold\"> Minimum MC energy (</span><span style=\"color: #c0c0c0; text-decoration-color: #c0c0c0; font-weight: bold\">5.0</span><span style=\"color: #c6c6c6; text-decoration-color: #c6c6c6; font-weight: bold\">) is larger than minimum EBOUNDS energy                    </span><a href=\"file:///home/tobi/sw/threeML/threeML/utils/OGIP/response.py\" target=\"_blank\"><span style=\"color: #7f7f7f; text-decoration-color: #7f7f7f\">response.py</span></a><span style=\"color: #7f7f7f; text-decoration-color: #7f7f7f\">:</span><a href=\"file:///home/tobi/sw/threeML/threeML/utils/OGIP/response.py#137\" target=\"_blank\"><span style=\"color: #7f7f7f; text-decoration-color: #7f7f7f\">137</span></a>\n",
       "<span style=\"color: #00ff00; text-decoration-color: #00ff00\">         </span>         <span style=\"color: #c6c6c6; text-decoration-color: #c6c6c6; font-weight: bold\">(</span><span style=\"color: #c0c0c0; text-decoration-color: #c0c0c0; font-weight: bold\">3.4000000953674316</span><span style=\"color: #c6c6c6; text-decoration-color: #c6c6c6; font-weight: bold\">)                                                              </span><span style=\"color: #7f7f7f; text-decoration-color: #7f7f7f\">               </span>\n",
       "</pre>\n"
      ],
      "text/plain": [
       "\u001b[38;5;46m        \u001b[0m\u001b[38;5;46m \u001b[0m\u001b[38;5;134mWARNING \u001b[0m \u001b[1;38;5;251m Minimum MC energy \u001b[0m\u001b[1;38;5;251m(\u001b[0m\u001b[1;37m5.0\u001b[0m\u001b[1;38;5;251m)\u001b[0m\u001b[1;38;5;251m is larger than minimum EBOUNDS energy                   \u001b[0m\u001b[1;38;5;251m \u001b[0m\u001b]8;id=885528;file:///home/tobi/sw/threeML/threeML/utils/OGIP/response.py\u001b\\\u001b[2mresponse.py\u001b[0m\u001b]8;;\u001b\\\u001b[2m:\u001b[0m\u001b]8;id=286577;file:///home/tobi/sw/threeML/threeML/utils/OGIP/response.py#137\u001b\\\u001b[2m137\u001b[0m\u001b]8;;\u001b\\\n",
       "\u001b[38;5;46m         \u001b[0m         \u001b[1;38;5;251m(\u001b[0m\u001b[1;37m3.4000000953674316\u001b[0m\u001b[1;38;5;251m)\u001b[0m\u001b[1;38;5;251m                                                             \u001b[0m\u001b[1;38;5;251m \u001b[0m\u001b[2m               \u001b[0m\n"
      ]
     },
     "metadata": {},
     "output_type": "display_data"
    },
    {
     "data": {
      "text/html": [
       "<pre style=\"white-space:pre;overflow-x:auto;line-height:normal;font-family:Menlo,'DejaVu Sans Mono',consolas,'Courier New',monospace\"><span style=\"color: #00ff00; text-decoration-color: #00ff00\">         </span><span style=\"color: #af5fd7; text-decoration-color: #af5fd7\">WARNING </span> <span style=\"color: #c6c6c6; text-decoration-color: #c6c6c6; font-weight: bold\"> No instrument name is given. Setting to UNKNOWN                               </span><a href=\"file:///home/tobi/sw/threeML/threeML/utils/time_series/time_series.py\" target=\"_blank\"><span style=\"color: #7f7f7f; text-decoration-color: #7f7f7f\">time_series.py</span></a><span style=\"color: #7f7f7f; text-decoration-color: #7f7f7f\">:</span><a href=\"file:///home/tobi/sw/threeML/threeML/utils/time_series/time_series.py#140\" target=\"_blank\"><span style=\"color: #7f7f7f; text-decoration-color: #7f7f7f\">140</span></a>\n",
       "</pre>\n"
      ],
      "text/plain": [
       "\u001b[38;5;46m        \u001b[0m\u001b[38;5;46m \u001b[0m\u001b[38;5;134mWARNING \u001b[0m \u001b[1;38;5;251m No instrument name is given. Setting to UNKNOWN                              \u001b[0m\u001b[1;38;5;251m \u001b[0m\u001b]8;id=692517;file:///home/tobi/sw/threeML/threeML/utils/time_series/time_series.py\u001b\\\u001b[2mtime_series.py\u001b[0m\u001b]8;;\u001b\\\u001b[2m:\u001b[0m\u001b]8;id=585180;file:///home/tobi/sw/threeML/threeML/utils/time_series/time_series.py#140\u001b\\\u001b[2m140\u001b[0m\u001b]8;;\u001b\\\n"
      ]
     },
     "metadata": {},
     "output_type": "display_data"
    },
    {
     "data": {
      "text/html": [
       "<pre style=\"white-space:pre;overflow-x:auto;line-height:normal;font-family:Menlo,'DejaVu Sans Mono',consolas,'Courier New',monospace\"><span style=\"color: #00ff00; text-decoration-color: #00ff00\">         </span><span style=\"color: #af5fd7; text-decoration-color: #af5fd7\">WARNING </span> <span style=\"color: #c6c6c6; text-decoration-color: #c6c6c6; font-weight: bold\"> No mission name is given. Setting to UNKNOWN                                  </span><a href=\"file:///home/tobi/sw/threeML/threeML/utils/time_series/time_series.py\" target=\"_blank\"><span style=\"color: #7f7f7f; text-decoration-color: #7f7f7f\">time_series.py</span></a><span style=\"color: #7f7f7f; text-decoration-color: #7f7f7f\">:</span><a href=\"file:///home/tobi/sw/threeML/threeML/utils/time_series/time_series.py#150\" target=\"_blank\"><span style=\"color: #7f7f7f; text-decoration-color: #7f7f7f\">150</span></a>\n",
       "</pre>\n"
      ],
      "text/plain": [
       "\u001b[38;5;46m        \u001b[0m\u001b[38;5;46m \u001b[0m\u001b[38;5;134mWARNING \u001b[0m \u001b[1;38;5;251m No mission name is given. Setting to UNKNOWN                                 \u001b[0m\u001b[1;38;5;251m \u001b[0m\u001b]8;id=301115;file:///home/tobi/sw/threeML/threeML/utils/time_series/time_series.py\u001b\\\u001b[2mtime_series.py\u001b[0m\u001b]8;;\u001b\\\u001b[2m:\u001b[0m\u001b]8;id=619788;file:///home/tobi/sw/threeML/threeML/utils/time_series/time_series.py#150\u001b\\\u001b[2m150\u001b[0m\u001b]8;;\u001b\\\n"
      ]
     },
     "metadata": {},
     "output_type": "display_data"
    },
    {
     "data": {
      "text/html": [
       "<pre style=\"white-space:pre;overflow-x:auto;line-height:normal;font-family:Menlo,'DejaVu Sans Mono',consolas,'Courier New',monospace\"><span style=\"color: #00ff00; text-decoration-color: #00ff00\">         </span><span style=\"color: #af5fd7; text-decoration-color: #af5fd7\">WARNING </span> <span style=\"color: #c6c6c6; text-decoration-color: #c6c6c6; font-weight: bold\"> No instrument name is given. Setting to UNKNOWN                               </span><a href=\"file:///home/tobi/sw/threeML/threeML/utils/time_series/time_series.py\" target=\"_blank\"><span style=\"color: #7f7f7f; text-decoration-color: #7f7f7f\">time_series.py</span></a><span style=\"color: #7f7f7f; text-decoration-color: #7f7f7f\">:</span><a href=\"file:///home/tobi/sw/threeML/threeML/utils/time_series/time_series.py#140\" target=\"_blank\"><span style=\"color: #7f7f7f; text-decoration-color: #7f7f7f\">140</span></a>\n",
       "</pre>\n"
      ],
      "text/plain": [
       "\u001b[38;5;46m        \u001b[0m\u001b[38;5;46m \u001b[0m\u001b[38;5;134mWARNING \u001b[0m \u001b[1;38;5;251m No instrument name is given. Setting to UNKNOWN                              \u001b[0m\u001b[1;38;5;251m \u001b[0m\u001b]8;id=121031;file:///home/tobi/sw/threeML/threeML/utils/time_series/time_series.py\u001b\\\u001b[2mtime_series.py\u001b[0m\u001b]8;;\u001b\\\u001b[2m:\u001b[0m\u001b]8;id=23809;file:///home/tobi/sw/threeML/threeML/utils/time_series/time_series.py#140\u001b\\\u001b[2m140\u001b[0m\u001b]8;;\u001b\\\n"
      ]
     },
     "metadata": {},
     "output_type": "display_data"
    },
    {
     "data": {
      "text/html": [
       "<pre style=\"white-space:pre;overflow-x:auto;line-height:normal;font-family:Menlo,'DejaVu Sans Mono',consolas,'Courier New',monospace\"><span style=\"color: #00ff00; text-decoration-color: #00ff00\">         </span><span style=\"color: #af5fd7; text-decoration-color: #af5fd7\">WARNING </span> <span style=\"color: #c6c6c6; text-decoration-color: #c6c6c6; font-weight: bold\"> No mission name is given. Setting to UNKNOWN                                  </span><a href=\"file:///home/tobi/sw/threeML/threeML/utils/time_series/time_series.py\" target=\"_blank\"><span style=\"color: #7f7f7f; text-decoration-color: #7f7f7f\">time_series.py</span></a><span style=\"color: #7f7f7f; text-decoration-color: #7f7f7f\">:</span><a href=\"file:///home/tobi/sw/threeML/threeML/utils/time_series/time_series.py#150\" target=\"_blank\"><span style=\"color: #7f7f7f; text-decoration-color: #7f7f7f\">150</span></a>\n",
       "</pre>\n"
      ],
      "text/plain": [
       "\u001b[38;5;46m        \u001b[0m\u001b[38;5;46m \u001b[0m\u001b[38;5;134mWARNING \u001b[0m \u001b[1;38;5;251m No mission name is given. Setting to UNKNOWN                                 \u001b[0m\u001b[1;38;5;251m \u001b[0m\u001b]8;id=323467;file:///home/tobi/sw/threeML/threeML/utils/time_series/time_series.py\u001b\\\u001b[2mtime_series.py\u001b[0m\u001b]8;;\u001b\\\u001b[2m:\u001b[0m\u001b]8;id=453973;file:///home/tobi/sw/threeML/threeML/utils/time_series/time_series.py#150\u001b\\\u001b[2m150\u001b[0m\u001b]8;;\u001b\\\n"
      ]
     },
     "metadata": {},
     "output_type": "display_data"
    },
    {
     "data": {
      "text/html": [
       "<pre style=\"white-space:pre;overflow-x:auto;line-height:normal;font-family:Menlo,'DejaVu Sans Mono',consolas,'Courier New',monospace\"><span style=\"color: #00ff00; text-decoration-color: #00ff00\">         </span><span style=\"color: #af5fd7; text-decoration-color: #af5fd7\">WARNING </span> <span style=\"color: #c6c6c6; text-decoration-color: #c6c6c6; font-weight: bold\"> No instrument name is given. Setting to UNKNOWN                               </span><a href=\"file:///home/tobi/sw/threeML/threeML/utils/time_series/time_series.py\" target=\"_blank\"><span style=\"color: #7f7f7f; text-decoration-color: #7f7f7f\">time_series.py</span></a><span style=\"color: #7f7f7f; text-decoration-color: #7f7f7f\">:</span><a href=\"file:///home/tobi/sw/threeML/threeML/utils/time_series/time_series.py#140\" target=\"_blank\"><span style=\"color: #7f7f7f; text-decoration-color: #7f7f7f\">140</span></a>\n",
       "</pre>\n"
      ],
      "text/plain": [
       "\u001b[38;5;46m        \u001b[0m\u001b[38;5;46m \u001b[0m\u001b[38;5;134mWARNING \u001b[0m \u001b[1;38;5;251m No instrument name is given. Setting to UNKNOWN                              \u001b[0m\u001b[1;38;5;251m \u001b[0m\u001b]8;id=871148;file:///home/tobi/sw/threeML/threeML/utils/time_series/time_series.py\u001b\\\u001b[2mtime_series.py\u001b[0m\u001b]8;;\u001b\\\u001b[2m:\u001b[0m\u001b]8;id=328444;file:///home/tobi/sw/threeML/threeML/utils/time_series/time_series.py#140\u001b\\\u001b[2m140\u001b[0m\u001b]8;;\u001b\\\n"
      ]
     },
     "metadata": {},
     "output_type": "display_data"
    },
    {
     "data": {
      "text/html": [
       "<pre style=\"white-space:pre;overflow-x:auto;line-height:normal;font-family:Menlo,'DejaVu Sans Mono',consolas,'Courier New',monospace\"><span style=\"color: #00ff00; text-decoration-color: #00ff00\">         </span><span style=\"color: #af5fd7; text-decoration-color: #af5fd7\">WARNING </span> <span style=\"color: #c6c6c6; text-decoration-color: #c6c6c6; font-weight: bold\"> No mission name is given. Setting to UNKNOWN                                  </span><a href=\"file:///home/tobi/sw/threeML/threeML/utils/time_series/time_series.py\" target=\"_blank\"><span style=\"color: #7f7f7f; text-decoration-color: #7f7f7f\">time_series.py</span></a><span style=\"color: #7f7f7f; text-decoration-color: #7f7f7f\">:</span><a href=\"file:///home/tobi/sw/threeML/threeML/utils/time_series/time_series.py#150\" target=\"_blank\"><span style=\"color: #7f7f7f; text-decoration-color: #7f7f7f\">150</span></a>\n",
       "</pre>\n"
      ],
      "text/plain": [
       "\u001b[38;5;46m        \u001b[0m\u001b[38;5;46m \u001b[0m\u001b[38;5;134mWARNING \u001b[0m \u001b[1;38;5;251m No mission name is given. Setting to UNKNOWN                                 \u001b[0m\u001b[1;38;5;251m \u001b[0m\u001b]8;id=337632;file:///home/tobi/sw/threeML/threeML/utils/time_series/time_series.py\u001b\\\u001b[2mtime_series.py\u001b[0m\u001b]8;;\u001b\\\u001b[2m:\u001b[0m\u001b]8;id=406352;file:///home/tobi/sw/threeML/threeML/utils/time_series/time_series.py#150\u001b\\\u001b[2m150\u001b[0m\u001b]8;;\u001b\\\n"
      ]
     },
     "metadata": {},
     "output_type": "display_data"
    },
    {
     "name": "stdout",
     "output_type": "stream",
     "text": [
      "Run Timeselection for detector n0\n",
      "Lets mess things up for n0\n",
      "Set trigger time for det n0 to -0.256--0.128\n"
     ]
    },
    {
     "name": "stderr",
     "output_type": "stream",
     "text": [
      "\n",
      "WARNING RuntimeWarning: divide by zero encountered in log\n",
      "\n",
      "\n",
      "WARNING RuntimeWarning: invalid value encountered in multiply\n",
      "\n"
     ]
    },
    {
     "data": {
      "application/vnd.jupyter.widget-view+json": {
       "model_id": "332d861a8900456087ba4ac5ed6c1b90",
       "version_major": 2,
       "version_minor": 0
      },
      "text/plain": [
       "Finding best polynomial Order:   0%|                      | 0/5 [00:00<?, ?it/s]"
      ]
     },
     "metadata": {},
     "output_type": "display_data"
    },
    {
     "data": {
      "text/html": [
       "<pre style=\"white-space:pre;overflow-x:auto;line-height:normal;font-family:Menlo,'DejaVu Sans Mono',consolas,'Courier New',monospace\"><span style=\"color: #00ff00; text-decoration-color: #00ff00\">16:03:40 </span><span style=\"color: #00ffaf; text-decoration-color: #00ffaf\">INFO    </span> <span style=\"color: #c6c6c6; text-decoration-color: #c6c6c6; font-weight: bold\"> Auto-determined polynomial order: </span><span style=\"color: #c0c0c0; text-decoration-color: #c0c0c0; font-weight: bold\">0</span><span style=\"color: #c6c6c6; text-decoration-color: #c6c6c6; font-weight: bold\">                                </span><a href=\"file:///home/tobi/sw/threeML/threeML/utils/time_series/binned_spectrum_series.py\" target=\"_blank\"><span style=\"color: #7f7f7f; text-decoration-color: #7f7f7f\">binned_spectrum_series.py</span></a><span style=\"color: #7f7f7f; text-decoration-color: #7f7f7f\">:</span><a href=\"file:///home/tobi/sw/threeML/threeML/utils/time_series/binned_spectrum_series.py#389\" target=\"_blank\"><span style=\"color: #7f7f7f; text-decoration-color: #7f7f7f\">389</span></a>\n",
       "</pre>\n"
      ],
      "text/plain": [
       "\u001b[38;5;46m16:03:40\u001b[0m\u001b[38;5;46m \u001b[0m\u001b[38;5;49mINFO    \u001b[0m \u001b[1;38;5;251m Auto-determined polynomial order: \u001b[0m\u001b[1;37m0\u001b[0m\u001b[1;38;5;251m                               \u001b[0m\u001b[1;38;5;251m \u001b[0m\u001b]8;id=894521;file:///home/tobi/sw/threeML/threeML/utils/time_series/binned_spectrum_series.py\u001b\\\u001b[2mbinned_spectrum_series.py\u001b[0m\u001b]8;;\u001b\\\u001b[2m:\u001b[0m\u001b]8;id=524096;file:///home/tobi/sw/threeML/threeML/utils/time_series/binned_spectrum_series.py#389\u001b\\\u001b[2m389\u001b[0m\u001b]8;;\u001b\\\n"
      ]
     },
     "metadata": {},
     "output_type": "display_data"
    },
    {
     "data": {
      "application/vnd.jupyter.widget-view+json": {
       "model_id": "91587363f17a4a0a8176980541918011",
       "version_major": 2,
       "version_minor": 0
      },
      "text/plain": [
       "Fitting UNKNOWN background:   0%|                         | 0/8 [00:00<?, ?it/s]"
      ]
     },
     "metadata": {},
     "output_type": "display_data"
    },
    {
     "data": {
      "text/html": [
       "<pre style=\"white-space:pre;overflow-x:auto;line-height:normal;font-family:Menlo,'DejaVu Sans Mono',consolas,'Courier New',monospace\"><span style=\"color: #00ff00; text-decoration-color: #00ff00\">16:03:41 </span><span style=\"color: #00ffaf; text-decoration-color: #00ffaf\">INFO    </span> <span style=\"color: #c6c6c6; text-decoration-color: #c6c6c6; font-weight: bold\"> </span><span style=\"color: #800080; text-decoration-color: #800080; font-weight: bold; font-style: italic\">None</span><span style=\"color: #c6c6c6; text-decoration-color: #c6c6c6; font-weight: bold\"> </span><span style=\"color: #c0c0c0; text-decoration-color: #c0c0c0; font-weight: bold\">0</span><span style=\"color: #c6c6c6; text-decoration-color: #c6c6c6; font-weight: bold\">-order polynomial fit with the mle method                               </span><a href=\"file:///home/tobi/sw/threeML/threeML/utils/time_series/time_series.py\" target=\"_blank\"><span style=\"color: #7f7f7f; text-decoration-color: #7f7f7f\">time_series.py</span></a><span style=\"color: #7f7f7f; text-decoration-color: #7f7f7f\">:</span><a href=\"file:///home/tobi/sw/threeML/threeML/utils/time_series/time_series.py#458\" target=\"_blank\"><span style=\"color: #7f7f7f; text-decoration-color: #7f7f7f\">458</span></a>\n",
       "</pre>\n"
      ],
      "text/plain": [
       "\u001b[38;5;46m16:03:41\u001b[0m\u001b[38;5;46m \u001b[0m\u001b[38;5;49mINFO    \u001b[0m \u001b[1;38;5;251m \u001b[0m\u001b[1;3;35mNone\u001b[0m\u001b[1;38;5;251m \u001b[0m\u001b[1;37m0\u001b[0m\u001b[1;38;5;251m-order polynomial fit with the mle method                              \u001b[0m\u001b[1;38;5;251m \u001b[0m\u001b]8;id=181806;file:///home/tobi/sw/threeML/threeML/utils/time_series/time_series.py\u001b\\\u001b[2mtime_series.py\u001b[0m\u001b]8;;\u001b\\\u001b[2m:\u001b[0m\u001b]8;id=869731;file:///home/tobi/sw/threeML/threeML/utils/time_series/time_series.py#458\u001b\\\u001b[2m458\u001b[0m\u001b]8;;\u001b\\\n"
      ]
     },
     "metadata": {},
     "output_type": "display_data"
    },
    {
     "data": {
      "text/html": [
       "<pre style=\"white-space:pre;overflow-x:auto;line-height:normal;font-family:Menlo,'DejaVu Sans Mono',consolas,'Courier New',monospace\"><span style=\"color: #00ff00; text-decoration-color: #00ff00\">         </span><span style=\"color: #00ffaf; text-decoration-color: #00ffaf\">INFO    </span> <span style=\"color: #c6c6c6; text-decoration-color: #c6c6c6; font-weight: bold\"> Interval set to </span><span style=\"color: #c0c0c0; text-decoration-color: #c0c0c0; font-weight: bold\">-0.256</span><span style=\"color: #c6c6c6; text-decoration-color: #c6c6c6; font-weight: bold\">-</span><span style=\"color: #c0c0c0; text-decoration-color: #c0c0c0; font-weight: bold\">-0.128</span><span style=\"color: #c6c6c6; text-decoration-color: #c6c6c6; font-weight: bold\"> for n0                                  </span><a href=\"file:///home/tobi/sw/threeML/threeML/utils/data_builders/time_series_builder.py\" target=\"_blank\"><span style=\"color: #7f7f7f; text-decoration-color: #7f7f7f\">time_series_builder.py</span></a><span style=\"color: #7f7f7f; text-decoration-color: #7f7f7f\">:</span><a href=\"file:///home/tobi/sw/threeML/threeML/utils/data_builders/time_series_builder.py#290\" target=\"_blank\"><span style=\"color: #7f7f7f; text-decoration-color: #7f7f7f\">290</span></a>\n",
       "</pre>\n"
      ],
      "text/plain": [
       "\u001b[38;5;46m        \u001b[0m\u001b[38;5;46m \u001b[0m\u001b[38;5;49mINFO    \u001b[0m \u001b[1;38;5;251m Interval set to \u001b[0m\u001b[1;37m-0.256\u001b[0m\u001b[1;38;5;251m-\u001b[0m\u001b[1;37m-0.128\u001b[0m\u001b[1;38;5;251m for n0                                 \u001b[0m\u001b[1;38;5;251m \u001b[0m\u001b]8;id=243343;file:///home/tobi/sw/threeML/threeML/utils/data_builders/time_series_builder.py\u001b\\\u001b[2mtime_series_builder.py\u001b[0m\u001b]8;;\u001b\\\u001b[2m:\u001b[0m\u001b]8;id=266266;file:///home/tobi/sw/threeML/threeML/utils/data_builders/time_series_builder.py#290\u001b\\\u001b[2m290\u001b[0m\u001b]8;;\u001b\\\n"
      ]
     },
     "metadata": {},
     "output_type": "display_data"
    },
    {
     "name": "stdout",
     "output_type": "stream",
     "text": [
      "Run Timeselection for detector n1\n",
      "Lets mess things up for n1\n",
      "Set trigger time for det n1 to -0.128--0.064\n",
      "Conditions too hard, decreasing min length of blocks to 49 and setting distance to trigger to 19\n",
      "Conditions too hard, decreasing min length of blocks to 48 and setting distance to trigger to 18\n",
      "Conditions too hard, decreasing min length of blocks to 47 and setting distance to trigger to 17\n",
      "Conditions too hard, decreasing min length of blocks to 46 and setting distance to trigger to 16\n",
      "Conditions too hard, decreasing min length of blocks to 45 and setting distance to trigger to 15\n",
      "Conditions too hard, decreasing min length of blocks to 44 and setting distance to trigger to 14\n",
      "Conditions too hard, decreasing min length of blocks to 43 and setting distance to trigger to 13\n",
      "Conditions too hard, decreasing min length of blocks to 42 and setting distance to trigger to 12\n"
     ]
    },
    {
     "name": "stderr",
     "output_type": "stream",
     "text": [
      "\n",
      "WARNING RuntimeWarning: divide by zero encountered in log\n",
      "\n",
      "\n",
      "WARNING RuntimeWarning: invalid value encountered in multiply\n",
      "\n"
     ]
    },
    {
     "data": {
      "application/vnd.jupyter.widget-view+json": {
       "model_id": "220028d46d1c4047a01357c82d5a7859",
       "version_major": 2,
       "version_minor": 0
      },
      "text/plain": [
       "Finding best polynomial Order:   0%|                      | 0/5 [00:00<?, ?it/s]"
      ]
     },
     "metadata": {},
     "output_type": "display_data"
    },
    {
     "data": {
      "text/html": [
       "<pre style=\"white-space:pre;overflow-x:auto;line-height:normal;font-family:Menlo,'DejaVu Sans Mono',consolas,'Courier New',monospace\"><span style=\"color: #00ff00; text-decoration-color: #00ff00\">         </span><span style=\"color: #00ffaf; text-decoration-color: #00ffaf\">INFO    </span> <span style=\"color: #c6c6c6; text-decoration-color: #c6c6c6; font-weight: bold\"> Auto-determined polynomial order: </span><span style=\"color: #c0c0c0; text-decoration-color: #c0c0c0; font-weight: bold\">2</span><span style=\"color: #c6c6c6; text-decoration-color: #c6c6c6; font-weight: bold\">                                </span><a href=\"file:///home/tobi/sw/threeML/threeML/utils/time_series/binned_spectrum_series.py\" target=\"_blank\"><span style=\"color: #7f7f7f; text-decoration-color: #7f7f7f\">binned_spectrum_series.py</span></a><span style=\"color: #7f7f7f; text-decoration-color: #7f7f7f\">:</span><a href=\"file:///home/tobi/sw/threeML/threeML/utils/time_series/binned_spectrum_series.py#389\" target=\"_blank\"><span style=\"color: #7f7f7f; text-decoration-color: #7f7f7f\">389</span></a>\n",
       "</pre>\n"
      ],
      "text/plain": [
       "\u001b[38;5;46m        \u001b[0m\u001b[38;5;46m \u001b[0m\u001b[38;5;49mINFO    \u001b[0m \u001b[1;38;5;251m Auto-determined polynomial order: \u001b[0m\u001b[1;37m2\u001b[0m\u001b[1;38;5;251m                               \u001b[0m\u001b[1;38;5;251m \u001b[0m\u001b]8;id=23251;file:///home/tobi/sw/threeML/threeML/utils/time_series/binned_spectrum_series.py\u001b\\\u001b[2mbinned_spectrum_series.py\u001b[0m\u001b]8;;\u001b\\\u001b[2m:\u001b[0m\u001b]8;id=224398;file:///home/tobi/sw/threeML/threeML/utils/time_series/binned_spectrum_series.py#389\u001b\\\u001b[2m389\u001b[0m\u001b]8;;\u001b\\\n"
      ]
     },
     "metadata": {},
     "output_type": "display_data"
    },
    {
     "data": {
      "application/vnd.jupyter.widget-view+json": {
       "model_id": "c4ef4cfd7a9e4e888016fe16e2c5a713",
       "version_major": 2,
       "version_minor": 0
      },
      "text/plain": [
       "Fitting UNKNOWN background:   0%|                         | 0/8 [00:00<?, ?it/s]"
      ]
     },
     "metadata": {},
     "output_type": "display_data"
    },
    {
     "data": {
      "text/html": [
       "<pre style=\"white-space:pre;overflow-x:auto;line-height:normal;font-family:Menlo,'DejaVu Sans Mono',consolas,'Courier New',monospace\"><span style=\"color: #00ff00; text-decoration-color: #00ff00\">16:03:42 </span><span style=\"color: #00ffaf; text-decoration-color: #00ffaf\">INFO    </span> <span style=\"color: #c6c6c6; text-decoration-color: #c6c6c6; font-weight: bold\"> </span><span style=\"color: #800080; text-decoration-color: #800080; font-weight: bold; font-style: italic\">None</span><span style=\"color: #c6c6c6; text-decoration-color: #c6c6c6; font-weight: bold\"> </span><span style=\"color: #c0c0c0; text-decoration-color: #c0c0c0; font-weight: bold\">2</span><span style=\"color: #c6c6c6; text-decoration-color: #c6c6c6; font-weight: bold\">-order polynomial fit with the mle method                               </span><a href=\"file:///home/tobi/sw/threeML/threeML/utils/time_series/time_series.py\" target=\"_blank\"><span style=\"color: #7f7f7f; text-decoration-color: #7f7f7f\">time_series.py</span></a><span style=\"color: #7f7f7f; text-decoration-color: #7f7f7f\">:</span><a href=\"file:///home/tobi/sw/threeML/threeML/utils/time_series/time_series.py#458\" target=\"_blank\"><span style=\"color: #7f7f7f; text-decoration-color: #7f7f7f\">458</span></a>\n",
       "</pre>\n"
      ],
      "text/plain": [
       "\u001b[38;5;46m16:03:42\u001b[0m\u001b[38;5;46m \u001b[0m\u001b[38;5;49mINFO    \u001b[0m \u001b[1;38;5;251m \u001b[0m\u001b[1;3;35mNone\u001b[0m\u001b[1;38;5;251m \u001b[0m\u001b[1;37m2\u001b[0m\u001b[1;38;5;251m-order polynomial fit with the mle method                              \u001b[0m\u001b[1;38;5;251m \u001b[0m\u001b]8;id=915726;file:///home/tobi/sw/threeML/threeML/utils/time_series/time_series.py\u001b\\\u001b[2mtime_series.py\u001b[0m\u001b]8;;\u001b\\\u001b[2m:\u001b[0m\u001b]8;id=165744;file:///home/tobi/sw/threeML/threeML/utils/time_series/time_series.py#458\u001b\\\u001b[2m458\u001b[0m\u001b]8;;\u001b\\\n"
      ]
     },
     "metadata": {},
     "output_type": "display_data"
    },
    {
     "data": {
      "text/html": [
       "<pre style=\"white-space:pre;overflow-x:auto;line-height:normal;font-family:Menlo,'DejaVu Sans Mono',consolas,'Courier New',monospace\"><span style=\"color: #00ff00; text-decoration-color: #00ff00\">         </span><span style=\"color: #00ffaf; text-decoration-color: #00ffaf\">INFO    </span> <span style=\"color: #c6c6c6; text-decoration-color: #c6c6c6; font-weight: bold\"> Interval set to </span><span style=\"color: #c0c0c0; text-decoration-color: #c0c0c0; font-weight: bold\">-0.128</span><span style=\"color: #c6c6c6; text-decoration-color: #c6c6c6; font-weight: bold\">-</span><span style=\"color: #c0c0c0; text-decoration-color: #c0c0c0; font-weight: bold\">-0.064</span><span style=\"color: #c6c6c6; text-decoration-color: #c6c6c6; font-weight: bold\"> for n1                                  </span><a href=\"file:///home/tobi/sw/threeML/threeML/utils/data_builders/time_series_builder.py\" target=\"_blank\"><span style=\"color: #7f7f7f; text-decoration-color: #7f7f7f\">time_series_builder.py</span></a><span style=\"color: #7f7f7f; text-decoration-color: #7f7f7f\">:</span><a href=\"file:///home/tobi/sw/threeML/threeML/utils/data_builders/time_series_builder.py#290\" target=\"_blank\"><span style=\"color: #7f7f7f; text-decoration-color: #7f7f7f\">290</span></a>\n",
       "</pre>\n"
      ],
      "text/plain": [
       "\u001b[38;5;46m        \u001b[0m\u001b[38;5;46m \u001b[0m\u001b[38;5;49mINFO    \u001b[0m \u001b[1;38;5;251m Interval set to \u001b[0m\u001b[1;37m-0.128\u001b[0m\u001b[1;38;5;251m-\u001b[0m\u001b[1;37m-0.064\u001b[0m\u001b[1;38;5;251m for n1                                 \u001b[0m\u001b[1;38;5;251m \u001b[0m\u001b]8;id=698623;file:///home/tobi/sw/threeML/threeML/utils/data_builders/time_series_builder.py\u001b\\\u001b[2mtime_series_builder.py\u001b[0m\u001b]8;;\u001b\\\u001b[2m:\u001b[0m\u001b]8;id=851418;file:///home/tobi/sw/threeML/threeML/utils/data_builders/time_series_builder.py#290\u001b\\\u001b[2m290\u001b[0m\u001b]8;;\u001b\\\n"
      ]
     },
     "metadata": {},
     "output_type": "display_data"
    },
    {
     "name": "stdout",
     "output_type": "stream",
     "text": [
      "Run Timeselection for detector n2\n",
      "Lets mess things up for n2\n",
      "Set trigger time for det n2 to -0.256-9.216\n",
      "Conditions too hard, decreasing min length of blocks to 49 and setting distance to trigger to 19\n",
      "Conditions too hard, decreasing min length of blocks to 48 and setting distance to trigger to 18\n",
      "Conditions too hard, decreasing min length of blocks to 47 and setting distance to trigger to 17\n",
      "Conditions too hard, decreasing min length of blocks to 46 and setting distance to trigger to 16\n",
      "Conditions too hard, decreasing min length of blocks to 45 and setting distance to trigger to 15\n",
      "Conditions too hard, decreasing min length of blocks to 44 and setting distance to trigger to 14\n",
      "Conditions too hard, decreasing min length of blocks to 43 and setting distance to trigger to 13\n",
      "Conditions too hard, decreasing min length of blocks to 42 and setting distance to trigger to 12\n"
     ]
    },
    {
     "name": "stderr",
     "output_type": "stream",
     "text": [
      "\n",
      "WARNING RuntimeWarning: divide by zero encountered in log\n",
      "\n",
      "\n",
      "WARNING RuntimeWarning: invalid value encountered in multiply\n",
      "\n"
     ]
    },
    {
     "data": {
      "application/vnd.jupyter.widget-view+json": {
       "model_id": "ff07e70bc45a4ff282207b87090f4acf",
       "version_major": 2,
       "version_minor": 0
      },
      "text/plain": [
       "Finding best polynomial Order:   0%|                      | 0/5 [00:00<?, ?it/s]"
      ]
     },
     "metadata": {},
     "output_type": "display_data"
    },
    {
     "data": {
      "text/html": [
       "<pre style=\"white-space:pre;overflow-x:auto;line-height:normal;font-family:Menlo,'DejaVu Sans Mono',consolas,'Courier New',monospace\"><span style=\"color: #00ff00; text-decoration-color: #00ff00\">16:03:43 </span><span style=\"color: #00ffaf; text-decoration-color: #00ffaf\">INFO    </span> <span style=\"color: #c6c6c6; text-decoration-color: #c6c6c6; font-weight: bold\"> Auto-determined polynomial order: </span><span style=\"color: #c0c0c0; text-decoration-color: #c0c0c0; font-weight: bold\">1</span><span style=\"color: #c6c6c6; text-decoration-color: #c6c6c6; font-weight: bold\">                                </span><a href=\"file:///home/tobi/sw/threeML/threeML/utils/time_series/binned_spectrum_series.py\" target=\"_blank\"><span style=\"color: #7f7f7f; text-decoration-color: #7f7f7f\">binned_spectrum_series.py</span></a><span style=\"color: #7f7f7f; text-decoration-color: #7f7f7f\">:</span><a href=\"file:///home/tobi/sw/threeML/threeML/utils/time_series/binned_spectrum_series.py#389\" target=\"_blank\"><span style=\"color: #7f7f7f; text-decoration-color: #7f7f7f\">389</span></a>\n",
       "</pre>\n"
      ],
      "text/plain": [
       "\u001b[38;5;46m16:03:43\u001b[0m\u001b[38;5;46m \u001b[0m\u001b[38;5;49mINFO    \u001b[0m \u001b[1;38;5;251m Auto-determined polynomial order: \u001b[0m\u001b[1;37m1\u001b[0m\u001b[1;38;5;251m                               \u001b[0m\u001b[1;38;5;251m \u001b[0m\u001b]8;id=964086;file:///home/tobi/sw/threeML/threeML/utils/time_series/binned_spectrum_series.py\u001b\\\u001b[2mbinned_spectrum_series.py\u001b[0m\u001b]8;;\u001b\\\u001b[2m:\u001b[0m\u001b]8;id=380623;file:///home/tobi/sw/threeML/threeML/utils/time_series/binned_spectrum_series.py#389\u001b\\\u001b[2m389\u001b[0m\u001b]8;;\u001b\\\n"
      ]
     },
     "metadata": {},
     "output_type": "display_data"
    },
    {
     "data": {
      "application/vnd.jupyter.widget-view+json": {
       "model_id": "744fafba613a44eeacd02b1fff0aef9d",
       "version_major": 2,
       "version_minor": 0
      },
      "text/plain": [
       "Fitting UNKNOWN background:   0%|                         | 0/8 [00:00<?, ?it/s]"
      ]
     },
     "metadata": {},
     "output_type": "display_data"
    },
    {
     "data": {
      "text/html": [
       "<pre style=\"white-space:pre;overflow-x:auto;line-height:normal;font-family:Menlo,'DejaVu Sans Mono',consolas,'Courier New',monospace\"><span style=\"color: #00ff00; text-decoration-color: #00ff00\">16:03:44 </span><span style=\"color: #00ffaf; text-decoration-color: #00ffaf\">INFO    </span> <span style=\"color: #c6c6c6; text-decoration-color: #c6c6c6; font-weight: bold\"> </span><span style=\"color: #800080; text-decoration-color: #800080; font-weight: bold; font-style: italic\">None</span><span style=\"color: #c6c6c6; text-decoration-color: #c6c6c6; font-weight: bold\"> </span><span style=\"color: #c0c0c0; text-decoration-color: #c0c0c0; font-weight: bold\">1</span><span style=\"color: #c6c6c6; text-decoration-color: #c6c6c6; font-weight: bold\">-order polynomial fit with the mle method                               </span><a href=\"file:///home/tobi/sw/threeML/threeML/utils/time_series/time_series.py\" target=\"_blank\"><span style=\"color: #7f7f7f; text-decoration-color: #7f7f7f\">time_series.py</span></a><span style=\"color: #7f7f7f; text-decoration-color: #7f7f7f\">:</span><a href=\"file:///home/tobi/sw/threeML/threeML/utils/time_series/time_series.py#458\" target=\"_blank\"><span style=\"color: #7f7f7f; text-decoration-color: #7f7f7f\">458</span></a>\n",
       "</pre>\n"
      ],
      "text/plain": [
       "\u001b[38;5;46m16:03:44\u001b[0m\u001b[38;5;46m \u001b[0m\u001b[38;5;49mINFO    \u001b[0m \u001b[1;38;5;251m \u001b[0m\u001b[1;3;35mNone\u001b[0m\u001b[1;38;5;251m \u001b[0m\u001b[1;37m1\u001b[0m\u001b[1;38;5;251m-order polynomial fit with the mle method                              \u001b[0m\u001b[1;38;5;251m \u001b[0m\u001b]8;id=552332;file:///home/tobi/sw/threeML/threeML/utils/time_series/time_series.py\u001b\\\u001b[2mtime_series.py\u001b[0m\u001b]8;;\u001b\\\u001b[2m:\u001b[0m\u001b]8;id=242390;file:///home/tobi/sw/threeML/threeML/utils/time_series/time_series.py#458\u001b\\\u001b[2m458\u001b[0m\u001b]8;;\u001b\\\n"
      ]
     },
     "metadata": {},
     "output_type": "display_data"
    },
    {
     "data": {
      "text/html": [
       "<pre style=\"white-space:pre;overflow-x:auto;line-height:normal;font-family:Menlo,'DejaVu Sans Mono',consolas,'Courier New',monospace\"><span style=\"color: #00ff00; text-decoration-color: #00ff00\">         </span><span style=\"color: #00ffaf; text-decoration-color: #00ffaf\">INFO    </span> <span style=\"color: #c6c6c6; text-decoration-color: #c6c6c6; font-weight: bold\"> Interval set to </span><span style=\"color: #c0c0c0; text-decoration-color: #c0c0c0; font-weight: bold\">-0.256</span><span style=\"color: #c6c6c6; text-decoration-color: #c6c6c6; font-weight: bold\">-</span><span style=\"color: #c0c0c0; text-decoration-color: #c0c0c0; font-weight: bold\">9.216</span><span style=\"color: #c6c6c6; text-decoration-color: #c6c6c6; font-weight: bold\"> for n2                                   </span><a href=\"file:///home/tobi/sw/threeML/threeML/utils/data_builders/time_series_builder.py\" target=\"_blank\"><span style=\"color: #7f7f7f; text-decoration-color: #7f7f7f\">time_series_builder.py</span></a><span style=\"color: #7f7f7f; text-decoration-color: #7f7f7f\">:</span><a href=\"file:///home/tobi/sw/threeML/threeML/utils/data_builders/time_series_builder.py#290\" target=\"_blank\"><span style=\"color: #7f7f7f; text-decoration-color: #7f7f7f\">290</span></a>\n",
       "</pre>\n"
      ],
      "text/plain": [
       "\u001b[38;5;46m        \u001b[0m\u001b[38;5;46m \u001b[0m\u001b[38;5;49mINFO    \u001b[0m \u001b[1;38;5;251m Interval set to \u001b[0m\u001b[1;37m-0.256\u001b[0m\u001b[1;38;5;251m-\u001b[0m\u001b[1;37m9.216\u001b[0m\u001b[1;38;5;251m for n2                                  \u001b[0m\u001b[1;38;5;251m \u001b[0m\u001b]8;id=465543;file:///home/tobi/sw/threeML/threeML/utils/data_builders/time_series_builder.py\u001b\\\u001b[2mtime_series_builder.py\u001b[0m\u001b]8;;\u001b\\\u001b[2m:\u001b[0m\u001b]8;id=432647;file:///home/tobi/sw/threeML/threeML/utils/data_builders/time_series_builder.py#290\u001b\\\u001b[2m290\u001b[0m\u001b]8;;\u001b\\\n"
      ]
     },
     "metadata": {},
     "output_type": "display_data"
    },
    {
     "name": "stdout",
     "output_type": "stream",
     "text": [
      "Run Timeselection for detector n3\n",
      "Lets mess things up for n3\n",
      "Set trigger time for det n3 to -0.768--0.32\n"
     ]
    },
    {
     "name": "stderr",
     "output_type": "stream",
     "text": [
      "\n",
      "WARNING RuntimeWarning: divide by zero encountered in log\n",
      "\n",
      "\n",
      "WARNING RuntimeWarning: invalid value encountered in multiply\n",
      "\n"
     ]
    },
    {
     "data": {
      "application/vnd.jupyter.widget-view+json": {
       "model_id": "efcbd00e9f20461fa5d65ff6e15a4dfc",
       "version_major": 2,
       "version_minor": 0
      },
      "text/plain": [
       "Finding best polynomial Order:   0%|                      | 0/5 [00:00<?, ?it/s]"
      ]
     },
     "metadata": {},
     "output_type": "display_data"
    },
    {
     "data": {
      "text/html": [
       "<pre style=\"white-space:pre;overflow-x:auto;line-height:normal;font-family:Menlo,'DejaVu Sans Mono',consolas,'Courier New',monospace\"><span style=\"color: #00ff00; text-decoration-color: #00ff00\">         </span><span style=\"color: #00ffaf; text-decoration-color: #00ffaf\">INFO    </span> <span style=\"color: #c6c6c6; text-decoration-color: #c6c6c6; font-weight: bold\"> Auto-determined polynomial order: </span><span style=\"color: #c0c0c0; text-decoration-color: #c0c0c0; font-weight: bold\">1</span><span style=\"color: #c6c6c6; text-decoration-color: #c6c6c6; font-weight: bold\">                                </span><a href=\"file:///home/tobi/sw/threeML/threeML/utils/time_series/binned_spectrum_series.py\" target=\"_blank\"><span style=\"color: #7f7f7f; text-decoration-color: #7f7f7f\">binned_spectrum_series.py</span></a><span style=\"color: #7f7f7f; text-decoration-color: #7f7f7f\">:</span><a href=\"file:///home/tobi/sw/threeML/threeML/utils/time_series/binned_spectrum_series.py#389\" target=\"_blank\"><span style=\"color: #7f7f7f; text-decoration-color: #7f7f7f\">389</span></a>\n",
       "</pre>\n"
      ],
      "text/plain": [
       "\u001b[38;5;46m        \u001b[0m\u001b[38;5;46m \u001b[0m\u001b[38;5;49mINFO    \u001b[0m \u001b[1;38;5;251m Auto-determined polynomial order: \u001b[0m\u001b[1;37m1\u001b[0m\u001b[1;38;5;251m                               \u001b[0m\u001b[1;38;5;251m \u001b[0m\u001b]8;id=982097;file:///home/tobi/sw/threeML/threeML/utils/time_series/binned_spectrum_series.py\u001b\\\u001b[2mbinned_spectrum_series.py\u001b[0m\u001b]8;;\u001b\\\u001b[2m:\u001b[0m\u001b]8;id=264650;file:///home/tobi/sw/threeML/threeML/utils/time_series/binned_spectrum_series.py#389\u001b\\\u001b[2m389\u001b[0m\u001b]8;;\u001b\\\n"
      ]
     },
     "metadata": {},
     "output_type": "display_data"
    },
    {
     "data": {
      "application/vnd.jupyter.widget-view+json": {
       "model_id": "6e3323a34c4e4d2eb1ed7d34fbe84e22",
       "version_major": 2,
       "version_minor": 0
      },
      "text/plain": [
       "Fitting UNKNOWN background:   0%|                         | 0/8 [00:00<?, ?it/s]"
      ]
     },
     "metadata": {},
     "output_type": "display_data"
    },
    {
     "data": {
      "text/html": [
       "<pre style=\"white-space:pre;overflow-x:auto;line-height:normal;font-family:Menlo,'DejaVu Sans Mono',consolas,'Courier New',monospace\"><span style=\"color: #00ff00; text-decoration-color: #00ff00\">16:03:45 </span><span style=\"color: #00ffaf; text-decoration-color: #00ffaf\">INFO    </span> <span style=\"color: #c6c6c6; text-decoration-color: #c6c6c6; font-weight: bold\"> </span><span style=\"color: #800080; text-decoration-color: #800080; font-weight: bold; font-style: italic\">None</span><span style=\"color: #c6c6c6; text-decoration-color: #c6c6c6; font-weight: bold\"> </span><span style=\"color: #c0c0c0; text-decoration-color: #c0c0c0; font-weight: bold\">1</span><span style=\"color: #c6c6c6; text-decoration-color: #c6c6c6; font-weight: bold\">-order polynomial fit with the mle method                               </span><a href=\"file:///home/tobi/sw/threeML/threeML/utils/time_series/time_series.py\" target=\"_blank\"><span style=\"color: #7f7f7f; text-decoration-color: #7f7f7f\">time_series.py</span></a><span style=\"color: #7f7f7f; text-decoration-color: #7f7f7f\">:</span><a href=\"file:///home/tobi/sw/threeML/threeML/utils/time_series/time_series.py#458\" target=\"_blank\"><span style=\"color: #7f7f7f; text-decoration-color: #7f7f7f\">458</span></a>\n",
       "</pre>\n"
      ],
      "text/plain": [
       "\u001b[38;5;46m16:03:45\u001b[0m\u001b[38;5;46m \u001b[0m\u001b[38;5;49mINFO    \u001b[0m \u001b[1;38;5;251m \u001b[0m\u001b[1;3;35mNone\u001b[0m\u001b[1;38;5;251m \u001b[0m\u001b[1;37m1\u001b[0m\u001b[1;38;5;251m-order polynomial fit with the mle method                              \u001b[0m\u001b[1;38;5;251m \u001b[0m\u001b]8;id=451918;file:///home/tobi/sw/threeML/threeML/utils/time_series/time_series.py\u001b\\\u001b[2mtime_series.py\u001b[0m\u001b]8;;\u001b\\\u001b[2m:\u001b[0m\u001b]8;id=817711;file:///home/tobi/sw/threeML/threeML/utils/time_series/time_series.py#458\u001b\\\u001b[2m458\u001b[0m\u001b]8;;\u001b\\\n"
      ]
     },
     "metadata": {},
     "output_type": "display_data"
    },
    {
     "data": {
      "text/html": [
       "<pre style=\"white-space:pre;overflow-x:auto;line-height:normal;font-family:Menlo,'DejaVu Sans Mono',consolas,'Courier New',monospace\"><span style=\"color: #00ff00; text-decoration-color: #00ff00\">         </span><span style=\"color: #00ffaf; text-decoration-color: #00ffaf\">INFO    </span> <span style=\"color: #c6c6c6; text-decoration-color: #c6c6c6; font-weight: bold\"> Interval set to </span><span style=\"color: #c0c0c0; text-decoration-color: #c0c0c0; font-weight: bold\">-0.768</span><span style=\"color: #c6c6c6; text-decoration-color: #c6c6c6; font-weight: bold\">-</span><span style=\"color: #c0c0c0; text-decoration-color: #c0c0c0; font-weight: bold\">-0.256</span><span style=\"color: #c6c6c6; text-decoration-color: #c6c6c6; font-weight: bold\"> for n3                                  </span><a href=\"file:///home/tobi/sw/threeML/threeML/utils/data_builders/time_series_builder.py\" target=\"_blank\"><span style=\"color: #7f7f7f; text-decoration-color: #7f7f7f\">time_series_builder.py</span></a><span style=\"color: #7f7f7f; text-decoration-color: #7f7f7f\">:</span><a href=\"file:///home/tobi/sw/threeML/threeML/utils/data_builders/time_series_builder.py#290\" target=\"_blank\"><span style=\"color: #7f7f7f; text-decoration-color: #7f7f7f\">290</span></a>\n",
       "</pre>\n"
      ],
      "text/plain": [
       "\u001b[38;5;46m        \u001b[0m\u001b[38;5;46m \u001b[0m\u001b[38;5;49mINFO    \u001b[0m \u001b[1;38;5;251m Interval set to \u001b[0m\u001b[1;37m-0.768\u001b[0m\u001b[1;38;5;251m-\u001b[0m\u001b[1;37m-0.256\u001b[0m\u001b[1;38;5;251m for n3                                 \u001b[0m\u001b[1;38;5;251m \u001b[0m\u001b]8;id=197074;file:///home/tobi/sw/threeML/threeML/utils/data_builders/time_series_builder.py\u001b\\\u001b[2mtime_series_builder.py\u001b[0m\u001b]8;;\u001b\\\u001b[2m:\u001b[0m\u001b]8;id=541817;file:///home/tobi/sw/threeML/threeML/utils/data_builders/time_series_builder.py#290\u001b\\\u001b[2m290\u001b[0m\u001b]8;;\u001b\\\n"
      ]
     },
     "metadata": {},
     "output_type": "display_data"
    },
    {
     "name": "stdout",
     "output_type": "stream",
     "text": [
      "Run Timeselection for detector n4\n",
      "Lets mess things up for n4\n",
      "Set trigger time for det n4 to 0.128-0.192\n"
     ]
    },
    {
     "name": "stderr",
     "output_type": "stream",
     "text": [
      "\n",
      "WARNING RuntimeWarning: divide by zero encountered in log\n",
      "\n",
      "\n",
      "WARNING RuntimeWarning: invalid value encountered in multiply\n",
      "\n"
     ]
    },
    {
     "data": {
      "application/vnd.jupyter.widget-view+json": {
       "model_id": "c44c998b366e46a9b09d07907c5a2a85",
       "version_major": 2,
       "version_minor": 0
      },
      "text/plain": [
       "Finding best polynomial Order:   0%|                      | 0/5 [00:00<?, ?it/s]"
      ]
     },
     "metadata": {},
     "output_type": "display_data"
    },
    {
     "data": {
      "text/html": [
       "<pre style=\"white-space:pre;overflow-x:auto;line-height:normal;font-family:Menlo,'DejaVu Sans Mono',consolas,'Courier New',monospace\"><span style=\"color: #00ff00; text-decoration-color: #00ff00\">         </span><span style=\"color: #00ffaf; text-decoration-color: #00ffaf\">INFO    </span> <span style=\"color: #c6c6c6; text-decoration-color: #c6c6c6; font-weight: bold\"> Auto-determined polynomial order: </span><span style=\"color: #c0c0c0; text-decoration-color: #c0c0c0; font-weight: bold\">1</span><span style=\"color: #c6c6c6; text-decoration-color: #c6c6c6; font-weight: bold\">                                </span><a href=\"file:///home/tobi/sw/threeML/threeML/utils/time_series/binned_spectrum_series.py\" target=\"_blank\"><span style=\"color: #7f7f7f; text-decoration-color: #7f7f7f\">binned_spectrum_series.py</span></a><span style=\"color: #7f7f7f; text-decoration-color: #7f7f7f\">:</span><a href=\"file:///home/tobi/sw/threeML/threeML/utils/time_series/binned_spectrum_series.py#389\" target=\"_blank\"><span style=\"color: #7f7f7f; text-decoration-color: #7f7f7f\">389</span></a>\n",
       "</pre>\n"
      ],
      "text/plain": [
       "\u001b[38;5;46m        \u001b[0m\u001b[38;5;46m \u001b[0m\u001b[38;5;49mINFO    \u001b[0m \u001b[1;38;5;251m Auto-determined polynomial order: \u001b[0m\u001b[1;37m1\u001b[0m\u001b[1;38;5;251m                               \u001b[0m\u001b[1;38;5;251m \u001b[0m\u001b]8;id=29729;file:///home/tobi/sw/threeML/threeML/utils/time_series/binned_spectrum_series.py\u001b\\\u001b[2mbinned_spectrum_series.py\u001b[0m\u001b]8;;\u001b\\\u001b[2m:\u001b[0m\u001b]8;id=278971;file:///home/tobi/sw/threeML/threeML/utils/time_series/binned_spectrum_series.py#389\u001b\\\u001b[2m389\u001b[0m\u001b]8;;\u001b\\\n"
      ]
     },
     "metadata": {},
     "output_type": "display_data"
    },
    {
     "data": {
      "application/vnd.jupyter.widget-view+json": {
       "model_id": "69ab299f27be4cf1abed96fc2c0275a8",
       "version_major": 2,
       "version_minor": 0
      },
      "text/plain": [
       "Fitting UNKNOWN background:   0%|                         | 0/8 [00:00<?, ?it/s]"
      ]
     },
     "metadata": {},
     "output_type": "display_data"
    },
    {
     "data": {
      "text/html": [
       "<pre style=\"white-space:pre;overflow-x:auto;line-height:normal;font-family:Menlo,'DejaVu Sans Mono',consolas,'Courier New',monospace\"><span style=\"color: #00ff00; text-decoration-color: #00ff00\">16:03:46 </span><span style=\"color: #00ffaf; text-decoration-color: #00ffaf\">INFO    </span> <span style=\"color: #c6c6c6; text-decoration-color: #c6c6c6; font-weight: bold\"> </span><span style=\"color: #800080; text-decoration-color: #800080; font-weight: bold; font-style: italic\">None</span><span style=\"color: #c6c6c6; text-decoration-color: #c6c6c6; font-weight: bold\"> </span><span style=\"color: #c0c0c0; text-decoration-color: #c0c0c0; font-weight: bold\">1</span><span style=\"color: #c6c6c6; text-decoration-color: #c6c6c6; font-weight: bold\">-order polynomial fit with the mle method                               </span><a href=\"file:///home/tobi/sw/threeML/threeML/utils/time_series/time_series.py\" target=\"_blank\"><span style=\"color: #7f7f7f; text-decoration-color: #7f7f7f\">time_series.py</span></a><span style=\"color: #7f7f7f; text-decoration-color: #7f7f7f\">:</span><a href=\"file:///home/tobi/sw/threeML/threeML/utils/time_series/time_series.py#458\" target=\"_blank\"><span style=\"color: #7f7f7f; text-decoration-color: #7f7f7f\">458</span></a>\n",
       "</pre>\n"
      ],
      "text/plain": [
       "\u001b[38;5;46m16:03:46\u001b[0m\u001b[38;5;46m \u001b[0m\u001b[38;5;49mINFO    \u001b[0m \u001b[1;38;5;251m \u001b[0m\u001b[1;3;35mNone\u001b[0m\u001b[1;38;5;251m \u001b[0m\u001b[1;37m1\u001b[0m\u001b[1;38;5;251m-order polynomial fit with the mle method                              \u001b[0m\u001b[1;38;5;251m \u001b[0m\u001b]8;id=646839;file:///home/tobi/sw/threeML/threeML/utils/time_series/time_series.py\u001b\\\u001b[2mtime_series.py\u001b[0m\u001b]8;;\u001b\\\u001b[2m:\u001b[0m\u001b]8;id=940492;file:///home/tobi/sw/threeML/threeML/utils/time_series/time_series.py#458\u001b\\\u001b[2m458\u001b[0m\u001b]8;;\u001b\\\n"
      ]
     },
     "metadata": {},
     "output_type": "display_data"
    },
    {
     "data": {
      "text/html": [
       "<pre style=\"white-space:pre;overflow-x:auto;line-height:normal;font-family:Menlo,'DejaVu Sans Mono',consolas,'Courier New',monospace\"><span style=\"color: #00ff00; text-decoration-color: #00ff00\">         </span><span style=\"color: #00ffaf; text-decoration-color: #00ffaf\">INFO    </span> <span style=\"color: #c6c6c6; text-decoration-color: #c6c6c6; font-weight: bold\"> Interval set to </span><span style=\"color: #c0c0c0; text-decoration-color: #c0c0c0; font-weight: bold\">0.128</span><span style=\"color: #c6c6c6; text-decoration-color: #c6c6c6; font-weight: bold\">-</span><span style=\"color: #c0c0c0; text-decoration-color: #c0c0c0; font-weight: bold\">0.192</span><span style=\"color: #c6c6c6; text-decoration-color: #c6c6c6; font-weight: bold\"> for n4                                    </span><a href=\"file:///home/tobi/sw/threeML/threeML/utils/data_builders/time_series_builder.py\" target=\"_blank\"><span style=\"color: #7f7f7f; text-decoration-color: #7f7f7f\">time_series_builder.py</span></a><span style=\"color: #7f7f7f; text-decoration-color: #7f7f7f\">:</span><a href=\"file:///home/tobi/sw/threeML/threeML/utils/data_builders/time_series_builder.py#290\" target=\"_blank\"><span style=\"color: #7f7f7f; text-decoration-color: #7f7f7f\">290</span></a>\n",
       "</pre>\n"
      ],
      "text/plain": [
       "\u001b[38;5;46m        \u001b[0m\u001b[38;5;46m \u001b[0m\u001b[38;5;49mINFO    \u001b[0m \u001b[1;38;5;251m Interval set to \u001b[0m\u001b[1;37m0.128\u001b[0m\u001b[1;38;5;251m-\u001b[0m\u001b[1;37m0.192\u001b[0m\u001b[1;38;5;251m for n4                                   \u001b[0m\u001b[1;38;5;251m \u001b[0m\u001b]8;id=746963;file:///home/tobi/sw/threeML/threeML/utils/data_builders/time_series_builder.py\u001b\\\u001b[2mtime_series_builder.py\u001b[0m\u001b]8;;\u001b\\\u001b[2m:\u001b[0m\u001b]8;id=300793;file:///home/tobi/sw/threeML/threeML/utils/data_builders/time_series_builder.py#290\u001b\\\u001b[2m290\u001b[0m\u001b]8;;\u001b\\\n"
      ]
     },
     "metadata": {},
     "output_type": "display_data"
    },
    {
     "name": "stdout",
     "output_type": "stream",
     "text": [
      "Run Timeselection for detector n5\n",
      "Lets mess things up for n5\n",
      "Set trigger time for det n5 to 0.768-10.24\n",
      "Conditions too hard, decreasing min length of blocks to 49 and setting distance to trigger to 19\n",
      "Conditions too hard, decreasing min length of blocks to 48 and setting distance to trigger to 18\n",
      "Conditions too hard, decreasing min length of blocks to 47 and setting distance to trigger to 17\n",
      "Conditions too hard, decreasing min length of blocks to 46 and setting distance to trigger to 16\n",
      "Conditions too hard, decreasing min length of blocks to 45 and setting distance to trigger to 15\n",
      "Conditions too hard, decreasing min length of blocks to 44 and setting distance to trigger to 14\n",
      "Conditions too hard, decreasing min length of blocks to 43 and setting distance to trigger to 13\n"
     ]
    },
    {
     "name": "stderr",
     "output_type": "stream",
     "text": [
      "\n",
      "WARNING RuntimeWarning: divide by zero encountered in log\n",
      "\n",
      "\n",
      "WARNING RuntimeWarning: invalid value encountered in multiply\n",
      "\n"
     ]
    },
    {
     "data": {
      "application/vnd.jupyter.widget-view+json": {
       "model_id": "354026d5836c493da5a135b108c505b7",
       "version_major": 2,
       "version_minor": 0
      },
      "text/plain": [
       "Finding best polynomial Order:   0%|                      | 0/5 [00:00<?, ?it/s]"
      ]
     },
     "metadata": {},
     "output_type": "display_data"
    },
    {
     "data": {
      "text/html": [
       "<pre style=\"white-space:pre;overflow-x:auto;line-height:normal;font-family:Menlo,'DejaVu Sans Mono',consolas,'Courier New',monospace\"><span style=\"color: #00ff00; text-decoration-color: #00ff00\">         </span><span style=\"color: #00ffaf; text-decoration-color: #00ffaf\">INFO    </span> <span style=\"color: #c6c6c6; text-decoration-color: #c6c6c6; font-weight: bold\"> Auto-determined polynomial order: </span><span style=\"color: #c0c0c0; text-decoration-color: #c0c0c0; font-weight: bold\">2</span><span style=\"color: #c6c6c6; text-decoration-color: #c6c6c6; font-weight: bold\">                                </span><a href=\"file:///home/tobi/sw/threeML/threeML/utils/time_series/binned_spectrum_series.py\" target=\"_blank\"><span style=\"color: #7f7f7f; text-decoration-color: #7f7f7f\">binned_spectrum_series.py</span></a><span style=\"color: #7f7f7f; text-decoration-color: #7f7f7f\">:</span><a href=\"file:///home/tobi/sw/threeML/threeML/utils/time_series/binned_spectrum_series.py#389\" target=\"_blank\"><span style=\"color: #7f7f7f; text-decoration-color: #7f7f7f\">389</span></a>\n",
       "</pre>\n"
      ],
      "text/plain": [
       "\u001b[38;5;46m        \u001b[0m\u001b[38;5;46m \u001b[0m\u001b[38;5;49mINFO    \u001b[0m \u001b[1;38;5;251m Auto-determined polynomial order: \u001b[0m\u001b[1;37m2\u001b[0m\u001b[1;38;5;251m                               \u001b[0m\u001b[1;38;5;251m \u001b[0m\u001b]8;id=895465;file:///home/tobi/sw/threeML/threeML/utils/time_series/binned_spectrum_series.py\u001b\\\u001b[2mbinned_spectrum_series.py\u001b[0m\u001b]8;;\u001b\\\u001b[2m:\u001b[0m\u001b]8;id=953964;file:///home/tobi/sw/threeML/threeML/utils/time_series/binned_spectrum_series.py#389\u001b\\\u001b[2m389\u001b[0m\u001b]8;;\u001b\\\n"
      ]
     },
     "metadata": {},
     "output_type": "display_data"
    },
    {
     "data": {
      "application/vnd.jupyter.widget-view+json": {
       "model_id": "60f202baee9847b698bc0abc8d0851cd",
       "version_major": 2,
       "version_minor": 0
      },
      "text/plain": [
       "Fitting UNKNOWN background:   0%|                         | 0/8 [00:00<?, ?it/s]"
      ]
     },
     "metadata": {},
     "output_type": "display_data"
    },
    {
     "data": {
      "text/html": [
       "<pre style=\"white-space:pre;overflow-x:auto;line-height:normal;font-family:Menlo,'DejaVu Sans Mono',consolas,'Courier New',monospace\"><span style=\"color: #00ff00; text-decoration-color: #00ff00\">         </span><span style=\"color: #00ffaf; text-decoration-color: #00ffaf\">INFO    </span> <span style=\"color: #c6c6c6; text-decoration-color: #c6c6c6; font-weight: bold\"> </span><span style=\"color: #800080; text-decoration-color: #800080; font-weight: bold; font-style: italic\">None</span><span style=\"color: #c6c6c6; text-decoration-color: #c6c6c6; font-weight: bold\"> </span><span style=\"color: #c0c0c0; text-decoration-color: #c0c0c0; font-weight: bold\">2</span><span style=\"color: #c6c6c6; text-decoration-color: #c6c6c6; font-weight: bold\">-order polynomial fit with the mle method                               </span><a href=\"file:///home/tobi/sw/threeML/threeML/utils/time_series/time_series.py\" target=\"_blank\"><span style=\"color: #7f7f7f; text-decoration-color: #7f7f7f\">time_series.py</span></a><span style=\"color: #7f7f7f; text-decoration-color: #7f7f7f\">:</span><a href=\"file:///home/tobi/sw/threeML/threeML/utils/time_series/time_series.py#458\" target=\"_blank\"><span style=\"color: #7f7f7f; text-decoration-color: #7f7f7f\">458</span></a>\n",
       "</pre>\n"
      ],
      "text/plain": [
       "\u001b[38;5;46m        \u001b[0m\u001b[38;5;46m \u001b[0m\u001b[38;5;49mINFO    \u001b[0m \u001b[1;38;5;251m \u001b[0m\u001b[1;3;35mNone\u001b[0m\u001b[1;38;5;251m \u001b[0m\u001b[1;37m2\u001b[0m\u001b[1;38;5;251m-order polynomial fit with the mle method                              \u001b[0m\u001b[1;38;5;251m \u001b[0m\u001b]8;id=281722;file:///home/tobi/sw/threeML/threeML/utils/time_series/time_series.py\u001b\\\u001b[2mtime_series.py\u001b[0m\u001b]8;;\u001b\\\u001b[2m:\u001b[0m\u001b]8;id=259158;file:///home/tobi/sw/threeML/threeML/utils/time_series/time_series.py#458\u001b\\\u001b[2m458\u001b[0m\u001b]8;;\u001b\\\n"
      ]
     },
     "metadata": {},
     "output_type": "display_data"
    },
    {
     "data": {
      "text/html": [
       "<pre style=\"white-space:pre;overflow-x:auto;line-height:normal;font-family:Menlo,'DejaVu Sans Mono',consolas,'Courier New',monospace\"><span style=\"color: #00ff00; text-decoration-color: #00ff00\">16:03:47 </span><span style=\"color: #00ffaf; text-decoration-color: #00ffaf\">INFO    </span> <span style=\"color: #c6c6c6; text-decoration-color: #c6c6c6; font-weight: bold\"> Interval set to </span><span style=\"color: #c0c0c0; text-decoration-color: #c0c0c0; font-weight: bold\">0.768</span><span style=\"color: #c6c6c6; text-decoration-color: #c6c6c6; font-weight: bold\">-</span><span style=\"color: #c0c0c0; text-decoration-color: #c0c0c0; font-weight: bold\">10.24</span><span style=\"color: #c6c6c6; text-decoration-color: #c6c6c6; font-weight: bold\"> for n5                                    </span><a href=\"file:///home/tobi/sw/threeML/threeML/utils/data_builders/time_series_builder.py\" target=\"_blank\"><span style=\"color: #7f7f7f; text-decoration-color: #7f7f7f\">time_series_builder.py</span></a><span style=\"color: #7f7f7f; text-decoration-color: #7f7f7f\">:</span><a href=\"file:///home/tobi/sw/threeML/threeML/utils/data_builders/time_series_builder.py#290\" target=\"_blank\"><span style=\"color: #7f7f7f; text-decoration-color: #7f7f7f\">290</span></a>\n",
       "</pre>\n"
      ],
      "text/plain": [
       "\u001b[38;5;46m16:03:47\u001b[0m\u001b[38;5;46m \u001b[0m\u001b[38;5;49mINFO    \u001b[0m \u001b[1;38;5;251m Interval set to \u001b[0m\u001b[1;37m0.768\u001b[0m\u001b[1;38;5;251m-\u001b[0m\u001b[1;37m10.24\u001b[0m\u001b[1;38;5;251m for n5                                   \u001b[0m\u001b[1;38;5;251m \u001b[0m\u001b]8;id=986002;file:///home/tobi/sw/threeML/threeML/utils/data_builders/time_series_builder.py\u001b\\\u001b[2mtime_series_builder.py\u001b[0m\u001b]8;;\u001b\\\u001b[2m:\u001b[0m\u001b]8;id=679163;file:///home/tobi/sw/threeML/threeML/utils/data_builders/time_series_builder.py#290\u001b\\\u001b[2m290\u001b[0m\u001b]8;;\u001b\\\n"
      ]
     },
     "metadata": {},
     "output_type": "display_data"
    },
    {
     "name": "stdout",
     "output_type": "stream",
     "text": [
      "Run Timeselection for detector n6\n",
      "Lets mess things up for n6\n",
      "Set trigger time for det n6 to -0.256--0.128\n",
      "Conditions too hard, decreasing min length of blocks to 49 and setting distance to trigger to 19\n",
      "Conditions too hard, decreasing min length of blocks to 48 and setting distance to trigger to 18\n",
      "Conditions too hard, decreasing min length of blocks to 47 and setting distance to trigger to 17\n",
      "Conditions too hard, decreasing min length of blocks to 46 and setting distance to trigger to 16\n",
      "Conditions too hard, decreasing min length of blocks to 45 and setting distance to trigger to 15\n",
      "Conditions too hard, decreasing min length of blocks to 44 and setting distance to trigger to 14\n",
      "Conditions too hard, decreasing min length of blocks to 43 and setting distance to trigger to 13\n",
      "Conditions too hard, decreasing min length of blocks to 42 and setting distance to trigger to 12\n"
     ]
    },
    {
     "name": "stderr",
     "output_type": "stream",
     "text": [
      "\n",
      "WARNING RuntimeWarning: divide by zero encountered in log\n",
      "\n",
      "\n",
      "WARNING RuntimeWarning: invalid value encountered in multiply\n",
      "\n"
     ]
    },
    {
     "data": {
      "application/vnd.jupyter.widget-view+json": {
       "model_id": "167cbd1d87ce47deacf76e1907824c0c",
       "version_major": 2,
       "version_minor": 0
      },
      "text/plain": [
       "Finding best polynomial Order:   0%|                      | 0/5 [00:00<?, ?it/s]"
      ]
     },
     "metadata": {},
     "output_type": "display_data"
    },
    {
     "data": {
      "text/html": [
       "<pre style=\"white-space:pre;overflow-x:auto;line-height:normal;font-family:Menlo,'DejaVu Sans Mono',consolas,'Courier New',monospace\"><span style=\"color: #00ff00; text-decoration-color: #00ff00\">         </span><span style=\"color: #00ffaf; text-decoration-color: #00ffaf\">INFO    </span> <span style=\"color: #c6c6c6; text-decoration-color: #c6c6c6; font-weight: bold\"> Auto-determined polynomial order: </span><span style=\"color: #c0c0c0; text-decoration-color: #c0c0c0; font-weight: bold\">2</span><span style=\"color: #c6c6c6; text-decoration-color: #c6c6c6; font-weight: bold\">                                </span><a href=\"file:///home/tobi/sw/threeML/threeML/utils/time_series/binned_spectrum_series.py\" target=\"_blank\"><span style=\"color: #7f7f7f; text-decoration-color: #7f7f7f\">binned_spectrum_series.py</span></a><span style=\"color: #7f7f7f; text-decoration-color: #7f7f7f\">:</span><a href=\"file:///home/tobi/sw/threeML/threeML/utils/time_series/binned_spectrum_series.py#389\" target=\"_blank\"><span style=\"color: #7f7f7f; text-decoration-color: #7f7f7f\">389</span></a>\n",
       "</pre>\n"
      ],
      "text/plain": [
       "\u001b[38;5;46m        \u001b[0m\u001b[38;5;46m \u001b[0m\u001b[38;5;49mINFO    \u001b[0m \u001b[1;38;5;251m Auto-determined polynomial order: \u001b[0m\u001b[1;37m2\u001b[0m\u001b[1;38;5;251m                               \u001b[0m\u001b[1;38;5;251m \u001b[0m\u001b]8;id=292076;file:///home/tobi/sw/threeML/threeML/utils/time_series/binned_spectrum_series.py\u001b\\\u001b[2mbinned_spectrum_series.py\u001b[0m\u001b]8;;\u001b\\\u001b[2m:\u001b[0m\u001b]8;id=12930;file:///home/tobi/sw/threeML/threeML/utils/time_series/binned_spectrum_series.py#389\u001b\\\u001b[2m389\u001b[0m\u001b]8;;\u001b\\\n"
      ]
     },
     "metadata": {},
     "output_type": "display_data"
    },
    {
     "data": {
      "application/vnd.jupyter.widget-view+json": {
       "model_id": "fdeaf8abf4264f65b17e578b65d47db1",
       "version_major": 2,
       "version_minor": 0
      },
      "text/plain": [
       "Fitting UNKNOWN background:   0%|                         | 0/8 [00:00<?, ?it/s]"
      ]
     },
     "metadata": {},
     "output_type": "display_data"
    },
    {
     "data": {
      "text/html": [
       "<pre style=\"white-space:pre;overflow-x:auto;line-height:normal;font-family:Menlo,'DejaVu Sans Mono',consolas,'Courier New',monospace\"><span style=\"color: #00ff00; text-decoration-color: #00ff00\">16:03:48 </span><span style=\"color: #00ffaf; text-decoration-color: #00ffaf\">INFO    </span> <span style=\"color: #c6c6c6; text-decoration-color: #c6c6c6; font-weight: bold\"> </span><span style=\"color: #800080; text-decoration-color: #800080; font-weight: bold; font-style: italic\">None</span><span style=\"color: #c6c6c6; text-decoration-color: #c6c6c6; font-weight: bold\"> </span><span style=\"color: #c0c0c0; text-decoration-color: #c0c0c0; font-weight: bold\">2</span><span style=\"color: #c6c6c6; text-decoration-color: #c6c6c6; font-weight: bold\">-order polynomial fit with the mle method                               </span><a href=\"file:///home/tobi/sw/threeML/threeML/utils/time_series/time_series.py\" target=\"_blank\"><span style=\"color: #7f7f7f; text-decoration-color: #7f7f7f\">time_series.py</span></a><span style=\"color: #7f7f7f; text-decoration-color: #7f7f7f\">:</span><a href=\"file:///home/tobi/sw/threeML/threeML/utils/time_series/time_series.py#458\" target=\"_blank\"><span style=\"color: #7f7f7f; text-decoration-color: #7f7f7f\">458</span></a>\n",
       "</pre>\n"
      ],
      "text/plain": [
       "\u001b[38;5;46m16:03:48\u001b[0m\u001b[38;5;46m \u001b[0m\u001b[38;5;49mINFO    \u001b[0m \u001b[1;38;5;251m \u001b[0m\u001b[1;3;35mNone\u001b[0m\u001b[1;38;5;251m \u001b[0m\u001b[1;37m2\u001b[0m\u001b[1;38;5;251m-order polynomial fit with the mle method                              \u001b[0m\u001b[1;38;5;251m \u001b[0m\u001b]8;id=530579;file:///home/tobi/sw/threeML/threeML/utils/time_series/time_series.py\u001b\\\u001b[2mtime_series.py\u001b[0m\u001b]8;;\u001b\\\u001b[2m:\u001b[0m\u001b]8;id=372938;file:///home/tobi/sw/threeML/threeML/utils/time_series/time_series.py#458\u001b\\\u001b[2m458\u001b[0m\u001b]8;;\u001b\\\n"
      ]
     },
     "metadata": {},
     "output_type": "display_data"
    },
    {
     "data": {
      "text/html": [
       "<pre style=\"white-space:pre;overflow-x:auto;line-height:normal;font-family:Menlo,'DejaVu Sans Mono',consolas,'Courier New',monospace\"><span style=\"color: #00ff00; text-decoration-color: #00ff00\">         </span><span style=\"color: #00ffaf; text-decoration-color: #00ffaf\">INFO    </span> <span style=\"color: #c6c6c6; text-decoration-color: #c6c6c6; font-weight: bold\"> Interval set to </span><span style=\"color: #c0c0c0; text-decoration-color: #c0c0c0; font-weight: bold\">-0.256</span><span style=\"color: #c6c6c6; text-decoration-color: #c6c6c6; font-weight: bold\">-</span><span style=\"color: #c0c0c0; text-decoration-color: #c0c0c0; font-weight: bold\">-0.128</span><span style=\"color: #c6c6c6; text-decoration-color: #c6c6c6; font-weight: bold\"> for n6                                  </span><a href=\"file:///home/tobi/sw/threeML/threeML/utils/data_builders/time_series_builder.py\" target=\"_blank\"><span style=\"color: #7f7f7f; text-decoration-color: #7f7f7f\">time_series_builder.py</span></a><span style=\"color: #7f7f7f; text-decoration-color: #7f7f7f\">:</span><a href=\"file:///home/tobi/sw/threeML/threeML/utils/data_builders/time_series_builder.py#290\" target=\"_blank\"><span style=\"color: #7f7f7f; text-decoration-color: #7f7f7f\">290</span></a>\n",
       "</pre>\n"
      ],
      "text/plain": [
       "\u001b[38;5;46m        \u001b[0m\u001b[38;5;46m \u001b[0m\u001b[38;5;49mINFO    \u001b[0m \u001b[1;38;5;251m Interval set to \u001b[0m\u001b[1;37m-0.256\u001b[0m\u001b[1;38;5;251m-\u001b[0m\u001b[1;37m-0.128\u001b[0m\u001b[1;38;5;251m for n6                                 \u001b[0m\u001b[1;38;5;251m \u001b[0m\u001b]8;id=573350;file:///home/tobi/sw/threeML/threeML/utils/data_builders/time_series_builder.py\u001b\\\u001b[2mtime_series_builder.py\u001b[0m\u001b]8;;\u001b\\\u001b[2m:\u001b[0m\u001b]8;id=377022;file:///home/tobi/sw/threeML/threeML/utils/data_builders/time_series_builder.py#290\u001b\\\u001b[2m290\u001b[0m\u001b]8;;\u001b\\\n"
      ]
     },
     "metadata": {},
     "output_type": "display_data"
    },
    {
     "name": "stdout",
     "output_type": "stream",
     "text": [
      "Run Timeselection for detector n7\n",
      "Lets mess things up for n7\n",
      "Set trigger time for det n7 to -0.768--0.32\n",
      "Conditions too hard, decreasing min length of blocks to 49 and setting distance to trigger to 19\n",
      "Conditions too hard, decreasing min length of blocks to 48 and setting distance to trigger to 18\n",
      "Conditions too hard, decreasing min length of blocks to 47 and setting distance to trigger to 17\n",
      "Conditions too hard, decreasing min length of blocks to 46 and setting distance to trigger to 16\n",
      "Conditions too hard, decreasing min length of blocks to 45 and setting distance to trigger to 15\n",
      "Conditions too hard, decreasing min length of blocks to 44 and setting distance to trigger to 14\n",
      "Conditions too hard, decreasing min length of blocks to 43 and setting distance to trigger to 13\n",
      "Conditions too hard, decreasing min length of blocks to 42 and setting distance to trigger to 12\n",
      "Conditions too hard, decreasing min length of blocks to 41 and setting distance to trigger to 11\n"
     ]
    },
    {
     "name": "stderr",
     "output_type": "stream",
     "text": [
      "\n",
      "WARNING RuntimeWarning: divide by zero encountered in log\n",
      "\n",
      "\n",
      "WARNING RuntimeWarning: invalid value encountered in multiply\n",
      "\n"
     ]
    },
    {
     "data": {
      "application/vnd.jupyter.widget-view+json": {
       "model_id": "fbc15cfd5cd54e269cc13d500cacbc6f",
       "version_major": 2,
       "version_minor": 0
      },
      "text/plain": [
       "Finding best polynomial Order:   0%|                      | 0/5 [00:00<?, ?it/s]"
      ]
     },
     "metadata": {},
     "output_type": "display_data"
    },
    {
     "data": {
      "text/html": [
       "<pre style=\"white-space:pre;overflow-x:auto;line-height:normal;font-family:Menlo,'DejaVu Sans Mono',consolas,'Courier New',monospace\"><span style=\"color: #00ff00; text-decoration-color: #00ff00\">         </span><span style=\"color: #00ffaf; text-decoration-color: #00ffaf\">INFO    </span> <span style=\"color: #c6c6c6; text-decoration-color: #c6c6c6; font-weight: bold\"> Auto-determined polynomial order: </span><span style=\"color: #c0c0c0; text-decoration-color: #c0c0c0; font-weight: bold\">2</span><span style=\"color: #c6c6c6; text-decoration-color: #c6c6c6; font-weight: bold\">                                </span><a href=\"file:///home/tobi/sw/threeML/threeML/utils/time_series/binned_spectrum_series.py\" target=\"_blank\"><span style=\"color: #7f7f7f; text-decoration-color: #7f7f7f\">binned_spectrum_series.py</span></a><span style=\"color: #7f7f7f; text-decoration-color: #7f7f7f\">:</span><a href=\"file:///home/tobi/sw/threeML/threeML/utils/time_series/binned_spectrum_series.py#389\" target=\"_blank\"><span style=\"color: #7f7f7f; text-decoration-color: #7f7f7f\">389</span></a>\n",
       "</pre>\n"
      ],
      "text/plain": [
       "\u001b[38;5;46m        \u001b[0m\u001b[38;5;46m \u001b[0m\u001b[38;5;49mINFO    \u001b[0m \u001b[1;38;5;251m Auto-determined polynomial order: \u001b[0m\u001b[1;37m2\u001b[0m\u001b[1;38;5;251m                               \u001b[0m\u001b[1;38;5;251m \u001b[0m\u001b]8;id=220907;file:///home/tobi/sw/threeML/threeML/utils/time_series/binned_spectrum_series.py\u001b\\\u001b[2mbinned_spectrum_series.py\u001b[0m\u001b]8;;\u001b\\\u001b[2m:\u001b[0m\u001b]8;id=680830;file:///home/tobi/sw/threeML/threeML/utils/time_series/binned_spectrum_series.py#389\u001b\\\u001b[2m389\u001b[0m\u001b]8;;\u001b\\\n"
      ]
     },
     "metadata": {},
     "output_type": "display_data"
    },
    {
     "data": {
      "application/vnd.jupyter.widget-view+json": {
       "model_id": "f0c94b4e6fa642e4b287d4846d6504a3",
       "version_major": 2,
       "version_minor": 0
      },
      "text/plain": [
       "Fitting UNKNOWN background:   0%|                         | 0/8 [00:00<?, ?it/s]"
      ]
     },
     "metadata": {},
     "output_type": "display_data"
    },
    {
     "data": {
      "text/html": [
       "<pre style=\"white-space:pre;overflow-x:auto;line-height:normal;font-family:Menlo,'DejaVu Sans Mono',consolas,'Courier New',monospace\"><span style=\"color: #00ff00; text-decoration-color: #00ff00\">16:03:49 </span><span style=\"color: #00ffaf; text-decoration-color: #00ffaf\">INFO    </span> <span style=\"color: #c6c6c6; text-decoration-color: #c6c6c6; font-weight: bold\"> </span><span style=\"color: #800080; text-decoration-color: #800080; font-weight: bold; font-style: italic\">None</span><span style=\"color: #c6c6c6; text-decoration-color: #c6c6c6; font-weight: bold\"> </span><span style=\"color: #c0c0c0; text-decoration-color: #c0c0c0; font-weight: bold\">2</span><span style=\"color: #c6c6c6; text-decoration-color: #c6c6c6; font-weight: bold\">-order polynomial fit with the mle method                               </span><a href=\"file:///home/tobi/sw/threeML/threeML/utils/time_series/time_series.py\" target=\"_blank\"><span style=\"color: #7f7f7f; text-decoration-color: #7f7f7f\">time_series.py</span></a><span style=\"color: #7f7f7f; text-decoration-color: #7f7f7f\">:</span><a href=\"file:///home/tobi/sw/threeML/threeML/utils/time_series/time_series.py#458\" target=\"_blank\"><span style=\"color: #7f7f7f; text-decoration-color: #7f7f7f\">458</span></a>\n",
       "</pre>\n"
      ],
      "text/plain": [
       "\u001b[38;5;46m16:03:49\u001b[0m\u001b[38;5;46m \u001b[0m\u001b[38;5;49mINFO    \u001b[0m \u001b[1;38;5;251m \u001b[0m\u001b[1;3;35mNone\u001b[0m\u001b[1;38;5;251m \u001b[0m\u001b[1;37m2\u001b[0m\u001b[1;38;5;251m-order polynomial fit with the mle method                              \u001b[0m\u001b[1;38;5;251m \u001b[0m\u001b]8;id=401750;file:///home/tobi/sw/threeML/threeML/utils/time_series/time_series.py\u001b\\\u001b[2mtime_series.py\u001b[0m\u001b]8;;\u001b\\\u001b[2m:\u001b[0m\u001b]8;id=303998;file:///home/tobi/sw/threeML/threeML/utils/time_series/time_series.py#458\u001b\\\u001b[2m458\u001b[0m\u001b]8;;\u001b\\\n"
      ]
     },
     "metadata": {},
     "output_type": "display_data"
    },
    {
     "data": {
      "text/html": [
       "<pre style=\"white-space:pre;overflow-x:auto;line-height:normal;font-family:Menlo,'DejaVu Sans Mono',consolas,'Courier New',monospace\"><span style=\"color: #00ff00; text-decoration-color: #00ff00\">         </span><span style=\"color: #00ffaf; text-decoration-color: #00ffaf\">INFO    </span> <span style=\"color: #c6c6c6; text-decoration-color: #c6c6c6; font-weight: bold\"> Interval set to </span><span style=\"color: #c0c0c0; text-decoration-color: #c0c0c0; font-weight: bold\">-0.768</span><span style=\"color: #c6c6c6; text-decoration-color: #c6c6c6; font-weight: bold\">-</span><span style=\"color: #c0c0c0; text-decoration-color: #c0c0c0; font-weight: bold\">-0.256</span><span style=\"color: #c6c6c6; text-decoration-color: #c6c6c6; font-weight: bold\"> for n7                                  </span><a href=\"file:///home/tobi/sw/threeML/threeML/utils/data_builders/time_series_builder.py\" target=\"_blank\"><span style=\"color: #7f7f7f; text-decoration-color: #7f7f7f\">time_series_builder.py</span></a><span style=\"color: #7f7f7f; text-decoration-color: #7f7f7f\">:</span><a href=\"file:///home/tobi/sw/threeML/threeML/utils/data_builders/time_series_builder.py#290\" target=\"_blank\"><span style=\"color: #7f7f7f; text-decoration-color: #7f7f7f\">290</span></a>\n",
       "</pre>\n"
      ],
      "text/plain": [
       "\u001b[38;5;46m        \u001b[0m\u001b[38;5;46m \u001b[0m\u001b[38;5;49mINFO    \u001b[0m \u001b[1;38;5;251m Interval set to \u001b[0m\u001b[1;37m-0.768\u001b[0m\u001b[1;38;5;251m-\u001b[0m\u001b[1;37m-0.256\u001b[0m\u001b[1;38;5;251m for n7                                 \u001b[0m\u001b[1;38;5;251m \u001b[0m\u001b]8;id=886537;file:///home/tobi/sw/threeML/threeML/utils/data_builders/time_series_builder.py\u001b\\\u001b[2mtime_series_builder.py\u001b[0m\u001b]8;;\u001b\\\u001b[2m:\u001b[0m\u001b]8;id=942899;file:///home/tobi/sw/threeML/threeML/utils/data_builders/time_series_builder.py#290\u001b\\\u001b[2m290\u001b[0m\u001b]8;;\u001b\\\n"
      ]
     },
     "metadata": {},
     "output_type": "display_data"
    },
    {
     "name": "stdout",
     "output_type": "stream",
     "text": [
      "Run Timeselection for detector n8\n",
      "Lets mess things up for n8\n",
      "Set trigger time for det n8 to 1.792-2.048\n",
      "Conditions too hard, decreasing min length of blocks to 49 and setting distance to trigger to 19\n",
      "Conditions too hard, decreasing min length of blocks to 48 and setting distance to trigger to 18\n",
      "Conditions too hard, decreasing min length of blocks to 47 and setting distance to trigger to 17\n",
      "Conditions too hard, decreasing min length of blocks to 46 and setting distance to trigger to 16\n",
      "Conditions too hard, decreasing min length of blocks to 45 and setting distance to trigger to 15\n",
      "Conditions too hard, decreasing min length of blocks to 44 and setting distance to trigger to 14\n"
     ]
    },
    {
     "name": "stderr",
     "output_type": "stream",
     "text": [
      "\n",
      "WARNING RuntimeWarning: divide by zero encountered in log\n",
      "\n",
      "\n",
      "WARNING RuntimeWarning: invalid value encountered in multiply\n",
      "\n"
     ]
    },
    {
     "data": {
      "application/vnd.jupyter.widget-view+json": {
       "model_id": "71154835a9cc4b829867f99f89c475e6",
       "version_major": 2,
       "version_minor": 0
      },
      "text/plain": [
       "Finding best polynomial Order:   0%|                      | 0/5 [00:00<?, ?it/s]"
      ]
     },
     "metadata": {},
     "output_type": "display_data"
    },
    {
     "data": {
      "text/html": [
       "<pre style=\"white-space:pre;overflow-x:auto;line-height:normal;font-family:Menlo,'DejaVu Sans Mono',consolas,'Courier New',monospace\"><span style=\"color: #00ff00; text-decoration-color: #00ff00\">         </span><span style=\"color: #00ffaf; text-decoration-color: #00ffaf\">INFO    </span> <span style=\"color: #c6c6c6; text-decoration-color: #c6c6c6; font-weight: bold\"> Auto-determined polynomial order: </span><span style=\"color: #c0c0c0; text-decoration-color: #c0c0c0; font-weight: bold\">2</span><span style=\"color: #c6c6c6; text-decoration-color: #c6c6c6; font-weight: bold\">                                </span><a href=\"file:///home/tobi/sw/threeML/threeML/utils/time_series/binned_spectrum_series.py\" target=\"_blank\"><span style=\"color: #7f7f7f; text-decoration-color: #7f7f7f\">binned_spectrum_series.py</span></a><span style=\"color: #7f7f7f; text-decoration-color: #7f7f7f\">:</span><a href=\"file:///home/tobi/sw/threeML/threeML/utils/time_series/binned_spectrum_series.py#389\" target=\"_blank\"><span style=\"color: #7f7f7f; text-decoration-color: #7f7f7f\">389</span></a>\n",
       "</pre>\n"
      ],
      "text/plain": [
       "\u001b[38;5;46m        \u001b[0m\u001b[38;5;46m \u001b[0m\u001b[38;5;49mINFO    \u001b[0m \u001b[1;38;5;251m Auto-determined polynomial order: \u001b[0m\u001b[1;37m2\u001b[0m\u001b[1;38;5;251m                               \u001b[0m\u001b[1;38;5;251m \u001b[0m\u001b]8;id=509676;file:///home/tobi/sw/threeML/threeML/utils/time_series/binned_spectrum_series.py\u001b\\\u001b[2mbinned_spectrum_series.py\u001b[0m\u001b]8;;\u001b\\\u001b[2m:\u001b[0m\u001b]8;id=598413;file:///home/tobi/sw/threeML/threeML/utils/time_series/binned_spectrum_series.py#389\u001b\\\u001b[2m389\u001b[0m\u001b]8;;\u001b\\\n"
      ]
     },
     "metadata": {},
     "output_type": "display_data"
    },
    {
     "data": {
      "application/vnd.jupyter.widget-view+json": {
       "model_id": "1ba50be4b1f14492a59c459764adf05b",
       "version_major": 2,
       "version_minor": 0
      },
      "text/plain": [
       "Fitting UNKNOWN background:   0%|                         | 0/8 [00:00<?, ?it/s]"
      ]
     },
     "metadata": {},
     "output_type": "display_data"
    },
    {
     "data": {
      "text/html": [
       "<pre style=\"white-space:pre;overflow-x:auto;line-height:normal;font-family:Menlo,'DejaVu Sans Mono',consolas,'Courier New',monospace\"><span style=\"color: #00ff00; text-decoration-color: #00ff00\">16:03:50 </span><span style=\"color: #00ffaf; text-decoration-color: #00ffaf\">INFO    </span> <span style=\"color: #c6c6c6; text-decoration-color: #c6c6c6; font-weight: bold\"> </span><span style=\"color: #800080; text-decoration-color: #800080; font-weight: bold; font-style: italic\">None</span><span style=\"color: #c6c6c6; text-decoration-color: #c6c6c6; font-weight: bold\"> </span><span style=\"color: #c0c0c0; text-decoration-color: #c0c0c0; font-weight: bold\">2</span><span style=\"color: #c6c6c6; text-decoration-color: #c6c6c6; font-weight: bold\">-order polynomial fit with the mle method                               </span><a href=\"file:///home/tobi/sw/threeML/threeML/utils/time_series/time_series.py\" target=\"_blank\"><span style=\"color: #7f7f7f; text-decoration-color: #7f7f7f\">time_series.py</span></a><span style=\"color: #7f7f7f; text-decoration-color: #7f7f7f\">:</span><a href=\"file:///home/tobi/sw/threeML/threeML/utils/time_series/time_series.py#458\" target=\"_blank\"><span style=\"color: #7f7f7f; text-decoration-color: #7f7f7f\">458</span></a>\n",
       "</pre>\n"
      ],
      "text/plain": [
       "\u001b[38;5;46m16:03:50\u001b[0m\u001b[38;5;46m \u001b[0m\u001b[38;5;49mINFO    \u001b[0m \u001b[1;38;5;251m \u001b[0m\u001b[1;3;35mNone\u001b[0m\u001b[1;38;5;251m \u001b[0m\u001b[1;37m2\u001b[0m\u001b[1;38;5;251m-order polynomial fit with the mle method                              \u001b[0m\u001b[1;38;5;251m \u001b[0m\u001b]8;id=625485;file:///home/tobi/sw/threeML/threeML/utils/time_series/time_series.py\u001b\\\u001b[2mtime_series.py\u001b[0m\u001b]8;;\u001b\\\u001b[2m:\u001b[0m\u001b]8;id=401900;file:///home/tobi/sw/threeML/threeML/utils/time_series/time_series.py#458\u001b\\\u001b[2m458\u001b[0m\u001b]8;;\u001b\\\n"
      ]
     },
     "metadata": {},
     "output_type": "display_data"
    },
    {
     "data": {
      "text/html": [
       "<pre style=\"white-space:pre;overflow-x:auto;line-height:normal;font-family:Menlo,'DejaVu Sans Mono',consolas,'Courier New',monospace\"><span style=\"color: #00ff00; text-decoration-color: #00ff00\">         </span><span style=\"color: #00ffaf; text-decoration-color: #00ffaf\">INFO    </span> <span style=\"color: #c6c6c6; text-decoration-color: #c6c6c6; font-weight: bold\"> Interval set to </span><span style=\"color: #c0c0c0; text-decoration-color: #c0c0c0; font-weight: bold\">1.792</span><span style=\"color: #c6c6c6; text-decoration-color: #c6c6c6; font-weight: bold\">-</span><span style=\"color: #c0c0c0; text-decoration-color: #c0c0c0; font-weight: bold\">2.048</span><span style=\"color: #c6c6c6; text-decoration-color: #c6c6c6; font-weight: bold\"> for n8                                    </span><a href=\"file:///home/tobi/sw/threeML/threeML/utils/data_builders/time_series_builder.py\" target=\"_blank\"><span style=\"color: #7f7f7f; text-decoration-color: #7f7f7f\">time_series_builder.py</span></a><span style=\"color: #7f7f7f; text-decoration-color: #7f7f7f\">:</span><a href=\"file:///home/tobi/sw/threeML/threeML/utils/data_builders/time_series_builder.py#290\" target=\"_blank\"><span style=\"color: #7f7f7f; text-decoration-color: #7f7f7f\">290</span></a>\n",
       "</pre>\n"
      ],
      "text/plain": [
       "\u001b[38;5;46m        \u001b[0m\u001b[38;5;46m \u001b[0m\u001b[38;5;49mINFO    \u001b[0m \u001b[1;38;5;251m Interval set to \u001b[0m\u001b[1;37m1.792\u001b[0m\u001b[1;38;5;251m-\u001b[0m\u001b[1;37m2.048\u001b[0m\u001b[1;38;5;251m for n8                                   \u001b[0m\u001b[1;38;5;251m \u001b[0m\u001b]8;id=781204;file:///home/tobi/sw/threeML/threeML/utils/data_builders/time_series_builder.py\u001b\\\u001b[2mtime_series_builder.py\u001b[0m\u001b]8;;\u001b\\\u001b[2m:\u001b[0m\u001b]8;id=802964;file:///home/tobi/sw/threeML/threeML/utils/data_builders/time_series_builder.py#290\u001b\\\u001b[2m290\u001b[0m\u001b]8;;\u001b\\\n"
      ]
     },
     "metadata": {},
     "output_type": "display_data"
    },
    {
     "name": "stdout",
     "output_type": "stream",
     "text": [
      "Run Timeselection for detector n9\n",
      "Lets mess things up for n9\n",
      "Set trigger time for det n9 to 0.32-0.384\n"
     ]
    },
    {
     "name": "stderr",
     "output_type": "stream",
     "text": [
      "\n",
      "WARNING RuntimeWarning: divide by zero encountered in log\n",
      "\n",
      "\n",
      "WARNING RuntimeWarning: invalid value encountered in multiply\n",
      "\n"
     ]
    },
    {
     "data": {
      "application/vnd.jupyter.widget-view+json": {
       "model_id": "5c90c81f6e9d4855ac11ed97ee58cd11",
       "version_major": 2,
       "version_minor": 0
      },
      "text/plain": [
       "Finding best polynomial Order:   0%|                      | 0/5 [00:00<?, ?it/s]"
      ]
     },
     "metadata": {},
     "output_type": "display_data"
    },
    {
     "data": {
      "text/html": [
       "<pre style=\"white-space:pre;overflow-x:auto;line-height:normal;font-family:Menlo,'DejaVu Sans Mono',consolas,'Courier New',monospace\"><span style=\"color: #00ff00; text-decoration-color: #00ff00\">         </span><span style=\"color: #00ffaf; text-decoration-color: #00ffaf\">INFO    </span> <span style=\"color: #c6c6c6; text-decoration-color: #c6c6c6; font-weight: bold\"> Auto-determined polynomial order: </span><span style=\"color: #c0c0c0; text-decoration-color: #c0c0c0; font-weight: bold\">0</span><span style=\"color: #c6c6c6; text-decoration-color: #c6c6c6; font-weight: bold\">                                </span><a href=\"file:///home/tobi/sw/threeML/threeML/utils/time_series/binned_spectrum_series.py\" target=\"_blank\"><span style=\"color: #7f7f7f; text-decoration-color: #7f7f7f\">binned_spectrum_series.py</span></a><span style=\"color: #7f7f7f; text-decoration-color: #7f7f7f\">:</span><a href=\"file:///home/tobi/sw/threeML/threeML/utils/time_series/binned_spectrum_series.py#389\" target=\"_blank\"><span style=\"color: #7f7f7f; text-decoration-color: #7f7f7f\">389</span></a>\n",
       "</pre>\n"
      ],
      "text/plain": [
       "\u001b[38;5;46m        \u001b[0m\u001b[38;5;46m \u001b[0m\u001b[38;5;49mINFO    \u001b[0m \u001b[1;38;5;251m Auto-determined polynomial order: \u001b[0m\u001b[1;37m0\u001b[0m\u001b[1;38;5;251m                               \u001b[0m\u001b[1;38;5;251m \u001b[0m\u001b]8;id=163900;file:///home/tobi/sw/threeML/threeML/utils/time_series/binned_spectrum_series.py\u001b\\\u001b[2mbinned_spectrum_series.py\u001b[0m\u001b]8;;\u001b\\\u001b[2m:\u001b[0m\u001b]8;id=97487;file:///home/tobi/sw/threeML/threeML/utils/time_series/binned_spectrum_series.py#389\u001b\\\u001b[2m389\u001b[0m\u001b]8;;\u001b\\\n"
      ]
     },
     "metadata": {},
     "output_type": "display_data"
    },
    {
     "data": {
      "application/vnd.jupyter.widget-view+json": {
       "model_id": "cf45f308813043f3be6025970949c0ef",
       "version_major": 2,
       "version_minor": 0
      },
      "text/plain": [
       "Fitting UNKNOWN background:   0%|                         | 0/8 [00:00<?, ?it/s]"
      ]
     },
     "metadata": {},
     "output_type": "display_data"
    },
    {
     "data": {
      "text/html": [
       "<pre style=\"white-space:pre;overflow-x:auto;line-height:normal;font-family:Menlo,'DejaVu Sans Mono',consolas,'Courier New',monospace\"><span style=\"color: #00ff00; text-decoration-color: #00ff00\">16:03:51 </span><span style=\"color: #00ffaf; text-decoration-color: #00ffaf\">INFO    </span> <span style=\"color: #c6c6c6; text-decoration-color: #c6c6c6; font-weight: bold\"> </span><span style=\"color: #800080; text-decoration-color: #800080; font-weight: bold; font-style: italic\">None</span><span style=\"color: #c6c6c6; text-decoration-color: #c6c6c6; font-weight: bold\"> </span><span style=\"color: #c0c0c0; text-decoration-color: #c0c0c0; font-weight: bold\">0</span><span style=\"color: #c6c6c6; text-decoration-color: #c6c6c6; font-weight: bold\">-order polynomial fit with the mle method                               </span><a href=\"file:///home/tobi/sw/threeML/threeML/utils/time_series/time_series.py\" target=\"_blank\"><span style=\"color: #7f7f7f; text-decoration-color: #7f7f7f\">time_series.py</span></a><span style=\"color: #7f7f7f; text-decoration-color: #7f7f7f\">:</span><a href=\"file:///home/tobi/sw/threeML/threeML/utils/time_series/time_series.py#458\" target=\"_blank\"><span style=\"color: #7f7f7f; text-decoration-color: #7f7f7f\">458</span></a>\n",
       "</pre>\n"
      ],
      "text/plain": [
       "\u001b[38;5;46m16:03:51\u001b[0m\u001b[38;5;46m \u001b[0m\u001b[38;5;49mINFO    \u001b[0m \u001b[1;38;5;251m \u001b[0m\u001b[1;3;35mNone\u001b[0m\u001b[1;38;5;251m \u001b[0m\u001b[1;37m0\u001b[0m\u001b[1;38;5;251m-order polynomial fit with the mle method                              \u001b[0m\u001b[1;38;5;251m \u001b[0m\u001b]8;id=214579;file:///home/tobi/sw/threeML/threeML/utils/time_series/time_series.py\u001b\\\u001b[2mtime_series.py\u001b[0m\u001b]8;;\u001b\\\u001b[2m:\u001b[0m\u001b]8;id=150391;file:///home/tobi/sw/threeML/threeML/utils/time_series/time_series.py#458\u001b\\\u001b[2m458\u001b[0m\u001b]8;;\u001b\\\n"
      ]
     },
     "metadata": {},
     "output_type": "display_data"
    },
    {
     "data": {
      "text/html": [
       "<pre style=\"white-space:pre;overflow-x:auto;line-height:normal;font-family:Menlo,'DejaVu Sans Mono',consolas,'Courier New',monospace\"><span style=\"color: #00ff00; text-decoration-color: #00ff00\">         </span><span style=\"color: #00ffaf; text-decoration-color: #00ffaf\">INFO    </span> <span style=\"color: #c6c6c6; text-decoration-color: #c6c6c6; font-weight: bold\"> Interval set to </span><span style=\"color: #c0c0c0; text-decoration-color: #c0c0c0; font-weight: bold\">0.32</span><span style=\"color: #c6c6c6; text-decoration-color: #c6c6c6; font-weight: bold\">-</span><span style=\"color: #c0c0c0; text-decoration-color: #c0c0c0; font-weight: bold\">0.384</span><span style=\"color: #c6c6c6; text-decoration-color: #c6c6c6; font-weight: bold\"> for n9                                     </span><a href=\"file:///home/tobi/sw/threeML/threeML/utils/data_builders/time_series_builder.py\" target=\"_blank\"><span style=\"color: #7f7f7f; text-decoration-color: #7f7f7f\">time_series_builder.py</span></a><span style=\"color: #7f7f7f; text-decoration-color: #7f7f7f\">:</span><a href=\"file:///home/tobi/sw/threeML/threeML/utils/data_builders/time_series_builder.py#290\" target=\"_blank\"><span style=\"color: #7f7f7f; text-decoration-color: #7f7f7f\">290</span></a>\n",
       "</pre>\n"
      ],
      "text/plain": [
       "\u001b[38;5;46m        \u001b[0m\u001b[38;5;46m \u001b[0m\u001b[38;5;49mINFO    \u001b[0m \u001b[1;38;5;251m Interval set to \u001b[0m\u001b[1;37m0.32\u001b[0m\u001b[1;38;5;251m-\u001b[0m\u001b[1;37m0.384\u001b[0m\u001b[1;38;5;251m for n9                                    \u001b[0m\u001b[1;38;5;251m \u001b[0m\u001b]8;id=188556;file:///home/tobi/sw/threeML/threeML/utils/data_builders/time_series_builder.py\u001b\\\u001b[2mtime_series_builder.py\u001b[0m\u001b]8;;\u001b\\\u001b[2m:\u001b[0m\u001b]8;id=953083;file:///home/tobi/sw/threeML/threeML/utils/data_builders/time_series_builder.py#290\u001b\\\u001b[2m290\u001b[0m\u001b]8;;\u001b\\\n"
      ]
     },
     "metadata": {},
     "output_type": "display_data"
    },
    {
     "name": "stdout",
     "output_type": "stream",
     "text": [
      "Run Timeselection for detector na\n",
      "Lets mess things up for na\n",
      "Set trigger time for det na to -0.0-0.32\n",
      "Conditions too hard, decreasing min length of blocks to 49 and setting distance to trigger to 19\n"
     ]
    },
    {
     "name": "stderr",
     "output_type": "stream",
     "text": [
      "\n",
      "WARNING RuntimeWarning: divide by zero encountered in log\n",
      "\n",
      "\n",
      "WARNING RuntimeWarning: invalid value encountered in multiply\n",
      "\n"
     ]
    },
    {
     "data": {
      "application/vnd.jupyter.widget-view+json": {
       "model_id": "2a20b9f944404d0bb253bcd553ca04c6",
       "version_major": 2,
       "version_minor": 0
      },
      "text/plain": [
       "Finding best polynomial Order:   0%|                      | 0/5 [00:00<?, ?it/s]"
      ]
     },
     "metadata": {},
     "output_type": "display_data"
    },
    {
     "data": {
      "text/html": [
       "<pre style=\"white-space:pre;overflow-x:auto;line-height:normal;font-family:Menlo,'DejaVu Sans Mono',consolas,'Courier New',monospace\"><span style=\"color: #00ff00; text-decoration-color: #00ff00\">         </span><span style=\"color: #00ffaf; text-decoration-color: #00ffaf\">INFO    </span> <span style=\"color: #c6c6c6; text-decoration-color: #c6c6c6; font-weight: bold\"> Auto-determined polynomial order: </span><span style=\"color: #c0c0c0; text-decoration-color: #c0c0c0; font-weight: bold\">2</span><span style=\"color: #c6c6c6; text-decoration-color: #c6c6c6; font-weight: bold\">                                </span><a href=\"file:///home/tobi/sw/threeML/threeML/utils/time_series/binned_spectrum_series.py\" target=\"_blank\"><span style=\"color: #7f7f7f; text-decoration-color: #7f7f7f\">binned_spectrum_series.py</span></a><span style=\"color: #7f7f7f; text-decoration-color: #7f7f7f\">:</span><a href=\"file:///home/tobi/sw/threeML/threeML/utils/time_series/binned_spectrum_series.py#389\" target=\"_blank\"><span style=\"color: #7f7f7f; text-decoration-color: #7f7f7f\">389</span></a>\n",
       "</pre>\n"
      ],
      "text/plain": [
       "\u001b[38;5;46m        \u001b[0m\u001b[38;5;46m \u001b[0m\u001b[38;5;49mINFO    \u001b[0m \u001b[1;38;5;251m Auto-determined polynomial order: \u001b[0m\u001b[1;37m2\u001b[0m\u001b[1;38;5;251m                               \u001b[0m\u001b[1;38;5;251m \u001b[0m\u001b]8;id=681615;file:///home/tobi/sw/threeML/threeML/utils/time_series/binned_spectrum_series.py\u001b\\\u001b[2mbinned_spectrum_series.py\u001b[0m\u001b]8;;\u001b\\\u001b[2m:\u001b[0m\u001b]8;id=840770;file:///home/tobi/sw/threeML/threeML/utils/time_series/binned_spectrum_series.py#389\u001b\\\u001b[2m389\u001b[0m\u001b]8;;\u001b\\\n"
      ]
     },
     "metadata": {},
     "output_type": "display_data"
    },
    {
     "data": {
      "application/vnd.jupyter.widget-view+json": {
       "model_id": "112fca3ee8544c5d8e8b8c059999de47",
       "version_major": 2,
       "version_minor": 0
      },
      "text/plain": [
       "Fitting UNKNOWN background:   0%|                         | 0/8 [00:00<?, ?it/s]"
      ]
     },
     "metadata": {},
     "output_type": "display_data"
    },
    {
     "data": {
      "text/html": [
       "<pre style=\"white-space:pre;overflow-x:auto;line-height:normal;font-family:Menlo,'DejaVu Sans Mono',consolas,'Courier New',monospace\"><span style=\"color: #00ff00; text-decoration-color: #00ff00\">16:03:52 </span><span style=\"color: #00ffaf; text-decoration-color: #00ffaf\">INFO    </span> <span style=\"color: #c6c6c6; text-decoration-color: #c6c6c6; font-weight: bold\"> </span><span style=\"color: #800080; text-decoration-color: #800080; font-weight: bold; font-style: italic\">None</span><span style=\"color: #c6c6c6; text-decoration-color: #c6c6c6; font-weight: bold\"> </span><span style=\"color: #c0c0c0; text-decoration-color: #c0c0c0; font-weight: bold\">2</span><span style=\"color: #c6c6c6; text-decoration-color: #c6c6c6; font-weight: bold\">-order polynomial fit with the mle method                               </span><a href=\"file:///home/tobi/sw/threeML/threeML/utils/time_series/time_series.py\" target=\"_blank\"><span style=\"color: #7f7f7f; text-decoration-color: #7f7f7f\">time_series.py</span></a><span style=\"color: #7f7f7f; text-decoration-color: #7f7f7f\">:</span><a href=\"file:///home/tobi/sw/threeML/threeML/utils/time_series/time_series.py#458\" target=\"_blank\"><span style=\"color: #7f7f7f; text-decoration-color: #7f7f7f\">458</span></a>\n",
       "</pre>\n"
      ],
      "text/plain": [
       "\u001b[38;5;46m16:03:52\u001b[0m\u001b[38;5;46m \u001b[0m\u001b[38;5;49mINFO    \u001b[0m \u001b[1;38;5;251m \u001b[0m\u001b[1;3;35mNone\u001b[0m\u001b[1;38;5;251m \u001b[0m\u001b[1;37m2\u001b[0m\u001b[1;38;5;251m-order polynomial fit with the mle method                              \u001b[0m\u001b[1;38;5;251m \u001b[0m\u001b]8;id=529793;file:///home/tobi/sw/threeML/threeML/utils/time_series/time_series.py\u001b\\\u001b[2mtime_series.py\u001b[0m\u001b]8;;\u001b\\\u001b[2m:\u001b[0m\u001b]8;id=843225;file:///home/tobi/sw/threeML/threeML/utils/time_series/time_series.py#458\u001b\\\u001b[2m458\u001b[0m\u001b]8;;\u001b\\\n"
      ]
     },
     "metadata": {},
     "output_type": "display_data"
    },
    {
     "data": {
      "text/html": [
       "<pre style=\"white-space:pre;overflow-x:auto;line-height:normal;font-family:Menlo,'DejaVu Sans Mono',consolas,'Courier New',monospace\"><span style=\"color: #00ff00; text-decoration-color: #00ff00\">         </span><span style=\"color: #00ffaf; text-decoration-color: #00ffaf\">INFO    </span> <span style=\"color: #c6c6c6; text-decoration-color: #c6c6c6; font-weight: bold\"> Interval set to </span><span style=\"color: #c0c0c0; text-decoration-color: #c0c0c0; font-weight: bold\">-0.0</span><span style=\"color: #c6c6c6; text-decoration-color: #c6c6c6; font-weight: bold\">-</span><span style=\"color: #c0c0c0; text-decoration-color: #c0c0c0; font-weight: bold\">0.32</span><span style=\"color: #c6c6c6; text-decoration-color: #c6c6c6; font-weight: bold\"> for na                                      </span><a href=\"file:///home/tobi/sw/threeML/threeML/utils/data_builders/time_series_builder.py\" target=\"_blank\"><span style=\"color: #7f7f7f; text-decoration-color: #7f7f7f\">time_series_builder.py</span></a><span style=\"color: #7f7f7f; text-decoration-color: #7f7f7f\">:</span><a href=\"file:///home/tobi/sw/threeML/threeML/utils/data_builders/time_series_builder.py#290\" target=\"_blank\"><span style=\"color: #7f7f7f; text-decoration-color: #7f7f7f\">290</span></a>\n",
       "</pre>\n"
      ],
      "text/plain": [
       "\u001b[38;5;46m        \u001b[0m\u001b[38;5;46m \u001b[0m\u001b[38;5;49mINFO    \u001b[0m \u001b[1;38;5;251m Interval set to \u001b[0m\u001b[1;37m-0.0\u001b[0m\u001b[1;38;5;251m-\u001b[0m\u001b[1;37m0.32\u001b[0m\u001b[1;38;5;251m for na                                     \u001b[0m\u001b[1;38;5;251m \u001b[0m\u001b]8;id=393601;file:///home/tobi/sw/threeML/threeML/utils/data_builders/time_series_builder.py\u001b\\\u001b[2mtime_series_builder.py\u001b[0m\u001b]8;;\u001b\\\u001b[2m:\u001b[0m\u001b]8;id=816411;file:///home/tobi/sw/threeML/threeML/utils/data_builders/time_series_builder.py#290\u001b\\\u001b[2m290\u001b[0m\u001b]8;;\u001b\\\n"
      ]
     },
     "metadata": {},
     "output_type": "display_data"
    },
    {
     "name": "stdout",
     "output_type": "stream",
     "text": [
      "Run Timeselection for detector nb\n",
      "Lets mess things up for nb\n",
      "Set trigger time for det nb to 1.28-1.536\n"
     ]
    },
    {
     "name": "stderr",
     "output_type": "stream",
     "text": [
      "\n",
      "WARNING RuntimeWarning: divide by zero encountered in log\n",
      "\n",
      "\n",
      "WARNING RuntimeWarning: invalid value encountered in multiply\n",
      "\n"
     ]
    },
    {
     "data": {
      "application/vnd.jupyter.widget-view+json": {
       "model_id": "0bbf59f9329d42088182a87de483baee",
       "version_major": 2,
       "version_minor": 0
      },
      "text/plain": [
       "Finding best polynomial Order:   0%|                      | 0/5 [00:00<?, ?it/s]"
      ]
     },
     "metadata": {},
     "output_type": "display_data"
    },
    {
     "data": {
      "text/html": [
       "<pre style=\"white-space:pre;overflow-x:auto;line-height:normal;font-family:Menlo,'DejaVu Sans Mono',consolas,'Courier New',monospace\"><span style=\"color: #00ff00; text-decoration-color: #00ff00\">         </span><span style=\"color: #00ffaf; text-decoration-color: #00ffaf\">INFO    </span> <span style=\"color: #c6c6c6; text-decoration-color: #c6c6c6; font-weight: bold\"> Auto-determined polynomial order: </span><span style=\"color: #c0c0c0; text-decoration-color: #c0c0c0; font-weight: bold\">1</span><span style=\"color: #c6c6c6; text-decoration-color: #c6c6c6; font-weight: bold\">                                </span><a href=\"file:///home/tobi/sw/threeML/threeML/utils/time_series/binned_spectrum_series.py\" target=\"_blank\"><span style=\"color: #7f7f7f; text-decoration-color: #7f7f7f\">binned_spectrum_series.py</span></a><span style=\"color: #7f7f7f; text-decoration-color: #7f7f7f\">:</span><a href=\"file:///home/tobi/sw/threeML/threeML/utils/time_series/binned_spectrum_series.py#389\" target=\"_blank\"><span style=\"color: #7f7f7f; text-decoration-color: #7f7f7f\">389</span></a>\n",
       "</pre>\n"
      ],
      "text/plain": [
       "\u001b[38;5;46m        \u001b[0m\u001b[38;5;46m \u001b[0m\u001b[38;5;49mINFO    \u001b[0m \u001b[1;38;5;251m Auto-determined polynomial order: \u001b[0m\u001b[1;37m1\u001b[0m\u001b[1;38;5;251m                               \u001b[0m\u001b[1;38;5;251m \u001b[0m\u001b]8;id=551058;file:///home/tobi/sw/threeML/threeML/utils/time_series/binned_spectrum_series.py\u001b\\\u001b[2mbinned_spectrum_series.py\u001b[0m\u001b]8;;\u001b\\\u001b[2m:\u001b[0m\u001b]8;id=228609;file:///home/tobi/sw/threeML/threeML/utils/time_series/binned_spectrum_series.py#389\u001b\\\u001b[2m389\u001b[0m\u001b]8;;\u001b\\\n"
      ]
     },
     "metadata": {},
     "output_type": "display_data"
    },
    {
     "data": {
      "application/vnd.jupyter.widget-view+json": {
       "model_id": "8cc4d2418d1c43cd89903b0b3b654a44",
       "version_major": 2,
       "version_minor": 0
      },
      "text/plain": [
       "Fitting UNKNOWN background:   0%|                         | 0/8 [00:00<?, ?it/s]"
      ]
     },
     "metadata": {},
     "output_type": "display_data"
    },
    {
     "data": {
      "text/html": [
       "<pre style=\"white-space:pre;overflow-x:auto;line-height:normal;font-family:Menlo,'DejaVu Sans Mono',consolas,'Courier New',monospace\"><span style=\"color: #00ff00; text-decoration-color: #00ff00\">16:03:53 </span><span style=\"color: #00ffaf; text-decoration-color: #00ffaf\">INFO    </span> <span style=\"color: #c6c6c6; text-decoration-color: #c6c6c6; font-weight: bold\"> </span><span style=\"color: #800080; text-decoration-color: #800080; font-weight: bold; font-style: italic\">None</span><span style=\"color: #c6c6c6; text-decoration-color: #c6c6c6; font-weight: bold\"> </span><span style=\"color: #c0c0c0; text-decoration-color: #c0c0c0; font-weight: bold\">1</span><span style=\"color: #c6c6c6; text-decoration-color: #c6c6c6; font-weight: bold\">-order polynomial fit with the mle method                               </span><a href=\"file:///home/tobi/sw/threeML/threeML/utils/time_series/time_series.py\" target=\"_blank\"><span style=\"color: #7f7f7f; text-decoration-color: #7f7f7f\">time_series.py</span></a><span style=\"color: #7f7f7f; text-decoration-color: #7f7f7f\">:</span><a href=\"file:///home/tobi/sw/threeML/threeML/utils/time_series/time_series.py#458\" target=\"_blank\"><span style=\"color: #7f7f7f; text-decoration-color: #7f7f7f\">458</span></a>\n",
       "</pre>\n"
      ],
      "text/plain": [
       "\u001b[38;5;46m16:03:53\u001b[0m\u001b[38;5;46m \u001b[0m\u001b[38;5;49mINFO    \u001b[0m \u001b[1;38;5;251m \u001b[0m\u001b[1;3;35mNone\u001b[0m\u001b[1;38;5;251m \u001b[0m\u001b[1;37m1\u001b[0m\u001b[1;38;5;251m-order polynomial fit with the mle method                              \u001b[0m\u001b[1;38;5;251m \u001b[0m\u001b]8;id=624047;file:///home/tobi/sw/threeML/threeML/utils/time_series/time_series.py\u001b\\\u001b[2mtime_series.py\u001b[0m\u001b]8;;\u001b\\\u001b[2m:\u001b[0m\u001b]8;id=384229;file:///home/tobi/sw/threeML/threeML/utils/time_series/time_series.py#458\u001b\\\u001b[2m458\u001b[0m\u001b]8;;\u001b\\\n"
      ]
     },
     "metadata": {},
     "output_type": "display_data"
    },
    {
     "data": {
      "text/html": [
       "<pre style=\"white-space:pre;overflow-x:auto;line-height:normal;font-family:Menlo,'DejaVu Sans Mono',consolas,'Courier New',monospace\"><span style=\"color: #00ff00; text-decoration-color: #00ff00\">         </span><span style=\"color: #00ffaf; text-decoration-color: #00ffaf\">INFO    </span> <span style=\"color: #c6c6c6; text-decoration-color: #c6c6c6; font-weight: bold\"> Interval set to </span><span style=\"color: #c0c0c0; text-decoration-color: #c0c0c0; font-weight: bold\">1.28</span><span style=\"color: #c6c6c6; text-decoration-color: #c6c6c6; font-weight: bold\">-</span><span style=\"color: #c0c0c0; text-decoration-color: #c0c0c0; font-weight: bold\">1.536</span><span style=\"color: #c6c6c6; text-decoration-color: #c6c6c6; font-weight: bold\"> for nb                                     </span><a href=\"file:///home/tobi/sw/threeML/threeML/utils/data_builders/time_series_builder.py\" target=\"_blank\"><span style=\"color: #7f7f7f; text-decoration-color: #7f7f7f\">time_series_builder.py</span></a><span style=\"color: #7f7f7f; text-decoration-color: #7f7f7f\">:</span><a href=\"file:///home/tobi/sw/threeML/threeML/utils/data_builders/time_series_builder.py#290\" target=\"_blank\"><span style=\"color: #7f7f7f; text-decoration-color: #7f7f7f\">290</span></a>\n",
       "</pre>\n"
      ],
      "text/plain": [
       "\u001b[38;5;46m        \u001b[0m\u001b[38;5;46m \u001b[0m\u001b[38;5;49mINFO    \u001b[0m \u001b[1;38;5;251m Interval set to \u001b[0m\u001b[1;37m1.28\u001b[0m\u001b[1;38;5;251m-\u001b[0m\u001b[1;37m1.536\u001b[0m\u001b[1;38;5;251m for nb                                    \u001b[0m\u001b[1;38;5;251m \u001b[0m\u001b]8;id=150309;file:///home/tobi/sw/threeML/threeML/utils/data_builders/time_series_builder.py\u001b\\\u001b[2mtime_series_builder.py\u001b[0m\u001b]8;;\u001b\\\u001b[2m:\u001b[0m\u001b]8;id=843640;file:///home/tobi/sw/threeML/threeML/utils/data_builders/time_series_builder.py#290\u001b\\\u001b[2m290\u001b[0m\u001b]8;;\u001b\\\n"
      ]
     },
     "metadata": {},
     "output_type": "display_data"
    },
    {
     "name": "stdout",
     "output_type": "stream",
     "text": [
      "Run Timeselection for detector b0\n",
      "Lets mess things up for b0\n",
      "Set trigger time for det b0 to -0.0-0.064\n"
     ]
    },
    {
     "name": "stderr",
     "output_type": "stream",
     "text": [
      "\n",
      "WARNING RuntimeWarning: divide by zero encountered in log\n",
      "\n",
      "\n",
      "WARNING RuntimeWarning: invalid value encountered in multiply\n",
      "\n"
     ]
    },
    {
     "data": {
      "application/vnd.jupyter.widget-view+json": {
       "model_id": "5cbacdcc19274c1f834ce6240086a3f1",
       "version_major": 2,
       "version_minor": 0
      },
      "text/plain": [
       "Finding best polynomial Order:   0%|                      | 0/5 [00:00<?, ?it/s]"
      ]
     },
     "metadata": {},
     "output_type": "display_data"
    },
    {
     "data": {
      "text/html": [
       "<pre style=\"white-space:pre;overflow-x:auto;line-height:normal;font-family:Menlo,'DejaVu Sans Mono',consolas,'Courier New',monospace\"><span style=\"color: #00ff00; text-decoration-color: #00ff00\">         </span><span style=\"color: #00ffaf; text-decoration-color: #00ffaf\">INFO    </span> <span style=\"color: #c6c6c6; text-decoration-color: #c6c6c6; font-weight: bold\"> Auto-determined polynomial order: </span><span style=\"color: #c0c0c0; text-decoration-color: #c0c0c0; font-weight: bold\">1</span><span style=\"color: #c6c6c6; text-decoration-color: #c6c6c6; font-weight: bold\">                                </span><a href=\"file:///home/tobi/sw/threeML/threeML/utils/time_series/binned_spectrum_series.py\" target=\"_blank\"><span style=\"color: #7f7f7f; text-decoration-color: #7f7f7f\">binned_spectrum_series.py</span></a><span style=\"color: #7f7f7f; text-decoration-color: #7f7f7f\">:</span><a href=\"file:///home/tobi/sw/threeML/threeML/utils/time_series/binned_spectrum_series.py#389\" target=\"_blank\"><span style=\"color: #7f7f7f; text-decoration-color: #7f7f7f\">389</span></a>\n",
       "</pre>\n"
      ],
      "text/plain": [
       "\u001b[38;5;46m        \u001b[0m\u001b[38;5;46m \u001b[0m\u001b[38;5;49mINFO    \u001b[0m \u001b[1;38;5;251m Auto-determined polynomial order: \u001b[0m\u001b[1;37m1\u001b[0m\u001b[1;38;5;251m                               \u001b[0m\u001b[1;38;5;251m \u001b[0m\u001b]8;id=527622;file:///home/tobi/sw/threeML/threeML/utils/time_series/binned_spectrum_series.py\u001b\\\u001b[2mbinned_spectrum_series.py\u001b[0m\u001b]8;;\u001b\\\u001b[2m:\u001b[0m\u001b]8;id=233924;file:///home/tobi/sw/threeML/threeML/utils/time_series/binned_spectrum_series.py#389\u001b\\\u001b[2m389\u001b[0m\u001b]8;;\u001b\\\n"
      ]
     },
     "metadata": {},
     "output_type": "display_data"
    },
    {
     "data": {
      "application/vnd.jupyter.widget-view+json": {
       "model_id": "5dbbe2e64ac24620b13ef2daf771c625",
       "version_major": 2,
       "version_minor": 0
      },
      "text/plain": [
       "Fitting UNKNOWN background:   0%|                         | 0/8 [00:00<?, ?it/s]"
      ]
     },
     "metadata": {},
     "output_type": "display_data"
    },
    {
     "data": {
      "text/html": [
       "<pre style=\"white-space:pre;overflow-x:auto;line-height:normal;font-family:Menlo,'DejaVu Sans Mono',consolas,'Courier New',monospace\"><span style=\"color: #00ff00; text-decoration-color: #00ff00\">16:03:54 </span><span style=\"color: #00ffaf; text-decoration-color: #00ffaf\">INFO    </span> <span style=\"color: #c6c6c6; text-decoration-color: #c6c6c6; font-weight: bold\"> </span><span style=\"color: #800080; text-decoration-color: #800080; font-weight: bold; font-style: italic\">None</span><span style=\"color: #c6c6c6; text-decoration-color: #c6c6c6; font-weight: bold\"> </span><span style=\"color: #c0c0c0; text-decoration-color: #c0c0c0; font-weight: bold\">1</span><span style=\"color: #c6c6c6; text-decoration-color: #c6c6c6; font-weight: bold\">-order polynomial fit with the mle method                               </span><a href=\"file:///home/tobi/sw/threeML/threeML/utils/time_series/time_series.py\" target=\"_blank\"><span style=\"color: #7f7f7f; text-decoration-color: #7f7f7f\">time_series.py</span></a><span style=\"color: #7f7f7f; text-decoration-color: #7f7f7f\">:</span><a href=\"file:///home/tobi/sw/threeML/threeML/utils/time_series/time_series.py#458\" target=\"_blank\"><span style=\"color: #7f7f7f; text-decoration-color: #7f7f7f\">458</span></a>\n",
       "</pre>\n"
      ],
      "text/plain": [
       "\u001b[38;5;46m16:03:54\u001b[0m\u001b[38;5;46m \u001b[0m\u001b[38;5;49mINFO    \u001b[0m \u001b[1;38;5;251m \u001b[0m\u001b[1;3;35mNone\u001b[0m\u001b[1;38;5;251m \u001b[0m\u001b[1;37m1\u001b[0m\u001b[1;38;5;251m-order polynomial fit with the mle method                              \u001b[0m\u001b[1;38;5;251m \u001b[0m\u001b]8;id=960951;file:///home/tobi/sw/threeML/threeML/utils/time_series/time_series.py\u001b\\\u001b[2mtime_series.py\u001b[0m\u001b]8;;\u001b\\\u001b[2m:\u001b[0m\u001b]8;id=988679;file:///home/tobi/sw/threeML/threeML/utils/time_series/time_series.py#458\u001b\\\u001b[2m458\u001b[0m\u001b]8;;\u001b\\\n"
      ]
     },
     "metadata": {},
     "output_type": "display_data"
    },
    {
     "data": {
      "text/html": [
       "<pre style=\"white-space:pre;overflow-x:auto;line-height:normal;font-family:Menlo,'DejaVu Sans Mono',consolas,'Courier New',monospace\"><span style=\"color: #00ff00; text-decoration-color: #00ff00\">         </span><span style=\"color: #00ffaf; text-decoration-color: #00ffaf\">INFO    </span> <span style=\"color: #c6c6c6; text-decoration-color: #c6c6c6; font-weight: bold\"> Interval set to </span><span style=\"color: #c0c0c0; text-decoration-color: #c0c0c0; font-weight: bold\">-0.0</span><span style=\"color: #c6c6c6; text-decoration-color: #c6c6c6; font-weight: bold\">-</span><span style=\"color: #c0c0c0; text-decoration-color: #c0c0c0; font-weight: bold\">0.064</span><span style=\"color: #c6c6c6; text-decoration-color: #c6c6c6; font-weight: bold\"> for b0                                     </span><a href=\"file:///home/tobi/sw/threeML/threeML/utils/data_builders/time_series_builder.py\" target=\"_blank\"><span style=\"color: #7f7f7f; text-decoration-color: #7f7f7f\">time_series_builder.py</span></a><span style=\"color: #7f7f7f; text-decoration-color: #7f7f7f\">:</span><a href=\"file:///home/tobi/sw/threeML/threeML/utils/data_builders/time_series_builder.py#290\" target=\"_blank\"><span style=\"color: #7f7f7f; text-decoration-color: #7f7f7f\">290</span></a>\n",
       "</pre>\n"
      ],
      "text/plain": [
       "\u001b[38;5;46m        \u001b[0m\u001b[38;5;46m \u001b[0m\u001b[38;5;49mINFO    \u001b[0m \u001b[1;38;5;251m Interval set to \u001b[0m\u001b[1;37m-0.0\u001b[0m\u001b[1;38;5;251m-\u001b[0m\u001b[1;37m0.064\u001b[0m\u001b[1;38;5;251m for b0                                    \u001b[0m\u001b[1;38;5;251m \u001b[0m\u001b]8;id=855587;file:///home/tobi/sw/threeML/threeML/utils/data_builders/time_series_builder.py\u001b\\\u001b[2mtime_series_builder.py\u001b[0m\u001b]8;;\u001b\\\u001b[2m:\u001b[0m\u001b]8;id=49067;file:///home/tobi/sw/threeML/threeML/utils/data_builders/time_series_builder.py#290\u001b\\\u001b[2m290\u001b[0m\u001b]8;;\u001b\\\n"
      ]
     },
     "metadata": {},
     "output_type": "display_data"
    },
    {
     "name": "stdout",
     "output_type": "stream",
     "text": [
      "Run Timeselection for detector b1\n",
      "Lets mess things up for b1\n",
      "Set trigger time for det b1 to 0.512-0.768\n"
     ]
    },
    {
     "name": "stderr",
     "output_type": "stream",
     "text": [
      "\n",
      "WARNING RuntimeWarning: divide by zero encountered in log\n",
      "\n",
      "\n",
      "WARNING RuntimeWarning: invalid value encountered in multiply\n",
      "\n"
     ]
    },
    {
     "data": {
      "application/vnd.jupyter.widget-view+json": {
       "model_id": "9837055f6e0447459717c3fdef25507a",
       "version_major": 2,
       "version_minor": 0
      },
      "text/plain": [
       "Finding best polynomial Order:   0%|                      | 0/5 [00:00<?, ?it/s]"
      ]
     },
     "metadata": {},
     "output_type": "display_data"
    },
    {
     "data": {
      "text/html": [
       "<pre style=\"white-space:pre;overflow-x:auto;line-height:normal;font-family:Menlo,'DejaVu Sans Mono',consolas,'Courier New',monospace\"><span style=\"color: #00ff00; text-decoration-color: #00ff00\">         </span><span style=\"color: #00ffaf; text-decoration-color: #00ffaf\">INFO    </span> <span style=\"color: #c6c6c6; text-decoration-color: #c6c6c6; font-weight: bold\"> Auto-determined polynomial order: </span><span style=\"color: #c0c0c0; text-decoration-color: #c0c0c0; font-weight: bold\">1</span><span style=\"color: #c6c6c6; text-decoration-color: #c6c6c6; font-weight: bold\">                                </span><a href=\"file:///home/tobi/sw/threeML/threeML/utils/time_series/binned_spectrum_series.py\" target=\"_blank\"><span style=\"color: #7f7f7f; text-decoration-color: #7f7f7f\">binned_spectrum_series.py</span></a><span style=\"color: #7f7f7f; text-decoration-color: #7f7f7f\">:</span><a href=\"file:///home/tobi/sw/threeML/threeML/utils/time_series/binned_spectrum_series.py#389\" target=\"_blank\"><span style=\"color: #7f7f7f; text-decoration-color: #7f7f7f\">389</span></a>\n",
       "</pre>\n"
      ],
      "text/plain": [
       "\u001b[38;5;46m        \u001b[0m\u001b[38;5;46m \u001b[0m\u001b[38;5;49mINFO    \u001b[0m \u001b[1;38;5;251m Auto-determined polynomial order: \u001b[0m\u001b[1;37m1\u001b[0m\u001b[1;38;5;251m                               \u001b[0m\u001b[1;38;5;251m \u001b[0m\u001b]8;id=372381;file:///home/tobi/sw/threeML/threeML/utils/time_series/binned_spectrum_series.py\u001b\\\u001b[2mbinned_spectrum_series.py\u001b[0m\u001b]8;;\u001b\\\u001b[2m:\u001b[0m\u001b]8;id=892888;file:///home/tobi/sw/threeML/threeML/utils/time_series/binned_spectrum_series.py#389\u001b\\\u001b[2m389\u001b[0m\u001b]8;;\u001b\\\n"
      ]
     },
     "metadata": {},
     "output_type": "display_data"
    },
    {
     "data": {
      "application/vnd.jupyter.widget-view+json": {
       "model_id": "ffe397785f244297a75bec77f68216b4",
       "version_major": 2,
       "version_minor": 0
      },
      "text/plain": [
       "Fitting UNKNOWN background:   0%|                         | 0/8 [00:00<?, ?it/s]"
      ]
     },
     "metadata": {},
     "output_type": "display_data"
    },
    {
     "data": {
      "text/html": [
       "<pre style=\"white-space:pre;overflow-x:auto;line-height:normal;font-family:Menlo,'DejaVu Sans Mono',consolas,'Courier New',monospace\"><span style=\"color: #00ff00; text-decoration-color: #00ff00\">16:03:55 </span><span style=\"color: #00ffaf; text-decoration-color: #00ffaf\">INFO    </span> <span style=\"color: #c6c6c6; text-decoration-color: #c6c6c6; font-weight: bold\"> </span><span style=\"color: #800080; text-decoration-color: #800080; font-weight: bold; font-style: italic\">None</span><span style=\"color: #c6c6c6; text-decoration-color: #c6c6c6; font-weight: bold\"> </span><span style=\"color: #c0c0c0; text-decoration-color: #c0c0c0; font-weight: bold\">1</span><span style=\"color: #c6c6c6; text-decoration-color: #c6c6c6; font-weight: bold\">-order polynomial fit with the mle method                               </span><a href=\"file:///home/tobi/sw/threeML/threeML/utils/time_series/time_series.py\" target=\"_blank\"><span style=\"color: #7f7f7f; text-decoration-color: #7f7f7f\">time_series.py</span></a><span style=\"color: #7f7f7f; text-decoration-color: #7f7f7f\">:</span><a href=\"file:///home/tobi/sw/threeML/threeML/utils/time_series/time_series.py#458\" target=\"_blank\"><span style=\"color: #7f7f7f; text-decoration-color: #7f7f7f\">458</span></a>\n",
       "</pre>\n"
      ],
      "text/plain": [
       "\u001b[38;5;46m16:03:55\u001b[0m\u001b[38;5;46m \u001b[0m\u001b[38;5;49mINFO    \u001b[0m \u001b[1;38;5;251m \u001b[0m\u001b[1;3;35mNone\u001b[0m\u001b[1;38;5;251m \u001b[0m\u001b[1;37m1\u001b[0m\u001b[1;38;5;251m-order polynomial fit with the mle method                              \u001b[0m\u001b[1;38;5;251m \u001b[0m\u001b]8;id=434082;file:///home/tobi/sw/threeML/threeML/utils/time_series/time_series.py\u001b\\\u001b[2mtime_series.py\u001b[0m\u001b]8;;\u001b\\\u001b[2m:\u001b[0m\u001b]8;id=748788;file:///home/tobi/sw/threeML/threeML/utils/time_series/time_series.py#458\u001b\\\u001b[2m458\u001b[0m\u001b]8;;\u001b\\\n"
      ]
     },
     "metadata": {},
     "output_type": "display_data"
    },
    {
     "data": {
      "text/html": [
       "<pre style=\"white-space:pre;overflow-x:auto;line-height:normal;font-family:Menlo,'DejaVu Sans Mono',consolas,'Courier New',monospace\"><span style=\"color: #00ff00; text-decoration-color: #00ff00\">         </span><span style=\"color: #00ffaf; text-decoration-color: #00ffaf\">INFO    </span> <span style=\"color: #c6c6c6; text-decoration-color: #c6c6c6; font-weight: bold\"> Interval set to </span><span style=\"color: #c0c0c0; text-decoration-color: #c0c0c0; font-weight: bold\">0.512</span><span style=\"color: #c6c6c6; text-decoration-color: #c6c6c6; font-weight: bold\">-</span><span style=\"color: #c0c0c0; text-decoration-color: #c0c0c0; font-weight: bold\">0.768</span><span style=\"color: #c6c6c6; text-decoration-color: #c6c6c6; font-weight: bold\"> for b1                                    </span><a href=\"file:///home/tobi/sw/threeML/threeML/utils/data_builders/time_series_builder.py\" target=\"_blank\"><span style=\"color: #7f7f7f; text-decoration-color: #7f7f7f\">time_series_builder.py</span></a><span style=\"color: #7f7f7f; text-decoration-color: #7f7f7f\">:</span><a href=\"file:///home/tobi/sw/threeML/threeML/utils/data_builders/time_series_builder.py#290\" target=\"_blank\"><span style=\"color: #7f7f7f; text-decoration-color: #7f7f7f\">290</span></a>\n",
       "</pre>\n"
      ],
      "text/plain": [
       "\u001b[38;5;46m        \u001b[0m\u001b[38;5;46m \u001b[0m\u001b[38;5;49mINFO    \u001b[0m \u001b[1;38;5;251m Interval set to \u001b[0m\u001b[1;37m0.512\u001b[0m\u001b[1;38;5;251m-\u001b[0m\u001b[1;37m0.768\u001b[0m\u001b[1;38;5;251m for b1                                   \u001b[0m\u001b[1;38;5;251m \u001b[0m\u001b]8;id=284175;file:///home/tobi/sw/threeML/threeML/utils/data_builders/time_series_builder.py\u001b\\\u001b[2mtime_series_builder.py\u001b[0m\u001b]8;;\u001b\\\u001b[2m:\u001b[0m\u001b]8;id=611774;file:///home/tobi/sw/threeML/threeML/utils/data_builders/time_series_builder.py#290\u001b\\\u001b[2m290\u001b[0m\u001b]8;;\u001b\\\n"
      ]
     },
     "metadata": {},
     "output_type": "display_data"
    },
    {
     "name": "stdout",
     "output_type": "stream",
     "text": [
      "The detecors n2n5n7 had the highest significance and are used to fix the selections\n",
      "Lets mess things up for n2n5n7\n",
      "Set trigger time for det n2n5n7 to 0.256-9.216\n",
      "Conditions too hard, decreasing min length of blocks to 49 and setting distance to trigger to 19\n",
      "Conditions too hard, decreasing min length of blocks to 48 and setting distance to trigger to 18\n",
      "Conditions too hard, decreasing min length of blocks to 47 and setting distance to trigger to 17\n",
      "Conditions too hard, decreasing min length of blocks to 46 and setting distance to trigger to 16\n",
      "Conditions too hard, decreasing min length of blocks to 45 and setting distance to trigger to 15\n",
      "Conditions too hard, decreasing min length of blocks to 44 and setting distance to trigger to 14\n",
      "Conditions too hard, decreasing min length of blocks to 43 and setting distance to trigger to 13\n",
      "Conditions too hard, decreasing min length of blocks to 42 and setting distance to trigger to 12\n"
     ]
    },
    {
     "name": "stderr",
     "output_type": "stream",
     "text": [
      "\n",
      "WARNING RuntimeWarning: divide by zero encountered in log\n",
      "\n",
      "\n",
      "WARNING RuntimeWarning: invalid value encountered in multiply\n",
      "\n"
     ]
    },
    {
     "data": {
      "application/vnd.jupyter.widget-view+json": {
       "model_id": "df5a1585597446b2a3575e54e2379dad",
       "version_major": 2,
       "version_minor": 0
      },
      "text/plain": [
       "Finding best polynomial Order:   0%|                      | 0/5 [00:00<?, ?it/s]"
      ]
     },
     "metadata": {},
     "output_type": "display_data"
    },
    {
     "data": {
      "text/html": [
       "<pre style=\"white-space:pre;overflow-x:auto;line-height:normal;font-family:Menlo,'DejaVu Sans Mono',consolas,'Courier New',monospace\"><span style=\"color: #00ff00; text-decoration-color: #00ff00\">         </span><span style=\"color: #00ffaf; text-decoration-color: #00ffaf\">INFO    </span> <span style=\"color: #c6c6c6; text-decoration-color: #c6c6c6; font-weight: bold\"> Auto-determined polynomial order: </span><span style=\"color: #c0c0c0; text-decoration-color: #c0c0c0; font-weight: bold\">0</span><span style=\"color: #c6c6c6; text-decoration-color: #c6c6c6; font-weight: bold\">                                </span><a href=\"file:///home/tobi/sw/threeML/threeML/utils/time_series/binned_spectrum_series.py\" target=\"_blank\"><span style=\"color: #7f7f7f; text-decoration-color: #7f7f7f\">binned_spectrum_series.py</span></a><span style=\"color: #7f7f7f; text-decoration-color: #7f7f7f\">:</span><a href=\"file:///home/tobi/sw/threeML/threeML/utils/time_series/binned_spectrum_series.py#389\" target=\"_blank\"><span style=\"color: #7f7f7f; text-decoration-color: #7f7f7f\">389</span></a>\n",
       "</pre>\n"
      ],
      "text/plain": [
       "\u001b[38;5;46m        \u001b[0m\u001b[38;5;46m \u001b[0m\u001b[38;5;49mINFO    \u001b[0m \u001b[1;38;5;251m Auto-determined polynomial order: \u001b[0m\u001b[1;37m0\u001b[0m\u001b[1;38;5;251m                               \u001b[0m\u001b[1;38;5;251m \u001b[0m\u001b]8;id=337961;file:///home/tobi/sw/threeML/threeML/utils/time_series/binned_spectrum_series.py\u001b\\\u001b[2mbinned_spectrum_series.py\u001b[0m\u001b]8;;\u001b\\\u001b[2m:\u001b[0m\u001b]8;id=146042;file:///home/tobi/sw/threeML/threeML/utils/time_series/binned_spectrum_series.py#389\u001b\\\u001b[2m389\u001b[0m\u001b]8;;\u001b\\\n"
      ]
     },
     "metadata": {},
     "output_type": "display_data"
    },
    {
     "data": {
      "application/vnd.jupyter.widget-view+json": {
       "model_id": "22a8fb3e53774bfca6524d62d9b24e5e",
       "version_major": 2,
       "version_minor": 0
      },
      "text/plain": [
       "Fitting UNKNOWN background:   0%|                         | 0/8 [00:00<?, ?it/s]"
      ]
     },
     "metadata": {},
     "output_type": "display_data"
    },
    {
     "data": {
      "text/html": [
       "<pre style=\"white-space:pre;overflow-x:auto;line-height:normal;font-family:Menlo,'DejaVu Sans Mono',consolas,'Courier New',monospace\"><span style=\"color: #00ff00; text-decoration-color: #00ff00\">16:03:56 </span><span style=\"color: #00ffaf; text-decoration-color: #00ffaf\">INFO    </span> <span style=\"color: #c6c6c6; text-decoration-color: #c6c6c6; font-weight: bold\"> </span><span style=\"color: #800080; text-decoration-color: #800080; font-weight: bold; font-style: italic\">None</span><span style=\"color: #c6c6c6; text-decoration-color: #c6c6c6; font-weight: bold\"> </span><span style=\"color: #c0c0c0; text-decoration-color: #c0c0c0; font-weight: bold\">0</span><span style=\"color: #c6c6c6; text-decoration-color: #c6c6c6; font-weight: bold\">-order polynomial fit with the mle method                               </span><a href=\"file:///home/tobi/sw/threeML/threeML/utils/time_series/time_series.py\" target=\"_blank\"><span style=\"color: #7f7f7f; text-decoration-color: #7f7f7f\">time_series.py</span></a><span style=\"color: #7f7f7f; text-decoration-color: #7f7f7f\">:</span><a href=\"file:///home/tobi/sw/threeML/threeML/utils/time_series/time_series.py#458\" target=\"_blank\"><span style=\"color: #7f7f7f; text-decoration-color: #7f7f7f\">458</span></a>\n",
       "</pre>\n"
      ],
      "text/plain": [
       "\u001b[38;5;46m16:03:56\u001b[0m\u001b[38;5;46m \u001b[0m\u001b[38;5;49mINFO    \u001b[0m \u001b[1;38;5;251m \u001b[0m\u001b[1;3;35mNone\u001b[0m\u001b[1;38;5;251m \u001b[0m\u001b[1;37m0\u001b[0m\u001b[1;38;5;251m-order polynomial fit with the mle method                              \u001b[0m\u001b[1;38;5;251m \u001b[0m\u001b]8;id=978043;file:///home/tobi/sw/threeML/threeML/utils/time_series/time_series.py\u001b\\\u001b[2mtime_series.py\u001b[0m\u001b]8;;\u001b\\\u001b[2m:\u001b[0m\u001b]8;id=978562;file:///home/tobi/sw/threeML/threeML/utils/time_series/time_series.py#458\u001b\\\u001b[2m458\u001b[0m\u001b]8;;\u001b\\\n"
      ]
     },
     "metadata": {},
     "output_type": "display_data"
    },
    {
     "data": {
      "application/vnd.jupyter.widget-view+json": {
       "model_id": "0ba1c684ff874410a5466b36a984ad27",
       "version_major": 2,
       "version_minor": 0
      },
      "text/plain": [
       "Finding best polynomial Order:   0%|                      | 0/5 [00:00<?, ?it/s]"
      ]
     },
     "metadata": {},
     "output_type": "display_data"
    },
    {
     "data": {
      "text/html": [
       "<pre style=\"white-space:pre;overflow-x:auto;line-height:normal;font-family:Menlo,'DejaVu Sans Mono',consolas,'Courier New',monospace\"><span style=\"color: #00ff00; text-decoration-color: #00ff00\">         </span><span style=\"color: #00ffaf; text-decoration-color: #00ffaf\">INFO    </span> <span style=\"color: #c6c6c6; text-decoration-color: #c6c6c6; font-weight: bold\"> Auto-determined polynomial order: </span><span style=\"color: #c0c0c0; text-decoration-color: #c0c0c0; font-weight: bold\">2</span><span style=\"color: #c6c6c6; text-decoration-color: #c6c6c6; font-weight: bold\">                                </span><a href=\"file:///home/tobi/sw/threeML/threeML/utils/time_series/binned_spectrum_series.py\" target=\"_blank\"><span style=\"color: #7f7f7f; text-decoration-color: #7f7f7f\">binned_spectrum_series.py</span></a><span style=\"color: #7f7f7f; text-decoration-color: #7f7f7f\">:</span><a href=\"file:///home/tobi/sw/threeML/threeML/utils/time_series/binned_spectrum_series.py#389\" target=\"_blank\"><span style=\"color: #7f7f7f; text-decoration-color: #7f7f7f\">389</span></a>\n",
       "</pre>\n"
      ],
      "text/plain": [
       "\u001b[38;5;46m        \u001b[0m\u001b[38;5;46m \u001b[0m\u001b[38;5;49mINFO    \u001b[0m \u001b[1;38;5;251m Auto-determined polynomial order: \u001b[0m\u001b[1;37m2\u001b[0m\u001b[1;38;5;251m                               \u001b[0m\u001b[1;38;5;251m \u001b[0m\u001b]8;id=448274;file:///home/tobi/sw/threeML/threeML/utils/time_series/binned_spectrum_series.py\u001b\\\u001b[2mbinned_spectrum_series.py\u001b[0m\u001b]8;;\u001b\\\u001b[2m:\u001b[0m\u001b]8;id=268769;file:///home/tobi/sw/threeML/threeML/utils/time_series/binned_spectrum_series.py#389\u001b\\\u001b[2m389\u001b[0m\u001b]8;;\u001b\\\n"
      ]
     },
     "metadata": {},
     "output_type": "display_data"
    },
    {
     "data": {
      "application/vnd.jupyter.widget-view+json": {
       "model_id": "8c4bf66d32684b6e8c966da359228319",
       "version_major": 2,
       "version_minor": 0
      },
      "text/plain": [
       "Fitting UNKNOWN background:   0%|                         | 0/8 [00:00<?, ?it/s]"
      ]
     },
     "metadata": {},
     "output_type": "display_data"
    },
    {
     "data": {
      "text/html": [
       "<pre style=\"white-space:pre;overflow-x:auto;line-height:normal;font-family:Menlo,'DejaVu Sans Mono',consolas,'Courier New',monospace\"><span style=\"color: #00ff00; text-decoration-color: #00ff00\">16:03:57 </span><span style=\"color: #00ffaf; text-decoration-color: #00ffaf\">INFO    </span> <span style=\"color: #c6c6c6; text-decoration-color: #c6c6c6; font-weight: bold\"> </span><span style=\"color: #800080; text-decoration-color: #800080; font-weight: bold; font-style: italic\">None</span><span style=\"color: #c6c6c6; text-decoration-color: #c6c6c6; font-weight: bold\"> </span><span style=\"color: #c0c0c0; text-decoration-color: #c0c0c0; font-weight: bold\">2</span><span style=\"color: #c6c6c6; text-decoration-color: #c6c6c6; font-weight: bold\">-order polynomial fit with the mle method                               </span><a href=\"file:///home/tobi/sw/threeML/threeML/utils/time_series/time_series.py\" target=\"_blank\"><span style=\"color: #7f7f7f; text-decoration-color: #7f7f7f\">time_series.py</span></a><span style=\"color: #7f7f7f; text-decoration-color: #7f7f7f\">:</span><a href=\"file:///home/tobi/sw/threeML/threeML/utils/time_series/time_series.py#458\" target=\"_blank\"><span style=\"color: #7f7f7f; text-decoration-color: #7f7f7f\">458</span></a>\n",
       "</pre>\n"
      ],
      "text/plain": [
       "\u001b[38;5;46m16:03:57\u001b[0m\u001b[38;5;46m \u001b[0m\u001b[38;5;49mINFO    \u001b[0m \u001b[1;38;5;251m \u001b[0m\u001b[1;3;35mNone\u001b[0m\u001b[1;38;5;251m \u001b[0m\u001b[1;37m2\u001b[0m\u001b[1;38;5;251m-order polynomial fit with the mle method                              \u001b[0m\u001b[1;38;5;251m \u001b[0m\u001b]8;id=220817;file:///home/tobi/sw/threeML/threeML/utils/time_series/time_series.py\u001b\\\u001b[2mtime_series.py\u001b[0m\u001b]8;;\u001b\\\u001b[2m:\u001b[0m\u001b]8;id=671687;file:///home/tobi/sw/threeML/threeML/utils/time_series/time_series.py#458\u001b\\\u001b[2m458\u001b[0m\u001b]8;;\u001b\\\n"
      ]
     },
     "metadata": {},
     "output_type": "display_data"
    },
    {
     "data": {
      "application/vnd.jupyter.widget-view+json": {
       "model_id": "4ba479108dc94893b3f7f7b872234d69",
       "version_major": 2,
       "version_minor": 0
      },
      "text/plain": [
       "Finding best polynomial Order:   0%|                      | 0/5 [00:00<?, ?it/s]"
      ]
     },
     "metadata": {},
     "output_type": "display_data"
    },
    {
     "data": {
      "text/html": [
       "<pre style=\"white-space:pre;overflow-x:auto;line-height:normal;font-family:Menlo,'DejaVu Sans Mono',consolas,'Courier New',monospace\"><span style=\"color: #00ff00; text-decoration-color: #00ff00\">         </span><span style=\"color: #00ffaf; text-decoration-color: #00ffaf\">INFO    </span> <span style=\"color: #c6c6c6; text-decoration-color: #c6c6c6; font-weight: bold\"> Auto-determined polynomial order: </span><span style=\"color: #c0c0c0; text-decoration-color: #c0c0c0; font-weight: bold\">1</span><span style=\"color: #c6c6c6; text-decoration-color: #c6c6c6; font-weight: bold\">                                </span><a href=\"file:///home/tobi/sw/threeML/threeML/utils/time_series/binned_spectrum_series.py\" target=\"_blank\"><span style=\"color: #7f7f7f; text-decoration-color: #7f7f7f\">binned_spectrum_series.py</span></a><span style=\"color: #7f7f7f; text-decoration-color: #7f7f7f\">:</span><a href=\"file:///home/tobi/sw/threeML/threeML/utils/time_series/binned_spectrum_series.py#389\" target=\"_blank\"><span style=\"color: #7f7f7f; text-decoration-color: #7f7f7f\">389</span></a>\n",
       "</pre>\n"
      ],
      "text/plain": [
       "\u001b[38;5;46m        \u001b[0m\u001b[38;5;46m \u001b[0m\u001b[38;5;49mINFO    \u001b[0m \u001b[1;38;5;251m Auto-determined polynomial order: \u001b[0m\u001b[1;37m1\u001b[0m\u001b[1;38;5;251m                               \u001b[0m\u001b[1;38;5;251m \u001b[0m\u001b]8;id=692772;file:///home/tobi/sw/threeML/threeML/utils/time_series/binned_spectrum_series.py\u001b\\\u001b[2mbinned_spectrum_series.py\u001b[0m\u001b]8;;\u001b\\\u001b[2m:\u001b[0m\u001b]8;id=590738;file:///home/tobi/sw/threeML/threeML/utils/time_series/binned_spectrum_series.py#389\u001b\\\u001b[2m389\u001b[0m\u001b]8;;\u001b\\\n"
      ]
     },
     "metadata": {},
     "output_type": "display_data"
    },
    {
     "data": {
      "application/vnd.jupyter.widget-view+json": {
       "model_id": "430e057ac30a4dbea1ba1122c2e85342",
       "version_major": 2,
       "version_minor": 0
      },
      "text/plain": [
       "Fitting UNKNOWN background:   0%|                         | 0/8 [00:00<?, ?it/s]"
      ]
     },
     "metadata": {},
     "output_type": "display_data"
    },
    {
     "data": {
      "text/html": [
       "<pre style=\"white-space:pre;overflow-x:auto;line-height:normal;font-family:Menlo,'DejaVu Sans Mono',consolas,'Courier New',monospace\"><span style=\"color: #00ff00; text-decoration-color: #00ff00\">16:03:58 </span><span style=\"color: #00ffaf; text-decoration-color: #00ffaf\">INFO    </span> <span style=\"color: #c6c6c6; text-decoration-color: #c6c6c6; font-weight: bold\"> </span><span style=\"color: #800080; text-decoration-color: #800080; font-weight: bold; font-style: italic\">None</span><span style=\"color: #c6c6c6; text-decoration-color: #c6c6c6; font-weight: bold\"> </span><span style=\"color: #c0c0c0; text-decoration-color: #c0c0c0; font-weight: bold\">1</span><span style=\"color: #c6c6c6; text-decoration-color: #c6c6c6; font-weight: bold\">-order polynomial fit with the mle method                               </span><a href=\"file:///home/tobi/sw/threeML/threeML/utils/time_series/time_series.py\" target=\"_blank\"><span style=\"color: #7f7f7f; text-decoration-color: #7f7f7f\">time_series.py</span></a><span style=\"color: #7f7f7f; text-decoration-color: #7f7f7f\">:</span><a href=\"file:///home/tobi/sw/threeML/threeML/utils/time_series/time_series.py#458\" target=\"_blank\"><span style=\"color: #7f7f7f; text-decoration-color: #7f7f7f\">458</span></a>\n",
       "</pre>\n"
      ],
      "text/plain": [
       "\u001b[38;5;46m16:03:58\u001b[0m\u001b[38;5;46m \u001b[0m\u001b[38;5;49mINFO    \u001b[0m \u001b[1;38;5;251m \u001b[0m\u001b[1;3;35mNone\u001b[0m\u001b[1;38;5;251m \u001b[0m\u001b[1;37m1\u001b[0m\u001b[1;38;5;251m-order polynomial fit with the mle method                              \u001b[0m\u001b[1;38;5;251m \u001b[0m\u001b]8;id=176128;file:///home/tobi/sw/threeML/threeML/utils/time_series/time_series.py\u001b\\\u001b[2mtime_series.py\u001b[0m\u001b]8;;\u001b\\\u001b[2m:\u001b[0m\u001b]8;id=188493;file:///home/tobi/sw/threeML/threeML/utils/time_series/time_series.py#458\u001b\\\u001b[2m458\u001b[0m\u001b]8;;\u001b\\\n"
      ]
     },
     "metadata": {},
     "output_type": "display_data"
    },
    {
     "data": {
      "application/vnd.jupyter.widget-view+json": {
       "model_id": "01243fbe8f4943f196bf597ee27c404a",
       "version_major": 2,
       "version_minor": 0
      },
      "text/plain": [
       "Finding best polynomial Order:   0%|                      | 0/5 [00:00<?, ?it/s]"
      ]
     },
     "metadata": {},
     "output_type": "display_data"
    },
    {
     "data": {
      "text/html": [
       "<pre style=\"white-space:pre;overflow-x:auto;line-height:normal;font-family:Menlo,'DejaVu Sans Mono',consolas,'Courier New',monospace\"><span style=\"color: #00ff00; text-decoration-color: #00ff00\">         </span><span style=\"color: #00ffaf; text-decoration-color: #00ffaf\">INFO    </span> <span style=\"color: #c6c6c6; text-decoration-color: #c6c6c6; font-weight: bold\"> Auto-determined polynomial order: </span><span style=\"color: #c0c0c0; text-decoration-color: #c0c0c0; font-weight: bold\">1</span><span style=\"color: #c6c6c6; text-decoration-color: #c6c6c6; font-weight: bold\">                                </span><a href=\"file:///home/tobi/sw/threeML/threeML/utils/time_series/binned_spectrum_series.py\" target=\"_blank\"><span style=\"color: #7f7f7f; text-decoration-color: #7f7f7f\">binned_spectrum_series.py</span></a><span style=\"color: #7f7f7f; text-decoration-color: #7f7f7f\">:</span><a href=\"file:///home/tobi/sw/threeML/threeML/utils/time_series/binned_spectrum_series.py#389\" target=\"_blank\"><span style=\"color: #7f7f7f; text-decoration-color: #7f7f7f\">389</span></a>\n",
       "</pre>\n"
      ],
      "text/plain": [
       "\u001b[38;5;46m        \u001b[0m\u001b[38;5;46m \u001b[0m\u001b[38;5;49mINFO    \u001b[0m \u001b[1;38;5;251m Auto-determined polynomial order: \u001b[0m\u001b[1;37m1\u001b[0m\u001b[1;38;5;251m                               \u001b[0m\u001b[1;38;5;251m \u001b[0m\u001b]8;id=104633;file:///home/tobi/sw/threeML/threeML/utils/time_series/binned_spectrum_series.py\u001b\\\u001b[2mbinned_spectrum_series.py\u001b[0m\u001b]8;;\u001b\\\u001b[2m:\u001b[0m\u001b]8;id=443093;file:///home/tobi/sw/threeML/threeML/utils/time_series/binned_spectrum_series.py#389\u001b\\\u001b[2m389\u001b[0m\u001b]8;;\u001b\\\n"
      ]
     },
     "metadata": {},
     "output_type": "display_data"
    },
    {
     "data": {
      "application/vnd.jupyter.widget-view+json": {
       "model_id": "022db114a9ac4be3a147a2398ad8057b",
       "version_major": 2,
       "version_minor": 0
      },
      "text/plain": [
       "Fitting UNKNOWN background:   0%|                         | 0/8 [00:00<?, ?it/s]"
      ]
     },
     "metadata": {},
     "output_type": "display_data"
    },
    {
     "data": {
      "text/html": [
       "<pre style=\"white-space:pre;overflow-x:auto;line-height:normal;font-family:Menlo,'DejaVu Sans Mono',consolas,'Courier New',monospace\"><span style=\"color: #00ff00; text-decoration-color: #00ff00\">16:03:59 </span><span style=\"color: #00ffaf; text-decoration-color: #00ffaf\">INFO    </span> <span style=\"color: #c6c6c6; text-decoration-color: #c6c6c6; font-weight: bold\"> </span><span style=\"color: #800080; text-decoration-color: #800080; font-weight: bold; font-style: italic\">None</span><span style=\"color: #c6c6c6; text-decoration-color: #c6c6c6; font-weight: bold\"> </span><span style=\"color: #c0c0c0; text-decoration-color: #c0c0c0; font-weight: bold\">1</span><span style=\"color: #c6c6c6; text-decoration-color: #c6c6c6; font-weight: bold\">-order polynomial fit with the mle method                               </span><a href=\"file:///home/tobi/sw/threeML/threeML/utils/time_series/time_series.py\" target=\"_blank\"><span style=\"color: #7f7f7f; text-decoration-color: #7f7f7f\">time_series.py</span></a><span style=\"color: #7f7f7f; text-decoration-color: #7f7f7f\">:</span><a href=\"file:///home/tobi/sw/threeML/threeML/utils/time_series/time_series.py#458\" target=\"_blank\"><span style=\"color: #7f7f7f; text-decoration-color: #7f7f7f\">458</span></a>\n",
       "</pre>\n"
      ],
      "text/plain": [
       "\u001b[38;5;46m16:03:59\u001b[0m\u001b[38;5;46m \u001b[0m\u001b[38;5;49mINFO    \u001b[0m \u001b[1;38;5;251m \u001b[0m\u001b[1;3;35mNone\u001b[0m\u001b[1;38;5;251m \u001b[0m\u001b[1;37m1\u001b[0m\u001b[1;38;5;251m-order polynomial fit with the mle method                              \u001b[0m\u001b[1;38;5;251m \u001b[0m\u001b]8;id=797426;file:///home/tobi/sw/threeML/threeML/utils/time_series/time_series.py\u001b\\\u001b[2mtime_series.py\u001b[0m\u001b]8;;\u001b\\\u001b[2m:\u001b[0m\u001b]8;id=114299;file:///home/tobi/sw/threeML/threeML/utils/time_series/time_series.py#458\u001b\\\u001b[2m458\u001b[0m\u001b]8;;\u001b\\\n"
      ]
     },
     "metadata": {},
     "output_type": "display_data"
    },
    {
     "data": {
      "application/vnd.jupyter.widget-view+json": {
       "model_id": "dbf0a5eeeb90448e9c7f4eea92d34536",
       "version_major": 2,
       "version_minor": 0
      },
      "text/plain": [
       "Finding best polynomial Order:   0%|                      | 0/5 [00:00<?, ?it/s]"
      ]
     },
     "metadata": {},
     "output_type": "display_data"
    },
    {
     "data": {
      "text/html": [
       "<pre style=\"white-space:pre;overflow-x:auto;line-height:normal;font-family:Menlo,'DejaVu Sans Mono',consolas,'Courier New',monospace\"><span style=\"color: #00ff00; text-decoration-color: #00ff00\">         </span><span style=\"color: #00ffaf; text-decoration-color: #00ffaf\">INFO    </span> <span style=\"color: #c6c6c6; text-decoration-color: #c6c6c6; font-weight: bold\"> Auto-determined polynomial order: </span><span style=\"color: #c0c0c0; text-decoration-color: #c0c0c0; font-weight: bold\">1</span><span style=\"color: #c6c6c6; text-decoration-color: #c6c6c6; font-weight: bold\">                                </span><a href=\"file:///home/tobi/sw/threeML/threeML/utils/time_series/binned_spectrum_series.py\" target=\"_blank\"><span style=\"color: #7f7f7f; text-decoration-color: #7f7f7f\">binned_spectrum_series.py</span></a><span style=\"color: #7f7f7f; text-decoration-color: #7f7f7f\">:</span><a href=\"file:///home/tobi/sw/threeML/threeML/utils/time_series/binned_spectrum_series.py#389\" target=\"_blank\"><span style=\"color: #7f7f7f; text-decoration-color: #7f7f7f\">389</span></a>\n",
       "</pre>\n"
      ],
      "text/plain": [
       "\u001b[38;5;46m        \u001b[0m\u001b[38;5;46m \u001b[0m\u001b[38;5;49mINFO    \u001b[0m \u001b[1;38;5;251m Auto-determined polynomial order: \u001b[0m\u001b[1;37m1\u001b[0m\u001b[1;38;5;251m                               \u001b[0m\u001b[1;38;5;251m \u001b[0m\u001b]8;id=927712;file:///home/tobi/sw/threeML/threeML/utils/time_series/binned_spectrum_series.py\u001b\\\u001b[2mbinned_spectrum_series.py\u001b[0m\u001b]8;;\u001b\\\u001b[2m:\u001b[0m\u001b]8;id=348537;file:///home/tobi/sw/threeML/threeML/utils/time_series/binned_spectrum_series.py#389\u001b\\\u001b[2m389\u001b[0m\u001b]8;;\u001b\\\n"
      ]
     },
     "metadata": {},
     "output_type": "display_data"
    },
    {
     "data": {
      "application/vnd.jupyter.widget-view+json": {
       "model_id": "a2e74c6781014595a6f534384774bd4c",
       "version_major": 2,
       "version_minor": 0
      },
      "text/plain": [
       "Fitting UNKNOWN background:   0%|                         | 0/8 [00:00<?, ?it/s]"
      ]
     },
     "metadata": {},
     "output_type": "display_data"
    },
    {
     "data": {
      "text/html": [
       "<pre style=\"white-space:pre;overflow-x:auto;line-height:normal;font-family:Menlo,'DejaVu Sans Mono',consolas,'Courier New',monospace\"><span style=\"color: #00ff00; text-decoration-color: #00ff00\">16:04:00 </span><span style=\"color: #00ffaf; text-decoration-color: #00ffaf\">INFO    </span> <span style=\"color: #c6c6c6; text-decoration-color: #c6c6c6; font-weight: bold\"> </span><span style=\"color: #800080; text-decoration-color: #800080; font-weight: bold; font-style: italic\">None</span><span style=\"color: #c6c6c6; text-decoration-color: #c6c6c6; font-weight: bold\"> </span><span style=\"color: #c0c0c0; text-decoration-color: #c0c0c0; font-weight: bold\">1</span><span style=\"color: #c6c6c6; text-decoration-color: #c6c6c6; font-weight: bold\">-order polynomial fit with the mle method                               </span><a href=\"file:///home/tobi/sw/threeML/threeML/utils/time_series/time_series.py\" target=\"_blank\"><span style=\"color: #7f7f7f; text-decoration-color: #7f7f7f\">time_series.py</span></a><span style=\"color: #7f7f7f; text-decoration-color: #7f7f7f\">:</span><a href=\"file:///home/tobi/sw/threeML/threeML/utils/time_series/time_series.py#458\" target=\"_blank\"><span style=\"color: #7f7f7f; text-decoration-color: #7f7f7f\">458</span></a>\n",
       "</pre>\n"
      ],
      "text/plain": [
       "\u001b[38;5;46m16:04:00\u001b[0m\u001b[38;5;46m \u001b[0m\u001b[38;5;49mINFO    \u001b[0m \u001b[1;38;5;251m \u001b[0m\u001b[1;3;35mNone\u001b[0m\u001b[1;38;5;251m \u001b[0m\u001b[1;37m1\u001b[0m\u001b[1;38;5;251m-order polynomial fit with the mle method                              \u001b[0m\u001b[1;38;5;251m \u001b[0m\u001b]8;id=56443;file:///home/tobi/sw/threeML/threeML/utils/time_series/time_series.py\u001b\\\u001b[2mtime_series.py\u001b[0m\u001b]8;;\u001b\\\u001b[2m:\u001b[0m\u001b]8;id=112061;file:///home/tobi/sw/threeML/threeML/utils/time_series/time_series.py#458\u001b\\\u001b[2m458\u001b[0m\u001b]8;;\u001b\\\n"
      ]
     },
     "metadata": {},
     "output_type": "display_data"
    },
    {
     "data": {
      "application/vnd.jupyter.widget-view+json": {
       "model_id": "3becafc9538542dfaf623804ec464b1f",
       "version_major": 2,
       "version_minor": 0
      },
      "text/plain": [
       "Finding best polynomial Order:   0%|                      | 0/5 [00:00<?, ?it/s]"
      ]
     },
     "metadata": {},
     "output_type": "display_data"
    },
    {
     "data": {
      "text/html": [
       "<pre style=\"white-space:pre;overflow-x:auto;line-height:normal;font-family:Menlo,'DejaVu Sans Mono',consolas,'Courier New',monospace\"><span style=\"color: #00ff00; text-decoration-color: #00ff00\">         </span><span style=\"color: #00ffaf; text-decoration-color: #00ffaf\">INFO    </span> <span style=\"color: #c6c6c6; text-decoration-color: #c6c6c6; font-weight: bold\"> Auto-determined polynomial order: </span><span style=\"color: #c0c0c0; text-decoration-color: #c0c0c0; font-weight: bold\">2</span><span style=\"color: #c6c6c6; text-decoration-color: #c6c6c6; font-weight: bold\">                                </span><a href=\"file:///home/tobi/sw/threeML/threeML/utils/time_series/binned_spectrum_series.py\" target=\"_blank\"><span style=\"color: #7f7f7f; text-decoration-color: #7f7f7f\">binned_spectrum_series.py</span></a><span style=\"color: #7f7f7f; text-decoration-color: #7f7f7f\">:</span><a href=\"file:///home/tobi/sw/threeML/threeML/utils/time_series/binned_spectrum_series.py#389\" target=\"_blank\"><span style=\"color: #7f7f7f; text-decoration-color: #7f7f7f\">389</span></a>\n",
       "</pre>\n"
      ],
      "text/plain": [
       "\u001b[38;5;46m        \u001b[0m\u001b[38;5;46m \u001b[0m\u001b[38;5;49mINFO    \u001b[0m \u001b[1;38;5;251m Auto-determined polynomial order: \u001b[0m\u001b[1;37m2\u001b[0m\u001b[1;38;5;251m                               \u001b[0m\u001b[1;38;5;251m \u001b[0m\u001b]8;id=87731;file:///home/tobi/sw/threeML/threeML/utils/time_series/binned_spectrum_series.py\u001b\\\u001b[2mbinned_spectrum_series.py\u001b[0m\u001b]8;;\u001b\\\u001b[2m:\u001b[0m\u001b]8;id=958007;file:///home/tobi/sw/threeML/threeML/utils/time_series/binned_spectrum_series.py#389\u001b\\\u001b[2m389\u001b[0m\u001b]8;;\u001b\\\n"
      ]
     },
     "metadata": {},
     "output_type": "display_data"
    },
    {
     "data": {
      "application/vnd.jupyter.widget-view+json": {
       "model_id": "b6eea6fa36814a40a351a200d18582d6",
       "version_major": 2,
       "version_minor": 0
      },
      "text/plain": [
       "Fitting UNKNOWN background:   0%|                         | 0/8 [00:00<?, ?it/s]"
      ]
     },
     "metadata": {},
     "output_type": "display_data"
    },
    {
     "data": {
      "text/html": [
       "<pre style=\"white-space:pre;overflow-x:auto;line-height:normal;font-family:Menlo,'DejaVu Sans Mono',consolas,'Courier New',monospace\"><span style=\"color: #00ff00; text-decoration-color: #00ff00\">16:04:01 </span><span style=\"color: #00ffaf; text-decoration-color: #00ffaf\">INFO    </span> <span style=\"color: #c6c6c6; text-decoration-color: #c6c6c6; font-weight: bold\"> </span><span style=\"color: #800080; text-decoration-color: #800080; font-weight: bold; font-style: italic\">None</span><span style=\"color: #c6c6c6; text-decoration-color: #c6c6c6; font-weight: bold\"> </span><span style=\"color: #c0c0c0; text-decoration-color: #c0c0c0; font-weight: bold\">2</span><span style=\"color: #c6c6c6; text-decoration-color: #c6c6c6; font-weight: bold\">-order polynomial fit with the mle method                               </span><a href=\"file:///home/tobi/sw/threeML/threeML/utils/time_series/time_series.py\" target=\"_blank\"><span style=\"color: #7f7f7f; text-decoration-color: #7f7f7f\">time_series.py</span></a><span style=\"color: #7f7f7f; text-decoration-color: #7f7f7f\">:</span><a href=\"file:///home/tobi/sw/threeML/threeML/utils/time_series/time_series.py#458\" target=\"_blank\"><span style=\"color: #7f7f7f; text-decoration-color: #7f7f7f\">458</span></a>\n",
       "</pre>\n"
      ],
      "text/plain": [
       "\u001b[38;5;46m16:04:01\u001b[0m\u001b[38;5;46m \u001b[0m\u001b[38;5;49mINFO    \u001b[0m \u001b[1;38;5;251m \u001b[0m\u001b[1;3;35mNone\u001b[0m\u001b[1;38;5;251m \u001b[0m\u001b[1;37m2\u001b[0m\u001b[1;38;5;251m-order polynomial fit with the mle method                              \u001b[0m\u001b[1;38;5;251m \u001b[0m\u001b]8;id=357635;file:///home/tobi/sw/threeML/threeML/utils/time_series/time_series.py\u001b\\\u001b[2mtime_series.py\u001b[0m\u001b]8;;\u001b\\\u001b[2m:\u001b[0m\u001b]8;id=592556;file:///home/tobi/sw/threeML/threeML/utils/time_series/time_series.py#458\u001b\\\u001b[2m458\u001b[0m\u001b]8;;\u001b\\\n"
      ]
     },
     "metadata": {},
     "output_type": "display_data"
    },
    {
     "data": {
      "application/vnd.jupyter.widget-view+json": {
       "model_id": "efce60cbb7354357a203bbec43a29c45",
       "version_major": 2,
       "version_minor": 0
      },
      "text/plain": [
       "Finding best polynomial Order:   0%|                      | 0/5 [00:00<?, ?it/s]"
      ]
     },
     "metadata": {},
     "output_type": "display_data"
    },
    {
     "data": {
      "text/html": [
       "<pre style=\"white-space:pre;overflow-x:auto;line-height:normal;font-family:Menlo,'DejaVu Sans Mono',consolas,'Courier New',monospace\"><span style=\"color: #00ff00; text-decoration-color: #00ff00\">16:04:02 </span><span style=\"color: #00ffaf; text-decoration-color: #00ffaf\">INFO    </span> <span style=\"color: #c6c6c6; text-decoration-color: #c6c6c6; font-weight: bold\"> Auto-determined polynomial order: </span><span style=\"color: #c0c0c0; text-decoration-color: #c0c0c0; font-weight: bold\">2</span><span style=\"color: #c6c6c6; text-decoration-color: #c6c6c6; font-weight: bold\">                                </span><a href=\"file:///home/tobi/sw/threeML/threeML/utils/time_series/binned_spectrum_series.py\" target=\"_blank\"><span style=\"color: #7f7f7f; text-decoration-color: #7f7f7f\">binned_spectrum_series.py</span></a><span style=\"color: #7f7f7f; text-decoration-color: #7f7f7f\">:</span><a href=\"file:///home/tobi/sw/threeML/threeML/utils/time_series/binned_spectrum_series.py#389\" target=\"_blank\"><span style=\"color: #7f7f7f; text-decoration-color: #7f7f7f\">389</span></a>\n",
       "</pre>\n"
      ],
      "text/plain": [
       "\u001b[38;5;46m16:04:02\u001b[0m\u001b[38;5;46m \u001b[0m\u001b[38;5;49mINFO    \u001b[0m \u001b[1;38;5;251m Auto-determined polynomial order: \u001b[0m\u001b[1;37m2\u001b[0m\u001b[1;38;5;251m                               \u001b[0m\u001b[1;38;5;251m \u001b[0m\u001b]8;id=134658;file:///home/tobi/sw/threeML/threeML/utils/time_series/binned_spectrum_series.py\u001b\\\u001b[2mbinned_spectrum_series.py\u001b[0m\u001b]8;;\u001b\\\u001b[2m:\u001b[0m\u001b]8;id=874108;file:///home/tobi/sw/threeML/threeML/utils/time_series/binned_spectrum_series.py#389\u001b\\\u001b[2m389\u001b[0m\u001b]8;;\u001b\\\n"
      ]
     },
     "metadata": {},
     "output_type": "display_data"
    },
    {
     "data": {
      "application/vnd.jupyter.widget-view+json": {
       "model_id": "028c94a35d064d4195654f6d3f48b7e1",
       "version_major": 2,
       "version_minor": 0
      },
      "text/plain": [
       "Fitting UNKNOWN background:   0%|                         | 0/8 [00:00<?, ?it/s]"
      ]
     },
     "metadata": {},
     "output_type": "display_data"
    },
    {
     "data": {
      "text/html": [
       "<pre style=\"white-space:pre;overflow-x:auto;line-height:normal;font-family:Menlo,'DejaVu Sans Mono',consolas,'Courier New',monospace\"><span style=\"color: #00ff00; text-decoration-color: #00ff00\">16:04:03 </span><span style=\"color: #00ffaf; text-decoration-color: #00ffaf\">INFO    </span> <span style=\"color: #c6c6c6; text-decoration-color: #c6c6c6; font-weight: bold\"> </span><span style=\"color: #800080; text-decoration-color: #800080; font-weight: bold; font-style: italic\">None</span><span style=\"color: #c6c6c6; text-decoration-color: #c6c6c6; font-weight: bold\"> </span><span style=\"color: #c0c0c0; text-decoration-color: #c0c0c0; font-weight: bold\">2</span><span style=\"color: #c6c6c6; text-decoration-color: #c6c6c6; font-weight: bold\">-order polynomial fit with the mle method                               </span><a href=\"file:///home/tobi/sw/threeML/threeML/utils/time_series/time_series.py\" target=\"_blank\"><span style=\"color: #7f7f7f; text-decoration-color: #7f7f7f\">time_series.py</span></a><span style=\"color: #7f7f7f; text-decoration-color: #7f7f7f\">:</span><a href=\"file:///home/tobi/sw/threeML/threeML/utils/time_series/time_series.py#458\" target=\"_blank\"><span style=\"color: #7f7f7f; text-decoration-color: #7f7f7f\">458</span></a>\n",
       "</pre>\n"
      ],
      "text/plain": [
       "\u001b[38;5;46m16:04:03\u001b[0m\u001b[38;5;46m \u001b[0m\u001b[38;5;49mINFO    \u001b[0m \u001b[1;38;5;251m \u001b[0m\u001b[1;3;35mNone\u001b[0m\u001b[1;38;5;251m \u001b[0m\u001b[1;37m2\u001b[0m\u001b[1;38;5;251m-order polynomial fit with the mle method                              \u001b[0m\u001b[1;38;5;251m \u001b[0m\u001b]8;id=84825;file:///home/tobi/sw/threeML/threeML/utils/time_series/time_series.py\u001b\\\u001b[2mtime_series.py\u001b[0m\u001b]8;;\u001b\\\u001b[2m:\u001b[0m\u001b]8;id=638953;file:///home/tobi/sw/threeML/threeML/utils/time_series/time_series.py#458\u001b\\\u001b[2m458\u001b[0m\u001b]8;;\u001b\\\n"
      ]
     },
     "metadata": {},
     "output_type": "display_data"
    },
    {
     "data": {
      "application/vnd.jupyter.widget-view+json": {
       "model_id": "2df17086eee1466393aad247ce2f3c3d",
       "version_major": 2,
       "version_minor": 0
      },
      "text/plain": [
       "Finding best polynomial Order:   0%|                      | 0/5 [00:00<?, ?it/s]"
      ]
     },
     "metadata": {},
     "output_type": "display_data"
    },
    {
     "data": {
      "text/html": [
       "<pre style=\"white-space:pre;overflow-x:auto;line-height:normal;font-family:Menlo,'DejaVu Sans Mono',consolas,'Courier New',monospace\"><span style=\"color: #00ff00; text-decoration-color: #00ff00\">         </span><span style=\"color: #00ffaf; text-decoration-color: #00ffaf\">INFO    </span> <span style=\"color: #c6c6c6; text-decoration-color: #c6c6c6; font-weight: bold\"> Auto-determined polynomial order: </span><span style=\"color: #c0c0c0; text-decoration-color: #c0c0c0; font-weight: bold\">2</span><span style=\"color: #c6c6c6; text-decoration-color: #c6c6c6; font-weight: bold\">                                </span><a href=\"file:///home/tobi/sw/threeML/threeML/utils/time_series/binned_spectrum_series.py\" target=\"_blank\"><span style=\"color: #7f7f7f; text-decoration-color: #7f7f7f\">binned_spectrum_series.py</span></a><span style=\"color: #7f7f7f; text-decoration-color: #7f7f7f\">:</span><a href=\"file:///home/tobi/sw/threeML/threeML/utils/time_series/binned_spectrum_series.py#389\" target=\"_blank\"><span style=\"color: #7f7f7f; text-decoration-color: #7f7f7f\">389</span></a>\n",
       "</pre>\n"
      ],
      "text/plain": [
       "\u001b[38;5;46m        \u001b[0m\u001b[38;5;46m \u001b[0m\u001b[38;5;49mINFO    \u001b[0m \u001b[1;38;5;251m Auto-determined polynomial order: \u001b[0m\u001b[1;37m2\u001b[0m\u001b[1;38;5;251m                               \u001b[0m\u001b[1;38;5;251m \u001b[0m\u001b]8;id=153198;file:///home/tobi/sw/threeML/threeML/utils/time_series/binned_spectrum_series.py\u001b\\\u001b[2mbinned_spectrum_series.py\u001b[0m\u001b]8;;\u001b\\\u001b[2m:\u001b[0m\u001b]8;id=213650;file:///home/tobi/sw/threeML/threeML/utils/time_series/binned_spectrum_series.py#389\u001b\\\u001b[2m389\u001b[0m\u001b]8;;\u001b\\\n"
      ]
     },
     "metadata": {},
     "output_type": "display_data"
    },
    {
     "data": {
      "application/vnd.jupyter.widget-view+json": {
       "model_id": "6bc4dd4e2acd486d97f9c5aaf604150c",
       "version_major": 2,
       "version_minor": 0
      },
      "text/plain": [
       "Fitting UNKNOWN background:   0%|                         | 0/8 [00:00<?, ?it/s]"
      ]
     },
     "metadata": {},
     "output_type": "display_data"
    },
    {
     "data": {
      "text/html": [
       "<pre style=\"white-space:pre;overflow-x:auto;line-height:normal;font-family:Menlo,'DejaVu Sans Mono',consolas,'Courier New',monospace\"><span style=\"color: #00ff00; text-decoration-color: #00ff00\">16:04:04 </span><span style=\"color: #00ffaf; text-decoration-color: #00ffaf\">INFO    </span> <span style=\"color: #c6c6c6; text-decoration-color: #c6c6c6; font-weight: bold\"> </span><span style=\"color: #800080; text-decoration-color: #800080; font-weight: bold; font-style: italic\">None</span><span style=\"color: #c6c6c6; text-decoration-color: #c6c6c6; font-weight: bold\"> </span><span style=\"color: #c0c0c0; text-decoration-color: #c0c0c0; font-weight: bold\">2</span><span style=\"color: #c6c6c6; text-decoration-color: #c6c6c6; font-weight: bold\">-order polynomial fit with the mle method                               </span><a href=\"file:///home/tobi/sw/threeML/threeML/utils/time_series/time_series.py\" target=\"_blank\"><span style=\"color: #7f7f7f; text-decoration-color: #7f7f7f\">time_series.py</span></a><span style=\"color: #7f7f7f; text-decoration-color: #7f7f7f\">:</span><a href=\"file:///home/tobi/sw/threeML/threeML/utils/time_series/time_series.py#458\" target=\"_blank\"><span style=\"color: #7f7f7f; text-decoration-color: #7f7f7f\">458</span></a>\n",
       "</pre>\n"
      ],
      "text/plain": [
       "\u001b[38;5;46m16:04:04\u001b[0m\u001b[38;5;46m \u001b[0m\u001b[38;5;49mINFO    \u001b[0m \u001b[1;38;5;251m \u001b[0m\u001b[1;3;35mNone\u001b[0m\u001b[1;38;5;251m \u001b[0m\u001b[1;37m2\u001b[0m\u001b[1;38;5;251m-order polynomial fit with the mle method                              \u001b[0m\u001b[1;38;5;251m \u001b[0m\u001b]8;id=679794;file:///home/tobi/sw/threeML/threeML/utils/time_series/time_series.py\u001b\\\u001b[2mtime_series.py\u001b[0m\u001b]8;;\u001b\\\u001b[2m:\u001b[0m\u001b]8;id=157412;file:///home/tobi/sw/threeML/threeML/utils/time_series/time_series.py#458\u001b\\\u001b[2m458\u001b[0m\u001b]8;;\u001b\\\n"
      ]
     },
     "metadata": {},
     "output_type": "display_data"
    },
    {
     "data": {
      "application/vnd.jupyter.widget-view+json": {
       "model_id": "72e6f9962fe542269929c7bf821bf796",
       "version_major": 2,
       "version_minor": 0
      },
      "text/plain": [
       "Finding best polynomial Order:   0%|                      | 0/5 [00:00<?, ?it/s]"
      ]
     },
     "metadata": {},
     "output_type": "display_data"
    },
    {
     "data": {
      "text/html": [
       "<pre style=\"white-space:pre;overflow-x:auto;line-height:normal;font-family:Menlo,'DejaVu Sans Mono',consolas,'Courier New',monospace\"><span style=\"color: #00ff00; text-decoration-color: #00ff00\">         </span><span style=\"color: #00ffaf; text-decoration-color: #00ffaf\">INFO    </span> <span style=\"color: #c6c6c6; text-decoration-color: #c6c6c6; font-weight: bold\"> Auto-determined polynomial order: </span><span style=\"color: #c0c0c0; text-decoration-color: #c0c0c0; font-weight: bold\">2</span><span style=\"color: #c6c6c6; text-decoration-color: #c6c6c6; font-weight: bold\">                                </span><a href=\"file:///home/tobi/sw/threeML/threeML/utils/time_series/binned_spectrum_series.py\" target=\"_blank\"><span style=\"color: #7f7f7f; text-decoration-color: #7f7f7f\">binned_spectrum_series.py</span></a><span style=\"color: #7f7f7f; text-decoration-color: #7f7f7f\">:</span><a href=\"file:///home/tobi/sw/threeML/threeML/utils/time_series/binned_spectrum_series.py#389\" target=\"_blank\"><span style=\"color: #7f7f7f; text-decoration-color: #7f7f7f\">389</span></a>\n",
       "</pre>\n"
      ],
      "text/plain": [
       "\u001b[38;5;46m        \u001b[0m\u001b[38;5;46m \u001b[0m\u001b[38;5;49mINFO    \u001b[0m \u001b[1;38;5;251m Auto-determined polynomial order: \u001b[0m\u001b[1;37m2\u001b[0m\u001b[1;38;5;251m                               \u001b[0m\u001b[1;38;5;251m \u001b[0m\u001b]8;id=306858;file:///home/tobi/sw/threeML/threeML/utils/time_series/binned_spectrum_series.py\u001b\\\u001b[2mbinned_spectrum_series.py\u001b[0m\u001b]8;;\u001b\\\u001b[2m:\u001b[0m\u001b]8;id=932869;file:///home/tobi/sw/threeML/threeML/utils/time_series/binned_spectrum_series.py#389\u001b\\\u001b[2m389\u001b[0m\u001b]8;;\u001b\\\n"
      ]
     },
     "metadata": {},
     "output_type": "display_data"
    },
    {
     "data": {
      "application/vnd.jupyter.widget-view+json": {
       "model_id": "8fce0320ae24450bac0673e9a8120887",
       "version_major": 2,
       "version_minor": 0
      },
      "text/plain": [
       "Fitting UNKNOWN background:   0%|                         | 0/8 [00:00<?, ?it/s]"
      ]
     },
     "metadata": {},
     "output_type": "display_data"
    },
    {
     "data": {
      "text/html": [
       "<pre style=\"white-space:pre;overflow-x:auto;line-height:normal;font-family:Menlo,'DejaVu Sans Mono',consolas,'Courier New',monospace\"><span style=\"color: #00ff00; text-decoration-color: #00ff00\">16:04:05 </span><span style=\"color: #00ffaf; text-decoration-color: #00ffaf\">INFO    </span> <span style=\"color: #c6c6c6; text-decoration-color: #c6c6c6; font-weight: bold\"> </span><span style=\"color: #800080; text-decoration-color: #800080; font-weight: bold; font-style: italic\">None</span><span style=\"color: #c6c6c6; text-decoration-color: #c6c6c6; font-weight: bold\"> </span><span style=\"color: #c0c0c0; text-decoration-color: #c0c0c0; font-weight: bold\">2</span><span style=\"color: #c6c6c6; text-decoration-color: #c6c6c6; font-weight: bold\">-order polynomial fit with the mle method                               </span><a href=\"file:///home/tobi/sw/threeML/threeML/utils/time_series/time_series.py\" target=\"_blank\"><span style=\"color: #7f7f7f; text-decoration-color: #7f7f7f\">time_series.py</span></a><span style=\"color: #7f7f7f; text-decoration-color: #7f7f7f\">:</span><a href=\"file:///home/tobi/sw/threeML/threeML/utils/time_series/time_series.py#458\" target=\"_blank\"><span style=\"color: #7f7f7f; text-decoration-color: #7f7f7f\">458</span></a>\n",
       "</pre>\n"
      ],
      "text/plain": [
       "\u001b[38;5;46m16:04:05\u001b[0m\u001b[38;5;46m \u001b[0m\u001b[38;5;49mINFO    \u001b[0m \u001b[1;38;5;251m \u001b[0m\u001b[1;3;35mNone\u001b[0m\u001b[1;38;5;251m \u001b[0m\u001b[1;37m2\u001b[0m\u001b[1;38;5;251m-order polynomial fit with the mle method                              \u001b[0m\u001b[1;38;5;251m \u001b[0m\u001b]8;id=26439;file:///home/tobi/sw/threeML/threeML/utils/time_series/time_series.py\u001b\\\u001b[2mtime_series.py\u001b[0m\u001b]8;;\u001b\\\u001b[2m:\u001b[0m\u001b]8;id=967031;file:///home/tobi/sw/threeML/threeML/utils/time_series/time_series.py#458\u001b\\\u001b[2m458\u001b[0m\u001b]8;;\u001b\\\n"
      ]
     },
     "metadata": {},
     "output_type": "display_data"
    },
    {
     "data": {
      "application/vnd.jupyter.widget-view+json": {
       "model_id": "ce310cfd01ef40d792705f7ea2c32c59",
       "version_major": 2,
       "version_minor": 0
      },
      "text/plain": [
       "Finding best polynomial Order:   0%|                      | 0/5 [00:00<?, ?it/s]"
      ]
     },
     "metadata": {},
     "output_type": "display_data"
    },
    {
     "data": {
      "text/html": [
       "<pre style=\"white-space:pre;overflow-x:auto;line-height:normal;font-family:Menlo,'DejaVu Sans Mono',consolas,'Courier New',monospace\"><span style=\"color: #00ff00; text-decoration-color: #00ff00\">16:04:06 </span><span style=\"color: #00ffaf; text-decoration-color: #00ffaf\">INFO    </span> <span style=\"color: #c6c6c6; text-decoration-color: #c6c6c6; font-weight: bold\"> Auto-determined polynomial order: </span><span style=\"color: #c0c0c0; text-decoration-color: #c0c0c0; font-weight: bold\">0</span><span style=\"color: #c6c6c6; text-decoration-color: #c6c6c6; font-weight: bold\">                                </span><a href=\"file:///home/tobi/sw/threeML/threeML/utils/time_series/binned_spectrum_series.py\" target=\"_blank\"><span style=\"color: #7f7f7f; text-decoration-color: #7f7f7f\">binned_spectrum_series.py</span></a><span style=\"color: #7f7f7f; text-decoration-color: #7f7f7f\">:</span><a href=\"file:///home/tobi/sw/threeML/threeML/utils/time_series/binned_spectrum_series.py#389\" target=\"_blank\"><span style=\"color: #7f7f7f; text-decoration-color: #7f7f7f\">389</span></a>\n",
       "</pre>\n"
      ],
      "text/plain": [
       "\u001b[38;5;46m16:04:06\u001b[0m\u001b[38;5;46m \u001b[0m\u001b[38;5;49mINFO    \u001b[0m \u001b[1;38;5;251m Auto-determined polynomial order: \u001b[0m\u001b[1;37m0\u001b[0m\u001b[1;38;5;251m                               \u001b[0m\u001b[1;38;5;251m \u001b[0m\u001b]8;id=574385;file:///home/tobi/sw/threeML/threeML/utils/time_series/binned_spectrum_series.py\u001b\\\u001b[2mbinned_spectrum_series.py\u001b[0m\u001b]8;;\u001b\\\u001b[2m:\u001b[0m\u001b]8;id=649315;file:///home/tobi/sw/threeML/threeML/utils/time_series/binned_spectrum_series.py#389\u001b\\\u001b[2m389\u001b[0m\u001b]8;;\u001b\\\n"
      ]
     },
     "metadata": {},
     "output_type": "display_data"
    },
    {
     "data": {
      "application/vnd.jupyter.widget-view+json": {
       "model_id": "69a35d7089f84e11a8160d4d083e4cd1",
       "version_major": 2,
       "version_minor": 0
      },
      "text/plain": [
       "Fitting UNKNOWN background:   0%|                         | 0/8 [00:00<?, ?it/s]"
      ]
     },
     "metadata": {},
     "output_type": "display_data"
    },
    {
     "data": {
      "text/html": [
       "<pre style=\"white-space:pre;overflow-x:auto;line-height:normal;font-family:Menlo,'DejaVu Sans Mono',consolas,'Courier New',monospace\"><span style=\"color: #00ff00; text-decoration-color: #00ff00\">         </span><span style=\"color: #00ffaf; text-decoration-color: #00ffaf\">INFO    </span> <span style=\"color: #c6c6c6; text-decoration-color: #c6c6c6; font-weight: bold\"> </span><span style=\"color: #800080; text-decoration-color: #800080; font-weight: bold; font-style: italic\">None</span><span style=\"color: #c6c6c6; text-decoration-color: #c6c6c6; font-weight: bold\"> </span><span style=\"color: #c0c0c0; text-decoration-color: #c0c0c0; font-weight: bold\">0</span><span style=\"color: #c6c6c6; text-decoration-color: #c6c6c6; font-weight: bold\">-order polynomial fit with the mle method                               </span><a href=\"file:///home/tobi/sw/threeML/threeML/utils/time_series/time_series.py\" target=\"_blank\"><span style=\"color: #7f7f7f; text-decoration-color: #7f7f7f\">time_series.py</span></a><span style=\"color: #7f7f7f; text-decoration-color: #7f7f7f\">:</span><a href=\"file:///home/tobi/sw/threeML/threeML/utils/time_series/time_series.py#458\" target=\"_blank\"><span style=\"color: #7f7f7f; text-decoration-color: #7f7f7f\">458</span></a>\n",
       "</pre>\n"
      ],
      "text/plain": [
       "\u001b[38;5;46m        \u001b[0m\u001b[38;5;46m \u001b[0m\u001b[38;5;49mINFO    \u001b[0m \u001b[1;38;5;251m \u001b[0m\u001b[1;3;35mNone\u001b[0m\u001b[1;38;5;251m \u001b[0m\u001b[1;37m0\u001b[0m\u001b[1;38;5;251m-order polynomial fit with the mle method                              \u001b[0m\u001b[1;38;5;251m \u001b[0m\u001b]8;id=948964;file:///home/tobi/sw/threeML/threeML/utils/time_series/time_series.py\u001b\\\u001b[2mtime_series.py\u001b[0m\u001b]8;;\u001b\\\u001b[2m:\u001b[0m\u001b]8;id=566965;file:///home/tobi/sw/threeML/threeML/utils/time_series/time_series.py#458\u001b\\\u001b[2m458\u001b[0m\u001b]8;;\u001b\\\n"
      ]
     },
     "metadata": {},
     "output_type": "display_data"
    },
    {
     "data": {
      "application/vnd.jupyter.widget-view+json": {
       "model_id": "e04331f93c6c4c20b9da73bde6207cb3",
       "version_major": 2,
       "version_minor": 0
      },
      "text/plain": [
       "Finding best polynomial Order:   0%|                      | 0/5 [00:00<?, ?it/s]"
      ]
     },
     "metadata": {},
     "output_type": "display_data"
    },
    {
     "data": {
      "text/html": [
       "<pre style=\"white-space:pre;overflow-x:auto;line-height:normal;font-family:Menlo,'DejaVu Sans Mono',consolas,'Courier New',monospace\"><span style=\"color: #00ff00; text-decoration-color: #00ff00\">16:04:07 </span><span style=\"color: #00ffaf; text-decoration-color: #00ffaf\">INFO    </span> <span style=\"color: #c6c6c6; text-decoration-color: #c6c6c6; font-weight: bold\"> Auto-determined polynomial order: </span><span style=\"color: #c0c0c0; text-decoration-color: #c0c0c0; font-weight: bold\">2</span><span style=\"color: #c6c6c6; text-decoration-color: #c6c6c6; font-weight: bold\">                                </span><a href=\"file:///home/tobi/sw/threeML/threeML/utils/time_series/binned_spectrum_series.py\" target=\"_blank\"><span style=\"color: #7f7f7f; text-decoration-color: #7f7f7f\">binned_spectrum_series.py</span></a><span style=\"color: #7f7f7f; text-decoration-color: #7f7f7f\">:</span><a href=\"file:///home/tobi/sw/threeML/threeML/utils/time_series/binned_spectrum_series.py#389\" target=\"_blank\"><span style=\"color: #7f7f7f; text-decoration-color: #7f7f7f\">389</span></a>\n",
       "</pre>\n"
      ],
      "text/plain": [
       "\u001b[38;5;46m16:04:07\u001b[0m\u001b[38;5;46m \u001b[0m\u001b[38;5;49mINFO    \u001b[0m \u001b[1;38;5;251m Auto-determined polynomial order: \u001b[0m\u001b[1;37m2\u001b[0m\u001b[1;38;5;251m                               \u001b[0m\u001b[1;38;5;251m \u001b[0m\u001b]8;id=287279;file:///home/tobi/sw/threeML/threeML/utils/time_series/binned_spectrum_series.py\u001b\\\u001b[2mbinned_spectrum_series.py\u001b[0m\u001b]8;;\u001b\\\u001b[2m:\u001b[0m\u001b]8;id=664220;file:///home/tobi/sw/threeML/threeML/utils/time_series/binned_spectrum_series.py#389\u001b\\\u001b[2m389\u001b[0m\u001b]8;;\u001b\\\n"
      ]
     },
     "metadata": {},
     "output_type": "display_data"
    },
    {
     "data": {
      "application/vnd.jupyter.widget-view+json": {
       "model_id": "4d6b22f7f66d48fb8ceba041fc5268cb",
       "version_major": 2,
       "version_minor": 0
      },
      "text/plain": [
       "Fitting UNKNOWN background:   0%|                         | 0/8 [00:00<?, ?it/s]"
      ]
     },
     "metadata": {},
     "output_type": "display_data"
    },
    {
     "data": {
      "text/html": [
       "<pre style=\"white-space:pre;overflow-x:auto;line-height:normal;font-family:Menlo,'DejaVu Sans Mono',consolas,'Courier New',monospace\"><span style=\"color: #00ff00; text-decoration-color: #00ff00\">16:04:08 </span><span style=\"color: #00ffaf; text-decoration-color: #00ffaf\">INFO    </span> <span style=\"color: #c6c6c6; text-decoration-color: #c6c6c6; font-weight: bold\"> </span><span style=\"color: #800080; text-decoration-color: #800080; font-weight: bold; font-style: italic\">None</span><span style=\"color: #c6c6c6; text-decoration-color: #c6c6c6; font-weight: bold\"> </span><span style=\"color: #c0c0c0; text-decoration-color: #c0c0c0; font-weight: bold\">2</span><span style=\"color: #c6c6c6; text-decoration-color: #c6c6c6; font-weight: bold\">-order polynomial fit with the mle method                               </span><a href=\"file:///home/tobi/sw/threeML/threeML/utils/time_series/time_series.py\" target=\"_blank\"><span style=\"color: #7f7f7f; text-decoration-color: #7f7f7f\">time_series.py</span></a><span style=\"color: #7f7f7f; text-decoration-color: #7f7f7f\">:</span><a href=\"file:///home/tobi/sw/threeML/threeML/utils/time_series/time_series.py#458\" target=\"_blank\"><span style=\"color: #7f7f7f; text-decoration-color: #7f7f7f\">458</span></a>\n",
       "</pre>\n"
      ],
      "text/plain": [
       "\u001b[38;5;46m16:04:08\u001b[0m\u001b[38;5;46m \u001b[0m\u001b[38;5;49mINFO    \u001b[0m \u001b[1;38;5;251m \u001b[0m\u001b[1;3;35mNone\u001b[0m\u001b[1;38;5;251m \u001b[0m\u001b[1;37m2\u001b[0m\u001b[1;38;5;251m-order polynomial fit with the mle method                              \u001b[0m\u001b[1;38;5;251m \u001b[0m\u001b]8;id=97066;file:///home/tobi/sw/threeML/threeML/utils/time_series/time_series.py\u001b\\\u001b[2mtime_series.py\u001b[0m\u001b]8;;\u001b\\\u001b[2m:\u001b[0m\u001b]8;id=548968;file:///home/tobi/sw/threeML/threeML/utils/time_series/time_series.py#458\u001b\\\u001b[2m458\u001b[0m\u001b]8;;\u001b\\\n"
      ]
     },
     "metadata": {},
     "output_type": "display_data"
    },
    {
     "data": {
      "application/vnd.jupyter.widget-view+json": {
       "model_id": "f87e287ece2644eb908bbb205eb25f5f",
       "version_major": 2,
       "version_minor": 0
      },
      "text/plain": [
       "Finding best polynomial Order:   0%|                      | 0/5 [00:00<?, ?it/s]"
      ]
     },
     "metadata": {},
     "output_type": "display_data"
    },
    {
     "data": {
      "text/html": [
       "<pre style=\"white-space:pre;overflow-x:auto;line-height:normal;font-family:Menlo,'DejaVu Sans Mono',consolas,'Courier New',monospace\"><span style=\"color: #00ff00; text-decoration-color: #00ff00\">16:04:09 </span><span style=\"color: #00ffaf; text-decoration-color: #00ffaf\">INFO    </span> <span style=\"color: #c6c6c6; text-decoration-color: #c6c6c6; font-weight: bold\"> Auto-determined polynomial order: </span><span style=\"color: #c0c0c0; text-decoration-color: #c0c0c0; font-weight: bold\">1</span><span style=\"color: #c6c6c6; text-decoration-color: #c6c6c6; font-weight: bold\">                                </span><a href=\"file:///home/tobi/sw/threeML/threeML/utils/time_series/binned_spectrum_series.py\" target=\"_blank\"><span style=\"color: #7f7f7f; text-decoration-color: #7f7f7f\">binned_spectrum_series.py</span></a><span style=\"color: #7f7f7f; text-decoration-color: #7f7f7f\">:</span><a href=\"file:///home/tobi/sw/threeML/threeML/utils/time_series/binned_spectrum_series.py#389\" target=\"_blank\"><span style=\"color: #7f7f7f; text-decoration-color: #7f7f7f\">389</span></a>\n",
       "</pre>\n"
      ],
      "text/plain": [
       "\u001b[38;5;46m16:04:09\u001b[0m\u001b[38;5;46m \u001b[0m\u001b[38;5;49mINFO    \u001b[0m \u001b[1;38;5;251m Auto-determined polynomial order: \u001b[0m\u001b[1;37m1\u001b[0m\u001b[1;38;5;251m                               \u001b[0m\u001b[1;38;5;251m \u001b[0m\u001b]8;id=387617;file:///home/tobi/sw/threeML/threeML/utils/time_series/binned_spectrum_series.py\u001b\\\u001b[2mbinned_spectrum_series.py\u001b[0m\u001b]8;;\u001b\\\u001b[2m:\u001b[0m\u001b]8;id=13417;file:///home/tobi/sw/threeML/threeML/utils/time_series/binned_spectrum_series.py#389\u001b\\\u001b[2m389\u001b[0m\u001b]8;;\u001b\\\n"
      ]
     },
     "metadata": {},
     "output_type": "display_data"
    },
    {
     "data": {
      "application/vnd.jupyter.widget-view+json": {
       "model_id": "41ccdf00772b4240967c9358ce82c279",
       "version_major": 2,
       "version_minor": 0
      },
      "text/plain": [
       "Fitting UNKNOWN background:   0%|                         | 0/8 [00:00<?, ?it/s]"
      ]
     },
     "metadata": {},
     "output_type": "display_data"
    },
    {
     "data": {
      "text/html": [
       "<pre style=\"white-space:pre;overflow-x:auto;line-height:normal;font-family:Menlo,'DejaVu Sans Mono',consolas,'Courier New',monospace\"><span style=\"color: #00ff00; text-decoration-color: #00ff00\">         </span><span style=\"color: #00ffaf; text-decoration-color: #00ffaf\">INFO    </span> <span style=\"color: #c6c6c6; text-decoration-color: #c6c6c6; font-weight: bold\"> </span><span style=\"color: #800080; text-decoration-color: #800080; font-weight: bold; font-style: italic\">None</span><span style=\"color: #c6c6c6; text-decoration-color: #c6c6c6; font-weight: bold\"> </span><span style=\"color: #c0c0c0; text-decoration-color: #c0c0c0; font-weight: bold\">1</span><span style=\"color: #c6c6c6; text-decoration-color: #c6c6c6; font-weight: bold\">-order polynomial fit with the mle method                               </span><a href=\"file:///home/tobi/sw/threeML/threeML/utils/time_series/time_series.py\" target=\"_blank\"><span style=\"color: #7f7f7f; text-decoration-color: #7f7f7f\">time_series.py</span></a><span style=\"color: #7f7f7f; text-decoration-color: #7f7f7f\">:</span><a href=\"file:///home/tobi/sw/threeML/threeML/utils/time_series/time_series.py#458\" target=\"_blank\"><span style=\"color: #7f7f7f; text-decoration-color: #7f7f7f\">458</span></a>\n",
       "</pre>\n"
      ],
      "text/plain": [
       "\u001b[38;5;46m        \u001b[0m\u001b[38;5;46m \u001b[0m\u001b[38;5;49mINFO    \u001b[0m \u001b[1;38;5;251m \u001b[0m\u001b[1;3;35mNone\u001b[0m\u001b[1;38;5;251m \u001b[0m\u001b[1;37m1\u001b[0m\u001b[1;38;5;251m-order polynomial fit with the mle method                              \u001b[0m\u001b[1;38;5;251m \u001b[0m\u001b]8;id=103528;file:///home/tobi/sw/threeML/threeML/utils/time_series/time_series.py\u001b\\\u001b[2mtime_series.py\u001b[0m\u001b]8;;\u001b\\\u001b[2m:\u001b[0m\u001b]8;id=120637;file:///home/tobi/sw/threeML/threeML/utils/time_series/time_series.py#458\u001b\\\u001b[2m458\u001b[0m\u001b]8;;\u001b\\\n"
      ]
     },
     "metadata": {},
     "output_type": "display_data"
    },
    {
     "data": {
      "application/vnd.jupyter.widget-view+json": {
       "model_id": "e88db03edb3449eaaf64361d4ab867dc",
       "version_major": 2,
       "version_minor": 0
      },
      "text/plain": [
       "Finding best polynomial Order:   0%|                      | 0/5 [00:00<?, ?it/s]"
      ]
     },
     "metadata": {},
     "output_type": "display_data"
    },
    {
     "data": {
      "text/html": [
       "<pre style=\"white-space:pre;overflow-x:auto;line-height:normal;font-family:Menlo,'DejaVu Sans Mono',consolas,'Courier New',monospace\"><span style=\"color: #00ff00; text-decoration-color: #00ff00\">16:04:10 </span><span style=\"color: #00ffaf; text-decoration-color: #00ffaf\">INFO    </span> <span style=\"color: #c6c6c6; text-decoration-color: #c6c6c6; font-weight: bold\"> Auto-determined polynomial order: </span><span style=\"color: #c0c0c0; text-decoration-color: #c0c0c0; font-weight: bold\">1</span><span style=\"color: #c6c6c6; text-decoration-color: #c6c6c6; font-weight: bold\">                                </span><a href=\"file:///home/tobi/sw/threeML/threeML/utils/time_series/binned_spectrum_series.py\" target=\"_blank\"><span style=\"color: #7f7f7f; text-decoration-color: #7f7f7f\">binned_spectrum_series.py</span></a><span style=\"color: #7f7f7f; text-decoration-color: #7f7f7f\">:</span><a href=\"file:///home/tobi/sw/threeML/threeML/utils/time_series/binned_spectrum_series.py#389\" target=\"_blank\"><span style=\"color: #7f7f7f; text-decoration-color: #7f7f7f\">389</span></a>\n",
       "</pre>\n"
      ],
      "text/plain": [
       "\u001b[38;5;46m16:04:10\u001b[0m\u001b[38;5;46m \u001b[0m\u001b[38;5;49mINFO    \u001b[0m \u001b[1;38;5;251m Auto-determined polynomial order: \u001b[0m\u001b[1;37m1\u001b[0m\u001b[1;38;5;251m                               \u001b[0m\u001b[1;38;5;251m \u001b[0m\u001b]8;id=564210;file:///home/tobi/sw/threeML/threeML/utils/time_series/binned_spectrum_series.py\u001b\\\u001b[2mbinned_spectrum_series.py\u001b[0m\u001b]8;;\u001b\\\u001b[2m:\u001b[0m\u001b]8;id=992441;file:///home/tobi/sw/threeML/threeML/utils/time_series/binned_spectrum_series.py#389\u001b\\\u001b[2m389\u001b[0m\u001b]8;;\u001b\\\n"
      ]
     },
     "metadata": {},
     "output_type": "display_data"
    },
    {
     "data": {
      "application/vnd.jupyter.widget-view+json": {
       "model_id": "2bd774b1804c43cf891d78427aee928b",
       "version_major": 2,
       "version_minor": 0
      },
      "text/plain": [
       "Fitting UNKNOWN background:   0%|                         | 0/8 [00:00<?, ?it/s]"
      ]
     },
     "metadata": {},
     "output_type": "display_data"
    },
    {
     "data": {
      "text/html": [
       "<pre style=\"white-space:pre;overflow-x:auto;line-height:normal;font-family:Menlo,'DejaVu Sans Mono',consolas,'Courier New',monospace\"><span style=\"color: #00ff00; text-decoration-color: #00ff00\">         </span><span style=\"color: #00ffaf; text-decoration-color: #00ffaf\">INFO    </span> <span style=\"color: #c6c6c6; text-decoration-color: #c6c6c6; font-weight: bold\"> </span><span style=\"color: #800080; text-decoration-color: #800080; font-weight: bold; font-style: italic\">None</span><span style=\"color: #c6c6c6; text-decoration-color: #c6c6c6; font-weight: bold\"> </span><span style=\"color: #c0c0c0; text-decoration-color: #c0c0c0; font-weight: bold\">1</span><span style=\"color: #c6c6c6; text-decoration-color: #c6c6c6; font-weight: bold\">-order polynomial fit with the mle method                               </span><a href=\"file:///home/tobi/sw/threeML/threeML/utils/time_series/time_series.py\" target=\"_blank\"><span style=\"color: #7f7f7f; text-decoration-color: #7f7f7f\">time_series.py</span></a><span style=\"color: #7f7f7f; text-decoration-color: #7f7f7f\">:</span><a href=\"file:///home/tobi/sw/threeML/threeML/utils/time_series/time_series.py#458\" target=\"_blank\"><span style=\"color: #7f7f7f; text-decoration-color: #7f7f7f\">458</span></a>\n",
       "</pre>\n"
      ],
      "text/plain": [
       "\u001b[38;5;46m        \u001b[0m\u001b[38;5;46m \u001b[0m\u001b[38;5;49mINFO    \u001b[0m \u001b[1;38;5;251m \u001b[0m\u001b[1;3;35mNone\u001b[0m\u001b[1;38;5;251m \u001b[0m\u001b[1;37m1\u001b[0m\u001b[1;38;5;251m-order polynomial fit with the mle method                              \u001b[0m\u001b[1;38;5;251m \u001b[0m\u001b]8;id=216725;file:///home/tobi/sw/threeML/threeML/utils/time_series/time_series.py\u001b\\\u001b[2mtime_series.py\u001b[0m\u001b]8;;\u001b\\\u001b[2m:\u001b[0m\u001b]8;id=967530;file:///home/tobi/sw/threeML/threeML/utils/time_series/time_series.py#458\u001b\\\u001b[2m458\u001b[0m\u001b]8;;\u001b\\\n"
      ]
     },
     "metadata": {},
     "output_type": "display_data"
    },
    {
     "data": {
      "application/vnd.jupyter.widget-view+json": {
       "model_id": "260bceab1d474157a6d210afc217338f",
       "version_major": 2,
       "version_minor": 0
      },
      "text/plain": [
       "Finding best polynomial Order:   0%|                      | 0/5 [00:00<?, ?it/s]"
      ]
     },
     "metadata": {},
     "output_type": "display_data"
    },
    {
     "data": {
      "text/html": [
       "<pre style=\"white-space:pre;overflow-x:auto;line-height:normal;font-family:Menlo,'DejaVu Sans Mono',consolas,'Courier New',monospace\"><span style=\"color: #00ff00; text-decoration-color: #00ff00\">16:04:11 </span><span style=\"color: #00ffaf; text-decoration-color: #00ffaf\">INFO    </span> <span style=\"color: #c6c6c6; text-decoration-color: #c6c6c6; font-weight: bold\"> Auto-determined polynomial order: </span><span style=\"color: #c0c0c0; text-decoration-color: #c0c0c0; font-weight: bold\">1</span><span style=\"color: #c6c6c6; text-decoration-color: #c6c6c6; font-weight: bold\">                                </span><a href=\"file:///home/tobi/sw/threeML/threeML/utils/time_series/binned_spectrum_series.py\" target=\"_blank\"><span style=\"color: #7f7f7f; text-decoration-color: #7f7f7f\">binned_spectrum_series.py</span></a><span style=\"color: #7f7f7f; text-decoration-color: #7f7f7f\">:</span><a href=\"file:///home/tobi/sw/threeML/threeML/utils/time_series/binned_spectrum_series.py#389\" target=\"_blank\"><span style=\"color: #7f7f7f; text-decoration-color: #7f7f7f\">389</span></a>\n",
       "</pre>\n"
      ],
      "text/plain": [
       "\u001b[38;5;46m16:04:11\u001b[0m\u001b[38;5;46m \u001b[0m\u001b[38;5;49mINFO    \u001b[0m \u001b[1;38;5;251m Auto-determined polynomial order: \u001b[0m\u001b[1;37m1\u001b[0m\u001b[1;38;5;251m                               \u001b[0m\u001b[1;38;5;251m \u001b[0m\u001b]8;id=62901;file:///home/tobi/sw/threeML/threeML/utils/time_series/binned_spectrum_series.py\u001b\\\u001b[2mbinned_spectrum_series.py\u001b[0m\u001b]8;;\u001b\\\u001b[2m:\u001b[0m\u001b]8;id=657592;file:///home/tobi/sw/threeML/threeML/utils/time_series/binned_spectrum_series.py#389\u001b\\\u001b[2m389\u001b[0m\u001b]8;;\u001b\\\n"
      ]
     },
     "metadata": {},
     "output_type": "display_data"
    },
    {
     "data": {
      "application/vnd.jupyter.widget-view+json": {
       "model_id": "fc3cb4201bc5488bbc35e63fcf9b57f9",
       "version_major": 2,
       "version_minor": 0
      },
      "text/plain": [
       "Fitting UNKNOWN background:   0%|                         | 0/8 [00:00<?, ?it/s]"
      ]
     },
     "metadata": {},
     "output_type": "display_data"
    },
    {
     "data": {
      "text/html": [
       "<pre style=\"white-space:pre;overflow-x:auto;line-height:normal;font-family:Menlo,'DejaVu Sans Mono',consolas,'Courier New',monospace\"><span style=\"color: #00ff00; text-decoration-color: #00ff00\">         </span><span style=\"color: #00ffaf; text-decoration-color: #00ffaf\">INFO    </span> <span style=\"color: #c6c6c6; text-decoration-color: #c6c6c6; font-weight: bold\"> </span><span style=\"color: #800080; text-decoration-color: #800080; font-weight: bold; font-style: italic\">None</span><span style=\"color: #c6c6c6; text-decoration-color: #c6c6c6; font-weight: bold\"> </span><span style=\"color: #c0c0c0; text-decoration-color: #c0c0c0; font-weight: bold\">1</span><span style=\"color: #c6c6c6; text-decoration-color: #c6c6c6; font-weight: bold\">-order polynomial fit with the mle method                               </span><a href=\"file:///home/tobi/sw/threeML/threeML/utils/time_series/time_series.py\" target=\"_blank\"><span style=\"color: #7f7f7f; text-decoration-color: #7f7f7f\">time_series.py</span></a><span style=\"color: #7f7f7f; text-decoration-color: #7f7f7f\">:</span><a href=\"file:///home/tobi/sw/threeML/threeML/utils/time_series/time_series.py#458\" target=\"_blank\"><span style=\"color: #7f7f7f; text-decoration-color: #7f7f7f\">458</span></a>\n",
       "</pre>\n"
      ],
      "text/plain": [
       "\u001b[38;5;46m        \u001b[0m\u001b[38;5;46m \u001b[0m\u001b[38;5;49mINFO    \u001b[0m \u001b[1;38;5;251m \u001b[0m\u001b[1;3;35mNone\u001b[0m\u001b[1;38;5;251m \u001b[0m\u001b[1;37m1\u001b[0m\u001b[1;38;5;251m-order polynomial fit with the mle method                              \u001b[0m\u001b[1;38;5;251m \u001b[0m\u001b]8;id=527243;file:///home/tobi/sw/threeML/threeML/utils/time_series/time_series.py\u001b\\\u001b[2mtime_series.py\u001b[0m\u001b]8;;\u001b\\\u001b[2m:\u001b[0m\u001b]8;id=975261;file:///home/tobi/sw/threeML/threeML/utils/time_series/time_series.py#458\u001b\\\u001b[2m458\u001b[0m\u001b]8;;\u001b\\\n"
      ]
     },
     "metadata": {},
     "output_type": "display_data"
    },
    {
     "data": {
      "text/html": [
       "<pre style=\"white-space:pre;overflow-x:auto;line-height:normal;font-family:Menlo,'DejaVu Sans Mono',consolas,'Courier New',monospace\"><span style=\"color: #00ff00; text-decoration-color: #00ff00\">         </span><span style=\"color: #00ffaf; text-decoration-color: #00ffaf\">INFO    </span> <span style=\"color: #c6c6c6; text-decoration-color: #c6c6c6; font-weight: bold\"> Interval set to </span><span style=\"color: #c0c0c0; text-decoration-color: #c0c0c0; font-weight: bold\">0.256</span><span style=\"color: #c6c6c6; text-decoration-color: #c6c6c6; font-weight: bold\">-</span><span style=\"color: #c0c0c0; text-decoration-color: #c0c0c0; font-weight: bold\">9.216</span><span style=\"color: #c6c6c6; text-decoration-color: #c6c6c6; font-weight: bold\"> for n0                                    </span><a href=\"file:///home/tobi/sw/threeML/threeML/utils/data_builders/time_series_builder.py\" target=\"_blank\"><span style=\"color: #7f7f7f; text-decoration-color: #7f7f7f\">time_series_builder.py</span></a><span style=\"color: #7f7f7f; text-decoration-color: #7f7f7f\">:</span><a href=\"file:///home/tobi/sw/threeML/threeML/utils/data_builders/time_series_builder.py#290\" target=\"_blank\"><span style=\"color: #7f7f7f; text-decoration-color: #7f7f7f\">290</span></a>\n",
       "</pre>\n"
      ],
      "text/plain": [
       "\u001b[38;5;46m        \u001b[0m\u001b[38;5;46m \u001b[0m\u001b[38;5;49mINFO    \u001b[0m \u001b[1;38;5;251m Interval set to \u001b[0m\u001b[1;37m0.256\u001b[0m\u001b[1;38;5;251m-\u001b[0m\u001b[1;37m9.216\u001b[0m\u001b[1;38;5;251m for n0                                   \u001b[0m\u001b[1;38;5;251m \u001b[0m\u001b]8;id=870278;file:///home/tobi/sw/threeML/threeML/utils/data_builders/time_series_builder.py\u001b\\\u001b[2mtime_series_builder.py\u001b[0m\u001b]8;;\u001b\\\u001b[2m:\u001b[0m\u001b]8;id=406051;file:///home/tobi/sw/threeML/threeML/utils/data_builders/time_series_builder.py#290\u001b\\\u001b[2m290\u001b[0m\u001b]8;;\u001b\\\n"
      ]
     },
     "metadata": {},
     "output_type": "display_data"
    },
    {
     "data": {
      "text/html": [
       "<pre style=\"white-space:pre;overflow-x:auto;line-height:normal;font-family:Menlo,'DejaVu Sans Mono',consolas,'Courier New',monospace\"><span style=\"color: #00ff00; text-decoration-color: #00ff00\">         </span><span style=\"color: #00ffaf; text-decoration-color: #00ffaf\">INFO    </span> <span style=\"color: #c6c6c6; text-decoration-color: #c6c6c6; font-weight: bold\"> Interval set to </span><span style=\"color: #c0c0c0; text-decoration-color: #c0c0c0; font-weight: bold\">0.256</span><span style=\"color: #c6c6c6; text-decoration-color: #c6c6c6; font-weight: bold\">-</span><span style=\"color: #c0c0c0; text-decoration-color: #c0c0c0; font-weight: bold\">9.216</span><span style=\"color: #c6c6c6; text-decoration-color: #c6c6c6; font-weight: bold\"> for n1                                    </span><a href=\"file:///home/tobi/sw/threeML/threeML/utils/data_builders/time_series_builder.py\" target=\"_blank\"><span style=\"color: #7f7f7f; text-decoration-color: #7f7f7f\">time_series_builder.py</span></a><span style=\"color: #7f7f7f; text-decoration-color: #7f7f7f\">:</span><a href=\"file:///home/tobi/sw/threeML/threeML/utils/data_builders/time_series_builder.py#290\" target=\"_blank\"><span style=\"color: #7f7f7f; text-decoration-color: #7f7f7f\">290</span></a>\n",
       "</pre>\n"
      ],
      "text/plain": [
       "\u001b[38;5;46m        \u001b[0m\u001b[38;5;46m \u001b[0m\u001b[38;5;49mINFO    \u001b[0m \u001b[1;38;5;251m Interval set to \u001b[0m\u001b[1;37m0.256\u001b[0m\u001b[1;38;5;251m-\u001b[0m\u001b[1;37m9.216\u001b[0m\u001b[1;38;5;251m for n1                                   \u001b[0m\u001b[1;38;5;251m \u001b[0m\u001b]8;id=827073;file:///home/tobi/sw/threeML/threeML/utils/data_builders/time_series_builder.py\u001b\\\u001b[2mtime_series_builder.py\u001b[0m\u001b]8;;\u001b\\\u001b[2m:\u001b[0m\u001b]8;id=827267;file:///home/tobi/sw/threeML/threeML/utils/data_builders/time_series_builder.py#290\u001b\\\u001b[2m290\u001b[0m\u001b]8;;\u001b\\\n"
      ]
     },
     "metadata": {},
     "output_type": "display_data"
    },
    {
     "data": {
      "text/html": [
       "<pre style=\"white-space:pre;overflow-x:auto;line-height:normal;font-family:Menlo,'DejaVu Sans Mono',consolas,'Courier New',monospace\"><span style=\"color: #00ff00; text-decoration-color: #00ff00\">         </span><span style=\"color: #00ffaf; text-decoration-color: #00ffaf\">INFO    </span> <span style=\"color: #c6c6c6; text-decoration-color: #c6c6c6; font-weight: bold\"> Interval set to </span><span style=\"color: #c0c0c0; text-decoration-color: #c0c0c0; font-weight: bold\">0.256</span><span style=\"color: #c6c6c6; text-decoration-color: #c6c6c6; font-weight: bold\">-</span><span style=\"color: #c0c0c0; text-decoration-color: #c0c0c0; font-weight: bold\">9.216</span><span style=\"color: #c6c6c6; text-decoration-color: #c6c6c6; font-weight: bold\"> for n2                                    </span><a href=\"file:///home/tobi/sw/threeML/threeML/utils/data_builders/time_series_builder.py\" target=\"_blank\"><span style=\"color: #7f7f7f; text-decoration-color: #7f7f7f\">time_series_builder.py</span></a><span style=\"color: #7f7f7f; text-decoration-color: #7f7f7f\">:</span><a href=\"file:///home/tobi/sw/threeML/threeML/utils/data_builders/time_series_builder.py#290\" target=\"_blank\"><span style=\"color: #7f7f7f; text-decoration-color: #7f7f7f\">290</span></a>\n",
       "</pre>\n"
      ],
      "text/plain": [
       "\u001b[38;5;46m        \u001b[0m\u001b[38;5;46m \u001b[0m\u001b[38;5;49mINFO    \u001b[0m \u001b[1;38;5;251m Interval set to \u001b[0m\u001b[1;37m0.256\u001b[0m\u001b[1;38;5;251m-\u001b[0m\u001b[1;37m9.216\u001b[0m\u001b[1;38;5;251m for n2                                   \u001b[0m\u001b[1;38;5;251m \u001b[0m\u001b]8;id=69205;file:///home/tobi/sw/threeML/threeML/utils/data_builders/time_series_builder.py\u001b\\\u001b[2mtime_series_builder.py\u001b[0m\u001b]8;;\u001b\\\u001b[2m:\u001b[0m\u001b]8;id=10179;file:///home/tobi/sw/threeML/threeML/utils/data_builders/time_series_builder.py#290\u001b\\\u001b[2m290\u001b[0m\u001b]8;;\u001b\\\n"
      ]
     },
     "metadata": {},
     "output_type": "display_data"
    },
    {
     "data": {
      "text/html": [
       "<pre style=\"white-space:pre;overflow-x:auto;line-height:normal;font-family:Menlo,'DejaVu Sans Mono',consolas,'Courier New',monospace\"><span style=\"color: #00ff00; text-decoration-color: #00ff00\">         </span><span style=\"color: #00ffaf; text-decoration-color: #00ffaf\">INFO    </span> <span style=\"color: #c6c6c6; text-decoration-color: #c6c6c6; font-weight: bold\"> Interval set to </span><span style=\"color: #c0c0c0; text-decoration-color: #c0c0c0; font-weight: bold\">0.256</span><span style=\"color: #c6c6c6; text-decoration-color: #c6c6c6; font-weight: bold\">-</span><span style=\"color: #c0c0c0; text-decoration-color: #c0c0c0; font-weight: bold\">9.216</span><span style=\"color: #c6c6c6; text-decoration-color: #c6c6c6; font-weight: bold\"> for n3                                    </span><a href=\"file:///home/tobi/sw/threeML/threeML/utils/data_builders/time_series_builder.py\" target=\"_blank\"><span style=\"color: #7f7f7f; text-decoration-color: #7f7f7f\">time_series_builder.py</span></a><span style=\"color: #7f7f7f; text-decoration-color: #7f7f7f\">:</span><a href=\"file:///home/tobi/sw/threeML/threeML/utils/data_builders/time_series_builder.py#290\" target=\"_blank\"><span style=\"color: #7f7f7f; text-decoration-color: #7f7f7f\">290</span></a>\n",
       "</pre>\n"
      ],
      "text/plain": [
       "\u001b[38;5;46m        \u001b[0m\u001b[38;5;46m \u001b[0m\u001b[38;5;49mINFO    \u001b[0m \u001b[1;38;5;251m Interval set to \u001b[0m\u001b[1;37m0.256\u001b[0m\u001b[1;38;5;251m-\u001b[0m\u001b[1;37m9.216\u001b[0m\u001b[1;38;5;251m for n3                                   \u001b[0m\u001b[1;38;5;251m \u001b[0m\u001b]8;id=219893;file:///home/tobi/sw/threeML/threeML/utils/data_builders/time_series_builder.py\u001b\\\u001b[2mtime_series_builder.py\u001b[0m\u001b]8;;\u001b\\\u001b[2m:\u001b[0m\u001b]8;id=134613;file:///home/tobi/sw/threeML/threeML/utils/data_builders/time_series_builder.py#290\u001b\\\u001b[2m290\u001b[0m\u001b]8;;\u001b\\\n"
      ]
     },
     "metadata": {},
     "output_type": "display_data"
    },
    {
     "data": {
      "text/html": [
       "<pre style=\"white-space:pre;overflow-x:auto;line-height:normal;font-family:Menlo,'DejaVu Sans Mono',consolas,'Courier New',monospace\"><span style=\"color: #00ff00; text-decoration-color: #00ff00\">         </span><span style=\"color: #00ffaf; text-decoration-color: #00ffaf\">INFO    </span> <span style=\"color: #c6c6c6; text-decoration-color: #c6c6c6; font-weight: bold\"> Interval set to </span><span style=\"color: #c0c0c0; text-decoration-color: #c0c0c0; font-weight: bold\">0.256</span><span style=\"color: #c6c6c6; text-decoration-color: #c6c6c6; font-weight: bold\">-</span><span style=\"color: #c0c0c0; text-decoration-color: #c0c0c0; font-weight: bold\">9.216</span><span style=\"color: #c6c6c6; text-decoration-color: #c6c6c6; font-weight: bold\"> for n4                                    </span><a href=\"file:///home/tobi/sw/threeML/threeML/utils/data_builders/time_series_builder.py\" target=\"_blank\"><span style=\"color: #7f7f7f; text-decoration-color: #7f7f7f\">time_series_builder.py</span></a><span style=\"color: #7f7f7f; text-decoration-color: #7f7f7f\">:</span><a href=\"file:///home/tobi/sw/threeML/threeML/utils/data_builders/time_series_builder.py#290\" target=\"_blank\"><span style=\"color: #7f7f7f; text-decoration-color: #7f7f7f\">290</span></a>\n",
       "</pre>\n"
      ],
      "text/plain": [
       "\u001b[38;5;46m        \u001b[0m\u001b[38;5;46m \u001b[0m\u001b[38;5;49mINFO    \u001b[0m \u001b[1;38;5;251m Interval set to \u001b[0m\u001b[1;37m0.256\u001b[0m\u001b[1;38;5;251m-\u001b[0m\u001b[1;37m9.216\u001b[0m\u001b[1;38;5;251m for n4                                   \u001b[0m\u001b[1;38;5;251m \u001b[0m\u001b]8;id=352621;file:///home/tobi/sw/threeML/threeML/utils/data_builders/time_series_builder.py\u001b\\\u001b[2mtime_series_builder.py\u001b[0m\u001b]8;;\u001b\\\u001b[2m:\u001b[0m\u001b]8;id=464565;file:///home/tobi/sw/threeML/threeML/utils/data_builders/time_series_builder.py#290\u001b\\\u001b[2m290\u001b[0m\u001b]8;;\u001b\\\n"
      ]
     },
     "metadata": {},
     "output_type": "display_data"
    },
    {
     "data": {
      "text/html": [
       "<pre style=\"white-space:pre;overflow-x:auto;line-height:normal;font-family:Menlo,'DejaVu Sans Mono',consolas,'Courier New',monospace\"><span style=\"color: #00ff00; text-decoration-color: #00ff00\">         </span><span style=\"color: #00ffaf; text-decoration-color: #00ffaf\">INFO    </span> <span style=\"color: #c6c6c6; text-decoration-color: #c6c6c6; font-weight: bold\"> Interval set to </span><span style=\"color: #c0c0c0; text-decoration-color: #c0c0c0; font-weight: bold\">0.256</span><span style=\"color: #c6c6c6; text-decoration-color: #c6c6c6; font-weight: bold\">-</span><span style=\"color: #c0c0c0; text-decoration-color: #c0c0c0; font-weight: bold\">9.216</span><span style=\"color: #c6c6c6; text-decoration-color: #c6c6c6; font-weight: bold\"> for n5                                    </span><a href=\"file:///home/tobi/sw/threeML/threeML/utils/data_builders/time_series_builder.py\" target=\"_blank\"><span style=\"color: #7f7f7f; text-decoration-color: #7f7f7f\">time_series_builder.py</span></a><span style=\"color: #7f7f7f; text-decoration-color: #7f7f7f\">:</span><a href=\"file:///home/tobi/sw/threeML/threeML/utils/data_builders/time_series_builder.py#290\" target=\"_blank\"><span style=\"color: #7f7f7f; text-decoration-color: #7f7f7f\">290</span></a>\n",
       "</pre>\n"
      ],
      "text/plain": [
       "\u001b[38;5;46m        \u001b[0m\u001b[38;5;46m \u001b[0m\u001b[38;5;49mINFO    \u001b[0m \u001b[1;38;5;251m Interval set to \u001b[0m\u001b[1;37m0.256\u001b[0m\u001b[1;38;5;251m-\u001b[0m\u001b[1;37m9.216\u001b[0m\u001b[1;38;5;251m for n5                                   \u001b[0m\u001b[1;38;5;251m \u001b[0m\u001b]8;id=769649;file:///home/tobi/sw/threeML/threeML/utils/data_builders/time_series_builder.py\u001b\\\u001b[2mtime_series_builder.py\u001b[0m\u001b]8;;\u001b\\\u001b[2m:\u001b[0m\u001b]8;id=107110;file:///home/tobi/sw/threeML/threeML/utils/data_builders/time_series_builder.py#290\u001b\\\u001b[2m290\u001b[0m\u001b]8;;\u001b\\\n"
      ]
     },
     "metadata": {},
     "output_type": "display_data"
    },
    {
     "data": {
      "text/html": [
       "<pre style=\"white-space:pre;overflow-x:auto;line-height:normal;font-family:Menlo,'DejaVu Sans Mono',consolas,'Courier New',monospace\"><span style=\"color: #00ff00; text-decoration-color: #00ff00\">         </span><span style=\"color: #00ffaf; text-decoration-color: #00ffaf\">INFO    </span> <span style=\"color: #c6c6c6; text-decoration-color: #c6c6c6; font-weight: bold\"> Interval set to </span><span style=\"color: #c0c0c0; text-decoration-color: #c0c0c0; font-weight: bold\">0.256</span><span style=\"color: #c6c6c6; text-decoration-color: #c6c6c6; font-weight: bold\">-</span><span style=\"color: #c0c0c0; text-decoration-color: #c0c0c0; font-weight: bold\">9.216</span><span style=\"color: #c6c6c6; text-decoration-color: #c6c6c6; font-weight: bold\"> for n6                                    </span><a href=\"file:///home/tobi/sw/threeML/threeML/utils/data_builders/time_series_builder.py\" target=\"_blank\"><span style=\"color: #7f7f7f; text-decoration-color: #7f7f7f\">time_series_builder.py</span></a><span style=\"color: #7f7f7f; text-decoration-color: #7f7f7f\">:</span><a href=\"file:///home/tobi/sw/threeML/threeML/utils/data_builders/time_series_builder.py#290\" target=\"_blank\"><span style=\"color: #7f7f7f; text-decoration-color: #7f7f7f\">290</span></a>\n",
       "</pre>\n"
      ],
      "text/plain": [
       "\u001b[38;5;46m        \u001b[0m\u001b[38;5;46m \u001b[0m\u001b[38;5;49mINFO    \u001b[0m \u001b[1;38;5;251m Interval set to \u001b[0m\u001b[1;37m0.256\u001b[0m\u001b[1;38;5;251m-\u001b[0m\u001b[1;37m9.216\u001b[0m\u001b[1;38;5;251m for n6                                   \u001b[0m\u001b[1;38;5;251m \u001b[0m\u001b]8;id=56322;file:///home/tobi/sw/threeML/threeML/utils/data_builders/time_series_builder.py\u001b\\\u001b[2mtime_series_builder.py\u001b[0m\u001b]8;;\u001b\\\u001b[2m:\u001b[0m\u001b]8;id=852818;file:///home/tobi/sw/threeML/threeML/utils/data_builders/time_series_builder.py#290\u001b\\\u001b[2m290\u001b[0m\u001b]8;;\u001b\\\n"
      ]
     },
     "metadata": {},
     "output_type": "display_data"
    },
    {
     "data": {
      "text/html": [
       "<pre style=\"white-space:pre;overflow-x:auto;line-height:normal;font-family:Menlo,'DejaVu Sans Mono',consolas,'Courier New',monospace\"><span style=\"color: #00ff00; text-decoration-color: #00ff00\">         </span><span style=\"color: #00ffaf; text-decoration-color: #00ffaf\">INFO    </span> <span style=\"color: #c6c6c6; text-decoration-color: #c6c6c6; font-weight: bold\"> Interval set to </span><span style=\"color: #c0c0c0; text-decoration-color: #c0c0c0; font-weight: bold\">0.256</span><span style=\"color: #c6c6c6; text-decoration-color: #c6c6c6; font-weight: bold\">-</span><span style=\"color: #c0c0c0; text-decoration-color: #c0c0c0; font-weight: bold\">9.216</span><span style=\"color: #c6c6c6; text-decoration-color: #c6c6c6; font-weight: bold\"> for n7                                    </span><a href=\"file:///home/tobi/sw/threeML/threeML/utils/data_builders/time_series_builder.py\" target=\"_blank\"><span style=\"color: #7f7f7f; text-decoration-color: #7f7f7f\">time_series_builder.py</span></a><span style=\"color: #7f7f7f; text-decoration-color: #7f7f7f\">:</span><a href=\"file:///home/tobi/sw/threeML/threeML/utils/data_builders/time_series_builder.py#290\" target=\"_blank\"><span style=\"color: #7f7f7f; text-decoration-color: #7f7f7f\">290</span></a>\n",
       "</pre>\n"
      ],
      "text/plain": [
       "\u001b[38;5;46m        \u001b[0m\u001b[38;5;46m \u001b[0m\u001b[38;5;49mINFO    \u001b[0m \u001b[1;38;5;251m Interval set to \u001b[0m\u001b[1;37m0.256\u001b[0m\u001b[1;38;5;251m-\u001b[0m\u001b[1;37m9.216\u001b[0m\u001b[1;38;5;251m for n7                                   \u001b[0m\u001b[1;38;5;251m \u001b[0m\u001b]8;id=761594;file:///home/tobi/sw/threeML/threeML/utils/data_builders/time_series_builder.py\u001b\\\u001b[2mtime_series_builder.py\u001b[0m\u001b]8;;\u001b\\\u001b[2m:\u001b[0m\u001b]8;id=698312;file:///home/tobi/sw/threeML/threeML/utils/data_builders/time_series_builder.py#290\u001b\\\u001b[2m290\u001b[0m\u001b]8;;\u001b\\\n"
      ]
     },
     "metadata": {},
     "output_type": "display_data"
    },
    {
     "data": {
      "text/html": [
       "<pre style=\"white-space:pre;overflow-x:auto;line-height:normal;font-family:Menlo,'DejaVu Sans Mono',consolas,'Courier New',monospace\"><span style=\"color: #00ff00; text-decoration-color: #00ff00\">         </span><span style=\"color: #00ffaf; text-decoration-color: #00ffaf\">INFO    </span> <span style=\"color: #c6c6c6; text-decoration-color: #c6c6c6; font-weight: bold\"> Interval set to </span><span style=\"color: #c0c0c0; text-decoration-color: #c0c0c0; font-weight: bold\">0.256</span><span style=\"color: #c6c6c6; text-decoration-color: #c6c6c6; font-weight: bold\">-</span><span style=\"color: #c0c0c0; text-decoration-color: #c0c0c0; font-weight: bold\">9.216</span><span style=\"color: #c6c6c6; text-decoration-color: #c6c6c6; font-weight: bold\"> for n8                                    </span><a href=\"file:///home/tobi/sw/threeML/threeML/utils/data_builders/time_series_builder.py\" target=\"_blank\"><span style=\"color: #7f7f7f; text-decoration-color: #7f7f7f\">time_series_builder.py</span></a><span style=\"color: #7f7f7f; text-decoration-color: #7f7f7f\">:</span><a href=\"file:///home/tobi/sw/threeML/threeML/utils/data_builders/time_series_builder.py#290\" target=\"_blank\"><span style=\"color: #7f7f7f; text-decoration-color: #7f7f7f\">290</span></a>\n",
       "</pre>\n"
      ],
      "text/plain": [
       "\u001b[38;5;46m        \u001b[0m\u001b[38;5;46m \u001b[0m\u001b[38;5;49mINFO    \u001b[0m \u001b[1;38;5;251m Interval set to \u001b[0m\u001b[1;37m0.256\u001b[0m\u001b[1;38;5;251m-\u001b[0m\u001b[1;37m9.216\u001b[0m\u001b[1;38;5;251m for n8                                   \u001b[0m\u001b[1;38;5;251m \u001b[0m\u001b]8;id=258562;file:///home/tobi/sw/threeML/threeML/utils/data_builders/time_series_builder.py\u001b\\\u001b[2mtime_series_builder.py\u001b[0m\u001b]8;;\u001b\\\u001b[2m:\u001b[0m\u001b]8;id=970787;file:///home/tobi/sw/threeML/threeML/utils/data_builders/time_series_builder.py#290\u001b\\\u001b[2m290\u001b[0m\u001b]8;;\u001b\\\n"
      ]
     },
     "metadata": {},
     "output_type": "display_data"
    },
    {
     "data": {
      "text/html": [
       "<pre style=\"white-space:pre;overflow-x:auto;line-height:normal;font-family:Menlo,'DejaVu Sans Mono',consolas,'Courier New',monospace\"><span style=\"color: #00ff00; text-decoration-color: #00ff00\">         </span><span style=\"color: #00ffaf; text-decoration-color: #00ffaf\">INFO    </span> <span style=\"color: #c6c6c6; text-decoration-color: #c6c6c6; font-weight: bold\"> Interval set to </span><span style=\"color: #c0c0c0; text-decoration-color: #c0c0c0; font-weight: bold\">0.256</span><span style=\"color: #c6c6c6; text-decoration-color: #c6c6c6; font-weight: bold\">-</span><span style=\"color: #c0c0c0; text-decoration-color: #c0c0c0; font-weight: bold\">9.216</span><span style=\"color: #c6c6c6; text-decoration-color: #c6c6c6; font-weight: bold\"> for n9                                    </span><a href=\"file:///home/tobi/sw/threeML/threeML/utils/data_builders/time_series_builder.py\" target=\"_blank\"><span style=\"color: #7f7f7f; text-decoration-color: #7f7f7f\">time_series_builder.py</span></a><span style=\"color: #7f7f7f; text-decoration-color: #7f7f7f\">:</span><a href=\"file:///home/tobi/sw/threeML/threeML/utils/data_builders/time_series_builder.py#290\" target=\"_blank\"><span style=\"color: #7f7f7f; text-decoration-color: #7f7f7f\">290</span></a>\n",
       "</pre>\n"
      ],
      "text/plain": [
       "\u001b[38;5;46m        \u001b[0m\u001b[38;5;46m \u001b[0m\u001b[38;5;49mINFO    \u001b[0m \u001b[1;38;5;251m Interval set to \u001b[0m\u001b[1;37m0.256\u001b[0m\u001b[1;38;5;251m-\u001b[0m\u001b[1;37m9.216\u001b[0m\u001b[1;38;5;251m for n9                                   \u001b[0m\u001b[1;38;5;251m \u001b[0m\u001b]8;id=88496;file:///home/tobi/sw/threeML/threeML/utils/data_builders/time_series_builder.py\u001b\\\u001b[2mtime_series_builder.py\u001b[0m\u001b]8;;\u001b\\\u001b[2m:\u001b[0m\u001b]8;id=166297;file:///home/tobi/sw/threeML/threeML/utils/data_builders/time_series_builder.py#290\u001b\\\u001b[2m290\u001b[0m\u001b]8;;\u001b\\\n"
      ]
     },
     "metadata": {},
     "output_type": "display_data"
    },
    {
     "data": {
      "text/html": [
       "<pre style=\"white-space:pre;overflow-x:auto;line-height:normal;font-family:Menlo,'DejaVu Sans Mono',consolas,'Courier New',monospace\"><span style=\"color: #00ff00; text-decoration-color: #00ff00\">         </span><span style=\"color: #00ffaf; text-decoration-color: #00ffaf\">INFO    </span> <span style=\"color: #c6c6c6; text-decoration-color: #c6c6c6; font-weight: bold\"> Interval set to </span><span style=\"color: #c0c0c0; text-decoration-color: #c0c0c0; font-weight: bold\">0.256</span><span style=\"color: #c6c6c6; text-decoration-color: #c6c6c6; font-weight: bold\">-</span><span style=\"color: #c0c0c0; text-decoration-color: #c0c0c0; font-weight: bold\">9.216</span><span style=\"color: #c6c6c6; text-decoration-color: #c6c6c6; font-weight: bold\"> for na                                    </span><a href=\"file:///home/tobi/sw/threeML/threeML/utils/data_builders/time_series_builder.py\" target=\"_blank\"><span style=\"color: #7f7f7f; text-decoration-color: #7f7f7f\">time_series_builder.py</span></a><span style=\"color: #7f7f7f; text-decoration-color: #7f7f7f\">:</span><a href=\"file:///home/tobi/sw/threeML/threeML/utils/data_builders/time_series_builder.py#290\" target=\"_blank\"><span style=\"color: #7f7f7f; text-decoration-color: #7f7f7f\">290</span></a>\n",
       "</pre>\n"
      ],
      "text/plain": [
       "\u001b[38;5;46m        \u001b[0m\u001b[38;5;46m \u001b[0m\u001b[38;5;49mINFO    \u001b[0m \u001b[1;38;5;251m Interval set to \u001b[0m\u001b[1;37m0.256\u001b[0m\u001b[1;38;5;251m-\u001b[0m\u001b[1;37m9.216\u001b[0m\u001b[1;38;5;251m for na                                   \u001b[0m\u001b[1;38;5;251m \u001b[0m\u001b]8;id=505669;file:///home/tobi/sw/threeML/threeML/utils/data_builders/time_series_builder.py\u001b\\\u001b[2mtime_series_builder.py\u001b[0m\u001b]8;;\u001b\\\u001b[2m:\u001b[0m\u001b]8;id=301985;file:///home/tobi/sw/threeML/threeML/utils/data_builders/time_series_builder.py#290\u001b\\\u001b[2m290\u001b[0m\u001b]8;;\u001b\\\n"
      ]
     },
     "metadata": {},
     "output_type": "display_data"
    },
    {
     "data": {
      "text/html": [
       "<pre style=\"white-space:pre;overflow-x:auto;line-height:normal;font-family:Menlo,'DejaVu Sans Mono',consolas,'Courier New',monospace\"><span style=\"color: #00ff00; text-decoration-color: #00ff00\">         </span><span style=\"color: #00ffaf; text-decoration-color: #00ffaf\">INFO    </span> <span style=\"color: #c6c6c6; text-decoration-color: #c6c6c6; font-weight: bold\"> Interval set to </span><span style=\"color: #c0c0c0; text-decoration-color: #c0c0c0; font-weight: bold\">0.256</span><span style=\"color: #c6c6c6; text-decoration-color: #c6c6c6; font-weight: bold\">-</span><span style=\"color: #c0c0c0; text-decoration-color: #c0c0c0; font-weight: bold\">9.216</span><span style=\"color: #c6c6c6; text-decoration-color: #c6c6c6; font-weight: bold\"> for nb                                    </span><a href=\"file:///home/tobi/sw/threeML/threeML/utils/data_builders/time_series_builder.py\" target=\"_blank\"><span style=\"color: #7f7f7f; text-decoration-color: #7f7f7f\">time_series_builder.py</span></a><span style=\"color: #7f7f7f; text-decoration-color: #7f7f7f\">:</span><a href=\"file:///home/tobi/sw/threeML/threeML/utils/data_builders/time_series_builder.py#290\" target=\"_blank\"><span style=\"color: #7f7f7f; text-decoration-color: #7f7f7f\">290</span></a>\n",
       "</pre>\n"
      ],
      "text/plain": [
       "\u001b[38;5;46m        \u001b[0m\u001b[38;5;46m \u001b[0m\u001b[38;5;49mINFO    \u001b[0m \u001b[1;38;5;251m Interval set to \u001b[0m\u001b[1;37m0.256\u001b[0m\u001b[1;38;5;251m-\u001b[0m\u001b[1;37m9.216\u001b[0m\u001b[1;38;5;251m for nb                                   \u001b[0m\u001b[1;38;5;251m \u001b[0m\u001b]8;id=503752;file:///home/tobi/sw/threeML/threeML/utils/data_builders/time_series_builder.py\u001b\\\u001b[2mtime_series_builder.py\u001b[0m\u001b]8;;\u001b\\\u001b[2m:\u001b[0m\u001b]8;id=767929;file:///home/tobi/sw/threeML/threeML/utils/data_builders/time_series_builder.py#290\u001b\\\u001b[2m290\u001b[0m\u001b]8;;\u001b\\\n"
      ]
     },
     "metadata": {},
     "output_type": "display_data"
    },
    {
     "data": {
      "text/html": [
       "<pre style=\"white-space:pre;overflow-x:auto;line-height:normal;font-family:Menlo,'DejaVu Sans Mono',consolas,'Courier New',monospace\"><span style=\"color: #00ff00; text-decoration-color: #00ff00\">         </span><span style=\"color: #00ffaf; text-decoration-color: #00ffaf\">INFO    </span> <span style=\"color: #c6c6c6; text-decoration-color: #c6c6c6; font-weight: bold\"> Interval set to </span><span style=\"color: #c0c0c0; text-decoration-color: #c0c0c0; font-weight: bold\">0.256</span><span style=\"color: #c6c6c6; text-decoration-color: #c6c6c6; font-weight: bold\">-</span><span style=\"color: #c0c0c0; text-decoration-color: #c0c0c0; font-weight: bold\">9.216</span><span style=\"color: #c6c6c6; text-decoration-color: #c6c6c6; font-weight: bold\"> for b0                                    </span><a href=\"file:///home/tobi/sw/threeML/threeML/utils/data_builders/time_series_builder.py\" target=\"_blank\"><span style=\"color: #7f7f7f; text-decoration-color: #7f7f7f\">time_series_builder.py</span></a><span style=\"color: #7f7f7f; text-decoration-color: #7f7f7f\">:</span><a href=\"file:///home/tobi/sw/threeML/threeML/utils/data_builders/time_series_builder.py#290\" target=\"_blank\"><span style=\"color: #7f7f7f; text-decoration-color: #7f7f7f\">290</span></a>\n",
       "</pre>\n"
      ],
      "text/plain": [
       "\u001b[38;5;46m        \u001b[0m\u001b[38;5;46m \u001b[0m\u001b[38;5;49mINFO    \u001b[0m \u001b[1;38;5;251m Interval set to \u001b[0m\u001b[1;37m0.256\u001b[0m\u001b[1;38;5;251m-\u001b[0m\u001b[1;37m9.216\u001b[0m\u001b[1;38;5;251m for b0                                   \u001b[0m\u001b[1;38;5;251m \u001b[0m\u001b]8;id=998302;file:///home/tobi/sw/threeML/threeML/utils/data_builders/time_series_builder.py\u001b\\\u001b[2mtime_series_builder.py\u001b[0m\u001b]8;;\u001b\\\u001b[2m:\u001b[0m\u001b]8;id=731882;file:///home/tobi/sw/threeML/threeML/utils/data_builders/time_series_builder.py#290\u001b\\\u001b[2m290\u001b[0m\u001b]8;;\u001b\\\n"
      ]
     },
     "metadata": {},
     "output_type": "display_data"
    },
    {
     "data": {
      "text/html": [
       "<pre style=\"white-space:pre;overflow-x:auto;line-height:normal;font-family:Menlo,'DejaVu Sans Mono',consolas,'Courier New',monospace\"><span style=\"color: #00ff00; text-decoration-color: #00ff00\">         </span><span style=\"color: #00ffaf; text-decoration-color: #00ffaf\">INFO    </span> <span style=\"color: #c6c6c6; text-decoration-color: #c6c6c6; font-weight: bold\"> Interval set to </span><span style=\"color: #c0c0c0; text-decoration-color: #c0c0c0; font-weight: bold\">0.256</span><span style=\"color: #c6c6c6; text-decoration-color: #c6c6c6; font-weight: bold\">-</span><span style=\"color: #c0c0c0; text-decoration-color: #c0c0c0; font-weight: bold\">9.216</span><span style=\"color: #c6c6c6; text-decoration-color: #c6c6c6; font-weight: bold\"> for b1                                    </span><a href=\"file:///home/tobi/sw/threeML/threeML/utils/data_builders/time_series_builder.py\" target=\"_blank\"><span style=\"color: #7f7f7f; text-decoration-color: #7f7f7f\">time_series_builder.py</span></a><span style=\"color: #7f7f7f; text-decoration-color: #7f7f7f\">:</span><a href=\"file:///home/tobi/sw/threeML/threeML/utils/data_builders/time_series_builder.py#290\" target=\"_blank\"><span style=\"color: #7f7f7f; text-decoration-color: #7f7f7f\">290</span></a>\n",
       "</pre>\n"
      ],
      "text/plain": [
       "\u001b[38;5;46m        \u001b[0m\u001b[38;5;46m \u001b[0m\u001b[38;5;49mINFO    \u001b[0m \u001b[1;38;5;251m Interval set to \u001b[0m\u001b[1;37m0.256\u001b[0m\u001b[1;38;5;251m-\u001b[0m\u001b[1;37m9.216\u001b[0m\u001b[1;38;5;251m for b1                                   \u001b[0m\u001b[1;38;5;251m \u001b[0m\u001b]8;id=562546;file:///home/tobi/sw/threeML/threeML/utils/data_builders/time_series_builder.py\u001b\\\u001b[2mtime_series_builder.py\u001b[0m\u001b]8;;\u001b\\\u001b[2m:\u001b[0m\u001b]8;id=80613;file:///home/tobi/sw/threeML/threeML/utils/data_builders/time_series_builder.py#290\u001b\\\u001b[2m290\u001b[0m\u001b]8;;\u001b\\\n"
      ]
     },
     "metadata": {},
     "output_type": "display_data"
    }
   ],
   "source": [
    "tsbb=TimeSelectionBB(GRB,trigdat,fine=True)"
   ]
  },
  {
   "cell_type": "code",
   "execution_count": 7,
   "id": "ab236620-215e-4270-9937-fa1160111e7a",
   "metadata": {},
   "outputs": [],
   "source": [
    "trigreader = tsbb.trigreader_object"
   ]
  },
  {
   "cell_type": "code",
   "execution_count": 8,
   "id": "7da759d9-f5f4-4ce1-b76f-5bc2aa501cd2",
   "metadata": {},
   "outputs": [
    {
     "data": {
      "text/html": [
       "<pre style=\"white-space:pre;overflow-x:auto;line-height:normal;font-family:Menlo,'DejaVu Sans Mono',consolas,'Courier New',monospace\"><span style=\"color: #00ff00; text-decoration-color: #00ff00\">16:04:12 </span><span style=\"color: #00ffaf; text-decoration-color: #00ffaf\">INFO    </span> <span style=\"color: #c6c6c6; text-decoration-color: #c6c6c6; font-weight: bold\"> Auto-probed noise models:                                                    </span><a href=\"file:///home/tobi/sw/threeML/threeML/plugins/SpectrumLike.py\" target=\"_blank\"><span style=\"color: #7f7f7f; text-decoration-color: #7f7f7f\">SpectrumLike.py</span></a><span style=\"color: #7f7f7f; text-decoration-color: #7f7f7f\">:</span><a href=\"file:///home/tobi/sw/threeML/threeML/plugins/SpectrumLike.py#469\" target=\"_blank\"><span style=\"color: #7f7f7f; text-decoration-color: #7f7f7f\">469</span></a>\n",
       "</pre>\n"
      ],
      "text/plain": [
       "\u001b[38;5;46m16:04:12\u001b[0m\u001b[38;5;46m \u001b[0m\u001b[38;5;49mINFO    \u001b[0m \u001b[1;38;5;251m Auto-probed noise models:                                                   \u001b[0m\u001b[1;38;5;251m \u001b[0m\u001b]8;id=5428;file:///home/tobi/sw/threeML/threeML/plugins/SpectrumLike.py\u001b\\\u001b[2mSpectrumLike.py\u001b[0m\u001b]8;;\u001b\\\u001b[2m:\u001b[0m\u001b]8;id=943400;file:///home/tobi/sw/threeML/threeML/plugins/SpectrumLike.py#469\u001b\\\u001b[2m469\u001b[0m\u001b]8;;\u001b\\\n"
      ]
     },
     "metadata": {},
     "output_type": "display_data"
    },
    {
     "data": {
      "text/html": [
       "<pre style=\"white-space:pre;overflow-x:auto;line-height:normal;font-family:Menlo,'DejaVu Sans Mono',consolas,'Courier New',monospace\"><span style=\"color: #00ff00; text-decoration-color: #00ff00\">         </span><span style=\"color: #00ffaf; text-decoration-color: #00ffaf\">INFO    </span> <span style=\"color: #c6c6c6; text-decoration-color: #c6c6c6; font-weight: bold\"> - observation: poisson                                                       </span><a href=\"file:///home/tobi/sw/threeML/threeML/plugins/SpectrumLike.py\" target=\"_blank\"><span style=\"color: #7f7f7f; text-decoration-color: #7f7f7f\">SpectrumLike.py</span></a><span style=\"color: #7f7f7f; text-decoration-color: #7f7f7f\">:</span><a href=\"file:///home/tobi/sw/threeML/threeML/plugins/SpectrumLike.py#470\" target=\"_blank\"><span style=\"color: #7f7f7f; text-decoration-color: #7f7f7f\">470</span></a>\n",
       "</pre>\n"
      ],
      "text/plain": [
       "\u001b[38;5;46m        \u001b[0m\u001b[38;5;46m \u001b[0m\u001b[38;5;49mINFO    \u001b[0m \u001b[1;38;5;251m - observation: poisson                                                      \u001b[0m\u001b[1;38;5;251m \u001b[0m\u001b]8;id=509028;file:///home/tobi/sw/threeML/threeML/plugins/SpectrumLike.py\u001b\\\u001b[2mSpectrumLike.py\u001b[0m\u001b]8;;\u001b\\\u001b[2m:\u001b[0m\u001b]8;id=490473;file:///home/tobi/sw/threeML/threeML/plugins/SpectrumLike.py#470\u001b\\\u001b[2m470\u001b[0m\u001b]8;;\u001b\\\n"
      ]
     },
     "metadata": {},
     "output_type": "display_data"
    },
    {
     "data": {
      "text/html": [
       "<pre style=\"white-space:pre;overflow-x:auto;line-height:normal;font-family:Menlo,'DejaVu Sans Mono',consolas,'Courier New',monospace\"><span style=\"color: #00ff00; text-decoration-color: #00ff00\">         </span><span style=\"color: #00ffaf; text-decoration-color: #00ffaf\">INFO    </span> <span style=\"color: #c6c6c6; text-decoration-color: #c6c6c6; font-weight: bold\"> - background: gaussian                                                       </span><a href=\"file:///home/tobi/sw/threeML/threeML/plugins/SpectrumLike.py\" target=\"_blank\"><span style=\"color: #7f7f7f; text-decoration-color: #7f7f7f\">SpectrumLike.py</span></a><span style=\"color: #7f7f7f; text-decoration-color: #7f7f7f\">:</span><a href=\"file:///home/tobi/sw/threeML/threeML/plugins/SpectrumLike.py#471\" target=\"_blank\"><span style=\"color: #7f7f7f; text-decoration-color: #7f7f7f\">471</span></a>\n",
       "</pre>\n"
      ],
      "text/plain": [
       "\u001b[38;5;46m        \u001b[0m\u001b[38;5;46m \u001b[0m\u001b[38;5;49mINFO    \u001b[0m \u001b[1;38;5;251m - background: gaussian                                                      \u001b[0m\u001b[1;38;5;251m \u001b[0m\u001b]8;id=984981;file:///home/tobi/sw/threeML/threeML/plugins/SpectrumLike.py\u001b\\\u001b[2mSpectrumLike.py\u001b[0m\u001b]8;;\u001b\\\u001b[2m:\u001b[0m\u001b]8;id=842477;file:///home/tobi/sw/threeML/threeML/plugins/SpectrumLike.py#471\u001b\\\u001b[2m471\u001b[0m\u001b]8;;\u001b\\\n"
      ]
     },
     "metadata": {},
     "output_type": "display_data"
    },
    {
     "data": {
      "text/html": [
       "<pre style=\"white-space:pre;overflow-x:auto;line-height:normal;font-family:Menlo,'DejaVu Sans Mono',consolas,'Courier New',monospace\"><span style=\"color: #00ff00; text-decoration-color: #00ff00\">         </span><span style=\"color: #00ffaf; text-decoration-color: #00ffaf\">INFO    </span> <span style=\"color: #c6c6c6; text-decoration-color: #c6c6c6; font-weight: bold\"> Auto-probed noise models:                                                    </span><a href=\"file:///home/tobi/sw/threeML/threeML/plugins/SpectrumLike.py\" target=\"_blank\"><span style=\"color: #7f7f7f; text-decoration-color: #7f7f7f\">SpectrumLike.py</span></a><span style=\"color: #7f7f7f; text-decoration-color: #7f7f7f\">:</span><a href=\"file:///home/tobi/sw/threeML/threeML/plugins/SpectrumLike.py#469\" target=\"_blank\"><span style=\"color: #7f7f7f; text-decoration-color: #7f7f7f\">469</span></a>\n",
       "</pre>\n"
      ],
      "text/plain": [
       "\u001b[38;5;46m        \u001b[0m\u001b[38;5;46m \u001b[0m\u001b[38;5;49mINFO    \u001b[0m \u001b[1;38;5;251m Auto-probed noise models:                                                   \u001b[0m\u001b[1;38;5;251m \u001b[0m\u001b]8;id=717369;file:///home/tobi/sw/threeML/threeML/plugins/SpectrumLike.py\u001b\\\u001b[2mSpectrumLike.py\u001b[0m\u001b]8;;\u001b\\\u001b[2m:\u001b[0m\u001b]8;id=148958;file:///home/tobi/sw/threeML/threeML/plugins/SpectrumLike.py#469\u001b\\\u001b[2m469\u001b[0m\u001b]8;;\u001b\\\n"
      ]
     },
     "metadata": {},
     "output_type": "display_data"
    },
    {
     "data": {
      "text/html": [
       "<pre style=\"white-space:pre;overflow-x:auto;line-height:normal;font-family:Menlo,'DejaVu Sans Mono',consolas,'Courier New',monospace\"><span style=\"color: #00ff00; text-decoration-color: #00ff00\">         </span><span style=\"color: #00ffaf; text-decoration-color: #00ffaf\">INFO    </span> <span style=\"color: #c6c6c6; text-decoration-color: #c6c6c6; font-weight: bold\"> - observation: poisson                                                       </span><a href=\"file:///home/tobi/sw/threeML/threeML/plugins/SpectrumLike.py\" target=\"_blank\"><span style=\"color: #7f7f7f; text-decoration-color: #7f7f7f\">SpectrumLike.py</span></a><span style=\"color: #7f7f7f; text-decoration-color: #7f7f7f\">:</span><a href=\"file:///home/tobi/sw/threeML/threeML/plugins/SpectrumLike.py#470\" target=\"_blank\"><span style=\"color: #7f7f7f; text-decoration-color: #7f7f7f\">470</span></a>\n",
       "</pre>\n"
      ],
      "text/plain": [
       "\u001b[38;5;46m        \u001b[0m\u001b[38;5;46m \u001b[0m\u001b[38;5;49mINFO    \u001b[0m \u001b[1;38;5;251m - observation: poisson                                                      \u001b[0m\u001b[1;38;5;251m \u001b[0m\u001b]8;id=379360;file:///home/tobi/sw/threeML/threeML/plugins/SpectrumLike.py\u001b\\\u001b[2mSpectrumLike.py\u001b[0m\u001b]8;;\u001b\\\u001b[2m:\u001b[0m\u001b]8;id=334827;file:///home/tobi/sw/threeML/threeML/plugins/SpectrumLike.py#470\u001b\\\u001b[2m470\u001b[0m\u001b]8;;\u001b\\\n"
      ]
     },
     "metadata": {},
     "output_type": "display_data"
    },
    {
     "data": {
      "text/html": [
       "<pre style=\"white-space:pre;overflow-x:auto;line-height:normal;font-family:Menlo,'DejaVu Sans Mono',consolas,'Courier New',monospace\"><span style=\"color: #00ff00; text-decoration-color: #00ff00\">         </span><span style=\"color: #00ffaf; text-decoration-color: #00ffaf\">INFO    </span> <span style=\"color: #c6c6c6; text-decoration-color: #c6c6c6; font-weight: bold\"> - background: gaussian                                                       </span><a href=\"file:///home/tobi/sw/threeML/threeML/plugins/SpectrumLike.py\" target=\"_blank\"><span style=\"color: #7f7f7f; text-decoration-color: #7f7f7f\">SpectrumLike.py</span></a><span style=\"color: #7f7f7f; text-decoration-color: #7f7f7f\">:</span><a href=\"file:///home/tobi/sw/threeML/threeML/plugins/SpectrumLike.py#471\" target=\"_blank\"><span style=\"color: #7f7f7f; text-decoration-color: #7f7f7f\">471</span></a>\n",
       "</pre>\n"
      ],
      "text/plain": [
       "\u001b[38;5;46m        \u001b[0m\u001b[38;5;46m \u001b[0m\u001b[38;5;49mINFO    \u001b[0m \u001b[1;38;5;251m - background: gaussian                                                      \u001b[0m\u001b[1;38;5;251m \u001b[0m\u001b]8;id=870258;file:///home/tobi/sw/threeML/threeML/plugins/SpectrumLike.py\u001b\\\u001b[2mSpectrumLike.py\u001b[0m\u001b]8;;\u001b\\\u001b[2m:\u001b[0m\u001b]8;id=59145;file:///home/tobi/sw/threeML/threeML/plugins/SpectrumLike.py#471\u001b\\\u001b[2m471\u001b[0m\u001b]8;;\u001b\\\n"
      ]
     },
     "metadata": {},
     "output_type": "display_data"
    },
    {
     "data": {
      "text/html": [
       "<pre style=\"white-space:pre;overflow-x:auto;line-height:normal;font-family:Menlo,'DejaVu Sans Mono',consolas,'Courier New',monospace\"><span style=\"color: #00ff00; text-decoration-color: #00ff00\">         </span><span style=\"color: #00ffaf; text-decoration-color: #00ffaf\">INFO    </span> <span style=\"color: #c6c6c6; text-decoration-color: #c6c6c6; font-weight: bold\"> Range c1-c6 translates to channels </span><span style=\"color: #c0c0c0; text-decoration-color: #c0c0c0; font-weight: bold\">1</span><span style=\"color: #c6c6c6; text-decoration-color: #c6c6c6; font-weight: bold\">-</span><span style=\"color: #c0c0c0; text-decoration-color: #c0c0c0; font-weight: bold\">6</span><span style=\"color: #c6c6c6; text-decoration-color: #c6c6c6; font-weight: bold\">                                      </span><a href=\"file:///home/tobi/sw/threeML/threeML/plugins/SpectrumLike.py\" target=\"_blank\"><span style=\"color: #7f7f7f; text-decoration-color: #7f7f7f\">SpectrumLike.py</span></a><span style=\"color: #7f7f7f; text-decoration-color: #7f7f7f\">:</span><a href=\"file:///home/tobi/sw/threeML/threeML/plugins/SpectrumLike.py#1210\" target=\"_blank\"><span style=\"color: #7f7f7f; text-decoration-color: #7f7f7f\">1210</span></a>\n",
       "</pre>\n"
      ],
      "text/plain": [
       "\u001b[38;5;46m        \u001b[0m\u001b[38;5;46m \u001b[0m\u001b[38;5;49mINFO    \u001b[0m \u001b[1;38;5;251m Range c1-c6 translates to channels \u001b[0m\u001b[1;37m1\u001b[0m\u001b[1;38;5;251m-\u001b[0m\u001b[1;37m6\u001b[0m\u001b[1;38;5;251m                                     \u001b[0m\u001b[1;38;5;251m \u001b[0m\u001b]8;id=985651;file:///home/tobi/sw/threeML/threeML/plugins/SpectrumLike.py\u001b\\\u001b[2mSpectrumLike.py\u001b[0m\u001b]8;;\u001b\\\u001b[2m:\u001b[0m\u001b]8;id=853534;file:///home/tobi/sw/threeML/threeML/plugins/SpectrumLike.py#1210\u001b\\\u001b[2m1210\u001b[0m\u001b]8;;\u001b\\\n"
      ]
     },
     "metadata": {},
     "output_type": "display_data"
    },
    {
     "data": {
      "text/html": [
       "<pre style=\"white-space:pre;overflow-x:auto;line-height:normal;font-family:Menlo,'DejaVu Sans Mono',consolas,'Courier New',monospace\"><span style=\"color: #00ff00; text-decoration-color: #00ff00\">         </span><span style=\"color: #00ffaf; text-decoration-color: #00ffaf\">INFO    </span> <span style=\"color: #c6c6c6; text-decoration-color: #c6c6c6; font-weight: bold\"> Auto-probed noise models:                                                    </span><a href=\"file:///home/tobi/sw/threeML/threeML/plugins/SpectrumLike.py\" target=\"_blank\"><span style=\"color: #7f7f7f; text-decoration-color: #7f7f7f\">SpectrumLike.py</span></a><span style=\"color: #7f7f7f; text-decoration-color: #7f7f7f\">:</span><a href=\"file:///home/tobi/sw/threeML/threeML/plugins/SpectrumLike.py#469\" target=\"_blank\"><span style=\"color: #7f7f7f; text-decoration-color: #7f7f7f\">469</span></a>\n",
       "</pre>\n"
      ],
      "text/plain": [
       "\u001b[38;5;46m        \u001b[0m\u001b[38;5;46m \u001b[0m\u001b[38;5;49mINFO    \u001b[0m \u001b[1;38;5;251m Auto-probed noise models:                                                   \u001b[0m\u001b[1;38;5;251m \u001b[0m\u001b]8;id=949245;file:///home/tobi/sw/threeML/threeML/plugins/SpectrumLike.py\u001b\\\u001b[2mSpectrumLike.py\u001b[0m\u001b]8;;\u001b\\\u001b[2m:\u001b[0m\u001b]8;id=625365;file:///home/tobi/sw/threeML/threeML/plugins/SpectrumLike.py#469\u001b\\\u001b[2m469\u001b[0m\u001b]8;;\u001b\\\n"
      ]
     },
     "metadata": {},
     "output_type": "display_data"
    },
    {
     "data": {
      "text/html": [
       "<pre style=\"white-space:pre;overflow-x:auto;line-height:normal;font-family:Menlo,'DejaVu Sans Mono',consolas,'Courier New',monospace\"><span style=\"color: #00ff00; text-decoration-color: #00ff00\">         </span><span style=\"color: #00ffaf; text-decoration-color: #00ffaf\">INFO    </span> <span style=\"color: #c6c6c6; text-decoration-color: #c6c6c6; font-weight: bold\"> - observation: poisson                                                       </span><a href=\"file:///home/tobi/sw/threeML/threeML/plugins/SpectrumLike.py\" target=\"_blank\"><span style=\"color: #7f7f7f; text-decoration-color: #7f7f7f\">SpectrumLike.py</span></a><span style=\"color: #7f7f7f; text-decoration-color: #7f7f7f\">:</span><a href=\"file:///home/tobi/sw/threeML/threeML/plugins/SpectrumLike.py#470\" target=\"_blank\"><span style=\"color: #7f7f7f; text-decoration-color: #7f7f7f\">470</span></a>\n",
       "</pre>\n"
      ],
      "text/plain": [
       "\u001b[38;5;46m        \u001b[0m\u001b[38;5;46m \u001b[0m\u001b[38;5;49mINFO    \u001b[0m \u001b[1;38;5;251m - observation: poisson                                                      \u001b[0m\u001b[1;38;5;251m \u001b[0m\u001b]8;id=249837;file:///home/tobi/sw/threeML/threeML/plugins/SpectrumLike.py\u001b\\\u001b[2mSpectrumLike.py\u001b[0m\u001b]8;;\u001b\\\u001b[2m:\u001b[0m\u001b]8;id=646863;file:///home/tobi/sw/threeML/threeML/plugins/SpectrumLike.py#470\u001b\\\u001b[2m470\u001b[0m\u001b]8;;\u001b\\\n"
      ]
     },
     "metadata": {},
     "output_type": "display_data"
    },
    {
     "data": {
      "text/html": [
       "<pre style=\"white-space:pre;overflow-x:auto;line-height:normal;font-family:Menlo,'DejaVu Sans Mono',consolas,'Courier New',monospace\"><span style=\"color: #00ff00; text-decoration-color: #00ff00\">         </span><span style=\"color: #00ffaf; text-decoration-color: #00ffaf\">INFO    </span> <span style=\"color: #c6c6c6; text-decoration-color: #c6c6c6; font-weight: bold\"> - background: gaussian                                                       </span><a href=\"file:///home/tobi/sw/threeML/threeML/plugins/SpectrumLike.py\" target=\"_blank\"><span style=\"color: #7f7f7f; text-decoration-color: #7f7f7f\">SpectrumLike.py</span></a><span style=\"color: #7f7f7f; text-decoration-color: #7f7f7f\">:</span><a href=\"file:///home/tobi/sw/threeML/threeML/plugins/SpectrumLike.py#471\" target=\"_blank\"><span style=\"color: #7f7f7f; text-decoration-color: #7f7f7f\">471</span></a>\n",
       "</pre>\n"
      ],
      "text/plain": [
       "\u001b[38;5;46m        \u001b[0m\u001b[38;5;46m \u001b[0m\u001b[38;5;49mINFO    \u001b[0m \u001b[1;38;5;251m - background: gaussian                                                      \u001b[0m\u001b[1;38;5;251m \u001b[0m\u001b]8;id=534259;file:///home/tobi/sw/threeML/threeML/plugins/SpectrumLike.py\u001b\\\u001b[2mSpectrumLike.py\u001b[0m\u001b]8;;\u001b\\\u001b[2m:\u001b[0m\u001b]8;id=153407;file:///home/tobi/sw/threeML/threeML/plugins/SpectrumLike.py#471\u001b\\\u001b[2m471\u001b[0m\u001b]8;;\u001b\\\n"
      ]
     },
     "metadata": {},
     "output_type": "display_data"
    },
    {
     "data": {
      "text/html": [
       "<pre style=\"white-space:pre;overflow-x:auto;line-height:normal;font-family:Menlo,'DejaVu Sans Mono',consolas,'Courier New',monospace\"><span style=\"color: #00ff00; text-decoration-color: #00ff00\">         </span><span style=\"color: #00ffaf; text-decoration-color: #00ffaf\">INFO    </span> <span style=\"color: #c6c6c6; text-decoration-color: #c6c6c6; font-weight: bold\"> Auto-probed noise models:                                                    </span><a href=\"file:///home/tobi/sw/threeML/threeML/plugins/SpectrumLike.py\" target=\"_blank\"><span style=\"color: #7f7f7f; text-decoration-color: #7f7f7f\">SpectrumLike.py</span></a><span style=\"color: #7f7f7f; text-decoration-color: #7f7f7f\">:</span><a href=\"file:///home/tobi/sw/threeML/threeML/plugins/SpectrumLike.py#469\" target=\"_blank\"><span style=\"color: #7f7f7f; text-decoration-color: #7f7f7f\">469</span></a>\n",
       "</pre>\n"
      ],
      "text/plain": [
       "\u001b[38;5;46m        \u001b[0m\u001b[38;5;46m \u001b[0m\u001b[38;5;49mINFO    \u001b[0m \u001b[1;38;5;251m Auto-probed noise models:                                                   \u001b[0m\u001b[1;38;5;251m \u001b[0m\u001b]8;id=750710;file:///home/tobi/sw/threeML/threeML/plugins/SpectrumLike.py\u001b\\\u001b[2mSpectrumLike.py\u001b[0m\u001b]8;;\u001b\\\u001b[2m:\u001b[0m\u001b]8;id=900366;file:///home/tobi/sw/threeML/threeML/plugins/SpectrumLike.py#469\u001b\\\u001b[2m469\u001b[0m\u001b]8;;\u001b\\\n"
      ]
     },
     "metadata": {},
     "output_type": "display_data"
    },
    {
     "data": {
      "text/html": [
       "<pre style=\"white-space:pre;overflow-x:auto;line-height:normal;font-family:Menlo,'DejaVu Sans Mono',consolas,'Courier New',monospace\"><span style=\"color: #00ff00; text-decoration-color: #00ff00\">         </span><span style=\"color: #00ffaf; text-decoration-color: #00ffaf\">INFO    </span> <span style=\"color: #c6c6c6; text-decoration-color: #c6c6c6; font-weight: bold\"> - observation: poisson                                                       </span><a href=\"file:///home/tobi/sw/threeML/threeML/plugins/SpectrumLike.py\" target=\"_blank\"><span style=\"color: #7f7f7f; text-decoration-color: #7f7f7f\">SpectrumLike.py</span></a><span style=\"color: #7f7f7f; text-decoration-color: #7f7f7f\">:</span><a href=\"file:///home/tobi/sw/threeML/threeML/plugins/SpectrumLike.py#470\" target=\"_blank\"><span style=\"color: #7f7f7f; text-decoration-color: #7f7f7f\">470</span></a>\n",
       "</pre>\n"
      ],
      "text/plain": [
       "\u001b[38;5;46m        \u001b[0m\u001b[38;5;46m \u001b[0m\u001b[38;5;49mINFO    \u001b[0m \u001b[1;38;5;251m - observation: poisson                                                      \u001b[0m\u001b[1;38;5;251m \u001b[0m\u001b]8;id=566804;file:///home/tobi/sw/threeML/threeML/plugins/SpectrumLike.py\u001b\\\u001b[2mSpectrumLike.py\u001b[0m\u001b]8;;\u001b\\\u001b[2m:\u001b[0m\u001b]8;id=815101;file:///home/tobi/sw/threeML/threeML/plugins/SpectrumLike.py#470\u001b\\\u001b[2m470\u001b[0m\u001b]8;;\u001b\\\n"
      ]
     },
     "metadata": {},
     "output_type": "display_data"
    },
    {
     "data": {
      "text/html": [
       "<pre style=\"white-space:pre;overflow-x:auto;line-height:normal;font-family:Menlo,'DejaVu Sans Mono',consolas,'Courier New',monospace\"><span style=\"color: #00ff00; text-decoration-color: #00ff00\">         </span><span style=\"color: #00ffaf; text-decoration-color: #00ffaf\">INFO    </span> <span style=\"color: #c6c6c6; text-decoration-color: #c6c6c6; font-weight: bold\"> - background: gaussian                                                       </span><a href=\"file:///home/tobi/sw/threeML/threeML/plugins/SpectrumLike.py\" target=\"_blank\"><span style=\"color: #7f7f7f; text-decoration-color: #7f7f7f\">SpectrumLike.py</span></a><span style=\"color: #7f7f7f; text-decoration-color: #7f7f7f\">:</span><a href=\"file:///home/tobi/sw/threeML/threeML/plugins/SpectrumLike.py#471\" target=\"_blank\"><span style=\"color: #7f7f7f; text-decoration-color: #7f7f7f\">471</span></a>\n",
       "</pre>\n"
      ],
      "text/plain": [
       "\u001b[38;5;46m        \u001b[0m\u001b[38;5;46m \u001b[0m\u001b[38;5;49mINFO    \u001b[0m \u001b[1;38;5;251m - background: gaussian                                                      \u001b[0m\u001b[1;38;5;251m \u001b[0m\u001b]8;id=260750;file:///home/tobi/sw/threeML/threeML/plugins/SpectrumLike.py\u001b\\\u001b[2mSpectrumLike.py\u001b[0m\u001b]8;;\u001b\\\u001b[2m:\u001b[0m\u001b]8;id=645624;file:///home/tobi/sw/threeML/threeML/plugins/SpectrumLike.py#471\u001b\\\u001b[2m471\u001b[0m\u001b]8;;\u001b\\\n"
      ]
     },
     "metadata": {},
     "output_type": "display_data"
    },
    {
     "data": {
      "text/html": [
       "<pre style=\"white-space:pre;overflow-x:auto;line-height:normal;font-family:Menlo,'DejaVu Sans Mono',consolas,'Courier New',monospace\"><span style=\"color: #00ff00; text-decoration-color: #00ff00\">         </span><span style=\"color: #00ffaf; text-decoration-color: #00ffaf\">INFO    </span> <span style=\"color: #c6c6c6; text-decoration-color: #c6c6c6; font-weight: bold\"> Range c1-c6 translates to channels </span><span style=\"color: #c0c0c0; text-decoration-color: #c0c0c0; font-weight: bold\">1</span><span style=\"color: #c6c6c6; text-decoration-color: #c6c6c6; font-weight: bold\">-</span><span style=\"color: #c0c0c0; text-decoration-color: #c0c0c0; font-weight: bold\">6</span><span style=\"color: #c6c6c6; text-decoration-color: #c6c6c6; font-weight: bold\">                                      </span><a href=\"file:///home/tobi/sw/threeML/threeML/plugins/SpectrumLike.py\" target=\"_blank\"><span style=\"color: #7f7f7f; text-decoration-color: #7f7f7f\">SpectrumLike.py</span></a><span style=\"color: #7f7f7f; text-decoration-color: #7f7f7f\">:</span><a href=\"file:///home/tobi/sw/threeML/threeML/plugins/SpectrumLike.py#1210\" target=\"_blank\"><span style=\"color: #7f7f7f; text-decoration-color: #7f7f7f\">1210</span></a>\n",
       "</pre>\n"
      ],
      "text/plain": [
       "\u001b[38;5;46m        \u001b[0m\u001b[38;5;46m \u001b[0m\u001b[38;5;49mINFO    \u001b[0m \u001b[1;38;5;251m Range c1-c6 translates to channels \u001b[0m\u001b[1;37m1\u001b[0m\u001b[1;38;5;251m-\u001b[0m\u001b[1;37m6\u001b[0m\u001b[1;38;5;251m                                     \u001b[0m\u001b[1;38;5;251m \u001b[0m\u001b]8;id=815808;file:///home/tobi/sw/threeML/threeML/plugins/SpectrumLike.py\u001b\\\u001b[2mSpectrumLike.py\u001b[0m\u001b]8;;\u001b\\\u001b[2m:\u001b[0m\u001b]8;id=232024;file:///home/tobi/sw/threeML/threeML/plugins/SpectrumLike.py#1210\u001b\\\u001b[2m1210\u001b[0m\u001b]8;;\u001b\\\n"
      ]
     },
     "metadata": {},
     "output_type": "display_data"
    },
    {
     "data": {
      "text/html": [
       "<pre style=\"white-space:pre;overflow-x:auto;line-height:normal;font-family:Menlo,'DejaVu Sans Mono',consolas,'Courier New',monospace\"><span style=\"color: #00ff00; text-decoration-color: #00ff00\">         </span><span style=\"color: #00ffaf; text-decoration-color: #00ffaf\">INFO    </span> <span style=\"color: #c6c6c6; text-decoration-color: #c6c6c6; font-weight: bold\"> Auto-probed noise models:                                                    </span><a href=\"file:///home/tobi/sw/threeML/threeML/plugins/SpectrumLike.py\" target=\"_blank\"><span style=\"color: #7f7f7f; text-decoration-color: #7f7f7f\">SpectrumLike.py</span></a><span style=\"color: #7f7f7f; text-decoration-color: #7f7f7f\">:</span><a href=\"file:///home/tobi/sw/threeML/threeML/plugins/SpectrumLike.py#469\" target=\"_blank\"><span style=\"color: #7f7f7f; text-decoration-color: #7f7f7f\">469</span></a>\n",
       "</pre>\n"
      ],
      "text/plain": [
       "\u001b[38;5;46m        \u001b[0m\u001b[38;5;46m \u001b[0m\u001b[38;5;49mINFO    \u001b[0m \u001b[1;38;5;251m Auto-probed noise models:                                                   \u001b[0m\u001b[1;38;5;251m \u001b[0m\u001b]8;id=436361;file:///home/tobi/sw/threeML/threeML/plugins/SpectrumLike.py\u001b\\\u001b[2mSpectrumLike.py\u001b[0m\u001b]8;;\u001b\\\u001b[2m:\u001b[0m\u001b]8;id=759950;file:///home/tobi/sw/threeML/threeML/plugins/SpectrumLike.py#469\u001b\\\u001b[2m469\u001b[0m\u001b]8;;\u001b\\\n"
      ]
     },
     "metadata": {},
     "output_type": "display_data"
    },
    {
     "data": {
      "text/html": [
       "<pre style=\"white-space:pre;overflow-x:auto;line-height:normal;font-family:Menlo,'DejaVu Sans Mono',consolas,'Courier New',monospace\"><span style=\"color: #00ff00; text-decoration-color: #00ff00\">         </span><span style=\"color: #00ffaf; text-decoration-color: #00ffaf\">INFO    </span> <span style=\"color: #c6c6c6; text-decoration-color: #c6c6c6; font-weight: bold\"> - observation: poisson                                                       </span><a href=\"file:///home/tobi/sw/threeML/threeML/plugins/SpectrumLike.py\" target=\"_blank\"><span style=\"color: #7f7f7f; text-decoration-color: #7f7f7f\">SpectrumLike.py</span></a><span style=\"color: #7f7f7f; text-decoration-color: #7f7f7f\">:</span><a href=\"file:///home/tobi/sw/threeML/threeML/plugins/SpectrumLike.py#470\" target=\"_blank\"><span style=\"color: #7f7f7f; text-decoration-color: #7f7f7f\">470</span></a>\n",
       "</pre>\n"
      ],
      "text/plain": [
       "\u001b[38;5;46m        \u001b[0m\u001b[38;5;46m \u001b[0m\u001b[38;5;49mINFO    \u001b[0m \u001b[1;38;5;251m - observation: poisson                                                      \u001b[0m\u001b[1;38;5;251m \u001b[0m\u001b]8;id=488769;file:///home/tobi/sw/threeML/threeML/plugins/SpectrumLike.py\u001b\\\u001b[2mSpectrumLike.py\u001b[0m\u001b]8;;\u001b\\\u001b[2m:\u001b[0m\u001b]8;id=485703;file:///home/tobi/sw/threeML/threeML/plugins/SpectrumLike.py#470\u001b\\\u001b[2m470\u001b[0m\u001b]8;;\u001b\\\n"
      ]
     },
     "metadata": {},
     "output_type": "display_data"
    },
    {
     "data": {
      "text/html": [
       "<pre style=\"white-space:pre;overflow-x:auto;line-height:normal;font-family:Menlo,'DejaVu Sans Mono',consolas,'Courier New',monospace\"><span style=\"color: #00ff00; text-decoration-color: #00ff00\">         </span><span style=\"color: #00ffaf; text-decoration-color: #00ffaf\">INFO    </span> <span style=\"color: #c6c6c6; text-decoration-color: #c6c6c6; font-weight: bold\"> - background: gaussian                                                       </span><a href=\"file:///home/tobi/sw/threeML/threeML/plugins/SpectrumLike.py\" target=\"_blank\"><span style=\"color: #7f7f7f; text-decoration-color: #7f7f7f\">SpectrumLike.py</span></a><span style=\"color: #7f7f7f; text-decoration-color: #7f7f7f\">:</span><a href=\"file:///home/tobi/sw/threeML/threeML/plugins/SpectrumLike.py#471\" target=\"_blank\"><span style=\"color: #7f7f7f; text-decoration-color: #7f7f7f\">471</span></a>\n",
       "</pre>\n"
      ],
      "text/plain": [
       "\u001b[38;5;46m        \u001b[0m\u001b[38;5;46m \u001b[0m\u001b[38;5;49mINFO    \u001b[0m \u001b[1;38;5;251m - background: gaussian                                                      \u001b[0m\u001b[1;38;5;251m \u001b[0m\u001b]8;id=233485;file:///home/tobi/sw/threeML/threeML/plugins/SpectrumLike.py\u001b\\\u001b[2mSpectrumLike.py\u001b[0m\u001b]8;;\u001b\\\u001b[2m:\u001b[0m\u001b]8;id=47777;file:///home/tobi/sw/threeML/threeML/plugins/SpectrumLike.py#471\u001b\\\u001b[2m471\u001b[0m\u001b]8;;\u001b\\\n"
      ]
     },
     "metadata": {},
     "output_type": "display_data"
    },
    {
     "data": {
      "text/html": [
       "<pre style=\"white-space:pre;overflow-x:auto;line-height:normal;font-family:Menlo,'DejaVu Sans Mono',consolas,'Courier New',monospace\"><span style=\"color: #00ff00; text-decoration-color: #00ff00\">         </span><span style=\"color: #00ffaf; text-decoration-color: #00ffaf\">INFO    </span> <span style=\"color: #c6c6c6; text-decoration-color: #c6c6c6; font-weight: bold\"> Auto-probed noise models:                                                    </span><a href=\"file:///home/tobi/sw/threeML/threeML/plugins/SpectrumLike.py\" target=\"_blank\"><span style=\"color: #7f7f7f; text-decoration-color: #7f7f7f\">SpectrumLike.py</span></a><span style=\"color: #7f7f7f; text-decoration-color: #7f7f7f\">:</span><a href=\"file:///home/tobi/sw/threeML/threeML/plugins/SpectrumLike.py#469\" target=\"_blank\"><span style=\"color: #7f7f7f; text-decoration-color: #7f7f7f\">469</span></a>\n",
       "</pre>\n"
      ],
      "text/plain": [
       "\u001b[38;5;46m        \u001b[0m\u001b[38;5;46m \u001b[0m\u001b[38;5;49mINFO    \u001b[0m \u001b[1;38;5;251m Auto-probed noise models:                                                   \u001b[0m\u001b[1;38;5;251m \u001b[0m\u001b]8;id=547222;file:///home/tobi/sw/threeML/threeML/plugins/SpectrumLike.py\u001b\\\u001b[2mSpectrumLike.py\u001b[0m\u001b]8;;\u001b\\\u001b[2m:\u001b[0m\u001b]8;id=582393;file:///home/tobi/sw/threeML/threeML/plugins/SpectrumLike.py#469\u001b\\\u001b[2m469\u001b[0m\u001b]8;;\u001b\\\n"
      ]
     },
     "metadata": {},
     "output_type": "display_data"
    },
    {
     "data": {
      "text/html": [
       "<pre style=\"white-space:pre;overflow-x:auto;line-height:normal;font-family:Menlo,'DejaVu Sans Mono',consolas,'Courier New',monospace\"><span style=\"color: #00ff00; text-decoration-color: #00ff00\">         </span><span style=\"color: #00ffaf; text-decoration-color: #00ffaf\">INFO    </span> <span style=\"color: #c6c6c6; text-decoration-color: #c6c6c6; font-weight: bold\"> - observation: poisson                                                       </span><a href=\"file:///home/tobi/sw/threeML/threeML/plugins/SpectrumLike.py\" target=\"_blank\"><span style=\"color: #7f7f7f; text-decoration-color: #7f7f7f\">SpectrumLike.py</span></a><span style=\"color: #7f7f7f; text-decoration-color: #7f7f7f\">:</span><a href=\"file:///home/tobi/sw/threeML/threeML/plugins/SpectrumLike.py#470\" target=\"_blank\"><span style=\"color: #7f7f7f; text-decoration-color: #7f7f7f\">470</span></a>\n",
       "</pre>\n"
      ],
      "text/plain": [
       "\u001b[38;5;46m        \u001b[0m\u001b[38;5;46m \u001b[0m\u001b[38;5;49mINFO    \u001b[0m \u001b[1;38;5;251m - observation: poisson                                                      \u001b[0m\u001b[1;38;5;251m \u001b[0m\u001b]8;id=71996;file:///home/tobi/sw/threeML/threeML/plugins/SpectrumLike.py\u001b\\\u001b[2mSpectrumLike.py\u001b[0m\u001b]8;;\u001b\\\u001b[2m:\u001b[0m\u001b]8;id=937422;file:///home/tobi/sw/threeML/threeML/plugins/SpectrumLike.py#470\u001b\\\u001b[2m470\u001b[0m\u001b]8;;\u001b\\\n"
      ]
     },
     "metadata": {},
     "output_type": "display_data"
    },
    {
     "data": {
      "text/html": [
       "<pre style=\"white-space:pre;overflow-x:auto;line-height:normal;font-family:Menlo,'DejaVu Sans Mono',consolas,'Courier New',monospace\"><span style=\"color: #00ff00; text-decoration-color: #00ff00\">         </span><span style=\"color: #00ffaf; text-decoration-color: #00ffaf\">INFO    </span> <span style=\"color: #c6c6c6; text-decoration-color: #c6c6c6; font-weight: bold\"> - background: gaussian                                                       </span><a href=\"file:///home/tobi/sw/threeML/threeML/plugins/SpectrumLike.py\" target=\"_blank\"><span style=\"color: #7f7f7f; text-decoration-color: #7f7f7f\">SpectrumLike.py</span></a><span style=\"color: #7f7f7f; text-decoration-color: #7f7f7f\">:</span><a href=\"file:///home/tobi/sw/threeML/threeML/plugins/SpectrumLike.py#471\" target=\"_blank\"><span style=\"color: #7f7f7f; text-decoration-color: #7f7f7f\">471</span></a>\n",
       "</pre>\n"
      ],
      "text/plain": [
       "\u001b[38;5;46m        \u001b[0m\u001b[38;5;46m \u001b[0m\u001b[38;5;49mINFO    \u001b[0m \u001b[1;38;5;251m - background: gaussian                                                      \u001b[0m\u001b[1;38;5;251m \u001b[0m\u001b]8;id=377457;file:///home/tobi/sw/threeML/threeML/plugins/SpectrumLike.py\u001b\\\u001b[2mSpectrumLike.py\u001b[0m\u001b]8;;\u001b\\\u001b[2m:\u001b[0m\u001b]8;id=305637;file:///home/tobi/sw/threeML/threeML/plugins/SpectrumLike.py#471\u001b\\\u001b[2m471\u001b[0m\u001b]8;;\u001b\\\n"
      ]
     },
     "metadata": {},
     "output_type": "display_data"
    },
    {
     "data": {
      "text/html": [
       "<pre style=\"white-space:pre;overflow-x:auto;line-height:normal;font-family:Menlo,'DejaVu Sans Mono',consolas,'Courier New',monospace\"><span style=\"color: #00ff00; text-decoration-color: #00ff00\">         </span><span style=\"color: #00ffaf; text-decoration-color: #00ffaf\">INFO    </span> <span style=\"color: #c6c6c6; text-decoration-color: #c6c6c6; font-weight: bold\"> Range c1-c6 translates to channels </span><span style=\"color: #c0c0c0; text-decoration-color: #c0c0c0; font-weight: bold\">1</span><span style=\"color: #c6c6c6; text-decoration-color: #c6c6c6; font-weight: bold\">-</span><span style=\"color: #c0c0c0; text-decoration-color: #c0c0c0; font-weight: bold\">6</span><span style=\"color: #c6c6c6; text-decoration-color: #c6c6c6; font-weight: bold\">                                      </span><a href=\"file:///home/tobi/sw/threeML/threeML/plugins/SpectrumLike.py\" target=\"_blank\"><span style=\"color: #7f7f7f; text-decoration-color: #7f7f7f\">SpectrumLike.py</span></a><span style=\"color: #7f7f7f; text-decoration-color: #7f7f7f\">:</span><a href=\"file:///home/tobi/sw/threeML/threeML/plugins/SpectrumLike.py#1210\" target=\"_blank\"><span style=\"color: #7f7f7f; text-decoration-color: #7f7f7f\">1210</span></a>\n",
       "</pre>\n"
      ],
      "text/plain": [
       "\u001b[38;5;46m        \u001b[0m\u001b[38;5;46m \u001b[0m\u001b[38;5;49mINFO    \u001b[0m \u001b[1;38;5;251m Range c1-c6 translates to channels \u001b[0m\u001b[1;37m1\u001b[0m\u001b[1;38;5;251m-\u001b[0m\u001b[1;37m6\u001b[0m\u001b[1;38;5;251m                                     \u001b[0m\u001b[1;38;5;251m \u001b[0m\u001b]8;id=582558;file:///home/tobi/sw/threeML/threeML/plugins/SpectrumLike.py\u001b\\\u001b[2mSpectrumLike.py\u001b[0m\u001b]8;;\u001b\\\u001b[2m:\u001b[0m\u001b]8;id=791611;file:///home/tobi/sw/threeML/threeML/plugins/SpectrumLike.py#1210\u001b\\\u001b[2m1210\u001b[0m\u001b]8;;\u001b\\\n"
      ]
     },
     "metadata": {},
     "output_type": "display_data"
    },
    {
     "data": {
      "text/html": [
       "<pre style=\"white-space:pre;overflow-x:auto;line-height:normal;font-family:Menlo,'DejaVu Sans Mono',consolas,'Courier New',monospace\"><span style=\"color: #00ff00; text-decoration-color: #00ff00\">         </span><span style=\"color: #00ffaf; text-decoration-color: #00ffaf\">INFO    </span> <span style=\"color: #c6c6c6; text-decoration-color: #c6c6c6; font-weight: bold\"> Auto-probed noise models:                                                    </span><a href=\"file:///home/tobi/sw/threeML/threeML/plugins/SpectrumLike.py\" target=\"_blank\"><span style=\"color: #7f7f7f; text-decoration-color: #7f7f7f\">SpectrumLike.py</span></a><span style=\"color: #7f7f7f; text-decoration-color: #7f7f7f\">:</span><a href=\"file:///home/tobi/sw/threeML/threeML/plugins/SpectrumLike.py#469\" target=\"_blank\"><span style=\"color: #7f7f7f; text-decoration-color: #7f7f7f\">469</span></a>\n",
       "</pre>\n"
      ],
      "text/plain": [
       "\u001b[38;5;46m        \u001b[0m\u001b[38;5;46m \u001b[0m\u001b[38;5;49mINFO    \u001b[0m \u001b[1;38;5;251m Auto-probed noise models:                                                   \u001b[0m\u001b[1;38;5;251m \u001b[0m\u001b]8;id=579178;file:///home/tobi/sw/threeML/threeML/plugins/SpectrumLike.py\u001b\\\u001b[2mSpectrumLike.py\u001b[0m\u001b]8;;\u001b\\\u001b[2m:\u001b[0m\u001b]8;id=269522;file:///home/tobi/sw/threeML/threeML/plugins/SpectrumLike.py#469\u001b\\\u001b[2m469\u001b[0m\u001b]8;;\u001b\\\n"
      ]
     },
     "metadata": {},
     "output_type": "display_data"
    },
    {
     "data": {
      "text/html": [
       "<pre style=\"white-space:pre;overflow-x:auto;line-height:normal;font-family:Menlo,'DejaVu Sans Mono',consolas,'Courier New',monospace\"><span style=\"color: #00ff00; text-decoration-color: #00ff00\">         </span><span style=\"color: #00ffaf; text-decoration-color: #00ffaf\">INFO    </span> <span style=\"color: #c6c6c6; text-decoration-color: #c6c6c6; font-weight: bold\"> - observation: poisson                                                       </span><a href=\"file:///home/tobi/sw/threeML/threeML/plugins/SpectrumLike.py\" target=\"_blank\"><span style=\"color: #7f7f7f; text-decoration-color: #7f7f7f\">SpectrumLike.py</span></a><span style=\"color: #7f7f7f; text-decoration-color: #7f7f7f\">:</span><a href=\"file:///home/tobi/sw/threeML/threeML/plugins/SpectrumLike.py#470\" target=\"_blank\"><span style=\"color: #7f7f7f; text-decoration-color: #7f7f7f\">470</span></a>\n",
       "</pre>\n"
      ],
      "text/plain": [
       "\u001b[38;5;46m        \u001b[0m\u001b[38;5;46m \u001b[0m\u001b[38;5;49mINFO    \u001b[0m \u001b[1;38;5;251m - observation: poisson                                                      \u001b[0m\u001b[1;38;5;251m \u001b[0m\u001b]8;id=689423;file:///home/tobi/sw/threeML/threeML/plugins/SpectrumLike.py\u001b\\\u001b[2mSpectrumLike.py\u001b[0m\u001b]8;;\u001b\\\u001b[2m:\u001b[0m\u001b]8;id=534053;file:///home/tobi/sw/threeML/threeML/plugins/SpectrumLike.py#470\u001b\\\u001b[2m470\u001b[0m\u001b]8;;\u001b\\\n"
      ]
     },
     "metadata": {},
     "output_type": "display_data"
    },
    {
     "data": {
      "text/html": [
       "<pre style=\"white-space:pre;overflow-x:auto;line-height:normal;font-family:Menlo,'DejaVu Sans Mono',consolas,'Courier New',monospace\"><span style=\"color: #00ff00; text-decoration-color: #00ff00\">         </span><span style=\"color: #00ffaf; text-decoration-color: #00ffaf\">INFO    </span> <span style=\"color: #c6c6c6; text-decoration-color: #c6c6c6; font-weight: bold\"> - background: gaussian                                                       </span><a href=\"file:///home/tobi/sw/threeML/threeML/plugins/SpectrumLike.py\" target=\"_blank\"><span style=\"color: #7f7f7f; text-decoration-color: #7f7f7f\">SpectrumLike.py</span></a><span style=\"color: #7f7f7f; text-decoration-color: #7f7f7f\">:</span><a href=\"file:///home/tobi/sw/threeML/threeML/plugins/SpectrumLike.py#471\" target=\"_blank\"><span style=\"color: #7f7f7f; text-decoration-color: #7f7f7f\">471</span></a>\n",
       "</pre>\n"
      ],
      "text/plain": [
       "\u001b[38;5;46m        \u001b[0m\u001b[38;5;46m \u001b[0m\u001b[38;5;49mINFO    \u001b[0m \u001b[1;38;5;251m - background: gaussian                                                      \u001b[0m\u001b[1;38;5;251m \u001b[0m\u001b]8;id=769745;file:///home/tobi/sw/threeML/threeML/plugins/SpectrumLike.py\u001b\\\u001b[2mSpectrumLike.py\u001b[0m\u001b]8;;\u001b\\\u001b[2m:\u001b[0m\u001b]8;id=131644;file:///home/tobi/sw/threeML/threeML/plugins/SpectrumLike.py#471\u001b\\\u001b[2m471\u001b[0m\u001b]8;;\u001b\\\n"
      ]
     },
     "metadata": {},
     "output_type": "display_data"
    },
    {
     "data": {
      "text/html": [
       "<pre style=\"white-space:pre;overflow-x:auto;line-height:normal;font-family:Menlo,'DejaVu Sans Mono',consolas,'Courier New',monospace\"><span style=\"color: #00ff00; text-decoration-color: #00ff00\">         </span><span style=\"color: #00ffaf; text-decoration-color: #00ffaf\">INFO    </span> <span style=\"color: #c6c6c6; text-decoration-color: #c6c6c6; font-weight: bold\"> Auto-probed noise models:                                                    </span><a href=\"file:///home/tobi/sw/threeML/threeML/plugins/SpectrumLike.py\" target=\"_blank\"><span style=\"color: #7f7f7f; text-decoration-color: #7f7f7f\">SpectrumLike.py</span></a><span style=\"color: #7f7f7f; text-decoration-color: #7f7f7f\">:</span><a href=\"file:///home/tobi/sw/threeML/threeML/plugins/SpectrumLike.py#469\" target=\"_blank\"><span style=\"color: #7f7f7f; text-decoration-color: #7f7f7f\">469</span></a>\n",
       "</pre>\n"
      ],
      "text/plain": [
       "\u001b[38;5;46m        \u001b[0m\u001b[38;5;46m \u001b[0m\u001b[38;5;49mINFO    \u001b[0m \u001b[1;38;5;251m Auto-probed noise models:                                                   \u001b[0m\u001b[1;38;5;251m \u001b[0m\u001b]8;id=521840;file:///home/tobi/sw/threeML/threeML/plugins/SpectrumLike.py\u001b\\\u001b[2mSpectrumLike.py\u001b[0m\u001b]8;;\u001b\\\u001b[2m:\u001b[0m\u001b]8;id=300320;file:///home/tobi/sw/threeML/threeML/plugins/SpectrumLike.py#469\u001b\\\u001b[2m469\u001b[0m\u001b]8;;\u001b\\\n"
      ]
     },
     "metadata": {},
     "output_type": "display_data"
    },
    {
     "data": {
      "text/html": [
       "<pre style=\"white-space:pre;overflow-x:auto;line-height:normal;font-family:Menlo,'DejaVu Sans Mono',consolas,'Courier New',monospace\"><span style=\"color: #00ff00; text-decoration-color: #00ff00\">         </span><span style=\"color: #00ffaf; text-decoration-color: #00ffaf\">INFO    </span> <span style=\"color: #c6c6c6; text-decoration-color: #c6c6c6; font-weight: bold\"> - observation: poisson                                                       </span><a href=\"file:///home/tobi/sw/threeML/threeML/plugins/SpectrumLike.py\" target=\"_blank\"><span style=\"color: #7f7f7f; text-decoration-color: #7f7f7f\">SpectrumLike.py</span></a><span style=\"color: #7f7f7f; text-decoration-color: #7f7f7f\">:</span><a href=\"file:///home/tobi/sw/threeML/threeML/plugins/SpectrumLike.py#470\" target=\"_blank\"><span style=\"color: #7f7f7f; text-decoration-color: #7f7f7f\">470</span></a>\n",
       "</pre>\n"
      ],
      "text/plain": [
       "\u001b[38;5;46m        \u001b[0m\u001b[38;5;46m \u001b[0m\u001b[38;5;49mINFO    \u001b[0m \u001b[1;38;5;251m - observation: poisson                                                      \u001b[0m\u001b[1;38;5;251m \u001b[0m\u001b]8;id=858205;file:///home/tobi/sw/threeML/threeML/plugins/SpectrumLike.py\u001b\\\u001b[2mSpectrumLike.py\u001b[0m\u001b]8;;\u001b\\\u001b[2m:\u001b[0m\u001b]8;id=939638;file:///home/tobi/sw/threeML/threeML/plugins/SpectrumLike.py#470\u001b\\\u001b[2m470\u001b[0m\u001b]8;;\u001b\\\n"
      ]
     },
     "metadata": {},
     "output_type": "display_data"
    },
    {
     "data": {
      "text/html": [
       "<pre style=\"white-space:pre;overflow-x:auto;line-height:normal;font-family:Menlo,'DejaVu Sans Mono',consolas,'Courier New',monospace\"><span style=\"color: #00ff00; text-decoration-color: #00ff00\">         </span><span style=\"color: #00ffaf; text-decoration-color: #00ffaf\">INFO    </span> <span style=\"color: #c6c6c6; text-decoration-color: #c6c6c6; font-weight: bold\"> - background: gaussian                                                       </span><a href=\"file:///home/tobi/sw/threeML/threeML/plugins/SpectrumLike.py\" target=\"_blank\"><span style=\"color: #7f7f7f; text-decoration-color: #7f7f7f\">SpectrumLike.py</span></a><span style=\"color: #7f7f7f; text-decoration-color: #7f7f7f\">:</span><a href=\"file:///home/tobi/sw/threeML/threeML/plugins/SpectrumLike.py#471\" target=\"_blank\"><span style=\"color: #7f7f7f; text-decoration-color: #7f7f7f\">471</span></a>\n",
       "</pre>\n"
      ],
      "text/plain": [
       "\u001b[38;5;46m        \u001b[0m\u001b[38;5;46m \u001b[0m\u001b[38;5;49mINFO    \u001b[0m \u001b[1;38;5;251m - background: gaussian                                                      \u001b[0m\u001b[1;38;5;251m \u001b[0m\u001b]8;id=513673;file:///home/tobi/sw/threeML/threeML/plugins/SpectrumLike.py\u001b\\\u001b[2mSpectrumLike.py\u001b[0m\u001b]8;;\u001b\\\u001b[2m:\u001b[0m\u001b]8;id=918814;file:///home/tobi/sw/threeML/threeML/plugins/SpectrumLike.py#471\u001b\\\u001b[2m471\u001b[0m\u001b]8;;\u001b\\\n"
      ]
     },
     "metadata": {},
     "output_type": "display_data"
    },
    {
     "data": {
      "text/html": [
       "<pre style=\"white-space:pre;overflow-x:auto;line-height:normal;font-family:Menlo,'DejaVu Sans Mono',consolas,'Courier New',monospace\"><span style=\"color: #00ff00; text-decoration-color: #00ff00\">         </span><span style=\"color: #00ffaf; text-decoration-color: #00ffaf\">INFO    </span> <span style=\"color: #c6c6c6; text-decoration-color: #c6c6c6; font-weight: bold\"> Range c1-c6 translates to channels </span><span style=\"color: #c0c0c0; text-decoration-color: #c0c0c0; font-weight: bold\">1</span><span style=\"color: #c6c6c6; text-decoration-color: #c6c6c6; font-weight: bold\">-</span><span style=\"color: #c0c0c0; text-decoration-color: #c0c0c0; font-weight: bold\">6</span><span style=\"color: #c6c6c6; text-decoration-color: #c6c6c6; font-weight: bold\">                                      </span><a href=\"file:///home/tobi/sw/threeML/threeML/plugins/SpectrumLike.py\" target=\"_blank\"><span style=\"color: #7f7f7f; text-decoration-color: #7f7f7f\">SpectrumLike.py</span></a><span style=\"color: #7f7f7f; text-decoration-color: #7f7f7f\">:</span><a href=\"file:///home/tobi/sw/threeML/threeML/plugins/SpectrumLike.py#1210\" target=\"_blank\"><span style=\"color: #7f7f7f; text-decoration-color: #7f7f7f\">1210</span></a>\n",
       "</pre>\n"
      ],
      "text/plain": [
       "\u001b[38;5;46m        \u001b[0m\u001b[38;5;46m \u001b[0m\u001b[38;5;49mINFO    \u001b[0m \u001b[1;38;5;251m Range c1-c6 translates to channels \u001b[0m\u001b[1;37m1\u001b[0m\u001b[1;38;5;251m-\u001b[0m\u001b[1;37m6\u001b[0m\u001b[1;38;5;251m                                     \u001b[0m\u001b[1;38;5;251m \u001b[0m\u001b]8;id=871721;file:///home/tobi/sw/threeML/threeML/plugins/SpectrumLike.py\u001b\\\u001b[2mSpectrumLike.py\u001b[0m\u001b]8;;\u001b\\\u001b[2m:\u001b[0m\u001b]8;id=920196;file:///home/tobi/sw/threeML/threeML/plugins/SpectrumLike.py#1210\u001b\\\u001b[2m1210\u001b[0m\u001b]8;;\u001b\\\n"
      ]
     },
     "metadata": {},
     "output_type": "display_data"
    },
    {
     "data": {
      "text/html": [
       "<pre style=\"white-space:pre;overflow-x:auto;line-height:normal;font-family:Menlo,'DejaVu Sans Mono',consolas,'Courier New',monospace\"><span style=\"color: #00ff00; text-decoration-color: #00ff00\">         </span><span style=\"color: #00ffaf; text-decoration-color: #00ffaf\">INFO    </span> <span style=\"color: #c6c6c6; text-decoration-color: #c6c6c6; font-weight: bold\"> Auto-probed noise models:                                                    </span><a href=\"file:///home/tobi/sw/threeML/threeML/plugins/SpectrumLike.py\" target=\"_blank\"><span style=\"color: #7f7f7f; text-decoration-color: #7f7f7f\">SpectrumLike.py</span></a><span style=\"color: #7f7f7f; text-decoration-color: #7f7f7f\">:</span><a href=\"file:///home/tobi/sw/threeML/threeML/plugins/SpectrumLike.py#469\" target=\"_blank\"><span style=\"color: #7f7f7f; text-decoration-color: #7f7f7f\">469</span></a>\n",
       "</pre>\n"
      ],
      "text/plain": [
       "\u001b[38;5;46m        \u001b[0m\u001b[38;5;46m \u001b[0m\u001b[38;5;49mINFO    \u001b[0m \u001b[1;38;5;251m Auto-probed noise models:                                                   \u001b[0m\u001b[1;38;5;251m \u001b[0m\u001b]8;id=436349;file:///home/tobi/sw/threeML/threeML/plugins/SpectrumLike.py\u001b\\\u001b[2mSpectrumLike.py\u001b[0m\u001b]8;;\u001b\\\u001b[2m:\u001b[0m\u001b]8;id=828626;file:///home/tobi/sw/threeML/threeML/plugins/SpectrumLike.py#469\u001b\\\u001b[2m469\u001b[0m\u001b]8;;\u001b\\\n"
      ]
     },
     "metadata": {},
     "output_type": "display_data"
    },
    {
     "data": {
      "text/html": [
       "<pre style=\"white-space:pre;overflow-x:auto;line-height:normal;font-family:Menlo,'DejaVu Sans Mono',consolas,'Courier New',monospace\"><span style=\"color: #00ff00; text-decoration-color: #00ff00\">         </span><span style=\"color: #00ffaf; text-decoration-color: #00ffaf\">INFO    </span> <span style=\"color: #c6c6c6; text-decoration-color: #c6c6c6; font-weight: bold\"> - observation: poisson                                                       </span><a href=\"file:///home/tobi/sw/threeML/threeML/plugins/SpectrumLike.py\" target=\"_blank\"><span style=\"color: #7f7f7f; text-decoration-color: #7f7f7f\">SpectrumLike.py</span></a><span style=\"color: #7f7f7f; text-decoration-color: #7f7f7f\">:</span><a href=\"file:///home/tobi/sw/threeML/threeML/plugins/SpectrumLike.py#470\" target=\"_blank\"><span style=\"color: #7f7f7f; text-decoration-color: #7f7f7f\">470</span></a>\n",
       "</pre>\n"
      ],
      "text/plain": [
       "\u001b[38;5;46m        \u001b[0m\u001b[38;5;46m \u001b[0m\u001b[38;5;49mINFO    \u001b[0m \u001b[1;38;5;251m - observation: poisson                                                      \u001b[0m\u001b[1;38;5;251m \u001b[0m\u001b]8;id=304594;file:///home/tobi/sw/threeML/threeML/plugins/SpectrumLike.py\u001b\\\u001b[2mSpectrumLike.py\u001b[0m\u001b]8;;\u001b\\\u001b[2m:\u001b[0m\u001b]8;id=187614;file:///home/tobi/sw/threeML/threeML/plugins/SpectrumLike.py#470\u001b\\\u001b[2m470\u001b[0m\u001b]8;;\u001b\\\n"
      ]
     },
     "metadata": {},
     "output_type": "display_data"
    },
    {
     "data": {
      "text/html": [
       "<pre style=\"white-space:pre;overflow-x:auto;line-height:normal;font-family:Menlo,'DejaVu Sans Mono',consolas,'Courier New',monospace\"><span style=\"color: #00ff00; text-decoration-color: #00ff00\">         </span><span style=\"color: #00ffaf; text-decoration-color: #00ffaf\">INFO    </span> <span style=\"color: #c6c6c6; text-decoration-color: #c6c6c6; font-weight: bold\"> - background: gaussian                                                       </span><a href=\"file:///home/tobi/sw/threeML/threeML/plugins/SpectrumLike.py\" target=\"_blank\"><span style=\"color: #7f7f7f; text-decoration-color: #7f7f7f\">SpectrumLike.py</span></a><span style=\"color: #7f7f7f; text-decoration-color: #7f7f7f\">:</span><a href=\"file:///home/tobi/sw/threeML/threeML/plugins/SpectrumLike.py#471\" target=\"_blank\"><span style=\"color: #7f7f7f; text-decoration-color: #7f7f7f\">471</span></a>\n",
       "</pre>\n"
      ],
      "text/plain": [
       "\u001b[38;5;46m        \u001b[0m\u001b[38;5;46m \u001b[0m\u001b[38;5;49mINFO    \u001b[0m \u001b[1;38;5;251m - background: gaussian                                                      \u001b[0m\u001b[1;38;5;251m \u001b[0m\u001b]8;id=804297;file:///home/tobi/sw/threeML/threeML/plugins/SpectrumLike.py\u001b\\\u001b[2mSpectrumLike.py\u001b[0m\u001b]8;;\u001b\\\u001b[2m:\u001b[0m\u001b]8;id=845404;file:///home/tobi/sw/threeML/threeML/plugins/SpectrumLike.py#471\u001b\\\u001b[2m471\u001b[0m\u001b]8;;\u001b\\\n"
      ]
     },
     "metadata": {},
     "output_type": "display_data"
    },
    {
     "data": {
      "text/html": [
       "<pre style=\"white-space:pre;overflow-x:auto;line-height:normal;font-family:Menlo,'DejaVu Sans Mono',consolas,'Courier New',monospace\"><span style=\"color: #00ff00; text-decoration-color: #00ff00\">         </span><span style=\"color: #00ffaf; text-decoration-color: #00ffaf\">INFO    </span> <span style=\"color: #c6c6c6; text-decoration-color: #c6c6c6; font-weight: bold\"> Auto-probed noise models:                                                    </span><a href=\"file:///home/tobi/sw/threeML/threeML/plugins/SpectrumLike.py\" target=\"_blank\"><span style=\"color: #7f7f7f; text-decoration-color: #7f7f7f\">SpectrumLike.py</span></a><span style=\"color: #7f7f7f; text-decoration-color: #7f7f7f\">:</span><a href=\"file:///home/tobi/sw/threeML/threeML/plugins/SpectrumLike.py#469\" target=\"_blank\"><span style=\"color: #7f7f7f; text-decoration-color: #7f7f7f\">469</span></a>\n",
       "</pre>\n"
      ],
      "text/plain": [
       "\u001b[38;5;46m        \u001b[0m\u001b[38;5;46m \u001b[0m\u001b[38;5;49mINFO    \u001b[0m \u001b[1;38;5;251m Auto-probed noise models:                                                   \u001b[0m\u001b[1;38;5;251m \u001b[0m\u001b]8;id=262977;file:///home/tobi/sw/threeML/threeML/plugins/SpectrumLike.py\u001b\\\u001b[2mSpectrumLike.py\u001b[0m\u001b]8;;\u001b\\\u001b[2m:\u001b[0m\u001b]8;id=17634;file:///home/tobi/sw/threeML/threeML/plugins/SpectrumLike.py#469\u001b\\\u001b[2m469\u001b[0m\u001b]8;;\u001b\\\n"
      ]
     },
     "metadata": {},
     "output_type": "display_data"
    },
    {
     "data": {
      "text/html": [
       "<pre style=\"white-space:pre;overflow-x:auto;line-height:normal;font-family:Menlo,'DejaVu Sans Mono',consolas,'Courier New',monospace\"><span style=\"color: #00ff00; text-decoration-color: #00ff00\">         </span><span style=\"color: #00ffaf; text-decoration-color: #00ffaf\">INFO    </span> <span style=\"color: #c6c6c6; text-decoration-color: #c6c6c6; font-weight: bold\"> - observation: poisson                                                       </span><a href=\"file:///home/tobi/sw/threeML/threeML/plugins/SpectrumLike.py\" target=\"_blank\"><span style=\"color: #7f7f7f; text-decoration-color: #7f7f7f\">SpectrumLike.py</span></a><span style=\"color: #7f7f7f; text-decoration-color: #7f7f7f\">:</span><a href=\"file:///home/tobi/sw/threeML/threeML/plugins/SpectrumLike.py#470\" target=\"_blank\"><span style=\"color: #7f7f7f; text-decoration-color: #7f7f7f\">470</span></a>\n",
       "</pre>\n"
      ],
      "text/plain": [
       "\u001b[38;5;46m        \u001b[0m\u001b[38;5;46m \u001b[0m\u001b[38;5;49mINFO    \u001b[0m \u001b[1;38;5;251m - observation: poisson                                                      \u001b[0m\u001b[1;38;5;251m \u001b[0m\u001b]8;id=937785;file:///home/tobi/sw/threeML/threeML/plugins/SpectrumLike.py\u001b\\\u001b[2mSpectrumLike.py\u001b[0m\u001b]8;;\u001b\\\u001b[2m:\u001b[0m\u001b]8;id=594069;file:///home/tobi/sw/threeML/threeML/plugins/SpectrumLike.py#470\u001b\\\u001b[2m470\u001b[0m\u001b]8;;\u001b\\\n"
      ]
     },
     "metadata": {},
     "output_type": "display_data"
    },
    {
     "data": {
      "text/html": [
       "<pre style=\"white-space:pre;overflow-x:auto;line-height:normal;font-family:Menlo,'DejaVu Sans Mono',consolas,'Courier New',monospace\"><span style=\"color: #00ff00; text-decoration-color: #00ff00\">         </span><span style=\"color: #00ffaf; text-decoration-color: #00ffaf\">INFO    </span> <span style=\"color: #c6c6c6; text-decoration-color: #c6c6c6; font-weight: bold\"> - background: gaussian                                                       </span><a href=\"file:///home/tobi/sw/threeML/threeML/plugins/SpectrumLike.py\" target=\"_blank\"><span style=\"color: #7f7f7f; text-decoration-color: #7f7f7f\">SpectrumLike.py</span></a><span style=\"color: #7f7f7f; text-decoration-color: #7f7f7f\">:</span><a href=\"file:///home/tobi/sw/threeML/threeML/plugins/SpectrumLike.py#471\" target=\"_blank\"><span style=\"color: #7f7f7f; text-decoration-color: #7f7f7f\">471</span></a>\n",
       "</pre>\n"
      ],
      "text/plain": [
       "\u001b[38;5;46m        \u001b[0m\u001b[38;5;46m \u001b[0m\u001b[38;5;49mINFO    \u001b[0m \u001b[1;38;5;251m - background: gaussian                                                      \u001b[0m\u001b[1;38;5;251m \u001b[0m\u001b]8;id=715587;file:///home/tobi/sw/threeML/threeML/plugins/SpectrumLike.py\u001b\\\u001b[2mSpectrumLike.py\u001b[0m\u001b]8;;\u001b\\\u001b[2m:\u001b[0m\u001b]8;id=808446;file:///home/tobi/sw/threeML/threeML/plugins/SpectrumLike.py#471\u001b\\\u001b[2m471\u001b[0m\u001b]8;;\u001b\\\n"
      ]
     },
     "metadata": {},
     "output_type": "display_data"
    },
    {
     "data": {
      "text/html": [
       "<pre style=\"white-space:pre;overflow-x:auto;line-height:normal;font-family:Menlo,'DejaVu Sans Mono',consolas,'Courier New',monospace\"><span style=\"color: #00ff00; text-decoration-color: #00ff00\">         </span><span style=\"color: #00ffaf; text-decoration-color: #00ffaf\">INFO    </span> <span style=\"color: #c6c6c6; text-decoration-color: #c6c6c6; font-weight: bold\"> Range c1-c6 translates to channels </span><span style=\"color: #c0c0c0; text-decoration-color: #c0c0c0; font-weight: bold\">1</span><span style=\"color: #c6c6c6; text-decoration-color: #c6c6c6; font-weight: bold\">-</span><span style=\"color: #c0c0c0; text-decoration-color: #c0c0c0; font-weight: bold\">6</span><span style=\"color: #c6c6c6; text-decoration-color: #c6c6c6; font-weight: bold\">                                      </span><a href=\"file:///home/tobi/sw/threeML/threeML/plugins/SpectrumLike.py\" target=\"_blank\"><span style=\"color: #7f7f7f; text-decoration-color: #7f7f7f\">SpectrumLike.py</span></a><span style=\"color: #7f7f7f; text-decoration-color: #7f7f7f\">:</span><a href=\"file:///home/tobi/sw/threeML/threeML/plugins/SpectrumLike.py#1210\" target=\"_blank\"><span style=\"color: #7f7f7f; text-decoration-color: #7f7f7f\">1210</span></a>\n",
       "</pre>\n"
      ],
      "text/plain": [
       "\u001b[38;5;46m        \u001b[0m\u001b[38;5;46m \u001b[0m\u001b[38;5;49mINFO    \u001b[0m \u001b[1;38;5;251m Range c1-c6 translates to channels \u001b[0m\u001b[1;37m1\u001b[0m\u001b[1;38;5;251m-\u001b[0m\u001b[1;37m6\u001b[0m\u001b[1;38;5;251m                                     \u001b[0m\u001b[1;38;5;251m \u001b[0m\u001b]8;id=835801;file:///home/tobi/sw/threeML/threeML/plugins/SpectrumLike.py\u001b\\\u001b[2mSpectrumLike.py\u001b[0m\u001b]8;;\u001b\\\u001b[2m:\u001b[0m\u001b]8;id=738001;file:///home/tobi/sw/threeML/threeML/plugins/SpectrumLike.py#1210\u001b\\\u001b[2m1210\u001b[0m\u001b]8;;\u001b\\\n"
      ]
     },
     "metadata": {},
     "output_type": "display_data"
    },
    {
     "data": {
      "text/html": [
       "<pre style=\"white-space:pre;overflow-x:auto;line-height:normal;font-family:Menlo,'DejaVu Sans Mono',consolas,'Courier New',monospace\"><span style=\"color: #00ff00; text-decoration-color: #00ff00\">         </span><span style=\"color: #00ffaf; text-decoration-color: #00ffaf\">INFO    </span> <span style=\"color: #c6c6c6; text-decoration-color: #c6c6c6; font-weight: bold\"> Auto-probed noise models:                                                    </span><a href=\"file:///home/tobi/sw/threeML/threeML/plugins/SpectrumLike.py\" target=\"_blank\"><span style=\"color: #7f7f7f; text-decoration-color: #7f7f7f\">SpectrumLike.py</span></a><span style=\"color: #7f7f7f; text-decoration-color: #7f7f7f\">:</span><a href=\"file:///home/tobi/sw/threeML/threeML/plugins/SpectrumLike.py#469\" target=\"_blank\"><span style=\"color: #7f7f7f; text-decoration-color: #7f7f7f\">469</span></a>\n",
       "</pre>\n"
      ],
      "text/plain": [
       "\u001b[38;5;46m        \u001b[0m\u001b[38;5;46m \u001b[0m\u001b[38;5;49mINFO    \u001b[0m \u001b[1;38;5;251m Auto-probed noise models:                                                   \u001b[0m\u001b[1;38;5;251m \u001b[0m\u001b]8;id=41611;file:///home/tobi/sw/threeML/threeML/plugins/SpectrumLike.py\u001b\\\u001b[2mSpectrumLike.py\u001b[0m\u001b]8;;\u001b\\\u001b[2m:\u001b[0m\u001b]8;id=103617;file:///home/tobi/sw/threeML/threeML/plugins/SpectrumLike.py#469\u001b\\\u001b[2m469\u001b[0m\u001b]8;;\u001b\\\n"
      ]
     },
     "metadata": {},
     "output_type": "display_data"
    },
    {
     "data": {
      "text/html": [
       "<pre style=\"white-space:pre;overflow-x:auto;line-height:normal;font-family:Menlo,'DejaVu Sans Mono',consolas,'Courier New',monospace\"><span style=\"color: #00ff00; text-decoration-color: #00ff00\">         </span><span style=\"color: #00ffaf; text-decoration-color: #00ffaf\">INFO    </span> <span style=\"color: #c6c6c6; text-decoration-color: #c6c6c6; font-weight: bold\"> - observation: poisson                                                       </span><a href=\"file:///home/tobi/sw/threeML/threeML/plugins/SpectrumLike.py\" target=\"_blank\"><span style=\"color: #7f7f7f; text-decoration-color: #7f7f7f\">SpectrumLike.py</span></a><span style=\"color: #7f7f7f; text-decoration-color: #7f7f7f\">:</span><a href=\"file:///home/tobi/sw/threeML/threeML/plugins/SpectrumLike.py#470\" target=\"_blank\"><span style=\"color: #7f7f7f; text-decoration-color: #7f7f7f\">470</span></a>\n",
       "</pre>\n"
      ],
      "text/plain": [
       "\u001b[38;5;46m        \u001b[0m\u001b[38;5;46m \u001b[0m\u001b[38;5;49mINFO    \u001b[0m \u001b[1;38;5;251m - observation: poisson                                                      \u001b[0m\u001b[1;38;5;251m \u001b[0m\u001b]8;id=978823;file:///home/tobi/sw/threeML/threeML/plugins/SpectrumLike.py\u001b\\\u001b[2mSpectrumLike.py\u001b[0m\u001b]8;;\u001b\\\u001b[2m:\u001b[0m\u001b]8;id=799391;file:///home/tobi/sw/threeML/threeML/plugins/SpectrumLike.py#470\u001b\\\u001b[2m470\u001b[0m\u001b]8;;\u001b\\\n"
      ]
     },
     "metadata": {},
     "output_type": "display_data"
    },
    {
     "data": {
      "text/html": [
       "<pre style=\"white-space:pre;overflow-x:auto;line-height:normal;font-family:Menlo,'DejaVu Sans Mono',consolas,'Courier New',monospace\"><span style=\"color: #00ff00; text-decoration-color: #00ff00\">         </span><span style=\"color: #00ffaf; text-decoration-color: #00ffaf\">INFO    </span> <span style=\"color: #c6c6c6; text-decoration-color: #c6c6c6; font-weight: bold\"> - background: gaussian                                                       </span><a href=\"file:///home/tobi/sw/threeML/threeML/plugins/SpectrumLike.py\" target=\"_blank\"><span style=\"color: #7f7f7f; text-decoration-color: #7f7f7f\">SpectrumLike.py</span></a><span style=\"color: #7f7f7f; text-decoration-color: #7f7f7f\">:</span><a href=\"file:///home/tobi/sw/threeML/threeML/plugins/SpectrumLike.py#471\" target=\"_blank\"><span style=\"color: #7f7f7f; text-decoration-color: #7f7f7f\">471</span></a>\n",
       "</pre>\n"
      ],
      "text/plain": [
       "\u001b[38;5;46m        \u001b[0m\u001b[38;5;46m \u001b[0m\u001b[38;5;49mINFO    \u001b[0m \u001b[1;38;5;251m - background: gaussian                                                      \u001b[0m\u001b[1;38;5;251m \u001b[0m\u001b]8;id=511355;file:///home/tobi/sw/threeML/threeML/plugins/SpectrumLike.py\u001b\\\u001b[2mSpectrumLike.py\u001b[0m\u001b]8;;\u001b\\\u001b[2m:\u001b[0m\u001b]8;id=274189;file:///home/tobi/sw/threeML/threeML/plugins/SpectrumLike.py#471\u001b\\\u001b[2m471\u001b[0m\u001b]8;;\u001b\\\n"
      ]
     },
     "metadata": {},
     "output_type": "display_data"
    },
    {
     "data": {
      "text/html": [
       "<pre style=\"white-space:pre;overflow-x:auto;line-height:normal;font-family:Menlo,'DejaVu Sans Mono',consolas,'Courier New',monospace\"><span style=\"color: #00ff00; text-decoration-color: #00ff00\">         </span><span style=\"color: #00ffaf; text-decoration-color: #00ffaf\">INFO    </span> <span style=\"color: #c6c6c6; text-decoration-color: #c6c6c6; font-weight: bold\"> Auto-probed noise models:                                                    </span><a href=\"file:///home/tobi/sw/threeML/threeML/plugins/SpectrumLike.py\" target=\"_blank\"><span style=\"color: #7f7f7f; text-decoration-color: #7f7f7f\">SpectrumLike.py</span></a><span style=\"color: #7f7f7f; text-decoration-color: #7f7f7f\">:</span><a href=\"file:///home/tobi/sw/threeML/threeML/plugins/SpectrumLike.py#469\" target=\"_blank\"><span style=\"color: #7f7f7f; text-decoration-color: #7f7f7f\">469</span></a>\n",
       "</pre>\n"
      ],
      "text/plain": [
       "\u001b[38;5;46m        \u001b[0m\u001b[38;5;46m \u001b[0m\u001b[38;5;49mINFO    \u001b[0m \u001b[1;38;5;251m Auto-probed noise models:                                                   \u001b[0m\u001b[1;38;5;251m \u001b[0m\u001b]8;id=979455;file:///home/tobi/sw/threeML/threeML/plugins/SpectrumLike.py\u001b\\\u001b[2mSpectrumLike.py\u001b[0m\u001b]8;;\u001b\\\u001b[2m:\u001b[0m\u001b]8;id=970341;file:///home/tobi/sw/threeML/threeML/plugins/SpectrumLike.py#469\u001b\\\u001b[2m469\u001b[0m\u001b]8;;\u001b\\\n"
      ]
     },
     "metadata": {},
     "output_type": "display_data"
    },
    {
     "data": {
      "text/html": [
       "<pre style=\"white-space:pre;overflow-x:auto;line-height:normal;font-family:Menlo,'DejaVu Sans Mono',consolas,'Courier New',monospace\"><span style=\"color: #00ff00; text-decoration-color: #00ff00\">         </span><span style=\"color: #00ffaf; text-decoration-color: #00ffaf\">INFO    </span> <span style=\"color: #c6c6c6; text-decoration-color: #c6c6c6; font-weight: bold\"> - observation: poisson                                                       </span><a href=\"file:///home/tobi/sw/threeML/threeML/plugins/SpectrumLike.py\" target=\"_blank\"><span style=\"color: #7f7f7f; text-decoration-color: #7f7f7f\">SpectrumLike.py</span></a><span style=\"color: #7f7f7f; text-decoration-color: #7f7f7f\">:</span><a href=\"file:///home/tobi/sw/threeML/threeML/plugins/SpectrumLike.py#470\" target=\"_blank\"><span style=\"color: #7f7f7f; text-decoration-color: #7f7f7f\">470</span></a>\n",
       "</pre>\n"
      ],
      "text/plain": [
       "\u001b[38;5;46m        \u001b[0m\u001b[38;5;46m \u001b[0m\u001b[38;5;49mINFO    \u001b[0m \u001b[1;38;5;251m - observation: poisson                                                      \u001b[0m\u001b[1;38;5;251m \u001b[0m\u001b]8;id=688475;file:///home/tobi/sw/threeML/threeML/plugins/SpectrumLike.py\u001b\\\u001b[2mSpectrumLike.py\u001b[0m\u001b]8;;\u001b\\\u001b[2m:\u001b[0m\u001b]8;id=474344;file:///home/tobi/sw/threeML/threeML/plugins/SpectrumLike.py#470\u001b\\\u001b[2m470\u001b[0m\u001b]8;;\u001b\\\n"
      ]
     },
     "metadata": {},
     "output_type": "display_data"
    },
    {
     "data": {
      "text/html": [
       "<pre style=\"white-space:pre;overflow-x:auto;line-height:normal;font-family:Menlo,'DejaVu Sans Mono',consolas,'Courier New',monospace\"><span style=\"color: #00ff00; text-decoration-color: #00ff00\">         </span><span style=\"color: #00ffaf; text-decoration-color: #00ffaf\">INFO    </span> <span style=\"color: #c6c6c6; text-decoration-color: #c6c6c6; font-weight: bold\"> - background: gaussian                                                       </span><a href=\"file:///home/tobi/sw/threeML/threeML/plugins/SpectrumLike.py\" target=\"_blank\"><span style=\"color: #7f7f7f; text-decoration-color: #7f7f7f\">SpectrumLike.py</span></a><span style=\"color: #7f7f7f; text-decoration-color: #7f7f7f\">:</span><a href=\"file:///home/tobi/sw/threeML/threeML/plugins/SpectrumLike.py#471\" target=\"_blank\"><span style=\"color: #7f7f7f; text-decoration-color: #7f7f7f\">471</span></a>\n",
       "</pre>\n"
      ],
      "text/plain": [
       "\u001b[38;5;46m        \u001b[0m\u001b[38;5;46m \u001b[0m\u001b[38;5;49mINFO    \u001b[0m \u001b[1;38;5;251m - background: gaussian                                                      \u001b[0m\u001b[1;38;5;251m \u001b[0m\u001b]8;id=591036;file:///home/tobi/sw/threeML/threeML/plugins/SpectrumLike.py\u001b\\\u001b[2mSpectrumLike.py\u001b[0m\u001b]8;;\u001b\\\u001b[2m:\u001b[0m\u001b]8;id=224633;file:///home/tobi/sw/threeML/threeML/plugins/SpectrumLike.py#471\u001b\\\u001b[2m471\u001b[0m\u001b]8;;\u001b\\\n"
      ]
     },
     "metadata": {},
     "output_type": "display_data"
    },
    {
     "data": {
      "text/html": [
       "<pre style=\"white-space:pre;overflow-x:auto;line-height:normal;font-family:Menlo,'DejaVu Sans Mono',consolas,'Courier New',monospace\"><span style=\"color: #00ff00; text-decoration-color: #00ff00\">         </span><span style=\"color: #00ffaf; text-decoration-color: #00ffaf\">INFO    </span> <span style=\"color: #c6c6c6; text-decoration-color: #c6c6c6; font-weight: bold\"> Range c1-c6 translates to channels </span><span style=\"color: #c0c0c0; text-decoration-color: #c0c0c0; font-weight: bold\">1</span><span style=\"color: #c6c6c6; text-decoration-color: #c6c6c6; font-weight: bold\">-</span><span style=\"color: #c0c0c0; text-decoration-color: #c0c0c0; font-weight: bold\">6</span><span style=\"color: #c6c6c6; text-decoration-color: #c6c6c6; font-weight: bold\">                                      </span><a href=\"file:///home/tobi/sw/threeML/threeML/plugins/SpectrumLike.py\" target=\"_blank\"><span style=\"color: #7f7f7f; text-decoration-color: #7f7f7f\">SpectrumLike.py</span></a><span style=\"color: #7f7f7f; text-decoration-color: #7f7f7f\">:</span><a href=\"file:///home/tobi/sw/threeML/threeML/plugins/SpectrumLike.py#1210\" target=\"_blank\"><span style=\"color: #7f7f7f; text-decoration-color: #7f7f7f\">1210</span></a>\n",
       "</pre>\n"
      ],
      "text/plain": [
       "\u001b[38;5;46m        \u001b[0m\u001b[38;5;46m \u001b[0m\u001b[38;5;49mINFO    \u001b[0m \u001b[1;38;5;251m Range c1-c6 translates to channels \u001b[0m\u001b[1;37m1\u001b[0m\u001b[1;38;5;251m-\u001b[0m\u001b[1;37m6\u001b[0m\u001b[1;38;5;251m                                     \u001b[0m\u001b[1;38;5;251m \u001b[0m\u001b]8;id=639743;file:///home/tobi/sw/threeML/threeML/plugins/SpectrumLike.py\u001b\\\u001b[2mSpectrumLike.py\u001b[0m\u001b]8;;\u001b\\\u001b[2m:\u001b[0m\u001b]8;id=722976;file:///home/tobi/sw/threeML/threeML/plugins/SpectrumLike.py#1210\u001b\\\u001b[2m1210\u001b[0m\u001b]8;;\u001b\\\n"
      ]
     },
     "metadata": {},
     "output_type": "display_data"
    },
    {
     "data": {
      "text/html": [
       "<pre style=\"white-space:pre;overflow-x:auto;line-height:normal;font-family:Menlo,'DejaVu Sans Mono',consolas,'Courier New',monospace\"><span style=\"color: #00ff00; text-decoration-color: #00ff00\">         </span><span style=\"color: #00ffaf; text-decoration-color: #00ffaf\">INFO    </span> <span style=\"color: #c6c6c6; text-decoration-color: #c6c6c6; font-weight: bold\"> Auto-probed noise models:                                                    </span><a href=\"file:///home/tobi/sw/threeML/threeML/plugins/SpectrumLike.py\" target=\"_blank\"><span style=\"color: #7f7f7f; text-decoration-color: #7f7f7f\">SpectrumLike.py</span></a><span style=\"color: #7f7f7f; text-decoration-color: #7f7f7f\">:</span><a href=\"file:///home/tobi/sw/threeML/threeML/plugins/SpectrumLike.py#469\" target=\"_blank\"><span style=\"color: #7f7f7f; text-decoration-color: #7f7f7f\">469</span></a>\n",
       "</pre>\n"
      ],
      "text/plain": [
       "\u001b[38;5;46m        \u001b[0m\u001b[38;5;46m \u001b[0m\u001b[38;5;49mINFO    \u001b[0m \u001b[1;38;5;251m Auto-probed noise models:                                                   \u001b[0m\u001b[1;38;5;251m \u001b[0m\u001b]8;id=293447;file:///home/tobi/sw/threeML/threeML/plugins/SpectrumLike.py\u001b\\\u001b[2mSpectrumLike.py\u001b[0m\u001b]8;;\u001b\\\u001b[2m:\u001b[0m\u001b]8;id=686942;file:///home/tobi/sw/threeML/threeML/plugins/SpectrumLike.py#469\u001b\\\u001b[2m469\u001b[0m\u001b]8;;\u001b\\\n"
      ]
     },
     "metadata": {},
     "output_type": "display_data"
    },
    {
     "data": {
      "text/html": [
       "<pre style=\"white-space:pre;overflow-x:auto;line-height:normal;font-family:Menlo,'DejaVu Sans Mono',consolas,'Courier New',monospace\"><span style=\"color: #00ff00; text-decoration-color: #00ff00\">         </span><span style=\"color: #00ffaf; text-decoration-color: #00ffaf\">INFO    </span> <span style=\"color: #c6c6c6; text-decoration-color: #c6c6c6; font-weight: bold\"> - observation: poisson                                                       </span><a href=\"file:///home/tobi/sw/threeML/threeML/plugins/SpectrumLike.py\" target=\"_blank\"><span style=\"color: #7f7f7f; text-decoration-color: #7f7f7f\">SpectrumLike.py</span></a><span style=\"color: #7f7f7f; text-decoration-color: #7f7f7f\">:</span><a href=\"file:///home/tobi/sw/threeML/threeML/plugins/SpectrumLike.py#470\" target=\"_blank\"><span style=\"color: #7f7f7f; text-decoration-color: #7f7f7f\">470</span></a>\n",
       "</pre>\n"
      ],
      "text/plain": [
       "\u001b[38;5;46m        \u001b[0m\u001b[38;5;46m \u001b[0m\u001b[38;5;49mINFO    \u001b[0m \u001b[1;38;5;251m - observation: poisson                                                      \u001b[0m\u001b[1;38;5;251m \u001b[0m\u001b]8;id=219663;file:///home/tobi/sw/threeML/threeML/plugins/SpectrumLike.py\u001b\\\u001b[2mSpectrumLike.py\u001b[0m\u001b]8;;\u001b\\\u001b[2m:\u001b[0m\u001b]8;id=388136;file:///home/tobi/sw/threeML/threeML/plugins/SpectrumLike.py#470\u001b\\\u001b[2m470\u001b[0m\u001b]8;;\u001b\\\n"
      ]
     },
     "metadata": {},
     "output_type": "display_data"
    },
    {
     "data": {
      "text/html": [
       "<pre style=\"white-space:pre;overflow-x:auto;line-height:normal;font-family:Menlo,'DejaVu Sans Mono',consolas,'Courier New',monospace\"><span style=\"color: #00ff00; text-decoration-color: #00ff00\">         </span><span style=\"color: #00ffaf; text-decoration-color: #00ffaf\">INFO    </span> <span style=\"color: #c6c6c6; text-decoration-color: #c6c6c6; font-weight: bold\"> - background: gaussian                                                       </span><a href=\"file:///home/tobi/sw/threeML/threeML/plugins/SpectrumLike.py\" target=\"_blank\"><span style=\"color: #7f7f7f; text-decoration-color: #7f7f7f\">SpectrumLike.py</span></a><span style=\"color: #7f7f7f; text-decoration-color: #7f7f7f\">:</span><a href=\"file:///home/tobi/sw/threeML/threeML/plugins/SpectrumLike.py#471\" target=\"_blank\"><span style=\"color: #7f7f7f; text-decoration-color: #7f7f7f\">471</span></a>\n",
       "</pre>\n"
      ],
      "text/plain": [
       "\u001b[38;5;46m        \u001b[0m\u001b[38;5;46m \u001b[0m\u001b[38;5;49mINFO    \u001b[0m \u001b[1;38;5;251m - background: gaussian                                                      \u001b[0m\u001b[1;38;5;251m \u001b[0m\u001b]8;id=778400;file:///home/tobi/sw/threeML/threeML/plugins/SpectrumLike.py\u001b\\\u001b[2mSpectrumLike.py\u001b[0m\u001b]8;;\u001b\\\u001b[2m:\u001b[0m\u001b]8;id=64269;file:///home/tobi/sw/threeML/threeML/plugins/SpectrumLike.py#471\u001b\\\u001b[2m471\u001b[0m\u001b]8;;\u001b\\\n"
      ]
     },
     "metadata": {},
     "output_type": "display_data"
    },
    {
     "data": {
      "text/html": [
       "<pre style=\"white-space:pre;overflow-x:auto;line-height:normal;font-family:Menlo,'DejaVu Sans Mono',consolas,'Courier New',monospace\"><span style=\"color: #00ff00; text-decoration-color: #00ff00\">         </span><span style=\"color: #00ffaf; text-decoration-color: #00ffaf\">INFO    </span> <span style=\"color: #c6c6c6; text-decoration-color: #c6c6c6; font-weight: bold\"> Auto-probed noise models:                                                    </span><a href=\"file:///home/tobi/sw/threeML/threeML/plugins/SpectrumLike.py\" target=\"_blank\"><span style=\"color: #7f7f7f; text-decoration-color: #7f7f7f\">SpectrumLike.py</span></a><span style=\"color: #7f7f7f; text-decoration-color: #7f7f7f\">:</span><a href=\"file:///home/tobi/sw/threeML/threeML/plugins/SpectrumLike.py#469\" target=\"_blank\"><span style=\"color: #7f7f7f; text-decoration-color: #7f7f7f\">469</span></a>\n",
       "</pre>\n"
      ],
      "text/plain": [
       "\u001b[38;5;46m        \u001b[0m\u001b[38;5;46m \u001b[0m\u001b[38;5;49mINFO    \u001b[0m \u001b[1;38;5;251m Auto-probed noise models:                                                   \u001b[0m\u001b[1;38;5;251m \u001b[0m\u001b]8;id=954679;file:///home/tobi/sw/threeML/threeML/plugins/SpectrumLike.py\u001b\\\u001b[2mSpectrumLike.py\u001b[0m\u001b]8;;\u001b\\\u001b[2m:\u001b[0m\u001b]8;id=135280;file:///home/tobi/sw/threeML/threeML/plugins/SpectrumLike.py#469\u001b\\\u001b[2m469\u001b[0m\u001b]8;;\u001b\\\n"
      ]
     },
     "metadata": {},
     "output_type": "display_data"
    },
    {
     "data": {
      "text/html": [
       "<pre style=\"white-space:pre;overflow-x:auto;line-height:normal;font-family:Menlo,'DejaVu Sans Mono',consolas,'Courier New',monospace\"><span style=\"color: #00ff00; text-decoration-color: #00ff00\">         </span><span style=\"color: #00ffaf; text-decoration-color: #00ffaf\">INFO    </span> <span style=\"color: #c6c6c6; text-decoration-color: #c6c6c6; font-weight: bold\"> - observation: poisson                                                       </span><a href=\"file:///home/tobi/sw/threeML/threeML/plugins/SpectrumLike.py\" target=\"_blank\"><span style=\"color: #7f7f7f; text-decoration-color: #7f7f7f\">SpectrumLike.py</span></a><span style=\"color: #7f7f7f; text-decoration-color: #7f7f7f\">:</span><a href=\"file:///home/tobi/sw/threeML/threeML/plugins/SpectrumLike.py#470\" target=\"_blank\"><span style=\"color: #7f7f7f; text-decoration-color: #7f7f7f\">470</span></a>\n",
       "</pre>\n"
      ],
      "text/plain": [
       "\u001b[38;5;46m        \u001b[0m\u001b[38;5;46m \u001b[0m\u001b[38;5;49mINFO    \u001b[0m \u001b[1;38;5;251m - observation: poisson                                                      \u001b[0m\u001b[1;38;5;251m \u001b[0m\u001b]8;id=823798;file:///home/tobi/sw/threeML/threeML/plugins/SpectrumLike.py\u001b\\\u001b[2mSpectrumLike.py\u001b[0m\u001b]8;;\u001b\\\u001b[2m:\u001b[0m\u001b]8;id=257211;file:///home/tobi/sw/threeML/threeML/plugins/SpectrumLike.py#470\u001b\\\u001b[2m470\u001b[0m\u001b]8;;\u001b\\\n"
      ]
     },
     "metadata": {},
     "output_type": "display_data"
    },
    {
     "data": {
      "text/html": [
       "<pre style=\"white-space:pre;overflow-x:auto;line-height:normal;font-family:Menlo,'DejaVu Sans Mono',consolas,'Courier New',monospace\"><span style=\"color: #00ff00; text-decoration-color: #00ff00\">         </span><span style=\"color: #00ffaf; text-decoration-color: #00ffaf\">INFO    </span> <span style=\"color: #c6c6c6; text-decoration-color: #c6c6c6; font-weight: bold\"> - background: gaussian                                                       </span><a href=\"file:///home/tobi/sw/threeML/threeML/plugins/SpectrumLike.py\" target=\"_blank\"><span style=\"color: #7f7f7f; text-decoration-color: #7f7f7f\">SpectrumLike.py</span></a><span style=\"color: #7f7f7f; text-decoration-color: #7f7f7f\">:</span><a href=\"file:///home/tobi/sw/threeML/threeML/plugins/SpectrumLike.py#471\" target=\"_blank\"><span style=\"color: #7f7f7f; text-decoration-color: #7f7f7f\">471</span></a>\n",
       "</pre>\n"
      ],
      "text/plain": [
       "\u001b[38;5;46m        \u001b[0m\u001b[38;5;46m \u001b[0m\u001b[38;5;49mINFO    \u001b[0m \u001b[1;38;5;251m - background: gaussian                                                      \u001b[0m\u001b[1;38;5;251m \u001b[0m\u001b]8;id=972931;file:///home/tobi/sw/threeML/threeML/plugins/SpectrumLike.py\u001b\\\u001b[2mSpectrumLike.py\u001b[0m\u001b]8;;\u001b\\\u001b[2m:\u001b[0m\u001b]8;id=102156;file:///home/tobi/sw/threeML/threeML/plugins/SpectrumLike.py#471\u001b\\\u001b[2m471\u001b[0m\u001b]8;;\u001b\\\n"
      ]
     },
     "metadata": {},
     "output_type": "display_data"
    },
    {
     "data": {
      "text/html": [
       "<pre style=\"white-space:pre;overflow-x:auto;line-height:normal;font-family:Menlo,'DejaVu Sans Mono',consolas,'Courier New',monospace\"><span style=\"color: #00ff00; text-decoration-color: #00ff00\">         </span><span style=\"color: #00ffaf; text-decoration-color: #00ffaf\">INFO    </span> <span style=\"color: #c6c6c6; text-decoration-color: #c6c6c6; font-weight: bold\"> Range c1-c6 translates to channels </span><span style=\"color: #c0c0c0; text-decoration-color: #c0c0c0; font-weight: bold\">1</span><span style=\"color: #c6c6c6; text-decoration-color: #c6c6c6; font-weight: bold\">-</span><span style=\"color: #c0c0c0; text-decoration-color: #c0c0c0; font-weight: bold\">6</span><span style=\"color: #c6c6c6; text-decoration-color: #c6c6c6; font-weight: bold\">                                      </span><a href=\"file:///home/tobi/sw/threeML/threeML/plugins/SpectrumLike.py\" target=\"_blank\"><span style=\"color: #7f7f7f; text-decoration-color: #7f7f7f\">SpectrumLike.py</span></a><span style=\"color: #7f7f7f; text-decoration-color: #7f7f7f\">:</span><a href=\"file:///home/tobi/sw/threeML/threeML/plugins/SpectrumLike.py#1210\" target=\"_blank\"><span style=\"color: #7f7f7f; text-decoration-color: #7f7f7f\">1210</span></a>\n",
       "</pre>\n"
      ],
      "text/plain": [
       "\u001b[38;5;46m        \u001b[0m\u001b[38;5;46m \u001b[0m\u001b[38;5;49mINFO    \u001b[0m \u001b[1;38;5;251m Range c1-c6 translates to channels \u001b[0m\u001b[1;37m1\u001b[0m\u001b[1;38;5;251m-\u001b[0m\u001b[1;37m6\u001b[0m\u001b[1;38;5;251m                                     \u001b[0m\u001b[1;38;5;251m \u001b[0m\u001b]8;id=354507;file:///home/tobi/sw/threeML/threeML/plugins/SpectrumLike.py\u001b\\\u001b[2mSpectrumLike.py\u001b[0m\u001b]8;;\u001b\\\u001b[2m:\u001b[0m\u001b]8;id=159740;file:///home/tobi/sw/threeML/threeML/plugins/SpectrumLike.py#1210\u001b\\\u001b[2m1210\u001b[0m\u001b]8;;\u001b\\\n"
      ]
     },
     "metadata": {},
     "output_type": "display_data"
    },
    {
     "data": {
      "text/html": [
       "<pre style=\"white-space:pre;overflow-x:auto;line-height:normal;font-family:Menlo,'DejaVu Sans Mono',consolas,'Courier New',monospace\"><span style=\"color: #00ff00; text-decoration-color: #00ff00\">         </span><span style=\"color: #00ffaf; text-decoration-color: #00ffaf\">INFO    </span> <span style=\"color: #c6c6c6; text-decoration-color: #c6c6c6; font-weight: bold\"> Auto-probed noise models:                                                    </span><a href=\"file:///home/tobi/sw/threeML/threeML/plugins/SpectrumLike.py\" target=\"_blank\"><span style=\"color: #7f7f7f; text-decoration-color: #7f7f7f\">SpectrumLike.py</span></a><span style=\"color: #7f7f7f; text-decoration-color: #7f7f7f\">:</span><a href=\"file:///home/tobi/sw/threeML/threeML/plugins/SpectrumLike.py#469\" target=\"_blank\"><span style=\"color: #7f7f7f; text-decoration-color: #7f7f7f\">469</span></a>\n",
       "</pre>\n"
      ],
      "text/plain": [
       "\u001b[38;5;46m        \u001b[0m\u001b[38;5;46m \u001b[0m\u001b[38;5;49mINFO    \u001b[0m \u001b[1;38;5;251m Auto-probed noise models:                                                   \u001b[0m\u001b[1;38;5;251m \u001b[0m\u001b]8;id=605650;file:///home/tobi/sw/threeML/threeML/plugins/SpectrumLike.py\u001b\\\u001b[2mSpectrumLike.py\u001b[0m\u001b]8;;\u001b\\\u001b[2m:\u001b[0m\u001b]8;id=813739;file:///home/tobi/sw/threeML/threeML/plugins/SpectrumLike.py#469\u001b\\\u001b[2m469\u001b[0m\u001b]8;;\u001b\\\n"
      ]
     },
     "metadata": {},
     "output_type": "display_data"
    },
    {
     "data": {
      "text/html": [
       "<pre style=\"white-space:pre;overflow-x:auto;line-height:normal;font-family:Menlo,'DejaVu Sans Mono',consolas,'Courier New',monospace\"><span style=\"color: #00ff00; text-decoration-color: #00ff00\">         </span><span style=\"color: #00ffaf; text-decoration-color: #00ffaf\">INFO    </span> <span style=\"color: #c6c6c6; text-decoration-color: #c6c6c6; font-weight: bold\"> - observation: poisson                                                       </span><a href=\"file:///home/tobi/sw/threeML/threeML/plugins/SpectrumLike.py\" target=\"_blank\"><span style=\"color: #7f7f7f; text-decoration-color: #7f7f7f\">SpectrumLike.py</span></a><span style=\"color: #7f7f7f; text-decoration-color: #7f7f7f\">:</span><a href=\"file:///home/tobi/sw/threeML/threeML/plugins/SpectrumLike.py#470\" target=\"_blank\"><span style=\"color: #7f7f7f; text-decoration-color: #7f7f7f\">470</span></a>\n",
       "</pre>\n"
      ],
      "text/plain": [
       "\u001b[38;5;46m        \u001b[0m\u001b[38;5;46m \u001b[0m\u001b[38;5;49mINFO    \u001b[0m \u001b[1;38;5;251m - observation: poisson                                                      \u001b[0m\u001b[1;38;5;251m \u001b[0m\u001b]8;id=260515;file:///home/tobi/sw/threeML/threeML/plugins/SpectrumLike.py\u001b\\\u001b[2mSpectrumLike.py\u001b[0m\u001b]8;;\u001b\\\u001b[2m:\u001b[0m\u001b]8;id=655646;file:///home/tobi/sw/threeML/threeML/plugins/SpectrumLike.py#470\u001b\\\u001b[2m470\u001b[0m\u001b]8;;\u001b\\\n"
      ]
     },
     "metadata": {},
     "output_type": "display_data"
    },
    {
     "data": {
      "text/html": [
       "<pre style=\"white-space:pre;overflow-x:auto;line-height:normal;font-family:Menlo,'DejaVu Sans Mono',consolas,'Courier New',monospace\"><span style=\"color: #00ff00; text-decoration-color: #00ff00\">         </span><span style=\"color: #00ffaf; text-decoration-color: #00ffaf\">INFO    </span> <span style=\"color: #c6c6c6; text-decoration-color: #c6c6c6; font-weight: bold\"> - background: gaussian                                                       </span><a href=\"file:///home/tobi/sw/threeML/threeML/plugins/SpectrumLike.py\" target=\"_blank\"><span style=\"color: #7f7f7f; text-decoration-color: #7f7f7f\">SpectrumLike.py</span></a><span style=\"color: #7f7f7f; text-decoration-color: #7f7f7f\">:</span><a href=\"file:///home/tobi/sw/threeML/threeML/plugins/SpectrumLike.py#471\" target=\"_blank\"><span style=\"color: #7f7f7f; text-decoration-color: #7f7f7f\">471</span></a>\n",
       "</pre>\n"
      ],
      "text/plain": [
       "\u001b[38;5;46m        \u001b[0m\u001b[38;5;46m \u001b[0m\u001b[38;5;49mINFO    \u001b[0m \u001b[1;38;5;251m - background: gaussian                                                      \u001b[0m\u001b[1;38;5;251m \u001b[0m\u001b]8;id=563366;file:///home/tobi/sw/threeML/threeML/plugins/SpectrumLike.py\u001b\\\u001b[2mSpectrumLike.py\u001b[0m\u001b]8;;\u001b\\\u001b[2m:\u001b[0m\u001b]8;id=549976;file:///home/tobi/sw/threeML/threeML/plugins/SpectrumLike.py#471\u001b\\\u001b[2m471\u001b[0m\u001b]8;;\u001b\\\n"
      ]
     },
     "metadata": {},
     "output_type": "display_data"
    },
    {
     "data": {
      "text/html": [
       "<pre style=\"white-space:pre;overflow-x:auto;line-height:normal;font-family:Menlo,'DejaVu Sans Mono',consolas,'Courier New',monospace\"><span style=\"color: #00ff00; text-decoration-color: #00ff00\">         </span><span style=\"color: #00ffaf; text-decoration-color: #00ffaf\">INFO    </span> <span style=\"color: #c6c6c6; text-decoration-color: #c6c6c6; font-weight: bold\"> Auto-probed noise models:                                                    </span><a href=\"file:///home/tobi/sw/threeML/threeML/plugins/SpectrumLike.py\" target=\"_blank\"><span style=\"color: #7f7f7f; text-decoration-color: #7f7f7f\">SpectrumLike.py</span></a><span style=\"color: #7f7f7f; text-decoration-color: #7f7f7f\">:</span><a href=\"file:///home/tobi/sw/threeML/threeML/plugins/SpectrumLike.py#469\" target=\"_blank\"><span style=\"color: #7f7f7f; text-decoration-color: #7f7f7f\">469</span></a>\n",
       "</pre>\n"
      ],
      "text/plain": [
       "\u001b[38;5;46m        \u001b[0m\u001b[38;5;46m \u001b[0m\u001b[38;5;49mINFO    \u001b[0m \u001b[1;38;5;251m Auto-probed noise models:                                                   \u001b[0m\u001b[1;38;5;251m \u001b[0m\u001b]8;id=296160;file:///home/tobi/sw/threeML/threeML/plugins/SpectrumLike.py\u001b\\\u001b[2mSpectrumLike.py\u001b[0m\u001b]8;;\u001b\\\u001b[2m:\u001b[0m\u001b]8;id=106854;file:///home/tobi/sw/threeML/threeML/plugins/SpectrumLike.py#469\u001b\\\u001b[2m469\u001b[0m\u001b]8;;\u001b\\\n"
      ]
     },
     "metadata": {},
     "output_type": "display_data"
    },
    {
     "data": {
      "text/html": [
       "<pre style=\"white-space:pre;overflow-x:auto;line-height:normal;font-family:Menlo,'DejaVu Sans Mono',consolas,'Courier New',monospace\"><span style=\"color: #00ff00; text-decoration-color: #00ff00\">         </span><span style=\"color: #00ffaf; text-decoration-color: #00ffaf\">INFO    </span> <span style=\"color: #c6c6c6; text-decoration-color: #c6c6c6; font-weight: bold\"> - observation: poisson                                                       </span><a href=\"file:///home/tobi/sw/threeML/threeML/plugins/SpectrumLike.py\" target=\"_blank\"><span style=\"color: #7f7f7f; text-decoration-color: #7f7f7f\">SpectrumLike.py</span></a><span style=\"color: #7f7f7f; text-decoration-color: #7f7f7f\">:</span><a href=\"file:///home/tobi/sw/threeML/threeML/plugins/SpectrumLike.py#470\" target=\"_blank\"><span style=\"color: #7f7f7f; text-decoration-color: #7f7f7f\">470</span></a>\n",
       "</pre>\n"
      ],
      "text/plain": [
       "\u001b[38;5;46m        \u001b[0m\u001b[38;5;46m \u001b[0m\u001b[38;5;49mINFO    \u001b[0m \u001b[1;38;5;251m - observation: poisson                                                      \u001b[0m\u001b[1;38;5;251m \u001b[0m\u001b]8;id=446106;file:///home/tobi/sw/threeML/threeML/plugins/SpectrumLike.py\u001b\\\u001b[2mSpectrumLike.py\u001b[0m\u001b]8;;\u001b\\\u001b[2m:\u001b[0m\u001b]8;id=887910;file:///home/tobi/sw/threeML/threeML/plugins/SpectrumLike.py#470\u001b\\\u001b[2m470\u001b[0m\u001b]8;;\u001b\\\n"
      ]
     },
     "metadata": {},
     "output_type": "display_data"
    },
    {
     "data": {
      "text/html": [
       "<pre style=\"white-space:pre;overflow-x:auto;line-height:normal;font-family:Menlo,'DejaVu Sans Mono',consolas,'Courier New',monospace\"><span style=\"color: #00ff00; text-decoration-color: #00ff00\">         </span><span style=\"color: #00ffaf; text-decoration-color: #00ffaf\">INFO    </span> <span style=\"color: #c6c6c6; text-decoration-color: #c6c6c6; font-weight: bold\"> - background: gaussian                                                       </span><a href=\"file:///home/tobi/sw/threeML/threeML/plugins/SpectrumLike.py\" target=\"_blank\"><span style=\"color: #7f7f7f; text-decoration-color: #7f7f7f\">SpectrumLike.py</span></a><span style=\"color: #7f7f7f; text-decoration-color: #7f7f7f\">:</span><a href=\"file:///home/tobi/sw/threeML/threeML/plugins/SpectrumLike.py#471\" target=\"_blank\"><span style=\"color: #7f7f7f; text-decoration-color: #7f7f7f\">471</span></a>\n",
       "</pre>\n"
      ],
      "text/plain": [
       "\u001b[38;5;46m        \u001b[0m\u001b[38;5;46m \u001b[0m\u001b[38;5;49mINFO    \u001b[0m \u001b[1;38;5;251m - background: gaussian                                                      \u001b[0m\u001b[1;38;5;251m \u001b[0m\u001b]8;id=275124;file:///home/tobi/sw/threeML/threeML/plugins/SpectrumLike.py\u001b\\\u001b[2mSpectrumLike.py\u001b[0m\u001b]8;;\u001b\\\u001b[2m:\u001b[0m\u001b]8;id=328219;file:///home/tobi/sw/threeML/threeML/plugins/SpectrumLike.py#471\u001b\\\u001b[2m471\u001b[0m\u001b]8;;\u001b\\\n"
      ]
     },
     "metadata": {},
     "output_type": "display_data"
    },
    {
     "data": {
      "text/html": [
       "<pre style=\"white-space:pre;overflow-x:auto;line-height:normal;font-family:Menlo,'DejaVu Sans Mono',consolas,'Courier New',monospace\"><span style=\"color: #00ff00; text-decoration-color: #00ff00\">         </span><span style=\"color: #00ffaf; text-decoration-color: #00ffaf\">INFO    </span> <span style=\"color: #c6c6c6; text-decoration-color: #c6c6c6; font-weight: bold\"> Range c1-c6 translates to channels </span><span style=\"color: #c0c0c0; text-decoration-color: #c0c0c0; font-weight: bold\">1</span><span style=\"color: #c6c6c6; text-decoration-color: #c6c6c6; font-weight: bold\">-</span><span style=\"color: #c0c0c0; text-decoration-color: #c0c0c0; font-weight: bold\">6</span><span style=\"color: #c6c6c6; text-decoration-color: #c6c6c6; font-weight: bold\">                                      </span><a href=\"file:///home/tobi/sw/threeML/threeML/plugins/SpectrumLike.py\" target=\"_blank\"><span style=\"color: #7f7f7f; text-decoration-color: #7f7f7f\">SpectrumLike.py</span></a><span style=\"color: #7f7f7f; text-decoration-color: #7f7f7f\">:</span><a href=\"file:///home/tobi/sw/threeML/threeML/plugins/SpectrumLike.py#1210\" target=\"_blank\"><span style=\"color: #7f7f7f; text-decoration-color: #7f7f7f\">1210</span></a>\n",
       "</pre>\n"
      ],
      "text/plain": [
       "\u001b[38;5;46m        \u001b[0m\u001b[38;5;46m \u001b[0m\u001b[38;5;49mINFO    \u001b[0m \u001b[1;38;5;251m Range c1-c6 translates to channels \u001b[0m\u001b[1;37m1\u001b[0m\u001b[1;38;5;251m-\u001b[0m\u001b[1;37m6\u001b[0m\u001b[1;38;5;251m                                     \u001b[0m\u001b[1;38;5;251m \u001b[0m\u001b]8;id=651024;file:///home/tobi/sw/threeML/threeML/plugins/SpectrumLike.py\u001b\\\u001b[2mSpectrumLike.py\u001b[0m\u001b]8;;\u001b\\\u001b[2m:\u001b[0m\u001b]8;id=285823;file:///home/tobi/sw/threeML/threeML/plugins/SpectrumLike.py#1210\u001b\\\u001b[2m1210\u001b[0m\u001b]8;;\u001b\\\n"
      ]
     },
     "metadata": {},
     "output_type": "display_data"
    },
    {
     "data": {
      "text/html": [
       "<pre style=\"white-space:pre;overflow-x:auto;line-height:normal;font-family:Menlo,'DejaVu Sans Mono',consolas,'Courier New',monospace\"><span style=\"color: #00ff00; text-decoration-color: #00ff00\">         </span><span style=\"color: #00ffaf; text-decoration-color: #00ffaf\">INFO    </span> <span style=\"color: #c6c6c6; text-decoration-color: #c6c6c6; font-weight: bold\"> Auto-probed noise models:                                                    </span><a href=\"file:///home/tobi/sw/threeML/threeML/plugins/SpectrumLike.py\" target=\"_blank\"><span style=\"color: #7f7f7f; text-decoration-color: #7f7f7f\">SpectrumLike.py</span></a><span style=\"color: #7f7f7f; text-decoration-color: #7f7f7f\">:</span><a href=\"file:///home/tobi/sw/threeML/threeML/plugins/SpectrumLike.py#469\" target=\"_blank\"><span style=\"color: #7f7f7f; text-decoration-color: #7f7f7f\">469</span></a>\n",
       "</pre>\n"
      ],
      "text/plain": [
       "\u001b[38;5;46m        \u001b[0m\u001b[38;5;46m \u001b[0m\u001b[38;5;49mINFO    \u001b[0m \u001b[1;38;5;251m Auto-probed noise models:                                                   \u001b[0m\u001b[1;38;5;251m \u001b[0m\u001b]8;id=153281;file:///home/tobi/sw/threeML/threeML/plugins/SpectrumLike.py\u001b\\\u001b[2mSpectrumLike.py\u001b[0m\u001b]8;;\u001b\\\u001b[2m:\u001b[0m\u001b]8;id=451769;file:///home/tobi/sw/threeML/threeML/plugins/SpectrumLike.py#469\u001b\\\u001b[2m469\u001b[0m\u001b]8;;\u001b\\\n"
      ]
     },
     "metadata": {},
     "output_type": "display_data"
    },
    {
     "data": {
      "text/html": [
       "<pre style=\"white-space:pre;overflow-x:auto;line-height:normal;font-family:Menlo,'DejaVu Sans Mono',consolas,'Courier New',monospace\"><span style=\"color: #00ff00; text-decoration-color: #00ff00\">         </span><span style=\"color: #00ffaf; text-decoration-color: #00ffaf\">INFO    </span> <span style=\"color: #c6c6c6; text-decoration-color: #c6c6c6; font-weight: bold\"> - observation: poisson                                                       </span><a href=\"file:///home/tobi/sw/threeML/threeML/plugins/SpectrumLike.py\" target=\"_blank\"><span style=\"color: #7f7f7f; text-decoration-color: #7f7f7f\">SpectrumLike.py</span></a><span style=\"color: #7f7f7f; text-decoration-color: #7f7f7f\">:</span><a href=\"file:///home/tobi/sw/threeML/threeML/plugins/SpectrumLike.py#470\" target=\"_blank\"><span style=\"color: #7f7f7f; text-decoration-color: #7f7f7f\">470</span></a>\n",
       "</pre>\n"
      ],
      "text/plain": [
       "\u001b[38;5;46m        \u001b[0m\u001b[38;5;46m \u001b[0m\u001b[38;5;49mINFO    \u001b[0m \u001b[1;38;5;251m - observation: poisson                                                      \u001b[0m\u001b[1;38;5;251m \u001b[0m\u001b]8;id=175762;file:///home/tobi/sw/threeML/threeML/plugins/SpectrumLike.py\u001b\\\u001b[2mSpectrumLike.py\u001b[0m\u001b]8;;\u001b\\\u001b[2m:\u001b[0m\u001b]8;id=563964;file:///home/tobi/sw/threeML/threeML/plugins/SpectrumLike.py#470\u001b\\\u001b[2m470\u001b[0m\u001b]8;;\u001b\\\n"
      ]
     },
     "metadata": {},
     "output_type": "display_data"
    },
    {
     "data": {
      "text/html": [
       "<pre style=\"white-space:pre;overflow-x:auto;line-height:normal;font-family:Menlo,'DejaVu Sans Mono',consolas,'Courier New',monospace\"><span style=\"color: #00ff00; text-decoration-color: #00ff00\">         </span><span style=\"color: #00ffaf; text-decoration-color: #00ffaf\">INFO    </span> <span style=\"color: #c6c6c6; text-decoration-color: #c6c6c6; font-weight: bold\"> - background: gaussian                                                       </span><a href=\"file:///home/tobi/sw/threeML/threeML/plugins/SpectrumLike.py\" target=\"_blank\"><span style=\"color: #7f7f7f; text-decoration-color: #7f7f7f\">SpectrumLike.py</span></a><span style=\"color: #7f7f7f; text-decoration-color: #7f7f7f\">:</span><a href=\"file:///home/tobi/sw/threeML/threeML/plugins/SpectrumLike.py#471\" target=\"_blank\"><span style=\"color: #7f7f7f; text-decoration-color: #7f7f7f\">471</span></a>\n",
       "</pre>\n"
      ],
      "text/plain": [
       "\u001b[38;5;46m        \u001b[0m\u001b[38;5;46m \u001b[0m\u001b[38;5;49mINFO    \u001b[0m \u001b[1;38;5;251m - background: gaussian                                                      \u001b[0m\u001b[1;38;5;251m \u001b[0m\u001b]8;id=389731;file:///home/tobi/sw/threeML/threeML/plugins/SpectrumLike.py\u001b\\\u001b[2mSpectrumLike.py\u001b[0m\u001b]8;;\u001b\\\u001b[2m:\u001b[0m\u001b]8;id=925767;file:///home/tobi/sw/threeML/threeML/plugins/SpectrumLike.py#471\u001b\\\u001b[2m471\u001b[0m\u001b]8;;\u001b\\\n"
      ]
     },
     "metadata": {},
     "output_type": "display_data"
    },
    {
     "data": {
      "text/html": [
       "<pre style=\"white-space:pre;overflow-x:auto;line-height:normal;font-family:Menlo,'DejaVu Sans Mono',consolas,'Courier New',monospace\"><span style=\"color: #00ff00; text-decoration-color: #00ff00\">         </span><span style=\"color: #00ffaf; text-decoration-color: #00ffaf\">INFO    </span> <span style=\"color: #c6c6c6; text-decoration-color: #c6c6c6; font-weight: bold\"> Auto-probed noise models:                                                    </span><a href=\"file:///home/tobi/sw/threeML/threeML/plugins/SpectrumLike.py\" target=\"_blank\"><span style=\"color: #7f7f7f; text-decoration-color: #7f7f7f\">SpectrumLike.py</span></a><span style=\"color: #7f7f7f; text-decoration-color: #7f7f7f\">:</span><a href=\"file:///home/tobi/sw/threeML/threeML/plugins/SpectrumLike.py#469\" target=\"_blank\"><span style=\"color: #7f7f7f; text-decoration-color: #7f7f7f\">469</span></a>\n",
       "</pre>\n"
      ],
      "text/plain": [
       "\u001b[38;5;46m        \u001b[0m\u001b[38;5;46m \u001b[0m\u001b[38;5;49mINFO    \u001b[0m \u001b[1;38;5;251m Auto-probed noise models:                                                   \u001b[0m\u001b[1;38;5;251m \u001b[0m\u001b]8;id=152954;file:///home/tobi/sw/threeML/threeML/plugins/SpectrumLike.py\u001b\\\u001b[2mSpectrumLike.py\u001b[0m\u001b]8;;\u001b\\\u001b[2m:\u001b[0m\u001b]8;id=809499;file:///home/tobi/sw/threeML/threeML/plugins/SpectrumLike.py#469\u001b\\\u001b[2m469\u001b[0m\u001b]8;;\u001b\\\n"
      ]
     },
     "metadata": {},
     "output_type": "display_data"
    },
    {
     "data": {
      "text/html": [
       "<pre style=\"white-space:pre;overflow-x:auto;line-height:normal;font-family:Menlo,'DejaVu Sans Mono',consolas,'Courier New',monospace\"><span style=\"color: #00ff00; text-decoration-color: #00ff00\">         </span><span style=\"color: #00ffaf; text-decoration-color: #00ffaf\">INFO    </span> <span style=\"color: #c6c6c6; text-decoration-color: #c6c6c6; font-weight: bold\"> - observation: poisson                                                       </span><a href=\"file:///home/tobi/sw/threeML/threeML/plugins/SpectrumLike.py\" target=\"_blank\"><span style=\"color: #7f7f7f; text-decoration-color: #7f7f7f\">SpectrumLike.py</span></a><span style=\"color: #7f7f7f; text-decoration-color: #7f7f7f\">:</span><a href=\"file:///home/tobi/sw/threeML/threeML/plugins/SpectrumLike.py#470\" target=\"_blank\"><span style=\"color: #7f7f7f; text-decoration-color: #7f7f7f\">470</span></a>\n",
       "</pre>\n"
      ],
      "text/plain": [
       "\u001b[38;5;46m        \u001b[0m\u001b[38;5;46m \u001b[0m\u001b[38;5;49mINFO    \u001b[0m \u001b[1;38;5;251m - observation: poisson                                                      \u001b[0m\u001b[1;38;5;251m \u001b[0m\u001b]8;id=301082;file:///home/tobi/sw/threeML/threeML/plugins/SpectrumLike.py\u001b\\\u001b[2mSpectrumLike.py\u001b[0m\u001b]8;;\u001b\\\u001b[2m:\u001b[0m\u001b]8;id=131897;file:///home/tobi/sw/threeML/threeML/plugins/SpectrumLike.py#470\u001b\\\u001b[2m470\u001b[0m\u001b]8;;\u001b\\\n"
      ]
     },
     "metadata": {},
     "output_type": "display_data"
    },
    {
     "data": {
      "text/html": [
       "<pre style=\"white-space:pre;overflow-x:auto;line-height:normal;font-family:Menlo,'DejaVu Sans Mono',consolas,'Courier New',monospace\"><span style=\"color: #00ff00; text-decoration-color: #00ff00\">         </span><span style=\"color: #00ffaf; text-decoration-color: #00ffaf\">INFO    </span> <span style=\"color: #c6c6c6; text-decoration-color: #c6c6c6; font-weight: bold\"> - background: gaussian                                                       </span><a href=\"file:///home/tobi/sw/threeML/threeML/plugins/SpectrumLike.py\" target=\"_blank\"><span style=\"color: #7f7f7f; text-decoration-color: #7f7f7f\">SpectrumLike.py</span></a><span style=\"color: #7f7f7f; text-decoration-color: #7f7f7f\">:</span><a href=\"file:///home/tobi/sw/threeML/threeML/plugins/SpectrumLike.py#471\" target=\"_blank\"><span style=\"color: #7f7f7f; text-decoration-color: #7f7f7f\">471</span></a>\n",
       "</pre>\n"
      ],
      "text/plain": [
       "\u001b[38;5;46m        \u001b[0m\u001b[38;5;46m \u001b[0m\u001b[38;5;49mINFO    \u001b[0m \u001b[1;38;5;251m - background: gaussian                                                      \u001b[0m\u001b[1;38;5;251m \u001b[0m\u001b]8;id=33419;file:///home/tobi/sw/threeML/threeML/plugins/SpectrumLike.py\u001b\\\u001b[2mSpectrumLike.py\u001b[0m\u001b]8;;\u001b\\\u001b[2m:\u001b[0m\u001b]8;id=276713;file:///home/tobi/sw/threeML/threeML/plugins/SpectrumLike.py#471\u001b\\\u001b[2m471\u001b[0m\u001b]8;;\u001b\\\n"
      ]
     },
     "metadata": {},
     "output_type": "display_data"
    },
    {
     "data": {
      "text/html": [
       "<pre style=\"white-space:pre;overflow-x:auto;line-height:normal;font-family:Menlo,'DejaVu Sans Mono',consolas,'Courier New',monospace\"><span style=\"color: #00ff00; text-decoration-color: #00ff00\">         </span><span style=\"color: #00ffaf; text-decoration-color: #00ffaf\">INFO    </span> <span style=\"color: #c6c6c6; text-decoration-color: #c6c6c6; font-weight: bold\"> Range c1-c6 translates to channels </span><span style=\"color: #c0c0c0; text-decoration-color: #c0c0c0; font-weight: bold\">1</span><span style=\"color: #c6c6c6; text-decoration-color: #c6c6c6; font-weight: bold\">-</span><span style=\"color: #c0c0c0; text-decoration-color: #c0c0c0; font-weight: bold\">6</span><span style=\"color: #c6c6c6; text-decoration-color: #c6c6c6; font-weight: bold\">                                      </span><a href=\"file:///home/tobi/sw/threeML/threeML/plugins/SpectrumLike.py\" target=\"_blank\"><span style=\"color: #7f7f7f; text-decoration-color: #7f7f7f\">SpectrumLike.py</span></a><span style=\"color: #7f7f7f; text-decoration-color: #7f7f7f\">:</span><a href=\"file:///home/tobi/sw/threeML/threeML/plugins/SpectrumLike.py#1210\" target=\"_blank\"><span style=\"color: #7f7f7f; text-decoration-color: #7f7f7f\">1210</span></a>\n",
       "</pre>\n"
      ],
      "text/plain": [
       "\u001b[38;5;46m        \u001b[0m\u001b[38;5;46m \u001b[0m\u001b[38;5;49mINFO    \u001b[0m \u001b[1;38;5;251m Range c1-c6 translates to channels \u001b[0m\u001b[1;37m1\u001b[0m\u001b[1;38;5;251m-\u001b[0m\u001b[1;37m6\u001b[0m\u001b[1;38;5;251m                                     \u001b[0m\u001b[1;38;5;251m \u001b[0m\u001b]8;id=531347;file:///home/tobi/sw/threeML/threeML/plugins/SpectrumLike.py\u001b\\\u001b[2mSpectrumLike.py\u001b[0m\u001b]8;;\u001b\\\u001b[2m:\u001b[0m\u001b]8;id=488331;file:///home/tobi/sw/threeML/threeML/plugins/SpectrumLike.py#1210\u001b\\\u001b[2m1210\u001b[0m\u001b]8;;\u001b\\\n"
      ]
     },
     "metadata": {},
     "output_type": "display_data"
    },
    {
     "data": {
      "text/html": [
       "<pre style=\"white-space:pre;overflow-x:auto;line-height:normal;font-family:Menlo,'DejaVu Sans Mono',consolas,'Courier New',monospace\"><span style=\"color: #00ff00; text-decoration-color: #00ff00\">         </span><span style=\"color: #00ffaf; text-decoration-color: #00ffaf\">INFO    </span> <span style=\"color: #c6c6c6; text-decoration-color: #c6c6c6; font-weight: bold\"> Auto-probed noise models:                                                    </span><a href=\"file:///home/tobi/sw/threeML/threeML/plugins/SpectrumLike.py\" target=\"_blank\"><span style=\"color: #7f7f7f; text-decoration-color: #7f7f7f\">SpectrumLike.py</span></a><span style=\"color: #7f7f7f; text-decoration-color: #7f7f7f\">:</span><a href=\"file:///home/tobi/sw/threeML/threeML/plugins/SpectrumLike.py#469\" target=\"_blank\"><span style=\"color: #7f7f7f; text-decoration-color: #7f7f7f\">469</span></a>\n",
       "</pre>\n"
      ],
      "text/plain": [
       "\u001b[38;5;46m        \u001b[0m\u001b[38;5;46m \u001b[0m\u001b[38;5;49mINFO    \u001b[0m \u001b[1;38;5;251m Auto-probed noise models:                                                   \u001b[0m\u001b[1;38;5;251m \u001b[0m\u001b]8;id=665102;file:///home/tobi/sw/threeML/threeML/plugins/SpectrumLike.py\u001b\\\u001b[2mSpectrumLike.py\u001b[0m\u001b]8;;\u001b\\\u001b[2m:\u001b[0m\u001b]8;id=908567;file:///home/tobi/sw/threeML/threeML/plugins/SpectrumLike.py#469\u001b\\\u001b[2m469\u001b[0m\u001b]8;;\u001b\\\n"
      ]
     },
     "metadata": {},
     "output_type": "display_data"
    },
    {
     "data": {
      "text/html": [
       "<pre style=\"white-space:pre;overflow-x:auto;line-height:normal;font-family:Menlo,'DejaVu Sans Mono',consolas,'Courier New',monospace\"><span style=\"color: #00ff00; text-decoration-color: #00ff00\">         </span><span style=\"color: #00ffaf; text-decoration-color: #00ffaf\">INFO    </span> <span style=\"color: #c6c6c6; text-decoration-color: #c6c6c6; font-weight: bold\"> - observation: poisson                                                       </span><a href=\"file:///home/tobi/sw/threeML/threeML/plugins/SpectrumLike.py\" target=\"_blank\"><span style=\"color: #7f7f7f; text-decoration-color: #7f7f7f\">SpectrumLike.py</span></a><span style=\"color: #7f7f7f; text-decoration-color: #7f7f7f\">:</span><a href=\"file:///home/tobi/sw/threeML/threeML/plugins/SpectrumLike.py#470\" target=\"_blank\"><span style=\"color: #7f7f7f; text-decoration-color: #7f7f7f\">470</span></a>\n",
       "</pre>\n"
      ],
      "text/plain": [
       "\u001b[38;5;46m        \u001b[0m\u001b[38;5;46m \u001b[0m\u001b[38;5;49mINFO    \u001b[0m \u001b[1;38;5;251m - observation: poisson                                                      \u001b[0m\u001b[1;38;5;251m \u001b[0m\u001b]8;id=948319;file:///home/tobi/sw/threeML/threeML/plugins/SpectrumLike.py\u001b\\\u001b[2mSpectrumLike.py\u001b[0m\u001b]8;;\u001b\\\u001b[2m:\u001b[0m\u001b]8;id=393542;file:///home/tobi/sw/threeML/threeML/plugins/SpectrumLike.py#470\u001b\\\u001b[2m470\u001b[0m\u001b]8;;\u001b\\\n"
      ]
     },
     "metadata": {},
     "output_type": "display_data"
    },
    {
     "data": {
      "text/html": [
       "<pre style=\"white-space:pre;overflow-x:auto;line-height:normal;font-family:Menlo,'DejaVu Sans Mono',consolas,'Courier New',monospace\"><span style=\"color: #00ff00; text-decoration-color: #00ff00\">         </span><span style=\"color: #00ffaf; text-decoration-color: #00ffaf\">INFO    </span> <span style=\"color: #c6c6c6; text-decoration-color: #c6c6c6; font-weight: bold\"> - background: gaussian                                                       </span><a href=\"file:///home/tobi/sw/threeML/threeML/plugins/SpectrumLike.py\" target=\"_blank\"><span style=\"color: #7f7f7f; text-decoration-color: #7f7f7f\">SpectrumLike.py</span></a><span style=\"color: #7f7f7f; text-decoration-color: #7f7f7f\">:</span><a href=\"file:///home/tobi/sw/threeML/threeML/plugins/SpectrumLike.py#471\" target=\"_blank\"><span style=\"color: #7f7f7f; text-decoration-color: #7f7f7f\">471</span></a>\n",
       "</pre>\n"
      ],
      "text/plain": [
       "\u001b[38;5;46m        \u001b[0m\u001b[38;5;46m \u001b[0m\u001b[38;5;49mINFO    \u001b[0m \u001b[1;38;5;251m - background: gaussian                                                      \u001b[0m\u001b[1;38;5;251m \u001b[0m\u001b]8;id=420798;file:///home/tobi/sw/threeML/threeML/plugins/SpectrumLike.py\u001b\\\u001b[2mSpectrumLike.py\u001b[0m\u001b]8;;\u001b\\\u001b[2m:\u001b[0m\u001b]8;id=105107;file:///home/tobi/sw/threeML/threeML/plugins/SpectrumLike.py#471\u001b\\\u001b[2m471\u001b[0m\u001b]8;;\u001b\\\n"
      ]
     },
     "metadata": {},
     "output_type": "display_data"
    },
    {
     "data": {
      "text/html": [
       "<pre style=\"white-space:pre;overflow-x:auto;line-height:normal;font-family:Menlo,'DejaVu Sans Mono',consolas,'Courier New',monospace\"><span style=\"color: #00ff00; text-decoration-color: #00ff00\">         </span><span style=\"color: #00ffaf; text-decoration-color: #00ffaf\">INFO    </span> <span style=\"color: #c6c6c6; text-decoration-color: #c6c6c6; font-weight: bold\"> Auto-probed noise models:                                                    </span><a href=\"file:///home/tobi/sw/threeML/threeML/plugins/SpectrumLike.py\" target=\"_blank\"><span style=\"color: #7f7f7f; text-decoration-color: #7f7f7f\">SpectrumLike.py</span></a><span style=\"color: #7f7f7f; text-decoration-color: #7f7f7f\">:</span><a href=\"file:///home/tobi/sw/threeML/threeML/plugins/SpectrumLike.py#469\" target=\"_blank\"><span style=\"color: #7f7f7f; text-decoration-color: #7f7f7f\">469</span></a>\n",
       "</pre>\n"
      ],
      "text/plain": [
       "\u001b[38;5;46m        \u001b[0m\u001b[38;5;46m \u001b[0m\u001b[38;5;49mINFO    \u001b[0m \u001b[1;38;5;251m Auto-probed noise models:                                                   \u001b[0m\u001b[1;38;5;251m \u001b[0m\u001b]8;id=151064;file:///home/tobi/sw/threeML/threeML/plugins/SpectrumLike.py\u001b\\\u001b[2mSpectrumLike.py\u001b[0m\u001b]8;;\u001b\\\u001b[2m:\u001b[0m\u001b]8;id=210638;file:///home/tobi/sw/threeML/threeML/plugins/SpectrumLike.py#469\u001b\\\u001b[2m469\u001b[0m\u001b]8;;\u001b\\\n"
      ]
     },
     "metadata": {},
     "output_type": "display_data"
    },
    {
     "data": {
      "text/html": [
       "<pre style=\"white-space:pre;overflow-x:auto;line-height:normal;font-family:Menlo,'DejaVu Sans Mono',consolas,'Courier New',monospace\"><span style=\"color: #00ff00; text-decoration-color: #00ff00\">         </span><span style=\"color: #00ffaf; text-decoration-color: #00ffaf\">INFO    </span> <span style=\"color: #c6c6c6; text-decoration-color: #c6c6c6; font-weight: bold\"> - observation: poisson                                                       </span><a href=\"file:///home/tobi/sw/threeML/threeML/plugins/SpectrumLike.py\" target=\"_blank\"><span style=\"color: #7f7f7f; text-decoration-color: #7f7f7f\">SpectrumLike.py</span></a><span style=\"color: #7f7f7f; text-decoration-color: #7f7f7f\">:</span><a href=\"file:///home/tobi/sw/threeML/threeML/plugins/SpectrumLike.py#470\" target=\"_blank\"><span style=\"color: #7f7f7f; text-decoration-color: #7f7f7f\">470</span></a>\n",
       "</pre>\n"
      ],
      "text/plain": [
       "\u001b[38;5;46m        \u001b[0m\u001b[38;5;46m \u001b[0m\u001b[38;5;49mINFO    \u001b[0m \u001b[1;38;5;251m - observation: poisson                                                      \u001b[0m\u001b[1;38;5;251m \u001b[0m\u001b]8;id=90419;file:///home/tobi/sw/threeML/threeML/plugins/SpectrumLike.py\u001b\\\u001b[2mSpectrumLike.py\u001b[0m\u001b]8;;\u001b\\\u001b[2m:\u001b[0m\u001b]8;id=207861;file:///home/tobi/sw/threeML/threeML/plugins/SpectrumLike.py#470\u001b\\\u001b[2m470\u001b[0m\u001b]8;;\u001b\\\n"
      ]
     },
     "metadata": {},
     "output_type": "display_data"
    },
    {
     "data": {
      "text/html": [
       "<pre style=\"white-space:pre;overflow-x:auto;line-height:normal;font-family:Menlo,'DejaVu Sans Mono',consolas,'Courier New',monospace\"><span style=\"color: #00ff00; text-decoration-color: #00ff00\">         </span><span style=\"color: #00ffaf; text-decoration-color: #00ffaf\">INFO    </span> <span style=\"color: #c6c6c6; text-decoration-color: #c6c6c6; font-weight: bold\"> - background: gaussian                                                       </span><a href=\"file:///home/tobi/sw/threeML/threeML/plugins/SpectrumLike.py\" target=\"_blank\"><span style=\"color: #7f7f7f; text-decoration-color: #7f7f7f\">SpectrumLike.py</span></a><span style=\"color: #7f7f7f; text-decoration-color: #7f7f7f\">:</span><a href=\"file:///home/tobi/sw/threeML/threeML/plugins/SpectrumLike.py#471\" target=\"_blank\"><span style=\"color: #7f7f7f; text-decoration-color: #7f7f7f\">471</span></a>\n",
       "</pre>\n"
      ],
      "text/plain": [
       "\u001b[38;5;46m        \u001b[0m\u001b[38;5;46m \u001b[0m\u001b[38;5;49mINFO    \u001b[0m \u001b[1;38;5;251m - background: gaussian                                                      \u001b[0m\u001b[1;38;5;251m \u001b[0m\u001b]8;id=512615;file:///home/tobi/sw/threeML/threeML/plugins/SpectrumLike.py\u001b\\\u001b[2mSpectrumLike.py\u001b[0m\u001b]8;;\u001b\\\u001b[2m:\u001b[0m\u001b]8;id=703140;file:///home/tobi/sw/threeML/threeML/plugins/SpectrumLike.py#471\u001b\\\u001b[2m471\u001b[0m\u001b]8;;\u001b\\\n"
      ]
     },
     "metadata": {},
     "output_type": "display_data"
    },
    {
     "data": {
      "text/html": [
       "<pre style=\"white-space:pre;overflow-x:auto;line-height:normal;font-family:Menlo,'DejaVu Sans Mono',consolas,'Courier New',monospace\"><span style=\"color: #00ff00; text-decoration-color: #00ff00\">         </span><span style=\"color: #00ffaf; text-decoration-color: #00ffaf\">INFO    </span> <span style=\"color: #c6c6c6; text-decoration-color: #c6c6c6; font-weight: bold\"> Range c1-c6 translates to channels </span><span style=\"color: #c0c0c0; text-decoration-color: #c0c0c0; font-weight: bold\">1</span><span style=\"color: #c6c6c6; text-decoration-color: #c6c6c6; font-weight: bold\">-</span><span style=\"color: #c0c0c0; text-decoration-color: #c0c0c0; font-weight: bold\">6</span><span style=\"color: #c6c6c6; text-decoration-color: #c6c6c6; font-weight: bold\">                                      </span><a href=\"file:///home/tobi/sw/threeML/threeML/plugins/SpectrumLike.py\" target=\"_blank\"><span style=\"color: #7f7f7f; text-decoration-color: #7f7f7f\">SpectrumLike.py</span></a><span style=\"color: #7f7f7f; text-decoration-color: #7f7f7f\">:</span><a href=\"file:///home/tobi/sw/threeML/threeML/plugins/SpectrumLike.py#1210\" target=\"_blank\"><span style=\"color: #7f7f7f; text-decoration-color: #7f7f7f\">1210</span></a>\n",
       "</pre>\n"
      ],
      "text/plain": [
       "\u001b[38;5;46m        \u001b[0m\u001b[38;5;46m \u001b[0m\u001b[38;5;49mINFO    \u001b[0m \u001b[1;38;5;251m Range c1-c6 translates to channels \u001b[0m\u001b[1;37m1\u001b[0m\u001b[1;38;5;251m-\u001b[0m\u001b[1;37m6\u001b[0m\u001b[1;38;5;251m                                     \u001b[0m\u001b[1;38;5;251m \u001b[0m\u001b]8;id=409625;file:///home/tobi/sw/threeML/threeML/plugins/SpectrumLike.py\u001b\\\u001b[2mSpectrumLike.py\u001b[0m\u001b]8;;\u001b\\\u001b[2m:\u001b[0m\u001b]8;id=302963;file:///home/tobi/sw/threeML/threeML/plugins/SpectrumLike.py#1210\u001b\\\u001b[2m1210\u001b[0m\u001b]8;;\u001b\\\n"
      ]
     },
     "metadata": {},
     "output_type": "display_data"
    },
    {
     "data": {
      "text/html": [
       "<pre style=\"white-space:pre;overflow-x:auto;line-height:normal;font-family:Menlo,'DejaVu Sans Mono',consolas,'Courier New',monospace\"><span style=\"color: #00ff00; text-decoration-color: #00ff00\">         </span><span style=\"color: #00ffaf; text-decoration-color: #00ffaf\">INFO    </span> <span style=\"color: #c6c6c6; text-decoration-color: #c6c6c6; font-weight: bold\"> Auto-probed noise models:                                                    </span><a href=\"file:///home/tobi/sw/threeML/threeML/plugins/SpectrumLike.py\" target=\"_blank\"><span style=\"color: #7f7f7f; text-decoration-color: #7f7f7f\">SpectrumLike.py</span></a><span style=\"color: #7f7f7f; text-decoration-color: #7f7f7f\">:</span><a href=\"file:///home/tobi/sw/threeML/threeML/plugins/SpectrumLike.py#469\" target=\"_blank\"><span style=\"color: #7f7f7f; text-decoration-color: #7f7f7f\">469</span></a>\n",
       "</pre>\n"
      ],
      "text/plain": [
       "\u001b[38;5;46m        \u001b[0m\u001b[38;5;46m \u001b[0m\u001b[38;5;49mINFO    \u001b[0m \u001b[1;38;5;251m Auto-probed noise models:                                                   \u001b[0m\u001b[1;38;5;251m \u001b[0m\u001b]8;id=693689;file:///home/tobi/sw/threeML/threeML/plugins/SpectrumLike.py\u001b\\\u001b[2mSpectrumLike.py\u001b[0m\u001b]8;;\u001b\\\u001b[2m:\u001b[0m\u001b]8;id=16336;file:///home/tobi/sw/threeML/threeML/plugins/SpectrumLike.py#469\u001b\\\u001b[2m469\u001b[0m\u001b]8;;\u001b\\\n"
      ]
     },
     "metadata": {},
     "output_type": "display_data"
    },
    {
     "data": {
      "text/html": [
       "<pre style=\"white-space:pre;overflow-x:auto;line-height:normal;font-family:Menlo,'DejaVu Sans Mono',consolas,'Courier New',monospace\"><span style=\"color: #00ff00; text-decoration-color: #00ff00\">         </span><span style=\"color: #00ffaf; text-decoration-color: #00ffaf\">INFO    </span> <span style=\"color: #c6c6c6; text-decoration-color: #c6c6c6; font-weight: bold\"> - observation: poisson                                                       </span><a href=\"file:///home/tobi/sw/threeML/threeML/plugins/SpectrumLike.py\" target=\"_blank\"><span style=\"color: #7f7f7f; text-decoration-color: #7f7f7f\">SpectrumLike.py</span></a><span style=\"color: #7f7f7f; text-decoration-color: #7f7f7f\">:</span><a href=\"file:///home/tobi/sw/threeML/threeML/plugins/SpectrumLike.py#470\" target=\"_blank\"><span style=\"color: #7f7f7f; text-decoration-color: #7f7f7f\">470</span></a>\n",
       "</pre>\n"
      ],
      "text/plain": [
       "\u001b[38;5;46m        \u001b[0m\u001b[38;5;46m \u001b[0m\u001b[38;5;49mINFO    \u001b[0m \u001b[1;38;5;251m - observation: poisson                                                      \u001b[0m\u001b[1;38;5;251m \u001b[0m\u001b]8;id=824221;file:///home/tobi/sw/threeML/threeML/plugins/SpectrumLike.py\u001b\\\u001b[2mSpectrumLike.py\u001b[0m\u001b]8;;\u001b\\\u001b[2m:\u001b[0m\u001b]8;id=268319;file:///home/tobi/sw/threeML/threeML/plugins/SpectrumLike.py#470\u001b\\\u001b[2m470\u001b[0m\u001b]8;;\u001b\\\n"
      ]
     },
     "metadata": {},
     "output_type": "display_data"
    },
    {
     "data": {
      "text/html": [
       "<pre style=\"white-space:pre;overflow-x:auto;line-height:normal;font-family:Menlo,'DejaVu Sans Mono',consolas,'Courier New',monospace\"><span style=\"color: #00ff00; text-decoration-color: #00ff00\">         </span><span style=\"color: #00ffaf; text-decoration-color: #00ffaf\">INFO    </span> <span style=\"color: #c6c6c6; text-decoration-color: #c6c6c6; font-weight: bold\"> - background: gaussian                                                       </span><a href=\"file:///home/tobi/sw/threeML/threeML/plugins/SpectrumLike.py\" target=\"_blank\"><span style=\"color: #7f7f7f; text-decoration-color: #7f7f7f\">SpectrumLike.py</span></a><span style=\"color: #7f7f7f; text-decoration-color: #7f7f7f\">:</span><a href=\"file:///home/tobi/sw/threeML/threeML/plugins/SpectrumLike.py#471\" target=\"_blank\"><span style=\"color: #7f7f7f; text-decoration-color: #7f7f7f\">471</span></a>\n",
       "</pre>\n"
      ],
      "text/plain": [
       "\u001b[38;5;46m        \u001b[0m\u001b[38;5;46m \u001b[0m\u001b[38;5;49mINFO    \u001b[0m \u001b[1;38;5;251m - background: gaussian                                                      \u001b[0m\u001b[1;38;5;251m \u001b[0m\u001b]8;id=562642;file:///home/tobi/sw/threeML/threeML/plugins/SpectrumLike.py\u001b\\\u001b[2mSpectrumLike.py\u001b[0m\u001b]8;;\u001b\\\u001b[2m:\u001b[0m\u001b]8;id=621784;file:///home/tobi/sw/threeML/threeML/plugins/SpectrumLike.py#471\u001b\\\u001b[2m471\u001b[0m\u001b]8;;\u001b\\\n"
      ]
     },
     "metadata": {},
     "output_type": "display_data"
    },
    {
     "data": {
      "text/html": [
       "<pre style=\"white-space:pre;overflow-x:auto;line-height:normal;font-family:Menlo,'DejaVu Sans Mono',consolas,'Courier New',monospace\"><span style=\"color: #00ff00; text-decoration-color: #00ff00\">         </span><span style=\"color: #00ffaf; text-decoration-color: #00ffaf\">INFO    </span> <span style=\"color: #c6c6c6; text-decoration-color: #c6c6c6; font-weight: bold\"> Auto-probed noise models:                                                    </span><a href=\"file:///home/tobi/sw/threeML/threeML/plugins/SpectrumLike.py\" target=\"_blank\"><span style=\"color: #7f7f7f; text-decoration-color: #7f7f7f\">SpectrumLike.py</span></a><span style=\"color: #7f7f7f; text-decoration-color: #7f7f7f\">:</span><a href=\"file:///home/tobi/sw/threeML/threeML/plugins/SpectrumLike.py#469\" target=\"_blank\"><span style=\"color: #7f7f7f; text-decoration-color: #7f7f7f\">469</span></a>\n",
       "</pre>\n"
      ],
      "text/plain": [
       "\u001b[38;5;46m        \u001b[0m\u001b[38;5;46m \u001b[0m\u001b[38;5;49mINFO    \u001b[0m \u001b[1;38;5;251m Auto-probed noise models:                                                   \u001b[0m\u001b[1;38;5;251m \u001b[0m\u001b]8;id=303857;file:///home/tobi/sw/threeML/threeML/plugins/SpectrumLike.py\u001b\\\u001b[2mSpectrumLike.py\u001b[0m\u001b]8;;\u001b\\\u001b[2m:\u001b[0m\u001b]8;id=344508;file:///home/tobi/sw/threeML/threeML/plugins/SpectrumLike.py#469\u001b\\\u001b[2m469\u001b[0m\u001b]8;;\u001b\\\n"
      ]
     },
     "metadata": {},
     "output_type": "display_data"
    },
    {
     "data": {
      "text/html": [
       "<pre style=\"white-space:pre;overflow-x:auto;line-height:normal;font-family:Menlo,'DejaVu Sans Mono',consolas,'Courier New',monospace\"><span style=\"color: #00ff00; text-decoration-color: #00ff00\">         </span><span style=\"color: #00ffaf; text-decoration-color: #00ffaf\">INFO    </span> <span style=\"color: #c6c6c6; text-decoration-color: #c6c6c6; font-weight: bold\"> - observation: poisson                                                       </span><a href=\"file:///home/tobi/sw/threeML/threeML/plugins/SpectrumLike.py\" target=\"_blank\"><span style=\"color: #7f7f7f; text-decoration-color: #7f7f7f\">SpectrumLike.py</span></a><span style=\"color: #7f7f7f; text-decoration-color: #7f7f7f\">:</span><a href=\"file:///home/tobi/sw/threeML/threeML/plugins/SpectrumLike.py#470\" target=\"_blank\"><span style=\"color: #7f7f7f; text-decoration-color: #7f7f7f\">470</span></a>\n",
       "</pre>\n"
      ],
      "text/plain": [
       "\u001b[38;5;46m        \u001b[0m\u001b[38;5;46m \u001b[0m\u001b[38;5;49mINFO    \u001b[0m \u001b[1;38;5;251m - observation: poisson                                                      \u001b[0m\u001b[1;38;5;251m \u001b[0m\u001b]8;id=212586;file:///home/tobi/sw/threeML/threeML/plugins/SpectrumLike.py\u001b\\\u001b[2mSpectrumLike.py\u001b[0m\u001b]8;;\u001b\\\u001b[2m:\u001b[0m\u001b]8;id=958657;file:///home/tobi/sw/threeML/threeML/plugins/SpectrumLike.py#470\u001b\\\u001b[2m470\u001b[0m\u001b]8;;\u001b\\\n"
      ]
     },
     "metadata": {},
     "output_type": "display_data"
    },
    {
     "data": {
      "text/html": [
       "<pre style=\"white-space:pre;overflow-x:auto;line-height:normal;font-family:Menlo,'DejaVu Sans Mono',consolas,'Courier New',monospace\"><span style=\"color: #00ff00; text-decoration-color: #00ff00\">         </span><span style=\"color: #00ffaf; text-decoration-color: #00ffaf\">INFO    </span> <span style=\"color: #c6c6c6; text-decoration-color: #c6c6c6; font-weight: bold\"> - background: gaussian                                                       </span><a href=\"file:///home/tobi/sw/threeML/threeML/plugins/SpectrumLike.py\" target=\"_blank\"><span style=\"color: #7f7f7f; text-decoration-color: #7f7f7f\">SpectrumLike.py</span></a><span style=\"color: #7f7f7f; text-decoration-color: #7f7f7f\">:</span><a href=\"file:///home/tobi/sw/threeML/threeML/plugins/SpectrumLike.py#471\" target=\"_blank\"><span style=\"color: #7f7f7f; text-decoration-color: #7f7f7f\">471</span></a>\n",
       "</pre>\n"
      ],
      "text/plain": [
       "\u001b[38;5;46m        \u001b[0m\u001b[38;5;46m \u001b[0m\u001b[38;5;49mINFO    \u001b[0m \u001b[1;38;5;251m - background: gaussian                                                      \u001b[0m\u001b[1;38;5;251m \u001b[0m\u001b]8;id=762012;file:///home/tobi/sw/threeML/threeML/plugins/SpectrumLike.py\u001b\\\u001b[2mSpectrumLike.py\u001b[0m\u001b]8;;\u001b\\\u001b[2m:\u001b[0m\u001b]8;id=94914;file:///home/tobi/sw/threeML/threeML/plugins/SpectrumLike.py#471\u001b\\\u001b[2m471\u001b[0m\u001b]8;;\u001b\\\n"
      ]
     },
     "metadata": {},
     "output_type": "display_data"
    },
    {
     "data": {
      "text/html": [
       "<pre style=\"white-space:pre;overflow-x:auto;line-height:normal;font-family:Menlo,'DejaVu Sans Mono',consolas,'Courier New',monospace\"><span style=\"color: #00ff00; text-decoration-color: #00ff00\">         </span><span style=\"color: #00ffaf; text-decoration-color: #00ffaf\">INFO    </span> <span style=\"color: #c6c6c6; text-decoration-color: #c6c6c6; font-weight: bold\"> Range c1-c6 translates to channels </span><span style=\"color: #c0c0c0; text-decoration-color: #c0c0c0; font-weight: bold\">1</span><span style=\"color: #c6c6c6; text-decoration-color: #c6c6c6; font-weight: bold\">-</span><span style=\"color: #c0c0c0; text-decoration-color: #c0c0c0; font-weight: bold\">6</span><span style=\"color: #c6c6c6; text-decoration-color: #c6c6c6; font-weight: bold\">                                      </span><a href=\"file:///home/tobi/sw/threeML/threeML/plugins/SpectrumLike.py\" target=\"_blank\"><span style=\"color: #7f7f7f; text-decoration-color: #7f7f7f\">SpectrumLike.py</span></a><span style=\"color: #7f7f7f; text-decoration-color: #7f7f7f\">:</span><a href=\"file:///home/tobi/sw/threeML/threeML/plugins/SpectrumLike.py#1210\" target=\"_blank\"><span style=\"color: #7f7f7f; text-decoration-color: #7f7f7f\">1210</span></a>\n",
       "</pre>\n"
      ],
      "text/plain": [
       "\u001b[38;5;46m        \u001b[0m\u001b[38;5;46m \u001b[0m\u001b[38;5;49mINFO    \u001b[0m \u001b[1;38;5;251m Range c1-c6 translates to channels \u001b[0m\u001b[1;37m1\u001b[0m\u001b[1;38;5;251m-\u001b[0m\u001b[1;37m6\u001b[0m\u001b[1;38;5;251m                                     \u001b[0m\u001b[1;38;5;251m \u001b[0m\u001b]8;id=921657;file:///home/tobi/sw/threeML/threeML/plugins/SpectrumLike.py\u001b\\\u001b[2mSpectrumLike.py\u001b[0m\u001b]8;;\u001b\\\u001b[2m:\u001b[0m\u001b]8;id=326979;file:///home/tobi/sw/threeML/threeML/plugins/SpectrumLike.py#1210\u001b\\\u001b[2m1210\u001b[0m\u001b]8;;\u001b\\\n"
      ]
     },
     "metadata": {},
     "output_type": "display_data"
    },
    {
     "data": {
      "text/html": [
       "<pre style=\"white-space:pre;overflow-x:auto;line-height:normal;font-family:Menlo,'DejaVu Sans Mono',consolas,'Courier New',monospace\"><span style=\"color: #00ff00; text-decoration-color: #00ff00\">         </span><span style=\"color: #00ffaf; text-decoration-color: #00ffaf\">INFO    </span> <span style=\"color: #c6c6c6; text-decoration-color: #c6c6c6; font-weight: bold\"> Auto-probed noise models:                                                    </span><a href=\"file:///home/tobi/sw/threeML/threeML/plugins/SpectrumLike.py\" target=\"_blank\"><span style=\"color: #7f7f7f; text-decoration-color: #7f7f7f\">SpectrumLike.py</span></a><span style=\"color: #7f7f7f; text-decoration-color: #7f7f7f\">:</span><a href=\"file:///home/tobi/sw/threeML/threeML/plugins/SpectrumLike.py#469\" target=\"_blank\"><span style=\"color: #7f7f7f; text-decoration-color: #7f7f7f\">469</span></a>\n",
       "</pre>\n"
      ],
      "text/plain": [
       "\u001b[38;5;46m        \u001b[0m\u001b[38;5;46m \u001b[0m\u001b[38;5;49mINFO    \u001b[0m \u001b[1;38;5;251m Auto-probed noise models:                                                   \u001b[0m\u001b[1;38;5;251m \u001b[0m\u001b]8;id=86112;file:///home/tobi/sw/threeML/threeML/plugins/SpectrumLike.py\u001b\\\u001b[2mSpectrumLike.py\u001b[0m\u001b]8;;\u001b\\\u001b[2m:\u001b[0m\u001b]8;id=705355;file:///home/tobi/sw/threeML/threeML/plugins/SpectrumLike.py#469\u001b\\\u001b[2m469\u001b[0m\u001b]8;;\u001b\\\n"
      ]
     },
     "metadata": {},
     "output_type": "display_data"
    },
    {
     "data": {
      "text/html": [
       "<pre style=\"white-space:pre;overflow-x:auto;line-height:normal;font-family:Menlo,'DejaVu Sans Mono',consolas,'Courier New',monospace\"><span style=\"color: #00ff00; text-decoration-color: #00ff00\">         </span><span style=\"color: #00ffaf; text-decoration-color: #00ffaf\">INFO    </span> <span style=\"color: #c6c6c6; text-decoration-color: #c6c6c6; font-weight: bold\"> - observation: poisson                                                       </span><a href=\"file:///home/tobi/sw/threeML/threeML/plugins/SpectrumLike.py\" target=\"_blank\"><span style=\"color: #7f7f7f; text-decoration-color: #7f7f7f\">SpectrumLike.py</span></a><span style=\"color: #7f7f7f; text-decoration-color: #7f7f7f\">:</span><a href=\"file:///home/tobi/sw/threeML/threeML/plugins/SpectrumLike.py#470\" target=\"_blank\"><span style=\"color: #7f7f7f; text-decoration-color: #7f7f7f\">470</span></a>\n",
       "</pre>\n"
      ],
      "text/plain": [
       "\u001b[38;5;46m        \u001b[0m\u001b[38;5;46m \u001b[0m\u001b[38;5;49mINFO    \u001b[0m \u001b[1;38;5;251m - observation: poisson                                                      \u001b[0m\u001b[1;38;5;251m \u001b[0m\u001b]8;id=481896;file:///home/tobi/sw/threeML/threeML/plugins/SpectrumLike.py\u001b\\\u001b[2mSpectrumLike.py\u001b[0m\u001b]8;;\u001b\\\u001b[2m:\u001b[0m\u001b]8;id=267762;file:///home/tobi/sw/threeML/threeML/plugins/SpectrumLike.py#470\u001b\\\u001b[2m470\u001b[0m\u001b]8;;\u001b\\\n"
      ]
     },
     "metadata": {},
     "output_type": "display_data"
    },
    {
     "data": {
      "text/html": [
       "<pre style=\"white-space:pre;overflow-x:auto;line-height:normal;font-family:Menlo,'DejaVu Sans Mono',consolas,'Courier New',monospace\"><span style=\"color: #00ff00; text-decoration-color: #00ff00\">         </span><span style=\"color: #00ffaf; text-decoration-color: #00ffaf\">INFO    </span> <span style=\"color: #c6c6c6; text-decoration-color: #c6c6c6; font-weight: bold\"> - background: gaussian                                                       </span><a href=\"file:///home/tobi/sw/threeML/threeML/plugins/SpectrumLike.py\" target=\"_blank\"><span style=\"color: #7f7f7f; text-decoration-color: #7f7f7f\">SpectrumLike.py</span></a><span style=\"color: #7f7f7f; text-decoration-color: #7f7f7f\">:</span><a href=\"file:///home/tobi/sw/threeML/threeML/plugins/SpectrumLike.py#471\" target=\"_blank\"><span style=\"color: #7f7f7f; text-decoration-color: #7f7f7f\">471</span></a>\n",
       "</pre>\n"
      ],
      "text/plain": [
       "\u001b[38;5;46m        \u001b[0m\u001b[38;5;46m \u001b[0m\u001b[38;5;49mINFO    \u001b[0m \u001b[1;38;5;251m - background: gaussian                                                      \u001b[0m\u001b[1;38;5;251m \u001b[0m\u001b]8;id=353095;file:///home/tobi/sw/threeML/threeML/plugins/SpectrumLike.py\u001b\\\u001b[2mSpectrumLike.py\u001b[0m\u001b]8;;\u001b\\\u001b[2m:\u001b[0m\u001b]8;id=414502;file:///home/tobi/sw/threeML/threeML/plugins/SpectrumLike.py#471\u001b\\\u001b[2m471\u001b[0m\u001b]8;;\u001b\\\n"
      ]
     },
     "metadata": {},
     "output_type": "display_data"
    },
    {
     "data": {
      "text/html": [
       "<pre style=\"white-space:pre;overflow-x:auto;line-height:normal;font-family:Menlo,'DejaVu Sans Mono',consolas,'Courier New',monospace\"><span style=\"color: #00ff00; text-decoration-color: #00ff00\">         </span><span style=\"color: #00ffaf; text-decoration-color: #00ffaf\">INFO    </span> <span style=\"color: #c6c6c6; text-decoration-color: #c6c6c6; font-weight: bold\"> Auto-probed noise models:                                                    </span><a href=\"file:///home/tobi/sw/threeML/threeML/plugins/SpectrumLike.py\" target=\"_blank\"><span style=\"color: #7f7f7f; text-decoration-color: #7f7f7f\">SpectrumLike.py</span></a><span style=\"color: #7f7f7f; text-decoration-color: #7f7f7f\">:</span><a href=\"file:///home/tobi/sw/threeML/threeML/plugins/SpectrumLike.py#469\" target=\"_blank\"><span style=\"color: #7f7f7f; text-decoration-color: #7f7f7f\">469</span></a>\n",
       "</pre>\n"
      ],
      "text/plain": [
       "\u001b[38;5;46m        \u001b[0m\u001b[38;5;46m \u001b[0m\u001b[38;5;49mINFO    \u001b[0m \u001b[1;38;5;251m Auto-probed noise models:                                                   \u001b[0m\u001b[1;38;5;251m \u001b[0m\u001b]8;id=282026;file:///home/tobi/sw/threeML/threeML/plugins/SpectrumLike.py\u001b\\\u001b[2mSpectrumLike.py\u001b[0m\u001b]8;;\u001b\\\u001b[2m:\u001b[0m\u001b]8;id=856973;file:///home/tobi/sw/threeML/threeML/plugins/SpectrumLike.py#469\u001b\\\u001b[2m469\u001b[0m\u001b]8;;\u001b\\\n"
      ]
     },
     "metadata": {},
     "output_type": "display_data"
    },
    {
     "data": {
      "text/html": [
       "<pre style=\"white-space:pre;overflow-x:auto;line-height:normal;font-family:Menlo,'DejaVu Sans Mono',consolas,'Courier New',monospace\"><span style=\"color: #00ff00; text-decoration-color: #00ff00\">         </span><span style=\"color: #00ffaf; text-decoration-color: #00ffaf\">INFO    </span> <span style=\"color: #c6c6c6; text-decoration-color: #c6c6c6; font-weight: bold\"> - observation: poisson                                                       </span><a href=\"file:///home/tobi/sw/threeML/threeML/plugins/SpectrumLike.py\" target=\"_blank\"><span style=\"color: #7f7f7f; text-decoration-color: #7f7f7f\">SpectrumLike.py</span></a><span style=\"color: #7f7f7f; text-decoration-color: #7f7f7f\">:</span><a href=\"file:///home/tobi/sw/threeML/threeML/plugins/SpectrumLike.py#470\" target=\"_blank\"><span style=\"color: #7f7f7f; text-decoration-color: #7f7f7f\">470</span></a>\n",
       "</pre>\n"
      ],
      "text/plain": [
       "\u001b[38;5;46m        \u001b[0m\u001b[38;5;46m \u001b[0m\u001b[38;5;49mINFO    \u001b[0m \u001b[1;38;5;251m - observation: poisson                                                      \u001b[0m\u001b[1;38;5;251m \u001b[0m\u001b]8;id=803667;file:///home/tobi/sw/threeML/threeML/plugins/SpectrumLike.py\u001b\\\u001b[2mSpectrumLike.py\u001b[0m\u001b]8;;\u001b\\\u001b[2m:\u001b[0m\u001b]8;id=468581;file:///home/tobi/sw/threeML/threeML/plugins/SpectrumLike.py#470\u001b\\\u001b[2m470\u001b[0m\u001b]8;;\u001b\\\n"
      ]
     },
     "metadata": {},
     "output_type": "display_data"
    },
    {
     "data": {
      "text/html": [
       "<pre style=\"white-space:pre;overflow-x:auto;line-height:normal;font-family:Menlo,'DejaVu Sans Mono',consolas,'Courier New',monospace\"><span style=\"color: #00ff00; text-decoration-color: #00ff00\">         </span><span style=\"color: #00ffaf; text-decoration-color: #00ffaf\">INFO    </span> <span style=\"color: #c6c6c6; text-decoration-color: #c6c6c6; font-weight: bold\"> - background: gaussian                                                       </span><a href=\"file:///home/tobi/sw/threeML/threeML/plugins/SpectrumLike.py\" target=\"_blank\"><span style=\"color: #7f7f7f; text-decoration-color: #7f7f7f\">SpectrumLike.py</span></a><span style=\"color: #7f7f7f; text-decoration-color: #7f7f7f\">:</span><a href=\"file:///home/tobi/sw/threeML/threeML/plugins/SpectrumLike.py#471\" target=\"_blank\"><span style=\"color: #7f7f7f; text-decoration-color: #7f7f7f\">471</span></a>\n",
       "</pre>\n"
      ],
      "text/plain": [
       "\u001b[38;5;46m        \u001b[0m\u001b[38;5;46m \u001b[0m\u001b[38;5;49mINFO    \u001b[0m \u001b[1;38;5;251m - background: gaussian                                                      \u001b[0m\u001b[1;38;5;251m \u001b[0m\u001b]8;id=113851;file:///home/tobi/sw/threeML/threeML/plugins/SpectrumLike.py\u001b\\\u001b[2mSpectrumLike.py\u001b[0m\u001b]8;;\u001b\\\u001b[2m:\u001b[0m\u001b]8;id=19003;file:///home/tobi/sw/threeML/threeML/plugins/SpectrumLike.py#471\u001b\\\u001b[2m471\u001b[0m\u001b]8;;\u001b\\\n"
      ]
     },
     "metadata": {},
     "output_type": "display_data"
    },
    {
     "data": {
      "text/html": [
       "<pre style=\"white-space:pre;overflow-x:auto;line-height:normal;font-family:Menlo,'DejaVu Sans Mono',consolas,'Courier New',monospace\"><span style=\"color: #00ff00; text-decoration-color: #00ff00\">         </span><span style=\"color: #00ffaf; text-decoration-color: #00ffaf\">INFO    </span> <span style=\"color: #c6c6c6; text-decoration-color: #c6c6c6; font-weight: bold\"> Range c1-c6 translates to channels </span><span style=\"color: #c0c0c0; text-decoration-color: #c0c0c0; font-weight: bold\">1</span><span style=\"color: #c6c6c6; text-decoration-color: #c6c6c6; font-weight: bold\">-</span><span style=\"color: #c0c0c0; text-decoration-color: #c0c0c0; font-weight: bold\">6</span><span style=\"color: #c6c6c6; text-decoration-color: #c6c6c6; font-weight: bold\">                                      </span><a href=\"file:///home/tobi/sw/threeML/threeML/plugins/SpectrumLike.py\" target=\"_blank\"><span style=\"color: #7f7f7f; text-decoration-color: #7f7f7f\">SpectrumLike.py</span></a><span style=\"color: #7f7f7f; text-decoration-color: #7f7f7f\">:</span><a href=\"file:///home/tobi/sw/threeML/threeML/plugins/SpectrumLike.py#1210\" target=\"_blank\"><span style=\"color: #7f7f7f; text-decoration-color: #7f7f7f\">1210</span></a>\n",
       "</pre>\n"
      ],
      "text/plain": [
       "\u001b[38;5;46m        \u001b[0m\u001b[38;5;46m \u001b[0m\u001b[38;5;49mINFO    \u001b[0m \u001b[1;38;5;251m Range c1-c6 translates to channels \u001b[0m\u001b[1;37m1\u001b[0m\u001b[1;38;5;251m-\u001b[0m\u001b[1;37m6\u001b[0m\u001b[1;38;5;251m                                     \u001b[0m\u001b[1;38;5;251m \u001b[0m\u001b]8;id=375097;file:///home/tobi/sw/threeML/threeML/plugins/SpectrumLike.py\u001b\\\u001b[2mSpectrumLike.py\u001b[0m\u001b]8;;\u001b\\\u001b[2m:\u001b[0m\u001b]8;id=219108;file:///home/tobi/sw/threeML/threeML/plugins/SpectrumLike.py#1210\u001b\\\u001b[2m1210\u001b[0m\u001b]8;;\u001b\\\n"
      ]
     },
     "metadata": {},
     "output_type": "display_data"
    },
    {
     "data": {
      "text/html": [
       "<pre style=\"white-space:pre;overflow-x:auto;line-height:normal;font-family:Menlo,'DejaVu Sans Mono',consolas,'Courier New',monospace\"><span style=\"color: #00ff00; text-decoration-color: #00ff00\">         </span><span style=\"color: #00ffaf; text-decoration-color: #00ffaf\">INFO    </span> <span style=\"color: #c6c6c6; text-decoration-color: #c6c6c6; font-weight: bold\"> Auto-probed noise models:                                                    </span><a href=\"file:///home/tobi/sw/threeML/threeML/plugins/SpectrumLike.py\" target=\"_blank\"><span style=\"color: #7f7f7f; text-decoration-color: #7f7f7f\">SpectrumLike.py</span></a><span style=\"color: #7f7f7f; text-decoration-color: #7f7f7f\">:</span><a href=\"file:///home/tobi/sw/threeML/threeML/plugins/SpectrumLike.py#469\" target=\"_blank\"><span style=\"color: #7f7f7f; text-decoration-color: #7f7f7f\">469</span></a>\n",
       "</pre>\n"
      ],
      "text/plain": [
       "\u001b[38;5;46m        \u001b[0m\u001b[38;5;46m \u001b[0m\u001b[38;5;49mINFO    \u001b[0m \u001b[1;38;5;251m Auto-probed noise models:                                                   \u001b[0m\u001b[1;38;5;251m \u001b[0m\u001b]8;id=383933;file:///home/tobi/sw/threeML/threeML/plugins/SpectrumLike.py\u001b\\\u001b[2mSpectrumLike.py\u001b[0m\u001b]8;;\u001b\\\u001b[2m:\u001b[0m\u001b]8;id=110615;file:///home/tobi/sw/threeML/threeML/plugins/SpectrumLike.py#469\u001b\\\u001b[2m469\u001b[0m\u001b]8;;\u001b\\\n"
      ]
     },
     "metadata": {},
     "output_type": "display_data"
    },
    {
     "data": {
      "text/html": [
       "<pre style=\"white-space:pre;overflow-x:auto;line-height:normal;font-family:Menlo,'DejaVu Sans Mono',consolas,'Courier New',monospace\"><span style=\"color: #00ff00; text-decoration-color: #00ff00\">         </span><span style=\"color: #00ffaf; text-decoration-color: #00ffaf\">INFO    </span> <span style=\"color: #c6c6c6; text-decoration-color: #c6c6c6; font-weight: bold\"> - observation: poisson                                                       </span><a href=\"file:///home/tobi/sw/threeML/threeML/plugins/SpectrumLike.py\" target=\"_blank\"><span style=\"color: #7f7f7f; text-decoration-color: #7f7f7f\">SpectrumLike.py</span></a><span style=\"color: #7f7f7f; text-decoration-color: #7f7f7f\">:</span><a href=\"file:///home/tobi/sw/threeML/threeML/plugins/SpectrumLike.py#470\" target=\"_blank\"><span style=\"color: #7f7f7f; text-decoration-color: #7f7f7f\">470</span></a>\n",
       "</pre>\n"
      ],
      "text/plain": [
       "\u001b[38;5;46m        \u001b[0m\u001b[38;5;46m \u001b[0m\u001b[38;5;49mINFO    \u001b[0m \u001b[1;38;5;251m - observation: poisson                                                      \u001b[0m\u001b[1;38;5;251m \u001b[0m\u001b]8;id=503622;file:///home/tobi/sw/threeML/threeML/plugins/SpectrumLike.py\u001b\\\u001b[2mSpectrumLike.py\u001b[0m\u001b]8;;\u001b\\\u001b[2m:\u001b[0m\u001b]8;id=62071;file:///home/tobi/sw/threeML/threeML/plugins/SpectrumLike.py#470\u001b\\\u001b[2m470\u001b[0m\u001b]8;;\u001b\\\n"
      ]
     },
     "metadata": {},
     "output_type": "display_data"
    },
    {
     "data": {
      "text/html": [
       "<pre style=\"white-space:pre;overflow-x:auto;line-height:normal;font-family:Menlo,'DejaVu Sans Mono',consolas,'Courier New',monospace\"><span style=\"color: #00ff00; text-decoration-color: #00ff00\">         </span><span style=\"color: #00ffaf; text-decoration-color: #00ffaf\">INFO    </span> <span style=\"color: #c6c6c6; text-decoration-color: #c6c6c6; font-weight: bold\"> - background: gaussian                                                       </span><a href=\"file:///home/tobi/sw/threeML/threeML/plugins/SpectrumLike.py\" target=\"_blank\"><span style=\"color: #7f7f7f; text-decoration-color: #7f7f7f\">SpectrumLike.py</span></a><span style=\"color: #7f7f7f; text-decoration-color: #7f7f7f\">:</span><a href=\"file:///home/tobi/sw/threeML/threeML/plugins/SpectrumLike.py#471\" target=\"_blank\"><span style=\"color: #7f7f7f; text-decoration-color: #7f7f7f\">471</span></a>\n",
       "</pre>\n"
      ],
      "text/plain": [
       "\u001b[38;5;46m        \u001b[0m\u001b[38;5;46m \u001b[0m\u001b[38;5;49mINFO    \u001b[0m \u001b[1;38;5;251m - background: gaussian                                                      \u001b[0m\u001b[1;38;5;251m \u001b[0m\u001b]8;id=481620;file:///home/tobi/sw/threeML/threeML/plugins/SpectrumLike.py\u001b\\\u001b[2mSpectrumLike.py\u001b[0m\u001b]8;;\u001b\\\u001b[2m:\u001b[0m\u001b]8;id=625375;file:///home/tobi/sw/threeML/threeML/plugins/SpectrumLike.py#471\u001b\\\u001b[2m471\u001b[0m\u001b]8;;\u001b\\\n"
      ]
     },
     "metadata": {},
     "output_type": "display_data"
    },
    {
     "data": {
      "text/html": [
       "<pre style=\"white-space:pre;overflow-x:auto;line-height:normal;font-family:Menlo,'DejaVu Sans Mono',consolas,'Courier New',monospace\"><span style=\"color: #00ff00; text-decoration-color: #00ff00\">         </span><span style=\"color: #00ffaf; text-decoration-color: #00ffaf\">INFO    </span> <span style=\"color: #c6c6c6; text-decoration-color: #c6c6c6; font-weight: bold\"> Auto-probed noise models:                                                    </span><a href=\"file:///home/tobi/sw/threeML/threeML/plugins/SpectrumLike.py\" target=\"_blank\"><span style=\"color: #7f7f7f; text-decoration-color: #7f7f7f\">SpectrumLike.py</span></a><span style=\"color: #7f7f7f; text-decoration-color: #7f7f7f\">:</span><a href=\"file:///home/tobi/sw/threeML/threeML/plugins/SpectrumLike.py#469\" target=\"_blank\"><span style=\"color: #7f7f7f; text-decoration-color: #7f7f7f\">469</span></a>\n",
       "</pre>\n"
      ],
      "text/plain": [
       "\u001b[38;5;46m        \u001b[0m\u001b[38;5;46m \u001b[0m\u001b[38;5;49mINFO    \u001b[0m \u001b[1;38;5;251m Auto-probed noise models:                                                   \u001b[0m\u001b[1;38;5;251m \u001b[0m\u001b]8;id=379229;file:///home/tobi/sw/threeML/threeML/plugins/SpectrumLike.py\u001b\\\u001b[2mSpectrumLike.py\u001b[0m\u001b]8;;\u001b\\\u001b[2m:\u001b[0m\u001b]8;id=176417;file:///home/tobi/sw/threeML/threeML/plugins/SpectrumLike.py#469\u001b\\\u001b[2m469\u001b[0m\u001b]8;;\u001b\\\n"
      ]
     },
     "metadata": {},
     "output_type": "display_data"
    },
    {
     "data": {
      "text/html": [
       "<pre style=\"white-space:pre;overflow-x:auto;line-height:normal;font-family:Menlo,'DejaVu Sans Mono',consolas,'Courier New',monospace\"><span style=\"color: #00ff00; text-decoration-color: #00ff00\">         </span><span style=\"color: #00ffaf; text-decoration-color: #00ffaf\">INFO    </span> <span style=\"color: #c6c6c6; text-decoration-color: #c6c6c6; font-weight: bold\"> - observation: poisson                                                       </span><a href=\"file:///home/tobi/sw/threeML/threeML/plugins/SpectrumLike.py\" target=\"_blank\"><span style=\"color: #7f7f7f; text-decoration-color: #7f7f7f\">SpectrumLike.py</span></a><span style=\"color: #7f7f7f; text-decoration-color: #7f7f7f\">:</span><a href=\"file:///home/tobi/sw/threeML/threeML/plugins/SpectrumLike.py#470\" target=\"_blank\"><span style=\"color: #7f7f7f; text-decoration-color: #7f7f7f\">470</span></a>\n",
       "</pre>\n"
      ],
      "text/plain": [
       "\u001b[38;5;46m        \u001b[0m\u001b[38;5;46m \u001b[0m\u001b[38;5;49mINFO    \u001b[0m \u001b[1;38;5;251m - observation: poisson                                                      \u001b[0m\u001b[1;38;5;251m \u001b[0m\u001b]8;id=194596;file:///home/tobi/sw/threeML/threeML/plugins/SpectrumLike.py\u001b\\\u001b[2mSpectrumLike.py\u001b[0m\u001b]8;;\u001b\\\u001b[2m:\u001b[0m\u001b]8;id=535008;file:///home/tobi/sw/threeML/threeML/plugins/SpectrumLike.py#470\u001b\\\u001b[2m470\u001b[0m\u001b]8;;\u001b\\\n"
      ]
     },
     "metadata": {},
     "output_type": "display_data"
    },
    {
     "data": {
      "text/html": [
       "<pre style=\"white-space:pre;overflow-x:auto;line-height:normal;font-family:Menlo,'DejaVu Sans Mono',consolas,'Courier New',monospace\"><span style=\"color: #00ff00; text-decoration-color: #00ff00\">         </span><span style=\"color: #00ffaf; text-decoration-color: #00ffaf\">INFO    </span> <span style=\"color: #c6c6c6; text-decoration-color: #c6c6c6; font-weight: bold\"> - background: gaussian                                                       </span><a href=\"file:///home/tobi/sw/threeML/threeML/plugins/SpectrumLike.py\" target=\"_blank\"><span style=\"color: #7f7f7f; text-decoration-color: #7f7f7f\">SpectrumLike.py</span></a><span style=\"color: #7f7f7f; text-decoration-color: #7f7f7f\">:</span><a href=\"file:///home/tobi/sw/threeML/threeML/plugins/SpectrumLike.py#471\" target=\"_blank\"><span style=\"color: #7f7f7f; text-decoration-color: #7f7f7f\">471</span></a>\n",
       "</pre>\n"
      ],
      "text/plain": [
       "\u001b[38;5;46m        \u001b[0m\u001b[38;5;46m \u001b[0m\u001b[38;5;49mINFO    \u001b[0m \u001b[1;38;5;251m - background: gaussian                                                      \u001b[0m\u001b[1;38;5;251m \u001b[0m\u001b]8;id=65264;file:///home/tobi/sw/threeML/threeML/plugins/SpectrumLike.py\u001b\\\u001b[2mSpectrumLike.py\u001b[0m\u001b]8;;\u001b\\\u001b[2m:\u001b[0m\u001b]8;id=398277;file:///home/tobi/sw/threeML/threeML/plugins/SpectrumLike.py#471\u001b\\\u001b[2m471\u001b[0m\u001b]8;;\u001b\\\n"
      ]
     },
     "metadata": {},
     "output_type": "display_data"
    },
    {
     "data": {
      "text/html": [
       "<pre style=\"white-space:pre;overflow-x:auto;line-height:normal;font-family:Menlo,'DejaVu Sans Mono',consolas,'Courier New',monospace\"><span style=\"color: #00ff00; text-decoration-color: #00ff00\">         </span><span style=\"color: #00ffaf; text-decoration-color: #00ffaf\">INFO    </span> <span style=\"color: #c6c6c6; text-decoration-color: #c6c6c6; font-weight: bold\"> Range c1-c6 translates to channels </span><span style=\"color: #c0c0c0; text-decoration-color: #c0c0c0; font-weight: bold\">1</span><span style=\"color: #c6c6c6; text-decoration-color: #c6c6c6; font-weight: bold\">-</span><span style=\"color: #c0c0c0; text-decoration-color: #c0c0c0; font-weight: bold\">6</span><span style=\"color: #c6c6c6; text-decoration-color: #c6c6c6; font-weight: bold\">                                      </span><a href=\"file:///home/tobi/sw/threeML/threeML/plugins/SpectrumLike.py\" target=\"_blank\"><span style=\"color: #7f7f7f; text-decoration-color: #7f7f7f\">SpectrumLike.py</span></a><span style=\"color: #7f7f7f; text-decoration-color: #7f7f7f\">:</span><a href=\"file:///home/tobi/sw/threeML/threeML/plugins/SpectrumLike.py#1210\" target=\"_blank\"><span style=\"color: #7f7f7f; text-decoration-color: #7f7f7f\">1210</span></a>\n",
       "</pre>\n"
      ],
      "text/plain": [
       "\u001b[38;5;46m        \u001b[0m\u001b[38;5;46m \u001b[0m\u001b[38;5;49mINFO    \u001b[0m \u001b[1;38;5;251m Range c1-c6 translates to channels \u001b[0m\u001b[1;37m1\u001b[0m\u001b[1;38;5;251m-\u001b[0m\u001b[1;37m6\u001b[0m\u001b[1;38;5;251m                                     \u001b[0m\u001b[1;38;5;251m \u001b[0m\u001b]8;id=102181;file:///home/tobi/sw/threeML/threeML/plugins/SpectrumLike.py\u001b\\\u001b[2mSpectrumLike.py\u001b[0m\u001b]8;;\u001b\\\u001b[2m:\u001b[0m\u001b]8;id=513958;file:///home/tobi/sw/threeML/threeML/plugins/SpectrumLike.py#1210\u001b\\\u001b[2m1210\u001b[0m\u001b]8;;\u001b\\\n"
      ]
     },
     "metadata": {},
     "output_type": "display_data"
    },
    {
     "data": {
      "text/html": [
       "<pre style=\"white-space:pre;overflow-x:auto;line-height:normal;font-family:Menlo,'DejaVu Sans Mono',consolas,'Courier New',monospace\"><span style=\"color: #00ff00; text-decoration-color: #00ff00\">         </span><span style=\"color: #00ffaf; text-decoration-color: #00ffaf\">INFO    </span> <span style=\"color: #c6c6c6; text-decoration-color: #c6c6c6; font-weight: bold\"> Auto-probed noise models:                                                    </span><a href=\"file:///home/tobi/sw/threeML/threeML/plugins/SpectrumLike.py\" target=\"_blank\"><span style=\"color: #7f7f7f; text-decoration-color: #7f7f7f\">SpectrumLike.py</span></a><span style=\"color: #7f7f7f; text-decoration-color: #7f7f7f\">:</span><a href=\"file:///home/tobi/sw/threeML/threeML/plugins/SpectrumLike.py#469\" target=\"_blank\"><span style=\"color: #7f7f7f; text-decoration-color: #7f7f7f\">469</span></a>\n",
       "</pre>\n"
      ],
      "text/plain": [
       "\u001b[38;5;46m        \u001b[0m\u001b[38;5;46m \u001b[0m\u001b[38;5;49mINFO    \u001b[0m \u001b[1;38;5;251m Auto-probed noise models:                                                   \u001b[0m\u001b[1;38;5;251m \u001b[0m\u001b]8;id=287591;file:///home/tobi/sw/threeML/threeML/plugins/SpectrumLike.py\u001b\\\u001b[2mSpectrumLike.py\u001b[0m\u001b]8;;\u001b\\\u001b[2m:\u001b[0m\u001b]8;id=530534;file:///home/tobi/sw/threeML/threeML/plugins/SpectrumLike.py#469\u001b\\\u001b[2m469\u001b[0m\u001b]8;;\u001b\\\n"
      ]
     },
     "metadata": {},
     "output_type": "display_data"
    },
    {
     "data": {
      "text/html": [
       "<pre style=\"white-space:pre;overflow-x:auto;line-height:normal;font-family:Menlo,'DejaVu Sans Mono',consolas,'Courier New',monospace\"><span style=\"color: #00ff00; text-decoration-color: #00ff00\">         </span><span style=\"color: #00ffaf; text-decoration-color: #00ffaf\">INFO    </span> <span style=\"color: #c6c6c6; text-decoration-color: #c6c6c6; font-weight: bold\"> - observation: poisson                                                       </span><a href=\"file:///home/tobi/sw/threeML/threeML/plugins/SpectrumLike.py\" target=\"_blank\"><span style=\"color: #7f7f7f; text-decoration-color: #7f7f7f\">SpectrumLike.py</span></a><span style=\"color: #7f7f7f; text-decoration-color: #7f7f7f\">:</span><a href=\"file:///home/tobi/sw/threeML/threeML/plugins/SpectrumLike.py#470\" target=\"_blank\"><span style=\"color: #7f7f7f; text-decoration-color: #7f7f7f\">470</span></a>\n",
       "</pre>\n"
      ],
      "text/plain": [
       "\u001b[38;5;46m        \u001b[0m\u001b[38;5;46m \u001b[0m\u001b[38;5;49mINFO    \u001b[0m \u001b[1;38;5;251m - observation: poisson                                                      \u001b[0m\u001b[1;38;5;251m \u001b[0m\u001b]8;id=85152;file:///home/tobi/sw/threeML/threeML/plugins/SpectrumLike.py\u001b\\\u001b[2mSpectrumLike.py\u001b[0m\u001b]8;;\u001b\\\u001b[2m:\u001b[0m\u001b]8;id=527545;file:///home/tobi/sw/threeML/threeML/plugins/SpectrumLike.py#470\u001b\\\u001b[2m470\u001b[0m\u001b]8;;\u001b\\\n"
      ]
     },
     "metadata": {},
     "output_type": "display_data"
    },
    {
     "data": {
      "text/html": [
       "<pre style=\"white-space:pre;overflow-x:auto;line-height:normal;font-family:Menlo,'DejaVu Sans Mono',consolas,'Courier New',monospace\"><span style=\"color: #00ff00; text-decoration-color: #00ff00\">         </span><span style=\"color: #00ffaf; text-decoration-color: #00ffaf\">INFO    </span> <span style=\"color: #c6c6c6; text-decoration-color: #c6c6c6; font-weight: bold\"> - background: gaussian                                                       </span><a href=\"file:///home/tobi/sw/threeML/threeML/plugins/SpectrumLike.py\" target=\"_blank\"><span style=\"color: #7f7f7f; text-decoration-color: #7f7f7f\">SpectrumLike.py</span></a><span style=\"color: #7f7f7f; text-decoration-color: #7f7f7f\">:</span><a href=\"file:///home/tobi/sw/threeML/threeML/plugins/SpectrumLike.py#471\" target=\"_blank\"><span style=\"color: #7f7f7f; text-decoration-color: #7f7f7f\">471</span></a>\n",
       "</pre>\n"
      ],
      "text/plain": [
       "\u001b[38;5;46m        \u001b[0m\u001b[38;5;46m \u001b[0m\u001b[38;5;49mINFO    \u001b[0m \u001b[1;38;5;251m - background: gaussian                                                      \u001b[0m\u001b[1;38;5;251m \u001b[0m\u001b]8;id=678145;file:///home/tobi/sw/threeML/threeML/plugins/SpectrumLike.py\u001b\\\u001b[2mSpectrumLike.py\u001b[0m\u001b]8;;\u001b\\\u001b[2m:\u001b[0m\u001b]8;id=638557;file:///home/tobi/sw/threeML/threeML/plugins/SpectrumLike.py#471\u001b\\\u001b[2m471\u001b[0m\u001b]8;;\u001b\\\n"
      ]
     },
     "metadata": {},
     "output_type": "display_data"
    },
    {
     "data": {
      "text/html": [
       "<pre style=\"white-space:pre;overflow-x:auto;line-height:normal;font-family:Menlo,'DejaVu Sans Mono',consolas,'Courier New',monospace\"><span style=\"color: #00ff00; text-decoration-color: #00ff00\">         </span><span style=\"color: #00ffaf; text-decoration-color: #00ffaf\">INFO    </span> <span style=\"color: #c6c6c6; text-decoration-color: #c6c6c6; font-weight: bold\"> Auto-probed noise models:                                                    </span><a href=\"file:///home/tobi/sw/threeML/threeML/plugins/SpectrumLike.py\" target=\"_blank\"><span style=\"color: #7f7f7f; text-decoration-color: #7f7f7f\">SpectrumLike.py</span></a><span style=\"color: #7f7f7f; text-decoration-color: #7f7f7f\">:</span><a href=\"file:///home/tobi/sw/threeML/threeML/plugins/SpectrumLike.py#469\" target=\"_blank\"><span style=\"color: #7f7f7f; text-decoration-color: #7f7f7f\">469</span></a>\n",
       "</pre>\n"
      ],
      "text/plain": [
       "\u001b[38;5;46m        \u001b[0m\u001b[38;5;46m \u001b[0m\u001b[38;5;49mINFO    \u001b[0m \u001b[1;38;5;251m Auto-probed noise models:                                                   \u001b[0m\u001b[1;38;5;251m \u001b[0m\u001b]8;id=463423;file:///home/tobi/sw/threeML/threeML/plugins/SpectrumLike.py\u001b\\\u001b[2mSpectrumLike.py\u001b[0m\u001b]8;;\u001b\\\u001b[2m:\u001b[0m\u001b]8;id=502001;file:///home/tobi/sw/threeML/threeML/plugins/SpectrumLike.py#469\u001b\\\u001b[2m469\u001b[0m\u001b]8;;\u001b\\\n"
      ]
     },
     "metadata": {},
     "output_type": "display_data"
    },
    {
     "data": {
      "text/html": [
       "<pre style=\"white-space:pre;overflow-x:auto;line-height:normal;font-family:Menlo,'DejaVu Sans Mono',consolas,'Courier New',monospace\"><span style=\"color: #00ff00; text-decoration-color: #00ff00\">         </span><span style=\"color: #00ffaf; text-decoration-color: #00ffaf\">INFO    </span> <span style=\"color: #c6c6c6; text-decoration-color: #c6c6c6; font-weight: bold\"> - observation: poisson                                                       </span><a href=\"file:///home/tobi/sw/threeML/threeML/plugins/SpectrumLike.py\" target=\"_blank\"><span style=\"color: #7f7f7f; text-decoration-color: #7f7f7f\">SpectrumLike.py</span></a><span style=\"color: #7f7f7f; text-decoration-color: #7f7f7f\">:</span><a href=\"file:///home/tobi/sw/threeML/threeML/plugins/SpectrumLike.py#470\" target=\"_blank\"><span style=\"color: #7f7f7f; text-decoration-color: #7f7f7f\">470</span></a>\n",
       "</pre>\n"
      ],
      "text/plain": [
       "\u001b[38;5;46m        \u001b[0m\u001b[38;5;46m \u001b[0m\u001b[38;5;49mINFO    \u001b[0m \u001b[1;38;5;251m - observation: poisson                                                      \u001b[0m\u001b[1;38;5;251m \u001b[0m\u001b]8;id=355105;file:///home/tobi/sw/threeML/threeML/plugins/SpectrumLike.py\u001b\\\u001b[2mSpectrumLike.py\u001b[0m\u001b]8;;\u001b\\\u001b[2m:\u001b[0m\u001b]8;id=511797;file:///home/tobi/sw/threeML/threeML/plugins/SpectrumLike.py#470\u001b\\\u001b[2m470\u001b[0m\u001b]8;;\u001b\\\n"
      ]
     },
     "metadata": {},
     "output_type": "display_data"
    },
    {
     "data": {
      "text/html": [
       "<pre style=\"white-space:pre;overflow-x:auto;line-height:normal;font-family:Menlo,'DejaVu Sans Mono',consolas,'Courier New',monospace\"><span style=\"color: #00ff00; text-decoration-color: #00ff00\">         </span><span style=\"color: #00ffaf; text-decoration-color: #00ffaf\">INFO    </span> <span style=\"color: #c6c6c6; text-decoration-color: #c6c6c6; font-weight: bold\"> - background: gaussian                                                       </span><a href=\"file:///home/tobi/sw/threeML/threeML/plugins/SpectrumLike.py\" target=\"_blank\"><span style=\"color: #7f7f7f; text-decoration-color: #7f7f7f\">SpectrumLike.py</span></a><span style=\"color: #7f7f7f; text-decoration-color: #7f7f7f\">:</span><a href=\"file:///home/tobi/sw/threeML/threeML/plugins/SpectrumLike.py#471\" target=\"_blank\"><span style=\"color: #7f7f7f; text-decoration-color: #7f7f7f\">471</span></a>\n",
       "</pre>\n"
      ],
      "text/plain": [
       "\u001b[38;5;46m        \u001b[0m\u001b[38;5;46m \u001b[0m\u001b[38;5;49mINFO    \u001b[0m \u001b[1;38;5;251m - background: gaussian                                                      \u001b[0m\u001b[1;38;5;251m \u001b[0m\u001b]8;id=939260;file:///home/tobi/sw/threeML/threeML/plugins/SpectrumLike.py\u001b\\\u001b[2mSpectrumLike.py\u001b[0m\u001b]8;;\u001b\\\u001b[2m:\u001b[0m\u001b]8;id=502765;file:///home/tobi/sw/threeML/threeML/plugins/SpectrumLike.py#471\u001b\\\u001b[2m471\u001b[0m\u001b]8;;\u001b\\\n"
      ]
     },
     "metadata": {},
     "output_type": "display_data"
    },
    {
     "data": {
      "text/html": [
       "<pre style=\"white-space:pre;overflow-x:auto;line-height:normal;font-family:Menlo,'DejaVu Sans Mono',consolas,'Courier New',monospace\"><span style=\"color: #00ff00; text-decoration-color: #00ff00\">         </span><span style=\"color: #00ffaf; text-decoration-color: #00ffaf\">INFO    </span> <span style=\"color: #c6c6c6; text-decoration-color: #c6c6c6; font-weight: bold\"> Range c1-c6 translates to channels </span><span style=\"color: #c0c0c0; text-decoration-color: #c0c0c0; font-weight: bold\">1</span><span style=\"color: #c6c6c6; text-decoration-color: #c6c6c6; font-weight: bold\">-</span><span style=\"color: #c0c0c0; text-decoration-color: #c0c0c0; font-weight: bold\">6</span><span style=\"color: #c6c6c6; text-decoration-color: #c6c6c6; font-weight: bold\">                                      </span><a href=\"file:///home/tobi/sw/threeML/threeML/plugins/SpectrumLike.py\" target=\"_blank\"><span style=\"color: #7f7f7f; text-decoration-color: #7f7f7f\">SpectrumLike.py</span></a><span style=\"color: #7f7f7f; text-decoration-color: #7f7f7f\">:</span><a href=\"file:///home/tobi/sw/threeML/threeML/plugins/SpectrumLike.py#1210\" target=\"_blank\"><span style=\"color: #7f7f7f; text-decoration-color: #7f7f7f\">1210</span></a>\n",
       "</pre>\n"
      ],
      "text/plain": [
       "\u001b[38;5;46m        \u001b[0m\u001b[38;5;46m \u001b[0m\u001b[38;5;49mINFO    \u001b[0m \u001b[1;38;5;251m Range c1-c6 translates to channels \u001b[0m\u001b[1;37m1\u001b[0m\u001b[1;38;5;251m-\u001b[0m\u001b[1;37m6\u001b[0m\u001b[1;38;5;251m                                     \u001b[0m\u001b[1;38;5;251m \u001b[0m\u001b]8;id=521105;file:///home/tobi/sw/threeML/threeML/plugins/SpectrumLike.py\u001b\\\u001b[2mSpectrumLike.py\u001b[0m\u001b]8;;\u001b\\\u001b[2m:\u001b[0m\u001b]8;id=528471;file:///home/tobi/sw/threeML/threeML/plugins/SpectrumLike.py#1210\u001b\\\u001b[2m1210\u001b[0m\u001b]8;;\u001b\\\n"
      ]
     },
     "metadata": {},
     "output_type": "display_data"
    }
   ],
   "source": [
    "balrog_plugin = trigreader.to_plugin(*lu)\n",
    "#for i,d in enumerate(balrog_plugin):\n",
    "#    balrog_plugin[i] = d.use_effective_area_correction(0.7,1.3)\n",
    "datalist = DataList(*balrog_plugin)\n"
   ]
  },
  {
   "cell_type": "code",
   "execution_count": 9,
   "id": "81d9b460-4e60-40a5-9a26-08f7f55a048b",
   "metadata": {},
   "outputs": [
    {
     "data": {
      "text/html": [
       "<pre style=\"white-space:pre;overflow-x:auto;line-height:normal;font-family:Menlo,'DejaVu Sans Mono',consolas,'Courier New',monospace\"><span style=\"color: #00ff00; text-decoration-color: #00ff00\">         </span><span style=\"color: #00ffaf; text-decoration-color: #00ffaf\">INFO    </span> <span style=\"color: #c6c6c6; text-decoration-color: #c6c6c6; font-weight: bold\"> n0 is using effective area correction (between </span><span style=\"color: #c0c0c0; text-decoration-color: #c0c0c0; font-weight: bold\">0.7</span><span style=\"color: #c6c6c6; text-decoration-color: #c6c6c6; font-weight: bold\"> and </span><span style=\"color: #c0c0c0; text-decoration-color: #c0c0c0; font-weight: bold\">1.3</span><span style=\"color: #c6c6c6; text-decoration-color: #c6c6c6; font-weight: bold\">)                 </span><a href=\"file:///home/tobi/sw/threeML/threeML/plugins/SpectrumLike.py\" target=\"_blank\"><span style=\"color: #7f7f7f; text-decoration-color: #7f7f7f\">SpectrumLike.py</span></a><span style=\"color: #7f7f7f; text-decoration-color: #7f7f7f\">:</span><a href=\"file:///home/tobi/sw/threeML/threeML/plugins/SpectrumLike.py#2192\" target=\"_blank\"><span style=\"color: #7f7f7f; text-decoration-color: #7f7f7f\">2192</span></a>\n",
       "</pre>\n"
      ],
      "text/plain": [
       "\u001b[38;5;46m        \u001b[0m\u001b[38;5;46m \u001b[0m\u001b[38;5;49mINFO    \u001b[0m \u001b[1;38;5;251m n0 is using effective area correction \u001b[0m\u001b[1;38;5;251m(\u001b[0m\u001b[1;38;5;251mbetween \u001b[0m\u001b[1;37m0.7\u001b[0m\u001b[1;38;5;251m and \u001b[0m\u001b[1;37m1.3\u001b[0m\u001b[1;38;5;251m)\u001b[0m\u001b[1;38;5;251m                \u001b[0m\u001b[1;38;5;251m \u001b[0m\u001b]8;id=657468;file:///home/tobi/sw/threeML/threeML/plugins/SpectrumLike.py\u001b\\\u001b[2mSpectrumLike.py\u001b[0m\u001b]8;;\u001b\\\u001b[2m:\u001b[0m\u001b]8;id=488733;file:///home/tobi/sw/threeML/threeML/plugins/SpectrumLike.py#2192\u001b\\\u001b[2m2192\u001b[0m\u001b]8;;\u001b\\\n"
      ]
     },
     "metadata": {},
     "output_type": "display_data"
    },
    {
     "data": {
      "text/html": [
       "<pre style=\"white-space:pre;overflow-x:auto;line-height:normal;font-family:Menlo,'DejaVu Sans Mono',consolas,'Courier New',monospace\"><span style=\"color: #00ff00; text-decoration-color: #00ff00\">         </span><span style=\"color: #00ffaf; text-decoration-color: #00ffaf\">INFO    </span> <span style=\"color: #c6c6c6; text-decoration-color: #c6c6c6; font-weight: bold\"> n1 is using effective area correction (between </span><span style=\"color: #c0c0c0; text-decoration-color: #c0c0c0; font-weight: bold\">0.7</span><span style=\"color: #c6c6c6; text-decoration-color: #c6c6c6; font-weight: bold\"> and </span><span style=\"color: #c0c0c0; text-decoration-color: #c0c0c0; font-weight: bold\">1.3</span><span style=\"color: #c6c6c6; text-decoration-color: #c6c6c6; font-weight: bold\">)                 </span><a href=\"file:///home/tobi/sw/threeML/threeML/plugins/SpectrumLike.py\" target=\"_blank\"><span style=\"color: #7f7f7f; text-decoration-color: #7f7f7f\">SpectrumLike.py</span></a><span style=\"color: #7f7f7f; text-decoration-color: #7f7f7f\">:</span><a href=\"file:///home/tobi/sw/threeML/threeML/plugins/SpectrumLike.py#2192\" target=\"_blank\"><span style=\"color: #7f7f7f; text-decoration-color: #7f7f7f\">2192</span></a>\n",
       "</pre>\n"
      ],
      "text/plain": [
       "\u001b[38;5;46m        \u001b[0m\u001b[38;5;46m \u001b[0m\u001b[38;5;49mINFO    \u001b[0m \u001b[1;38;5;251m n1 is using effective area correction \u001b[0m\u001b[1;38;5;251m(\u001b[0m\u001b[1;38;5;251mbetween \u001b[0m\u001b[1;37m0.7\u001b[0m\u001b[1;38;5;251m and \u001b[0m\u001b[1;37m1.3\u001b[0m\u001b[1;38;5;251m)\u001b[0m\u001b[1;38;5;251m                \u001b[0m\u001b[1;38;5;251m \u001b[0m\u001b]8;id=728566;file:///home/tobi/sw/threeML/threeML/plugins/SpectrumLike.py\u001b\\\u001b[2mSpectrumLike.py\u001b[0m\u001b]8;;\u001b\\\u001b[2m:\u001b[0m\u001b]8;id=178107;file:///home/tobi/sw/threeML/threeML/plugins/SpectrumLike.py#2192\u001b\\\u001b[2m2192\u001b[0m\u001b]8;;\u001b\\\n"
      ]
     },
     "metadata": {},
     "output_type": "display_data"
    },
    {
     "data": {
      "text/html": [
       "<pre style=\"white-space:pre;overflow-x:auto;line-height:normal;font-family:Menlo,'DejaVu Sans Mono',consolas,'Courier New',monospace\"><span style=\"color: #00ff00; text-decoration-color: #00ff00\">16:04:13 </span><span style=\"color: #00ffaf; text-decoration-color: #00ffaf\">INFO    </span> <span style=\"color: #c6c6c6; text-decoration-color: #c6c6c6; font-weight: bold\"> n2 is using effective area correction (between </span><span style=\"color: #c0c0c0; text-decoration-color: #c0c0c0; font-weight: bold\">0.7</span><span style=\"color: #c6c6c6; text-decoration-color: #c6c6c6; font-weight: bold\"> and </span><span style=\"color: #c0c0c0; text-decoration-color: #c0c0c0; font-weight: bold\">1.3</span><span style=\"color: #c6c6c6; text-decoration-color: #c6c6c6; font-weight: bold\">)                 </span><a href=\"file:///home/tobi/sw/threeML/threeML/plugins/SpectrumLike.py\" target=\"_blank\"><span style=\"color: #7f7f7f; text-decoration-color: #7f7f7f\">SpectrumLike.py</span></a><span style=\"color: #7f7f7f; text-decoration-color: #7f7f7f\">:</span><a href=\"file:///home/tobi/sw/threeML/threeML/plugins/SpectrumLike.py#2192\" target=\"_blank\"><span style=\"color: #7f7f7f; text-decoration-color: #7f7f7f\">2192</span></a>\n",
       "</pre>\n"
      ],
      "text/plain": [
       "\u001b[38;5;46m16:04:13\u001b[0m\u001b[38;5;46m \u001b[0m\u001b[38;5;49mINFO    \u001b[0m \u001b[1;38;5;251m n2 is using effective area correction \u001b[0m\u001b[1;38;5;251m(\u001b[0m\u001b[1;38;5;251mbetween \u001b[0m\u001b[1;37m0.7\u001b[0m\u001b[1;38;5;251m and \u001b[0m\u001b[1;37m1.3\u001b[0m\u001b[1;38;5;251m)\u001b[0m\u001b[1;38;5;251m                \u001b[0m\u001b[1;38;5;251m \u001b[0m\u001b]8;id=136808;file:///home/tobi/sw/threeML/threeML/plugins/SpectrumLike.py\u001b\\\u001b[2mSpectrumLike.py\u001b[0m\u001b]8;;\u001b\\\u001b[2m:\u001b[0m\u001b]8;id=515953;file:///home/tobi/sw/threeML/threeML/plugins/SpectrumLike.py#2192\u001b\\\u001b[2m2192\u001b[0m\u001b]8;;\u001b\\\n"
      ]
     },
     "metadata": {},
     "output_type": "display_data"
    },
    {
     "data": {
      "text/html": [
       "<pre style=\"white-space:pre;overflow-x:auto;line-height:normal;font-family:Menlo,'DejaVu Sans Mono',consolas,'Courier New',monospace\"><span style=\"color: #00ff00; text-decoration-color: #00ff00\">         </span><span style=\"color: #00ffaf; text-decoration-color: #00ffaf\">INFO    </span> <span style=\"color: #c6c6c6; text-decoration-color: #c6c6c6; font-weight: bold\"> n3 is using effective area correction (between </span><span style=\"color: #c0c0c0; text-decoration-color: #c0c0c0; font-weight: bold\">0.7</span><span style=\"color: #c6c6c6; text-decoration-color: #c6c6c6; font-weight: bold\"> and </span><span style=\"color: #c0c0c0; text-decoration-color: #c0c0c0; font-weight: bold\">1.3</span><span style=\"color: #c6c6c6; text-decoration-color: #c6c6c6; font-weight: bold\">)                 </span><a href=\"file:///home/tobi/sw/threeML/threeML/plugins/SpectrumLike.py\" target=\"_blank\"><span style=\"color: #7f7f7f; text-decoration-color: #7f7f7f\">SpectrumLike.py</span></a><span style=\"color: #7f7f7f; text-decoration-color: #7f7f7f\">:</span><a href=\"file:///home/tobi/sw/threeML/threeML/plugins/SpectrumLike.py#2192\" target=\"_blank\"><span style=\"color: #7f7f7f; text-decoration-color: #7f7f7f\">2192</span></a>\n",
       "</pre>\n"
      ],
      "text/plain": [
       "\u001b[38;5;46m        \u001b[0m\u001b[38;5;46m \u001b[0m\u001b[38;5;49mINFO    \u001b[0m \u001b[1;38;5;251m n3 is using effective area correction \u001b[0m\u001b[1;38;5;251m(\u001b[0m\u001b[1;38;5;251mbetween \u001b[0m\u001b[1;37m0.7\u001b[0m\u001b[1;38;5;251m and \u001b[0m\u001b[1;37m1.3\u001b[0m\u001b[1;38;5;251m)\u001b[0m\u001b[1;38;5;251m                \u001b[0m\u001b[1;38;5;251m \u001b[0m\u001b]8;id=456010;file:///home/tobi/sw/threeML/threeML/plugins/SpectrumLike.py\u001b\\\u001b[2mSpectrumLike.py\u001b[0m\u001b]8;;\u001b\\\u001b[2m:\u001b[0m\u001b]8;id=645683;file:///home/tobi/sw/threeML/threeML/plugins/SpectrumLike.py#2192\u001b\\\u001b[2m2192\u001b[0m\u001b]8;;\u001b\\\n"
      ]
     },
     "metadata": {},
     "output_type": "display_data"
    },
    {
     "data": {
      "text/html": [
       "<pre style=\"white-space:pre;overflow-x:auto;line-height:normal;font-family:Menlo,'DejaVu Sans Mono',consolas,'Courier New',monospace\"><span style=\"color: #00ff00; text-decoration-color: #00ff00\">         </span><span style=\"color: #00ffaf; text-decoration-color: #00ffaf\">INFO    </span> <span style=\"color: #c6c6c6; text-decoration-color: #c6c6c6; font-weight: bold\"> n4 is using effective area correction (between </span><span style=\"color: #c0c0c0; text-decoration-color: #c0c0c0; font-weight: bold\">0.7</span><span style=\"color: #c6c6c6; text-decoration-color: #c6c6c6; font-weight: bold\"> and </span><span style=\"color: #c0c0c0; text-decoration-color: #c0c0c0; font-weight: bold\">1.3</span><span style=\"color: #c6c6c6; text-decoration-color: #c6c6c6; font-weight: bold\">)                 </span><a href=\"file:///home/tobi/sw/threeML/threeML/plugins/SpectrumLike.py\" target=\"_blank\"><span style=\"color: #7f7f7f; text-decoration-color: #7f7f7f\">SpectrumLike.py</span></a><span style=\"color: #7f7f7f; text-decoration-color: #7f7f7f\">:</span><a href=\"file:///home/tobi/sw/threeML/threeML/plugins/SpectrumLike.py#2192\" target=\"_blank\"><span style=\"color: #7f7f7f; text-decoration-color: #7f7f7f\">2192</span></a>\n",
       "</pre>\n"
      ],
      "text/plain": [
       "\u001b[38;5;46m        \u001b[0m\u001b[38;5;46m \u001b[0m\u001b[38;5;49mINFO    \u001b[0m \u001b[1;38;5;251m n4 is using effective area correction \u001b[0m\u001b[1;38;5;251m(\u001b[0m\u001b[1;38;5;251mbetween \u001b[0m\u001b[1;37m0.7\u001b[0m\u001b[1;38;5;251m and \u001b[0m\u001b[1;37m1.3\u001b[0m\u001b[1;38;5;251m)\u001b[0m\u001b[1;38;5;251m                \u001b[0m\u001b[1;38;5;251m \u001b[0m\u001b]8;id=322539;file:///home/tobi/sw/threeML/threeML/plugins/SpectrumLike.py\u001b\\\u001b[2mSpectrumLike.py\u001b[0m\u001b]8;;\u001b\\\u001b[2m:\u001b[0m\u001b]8;id=67440;file:///home/tobi/sw/threeML/threeML/plugins/SpectrumLike.py#2192\u001b\\\u001b[2m2192\u001b[0m\u001b]8;;\u001b\\\n"
      ]
     },
     "metadata": {},
     "output_type": "display_data"
    },
    {
     "data": {
      "text/html": [
       "<pre style=\"white-space:pre;overflow-x:auto;line-height:normal;font-family:Menlo,'DejaVu Sans Mono',consolas,'Courier New',monospace\"><span style=\"color: #00ff00; text-decoration-color: #00ff00\">         </span><span style=\"color: #00ffaf; text-decoration-color: #00ffaf\">INFO    </span> <span style=\"color: #c6c6c6; text-decoration-color: #c6c6c6; font-weight: bold\"> n5 is using effective area correction (between </span><span style=\"color: #c0c0c0; text-decoration-color: #c0c0c0; font-weight: bold\">0.7</span><span style=\"color: #c6c6c6; text-decoration-color: #c6c6c6; font-weight: bold\"> and </span><span style=\"color: #c0c0c0; text-decoration-color: #c0c0c0; font-weight: bold\">1.3</span><span style=\"color: #c6c6c6; text-decoration-color: #c6c6c6; font-weight: bold\">)                 </span><a href=\"file:///home/tobi/sw/threeML/threeML/plugins/SpectrumLike.py\" target=\"_blank\"><span style=\"color: #7f7f7f; text-decoration-color: #7f7f7f\">SpectrumLike.py</span></a><span style=\"color: #7f7f7f; text-decoration-color: #7f7f7f\">:</span><a href=\"file:///home/tobi/sw/threeML/threeML/plugins/SpectrumLike.py#2192\" target=\"_blank\"><span style=\"color: #7f7f7f; text-decoration-color: #7f7f7f\">2192</span></a>\n",
       "</pre>\n"
      ],
      "text/plain": [
       "\u001b[38;5;46m        \u001b[0m\u001b[38;5;46m \u001b[0m\u001b[38;5;49mINFO    \u001b[0m \u001b[1;38;5;251m n5 is using effective area correction \u001b[0m\u001b[1;38;5;251m(\u001b[0m\u001b[1;38;5;251mbetween \u001b[0m\u001b[1;37m0.7\u001b[0m\u001b[1;38;5;251m and \u001b[0m\u001b[1;37m1.3\u001b[0m\u001b[1;38;5;251m)\u001b[0m\u001b[1;38;5;251m                \u001b[0m\u001b[1;38;5;251m \u001b[0m\u001b]8;id=693429;file:///home/tobi/sw/threeML/threeML/plugins/SpectrumLike.py\u001b\\\u001b[2mSpectrumLike.py\u001b[0m\u001b]8;;\u001b\\\u001b[2m:\u001b[0m\u001b]8;id=855671;file:///home/tobi/sw/threeML/threeML/plugins/SpectrumLike.py#2192\u001b\\\u001b[2m2192\u001b[0m\u001b]8;;\u001b\\\n"
      ]
     },
     "metadata": {},
     "output_type": "display_data"
    },
    {
     "data": {
      "text/html": [
       "<pre style=\"white-space:pre;overflow-x:auto;line-height:normal;font-family:Menlo,'DejaVu Sans Mono',consolas,'Courier New',monospace\"><span style=\"color: #00ff00; text-decoration-color: #00ff00\">         </span><span style=\"color: #00ffaf; text-decoration-color: #00ffaf\">INFO    </span> <span style=\"color: #c6c6c6; text-decoration-color: #c6c6c6; font-weight: bold\"> n6 is using effective area correction (between </span><span style=\"color: #c0c0c0; text-decoration-color: #c0c0c0; font-weight: bold\">0.7</span><span style=\"color: #c6c6c6; text-decoration-color: #c6c6c6; font-weight: bold\"> and </span><span style=\"color: #c0c0c0; text-decoration-color: #c0c0c0; font-weight: bold\">1.3</span><span style=\"color: #c6c6c6; text-decoration-color: #c6c6c6; font-weight: bold\">)                 </span><a href=\"file:///home/tobi/sw/threeML/threeML/plugins/SpectrumLike.py\" target=\"_blank\"><span style=\"color: #7f7f7f; text-decoration-color: #7f7f7f\">SpectrumLike.py</span></a><span style=\"color: #7f7f7f; text-decoration-color: #7f7f7f\">:</span><a href=\"file:///home/tobi/sw/threeML/threeML/plugins/SpectrumLike.py#2192\" target=\"_blank\"><span style=\"color: #7f7f7f; text-decoration-color: #7f7f7f\">2192</span></a>\n",
       "</pre>\n"
      ],
      "text/plain": [
       "\u001b[38;5;46m        \u001b[0m\u001b[38;5;46m \u001b[0m\u001b[38;5;49mINFO    \u001b[0m \u001b[1;38;5;251m n6 is using effective area correction \u001b[0m\u001b[1;38;5;251m(\u001b[0m\u001b[1;38;5;251mbetween \u001b[0m\u001b[1;37m0.7\u001b[0m\u001b[1;38;5;251m and \u001b[0m\u001b[1;37m1.3\u001b[0m\u001b[1;38;5;251m)\u001b[0m\u001b[1;38;5;251m                \u001b[0m\u001b[1;38;5;251m \u001b[0m\u001b]8;id=54708;file:///home/tobi/sw/threeML/threeML/plugins/SpectrumLike.py\u001b\\\u001b[2mSpectrumLike.py\u001b[0m\u001b]8;;\u001b\\\u001b[2m:\u001b[0m\u001b]8;id=591793;file:///home/tobi/sw/threeML/threeML/plugins/SpectrumLike.py#2192\u001b\\\u001b[2m2192\u001b[0m\u001b]8;;\u001b\\\n"
      ]
     },
     "metadata": {},
     "output_type": "display_data"
    },
    {
     "data": {
      "text/html": [
       "<pre style=\"white-space:pre;overflow-x:auto;line-height:normal;font-family:Menlo,'DejaVu Sans Mono',consolas,'Courier New',monospace\"><span style=\"color: #00ff00; text-decoration-color: #00ff00\">         </span><span style=\"color: #00ffaf; text-decoration-color: #00ffaf\">INFO    </span> <span style=\"color: #c6c6c6; text-decoration-color: #c6c6c6; font-weight: bold\"> n7 is using effective area correction (between </span><span style=\"color: #c0c0c0; text-decoration-color: #c0c0c0; font-weight: bold\">0.7</span><span style=\"color: #c6c6c6; text-decoration-color: #c6c6c6; font-weight: bold\"> and </span><span style=\"color: #c0c0c0; text-decoration-color: #c0c0c0; font-weight: bold\">1.3</span><span style=\"color: #c6c6c6; text-decoration-color: #c6c6c6; font-weight: bold\">)                 </span><a href=\"file:///home/tobi/sw/threeML/threeML/plugins/SpectrumLike.py\" target=\"_blank\"><span style=\"color: #7f7f7f; text-decoration-color: #7f7f7f\">SpectrumLike.py</span></a><span style=\"color: #7f7f7f; text-decoration-color: #7f7f7f\">:</span><a href=\"file:///home/tobi/sw/threeML/threeML/plugins/SpectrumLike.py#2192\" target=\"_blank\"><span style=\"color: #7f7f7f; text-decoration-color: #7f7f7f\">2192</span></a>\n",
       "</pre>\n"
      ],
      "text/plain": [
       "\u001b[38;5;46m        \u001b[0m\u001b[38;5;46m \u001b[0m\u001b[38;5;49mINFO    \u001b[0m \u001b[1;38;5;251m n7 is using effective area correction \u001b[0m\u001b[1;38;5;251m(\u001b[0m\u001b[1;38;5;251mbetween \u001b[0m\u001b[1;37m0.7\u001b[0m\u001b[1;38;5;251m and \u001b[0m\u001b[1;37m1.3\u001b[0m\u001b[1;38;5;251m)\u001b[0m\u001b[1;38;5;251m                \u001b[0m\u001b[1;38;5;251m \u001b[0m\u001b]8;id=341425;file:///home/tobi/sw/threeML/threeML/plugins/SpectrumLike.py\u001b\\\u001b[2mSpectrumLike.py\u001b[0m\u001b]8;;\u001b\\\u001b[2m:\u001b[0m\u001b]8;id=646430;file:///home/tobi/sw/threeML/threeML/plugins/SpectrumLike.py#2192\u001b\\\u001b[2m2192\u001b[0m\u001b]8;;\u001b\\\n"
      ]
     },
     "metadata": {},
     "output_type": "display_data"
    },
    {
     "data": {
      "text/html": [
       "<pre style=\"white-space:pre;overflow-x:auto;line-height:normal;font-family:Menlo,'DejaVu Sans Mono',consolas,'Courier New',monospace\"><span style=\"color: #00ff00; text-decoration-color: #00ff00\">         </span><span style=\"color: #00ffaf; text-decoration-color: #00ffaf\">INFO    </span> <span style=\"color: #c6c6c6; text-decoration-color: #c6c6c6; font-weight: bold\"> n8 is using effective area correction (between </span><span style=\"color: #c0c0c0; text-decoration-color: #c0c0c0; font-weight: bold\">0.7</span><span style=\"color: #c6c6c6; text-decoration-color: #c6c6c6; font-weight: bold\"> and </span><span style=\"color: #c0c0c0; text-decoration-color: #c0c0c0; font-weight: bold\">1.3</span><span style=\"color: #c6c6c6; text-decoration-color: #c6c6c6; font-weight: bold\">)                 </span><a href=\"file:///home/tobi/sw/threeML/threeML/plugins/SpectrumLike.py\" target=\"_blank\"><span style=\"color: #7f7f7f; text-decoration-color: #7f7f7f\">SpectrumLike.py</span></a><span style=\"color: #7f7f7f; text-decoration-color: #7f7f7f\">:</span><a href=\"file:///home/tobi/sw/threeML/threeML/plugins/SpectrumLike.py#2192\" target=\"_blank\"><span style=\"color: #7f7f7f; text-decoration-color: #7f7f7f\">2192</span></a>\n",
       "</pre>\n"
      ],
      "text/plain": [
       "\u001b[38;5;46m        \u001b[0m\u001b[38;5;46m \u001b[0m\u001b[38;5;49mINFO    \u001b[0m \u001b[1;38;5;251m n8 is using effective area correction \u001b[0m\u001b[1;38;5;251m(\u001b[0m\u001b[1;38;5;251mbetween \u001b[0m\u001b[1;37m0.7\u001b[0m\u001b[1;38;5;251m and \u001b[0m\u001b[1;37m1.3\u001b[0m\u001b[1;38;5;251m)\u001b[0m\u001b[1;38;5;251m                \u001b[0m\u001b[1;38;5;251m \u001b[0m\u001b]8;id=733455;file:///home/tobi/sw/threeML/threeML/plugins/SpectrumLike.py\u001b\\\u001b[2mSpectrumLike.py\u001b[0m\u001b]8;;\u001b\\\u001b[2m:\u001b[0m\u001b]8;id=835870;file:///home/tobi/sw/threeML/threeML/plugins/SpectrumLike.py#2192\u001b\\\u001b[2m2192\u001b[0m\u001b]8;;\u001b\\\n"
      ]
     },
     "metadata": {},
     "output_type": "display_data"
    },
    {
     "data": {
      "text/html": [
       "<pre style=\"white-space:pre;overflow-x:auto;line-height:normal;font-family:Menlo,'DejaVu Sans Mono',consolas,'Courier New',monospace\"><span style=\"color: #00ff00; text-decoration-color: #00ff00\">         </span><span style=\"color: #00ffaf; text-decoration-color: #00ffaf\">INFO    </span> <span style=\"color: #c6c6c6; text-decoration-color: #c6c6c6; font-weight: bold\"> n9 is using effective area correction (between </span><span style=\"color: #c0c0c0; text-decoration-color: #c0c0c0; font-weight: bold\">0.7</span><span style=\"color: #c6c6c6; text-decoration-color: #c6c6c6; font-weight: bold\"> and </span><span style=\"color: #c0c0c0; text-decoration-color: #c0c0c0; font-weight: bold\">1.3</span><span style=\"color: #c6c6c6; text-decoration-color: #c6c6c6; font-weight: bold\">)                 </span><a href=\"file:///home/tobi/sw/threeML/threeML/plugins/SpectrumLike.py\" target=\"_blank\"><span style=\"color: #7f7f7f; text-decoration-color: #7f7f7f\">SpectrumLike.py</span></a><span style=\"color: #7f7f7f; text-decoration-color: #7f7f7f\">:</span><a href=\"file:///home/tobi/sw/threeML/threeML/plugins/SpectrumLike.py#2192\" target=\"_blank\"><span style=\"color: #7f7f7f; text-decoration-color: #7f7f7f\">2192</span></a>\n",
       "</pre>\n"
      ],
      "text/plain": [
       "\u001b[38;5;46m        \u001b[0m\u001b[38;5;46m \u001b[0m\u001b[38;5;49mINFO    \u001b[0m \u001b[1;38;5;251m n9 is using effective area correction \u001b[0m\u001b[1;38;5;251m(\u001b[0m\u001b[1;38;5;251mbetween \u001b[0m\u001b[1;37m0.7\u001b[0m\u001b[1;38;5;251m and \u001b[0m\u001b[1;37m1.3\u001b[0m\u001b[1;38;5;251m)\u001b[0m\u001b[1;38;5;251m                \u001b[0m\u001b[1;38;5;251m \u001b[0m\u001b]8;id=223386;file:///home/tobi/sw/threeML/threeML/plugins/SpectrumLike.py\u001b\\\u001b[2mSpectrumLike.py\u001b[0m\u001b]8;;\u001b\\\u001b[2m:\u001b[0m\u001b]8;id=140470;file:///home/tobi/sw/threeML/threeML/plugins/SpectrumLike.py#2192\u001b\\\u001b[2m2192\u001b[0m\u001b]8;;\u001b\\\n"
      ]
     },
     "metadata": {},
     "output_type": "display_data"
    },
    {
     "data": {
      "text/html": [
       "<pre style=\"white-space:pre;overflow-x:auto;line-height:normal;font-family:Menlo,'DejaVu Sans Mono',consolas,'Courier New',monospace\"><span style=\"color: #00ff00; text-decoration-color: #00ff00\">         </span><span style=\"color: #00ffaf; text-decoration-color: #00ffaf\">INFO    </span> <span style=\"color: #c6c6c6; text-decoration-color: #c6c6c6; font-weight: bold\"> na is using effective area correction (between </span><span style=\"color: #c0c0c0; text-decoration-color: #c0c0c0; font-weight: bold\">0.7</span><span style=\"color: #c6c6c6; text-decoration-color: #c6c6c6; font-weight: bold\"> and </span><span style=\"color: #c0c0c0; text-decoration-color: #c0c0c0; font-weight: bold\">1.3</span><span style=\"color: #c6c6c6; text-decoration-color: #c6c6c6; font-weight: bold\">)                 </span><a href=\"file:///home/tobi/sw/threeML/threeML/plugins/SpectrumLike.py\" target=\"_blank\"><span style=\"color: #7f7f7f; text-decoration-color: #7f7f7f\">SpectrumLike.py</span></a><span style=\"color: #7f7f7f; text-decoration-color: #7f7f7f\">:</span><a href=\"file:///home/tobi/sw/threeML/threeML/plugins/SpectrumLike.py#2192\" target=\"_blank\"><span style=\"color: #7f7f7f; text-decoration-color: #7f7f7f\">2192</span></a>\n",
       "</pre>\n"
      ],
      "text/plain": [
       "\u001b[38;5;46m        \u001b[0m\u001b[38;5;46m \u001b[0m\u001b[38;5;49mINFO    \u001b[0m \u001b[1;38;5;251m na is using effective area correction \u001b[0m\u001b[1;38;5;251m(\u001b[0m\u001b[1;38;5;251mbetween \u001b[0m\u001b[1;37m0.7\u001b[0m\u001b[1;38;5;251m and \u001b[0m\u001b[1;37m1.3\u001b[0m\u001b[1;38;5;251m)\u001b[0m\u001b[1;38;5;251m                \u001b[0m\u001b[1;38;5;251m \u001b[0m\u001b]8;id=882084;file:///home/tobi/sw/threeML/threeML/plugins/SpectrumLike.py\u001b\\\u001b[2mSpectrumLike.py\u001b[0m\u001b]8;;\u001b\\\u001b[2m:\u001b[0m\u001b]8;id=957563;file:///home/tobi/sw/threeML/threeML/plugins/SpectrumLike.py#2192\u001b\\\u001b[2m2192\u001b[0m\u001b]8;;\u001b\\\n"
      ]
     },
     "metadata": {},
     "output_type": "display_data"
    },
    {
     "data": {
      "text/html": [
       "<pre style=\"white-space:pre;overflow-x:auto;line-height:normal;font-family:Menlo,'DejaVu Sans Mono',consolas,'Courier New',monospace\"><span style=\"color: #00ff00; text-decoration-color: #00ff00\">         </span><span style=\"color: #00ffaf; text-decoration-color: #00ffaf\">INFO    </span> <span style=\"color: #c6c6c6; text-decoration-color: #c6c6c6; font-weight: bold\"> nb is using effective area correction (between </span><span style=\"color: #c0c0c0; text-decoration-color: #c0c0c0; font-weight: bold\">0.7</span><span style=\"color: #c6c6c6; text-decoration-color: #c6c6c6; font-weight: bold\"> and </span><span style=\"color: #c0c0c0; text-decoration-color: #c0c0c0; font-weight: bold\">1.3</span><span style=\"color: #c6c6c6; text-decoration-color: #c6c6c6; font-weight: bold\">)                 </span><a href=\"file:///home/tobi/sw/threeML/threeML/plugins/SpectrumLike.py\" target=\"_blank\"><span style=\"color: #7f7f7f; text-decoration-color: #7f7f7f\">SpectrumLike.py</span></a><span style=\"color: #7f7f7f; text-decoration-color: #7f7f7f\">:</span><a href=\"file:///home/tobi/sw/threeML/threeML/plugins/SpectrumLike.py#2192\" target=\"_blank\"><span style=\"color: #7f7f7f; text-decoration-color: #7f7f7f\">2192</span></a>\n",
       "</pre>\n"
      ],
      "text/plain": [
       "\u001b[38;5;46m        \u001b[0m\u001b[38;5;46m \u001b[0m\u001b[38;5;49mINFO    \u001b[0m \u001b[1;38;5;251m nb is using effective area correction \u001b[0m\u001b[1;38;5;251m(\u001b[0m\u001b[1;38;5;251mbetween \u001b[0m\u001b[1;37m0.7\u001b[0m\u001b[1;38;5;251m and \u001b[0m\u001b[1;37m1.3\u001b[0m\u001b[1;38;5;251m)\u001b[0m\u001b[1;38;5;251m                \u001b[0m\u001b[1;38;5;251m \u001b[0m\u001b]8;id=44639;file:///home/tobi/sw/threeML/threeML/plugins/SpectrumLike.py\u001b\\\u001b[2mSpectrumLike.py\u001b[0m\u001b]8;;\u001b\\\u001b[2m:\u001b[0m\u001b]8;id=612399;file:///home/tobi/sw/threeML/threeML/plugins/SpectrumLike.py#2192\u001b\\\u001b[2m2192\u001b[0m\u001b]8;;\u001b\\\n"
      ]
     },
     "metadata": {},
     "output_type": "display_data"
    },
    {
     "data": {
      "text/html": [
       "<pre style=\"white-space:pre;overflow-x:auto;line-height:normal;font-family:Menlo,'DejaVu Sans Mono',consolas,'Courier New',monospace\"><span style=\"color: #00ff00; text-decoration-color: #00ff00\">         </span><span style=\"color: #00ffaf; text-decoration-color: #00ffaf\">INFO    </span> <span style=\"color: #c6c6c6; text-decoration-color: #c6c6c6; font-weight: bold\"> b0 is using effective area correction (between </span><span style=\"color: #c0c0c0; text-decoration-color: #c0c0c0; font-weight: bold\">0.7</span><span style=\"color: #c6c6c6; text-decoration-color: #c6c6c6; font-weight: bold\"> and </span><span style=\"color: #c0c0c0; text-decoration-color: #c0c0c0; font-weight: bold\">1.3</span><span style=\"color: #c6c6c6; text-decoration-color: #c6c6c6; font-weight: bold\">)                 </span><a href=\"file:///home/tobi/sw/threeML/threeML/plugins/SpectrumLike.py\" target=\"_blank\"><span style=\"color: #7f7f7f; text-decoration-color: #7f7f7f\">SpectrumLike.py</span></a><span style=\"color: #7f7f7f; text-decoration-color: #7f7f7f\">:</span><a href=\"file:///home/tobi/sw/threeML/threeML/plugins/SpectrumLike.py#2192\" target=\"_blank\"><span style=\"color: #7f7f7f; text-decoration-color: #7f7f7f\">2192</span></a>\n",
       "</pre>\n"
      ],
      "text/plain": [
       "\u001b[38;5;46m        \u001b[0m\u001b[38;5;46m \u001b[0m\u001b[38;5;49mINFO    \u001b[0m \u001b[1;38;5;251m b0 is using effective area correction \u001b[0m\u001b[1;38;5;251m(\u001b[0m\u001b[1;38;5;251mbetween \u001b[0m\u001b[1;37m0.7\u001b[0m\u001b[1;38;5;251m and \u001b[0m\u001b[1;37m1.3\u001b[0m\u001b[1;38;5;251m)\u001b[0m\u001b[1;38;5;251m                \u001b[0m\u001b[1;38;5;251m \u001b[0m\u001b]8;id=727878;file:///home/tobi/sw/threeML/threeML/plugins/SpectrumLike.py\u001b\\\u001b[2mSpectrumLike.py\u001b[0m\u001b]8;;\u001b\\\u001b[2m:\u001b[0m\u001b]8;id=213722;file:///home/tobi/sw/threeML/threeML/plugins/SpectrumLike.py#2192\u001b\\\u001b[2m2192\u001b[0m\u001b]8;;\u001b\\\n"
      ]
     },
     "metadata": {},
     "output_type": "display_data"
    },
    {
     "data": {
      "text/html": [
       "<pre style=\"white-space:pre;overflow-x:auto;line-height:normal;font-family:Menlo,'DejaVu Sans Mono',consolas,'Courier New',monospace\"><span style=\"color: #00ff00; text-decoration-color: #00ff00\">         </span><span style=\"color: #00ffaf; text-decoration-color: #00ffaf\">INFO    </span> <span style=\"color: #c6c6c6; text-decoration-color: #c6c6c6; font-weight: bold\"> b1 is using effective area correction (between </span><span style=\"color: #c0c0c0; text-decoration-color: #c0c0c0; font-weight: bold\">0.7</span><span style=\"color: #c6c6c6; text-decoration-color: #c6c6c6; font-weight: bold\"> and </span><span style=\"color: #c0c0c0; text-decoration-color: #c0c0c0; font-weight: bold\">1.3</span><span style=\"color: #c6c6c6; text-decoration-color: #c6c6c6; font-weight: bold\">)                 </span><a href=\"file:///home/tobi/sw/threeML/threeML/plugins/SpectrumLike.py\" target=\"_blank\"><span style=\"color: #7f7f7f; text-decoration-color: #7f7f7f\">SpectrumLike.py</span></a><span style=\"color: #7f7f7f; text-decoration-color: #7f7f7f\">:</span><a href=\"file:///home/tobi/sw/threeML/threeML/plugins/SpectrumLike.py#2192\" target=\"_blank\"><span style=\"color: #7f7f7f; text-decoration-color: #7f7f7f\">2192</span></a>\n",
       "</pre>\n"
      ],
      "text/plain": [
       "\u001b[38;5;46m        \u001b[0m\u001b[38;5;46m \u001b[0m\u001b[38;5;49mINFO    \u001b[0m \u001b[1;38;5;251m b1 is using effective area correction \u001b[0m\u001b[1;38;5;251m(\u001b[0m\u001b[1;38;5;251mbetween \u001b[0m\u001b[1;37m0.7\u001b[0m\u001b[1;38;5;251m and \u001b[0m\u001b[1;37m1.3\u001b[0m\u001b[1;38;5;251m)\u001b[0m\u001b[1;38;5;251m                \u001b[0m\u001b[1;38;5;251m \u001b[0m\u001b]8;id=134943;file:///home/tobi/sw/threeML/threeML/plugins/SpectrumLike.py\u001b\\\u001b[2mSpectrumLike.py\u001b[0m\u001b]8;;\u001b\\\u001b[2m:\u001b[0m\u001b]8;id=569981;file:///home/tobi/sw/threeML/threeML/plugins/SpectrumLike.py#2192\u001b\\\u001b[2m2192\u001b[0m\u001b]8;;\u001b\\\n"
      ]
     },
     "metadata": {},
     "output_type": "display_data"
    }
   ],
   "source": [
    "for d in lu:\n",
    "    datalist[d].use_effective_area_correction(0.7,1.3)"
   ]
  },
  {
   "cell_type": "code",
   "execution_count": 10,
   "id": "ffd1936e-18a5-49c1-84ae-7d9f74be06b5",
   "metadata": {},
   "outputs": [],
   "source": [
    "cpl = Cutoff_powerlaw()\n",
    "cpl.K.prior = Log_uniform_prior(lower_bound=0.0001, upper_bound=500)\n",
    "cpl.xc.prior = Log_uniform_prior(lower_bound=10, upper_bound=1000)\n",
    "cpl.index.set_uninformative_prior(Uniform_prior)\n",
    "ps = PointSource(\"grb\",ra = float(swift_position.ra.deg), dec = float(swift_position.dec.deg),spectral_shape=cpl)"
   ]
  },
  {
   "cell_type": "code",
   "execution_count": 11,
   "id": "cdf3f11e-803e-4bcc-9a7a-163f323db4b9",
   "metadata": {},
   "outputs": [],
   "source": [
    "ps.position.fix = True\n",
    "ps.position.free = False\n",
    "model = Model(ps)"
   ]
  },
  {
   "cell_type": "code",
   "execution_count": 12,
   "id": "00144b96-cd3d-44c9-b7cd-0470791ca504",
   "metadata": {},
   "outputs": [
    {
     "name": "stdout",
     "output_type": "stream",
     "text": [
      "Freeing the position of n0 and setting priors\n",
      "Freeing the position of n1 and setting priors\n",
      "Freeing the position of n2 and setting priors\n",
      "Freeing the position of n3 and setting priors\n",
      "Freeing the position of n4 and setting priors\n",
      "Freeing the position of n5 and setting priors\n",
      "Freeing the position of n6 and setting priors\n",
      "Freeing the position of n7 and setting priors\n",
      "Freeing the position of n8 and setting priors\n",
      "Freeing the position of n9 and setting priors\n",
      "Freeing the position of na and setting priors\n",
      "Freeing the position of nb and setting priors\n",
      "Freeing the position of b0 and setting priors\n",
      "Freeing the position of b1 and setting priors\n"
     ]
    }
   ],
   "source": [
    "bayes = BayesianAnalysis(model,datalist)"
   ]
  },
  {
   "cell_type": "code",
   "execution_count": 13,
   "id": "b130070c-9445-4f66-8eb9-18fa6656f1cf",
   "metadata": {},
   "outputs": [
    {
     "data": {
      "text/html": [
       "<pre style=\"white-space:pre;overflow-x:auto;line-height:normal;font-family:Menlo,'DejaVu Sans Mono',consolas,'Courier New',monospace\"><span style=\"color: #00ff00; text-decoration-color: #00ff00\">         </span><span style=\"color: #00ffaf; text-decoration-color: #00ffaf\">INFO    </span> <span style=\"color: #c6c6c6; text-decoration-color: #c6c6c6; font-weight: bold\"> sampler set to </span><span style=\"color: #000080; text-decoration-color: #000080; font-weight: bold\">multinest</span><span style=\"color: #c6c6c6; text-decoration-color: #c6c6c6; font-weight: bold\">                                                </span><a href=\"file:///home/tobi/sw/threeML/threeML/bayesian/bayesian_analysis.py\" target=\"_blank\"><span style=\"color: #7f7f7f; text-decoration-color: #7f7f7f\">bayesian_analysis.py</span></a><span style=\"color: #7f7f7f; text-decoration-color: #7f7f7f\">:</span><a href=\"file:///home/tobi/sw/threeML/threeML/bayesian/bayesian_analysis.py#197\" target=\"_blank\"><span style=\"color: #7f7f7f; text-decoration-color: #7f7f7f\">197</span></a>\n",
       "</pre>\n"
      ],
      "text/plain": [
       "\u001b[38;5;46m        \u001b[0m\u001b[38;5;46m \u001b[0m\u001b[38;5;49mINFO    \u001b[0m \u001b[1;38;5;251m sampler set to \u001b[0m\u001b[1;34mmultinest\u001b[0m\u001b[1;38;5;251m                                               \u001b[0m\u001b[1;38;5;251m \u001b[0m\u001b]8;id=174674;file:///home/tobi/sw/threeML/threeML/bayesian/bayesian_analysis.py\u001b\\\u001b[2mbayesian_analysis.py\u001b[0m\u001b]8;;\u001b\\\u001b[2m:\u001b[0m\u001b]8;id=462020;file:///home/tobi/sw/threeML/threeML/bayesian/bayesian_analysis.py#197\u001b\\\u001b[2m197\u001b[0m\u001b]8;;\u001b\\\n"
      ]
     },
     "metadata": {},
     "output_type": "display_data"
    }
   ],
   "source": [
    "bayes.set_sampler(\"multinest\",share_spectrum = True)\n",
    "wrap = [0] * len(model.free_parameters)  # not working properlyViel Erfolg und Spaß in den ersten Wochen!\n",
    "wrap[0] = 1\n",
    "\n",
    "bayes.sampler.setup(n_live_points=400, wrapped_params=wrap, chain_name=\"fit_\", verbose=True)"
   ]
  },
  {
   "cell_type": "code",
   "execution_count": null,
   "id": "4f42ebbd-ccc9-45b4-a42e-493b6c7be74f",
   "metadata": {},
   "outputs": [
    {
     "name": "stdout",
     "output_type": "stream",
     "text": [
      " *****************************************************\n",
      " MultiNest v3.12\n",
      " Copyright Farhan Feroz & Mike Hobson\n",
      " Release Nov 2019\n",
      "\n",
      " no. of live points =  400\n",
      " dimensionality =   19\n",
      " *****************************************************\n",
      " Starting MultiNest\n",
      " generating live points\n",
      " live points generated, starting sampling\n",
      "Acceptance Rate:                        0.993377\n",
      "Replacements:                                450\n",
      "Total Samples:                               453\n",
      "Nested Sampling ln(Z):            **************\n",
      "Acceptance Rate:                        0.972763\n",
      "Replacements:                                500\n",
      "Total Samples:                               514\n",
      "Nested Sampling ln(Z):            **************\n",
      "Acceptance Rate:                        0.951557\n",
      "Replacements:                                550\n",
      "Total Samples:                               578\n",
      "Nested Sampling ln(Z):            -691610.544260\n",
      "Acceptance Rate:                        0.902256\n",
      "Replacements:                                600\n",
      "Total Samples:                               665\n",
      "Nested Sampling ln(Z):              -1636.872446\n",
      "Acceptance Rate:                        0.823828\n",
      "Replacements:                                650\n",
      "Total Samples:                               789\n",
      "Nested Sampling ln(Z):              -1635.889975\n",
      "Acceptance Rate:                        0.781250\n",
      "Replacements:                                700\n",
      "Total Samples:                               896\n",
      "Nested Sampling ln(Z):              -1635.450364\n",
      "Acceptance Rate:                        0.750751\n",
      "Replacements:                                750\n",
      "Total Samples:                               999\n",
      "Nested Sampling ln(Z):              -1635.177352\n",
      "Acceptance Rate:                        0.722674\n",
      "Replacements:                                800\n",
      "Total Samples:                              1107\n",
      "Nested Sampling ln(Z):              -1634.986035\n",
      "Acceptance Rate:                        0.693878\n",
      "Replacements:                                850\n",
      "Total Samples:                              1225\n",
      "Nested Sampling ln(Z):              -1634.843089\n",
      "Acceptance Rate:                        0.689127\n",
      "Replacements:                                900\n",
      "Total Samples:                              1306\n",
      "Nested Sampling ln(Z):              -1634.731951\n",
      "Acceptance Rate:                        0.673759\n",
      "Replacements:                                950\n",
      "Total Samples:                              1410\n",
      "Nested Sampling ln(Z):              -1634.643185\n",
      "Acceptance Rate:                        0.659631\n",
      "Replacements:                               1000\n",
      "Total Samples:                              1516\n",
      "Nested Sampling ln(Z):              -1634.570902\n",
      "Acceptance Rate:                        0.650558\n",
      "Replacements:                               1050\n",
      "Total Samples:                              1614\n",
      "Nested Sampling ln(Z):              -1634.511178\n",
      "Acceptance Rate:                        0.641026\n",
      "Replacements:                               1100\n",
      "Total Samples:                              1716\n",
      "Nested Sampling ln(Z):              -1634.461268\n",
      "Acceptance Rate:                        0.631175\n",
      "Replacements:                               1150\n",
      "Total Samples:                              1822\n",
      "Nested Sampling ln(Z):              -1634.419152\n",
      "Acceptance Rate:                        0.619515\n",
      "Replacements:                               1200\n",
      "Total Samples:                              1937\n",
      "Nested Sampling ln(Z):              -1634.383258\n",
      "Acceptance Rate:                        0.606796\n",
      "Replacements:                               1250\n",
      "Total Samples:                              2060\n",
      "Nested Sampling ln(Z):              -1634.352219\n",
      "Acceptance Rate:                        0.605496\n",
      "Replacements:                               1300\n",
      "Total Samples:                              2147\n",
      "Nested Sampling ln(Z):              -1634.324848\n",
      "Acceptance Rate:                        0.595763\n",
      "Replacements:                               1350\n",
      "Total Samples:                              2266\n",
      "Nested Sampling ln(Z):              -1634.299916\n",
      "Acceptance Rate:                        0.591716\n",
      "Replacements:                               1400\n",
      "Total Samples:                              2366\n",
      "Nested Sampling ln(Z):              -1634.274820\n",
      "Acceptance Rate:                        0.587045\n",
      "Replacements:                               1450\n",
      "Total Samples:                              2470\n",
      "Nested Sampling ln(Z):              -1634.245394\n",
      "Acceptance Rate:                        0.577145\n",
      "Replacements:                               1500\n",
      "Total Samples:                              2599\n",
      "Nested Sampling ln(Z):              -1634.207129\n",
      "Acceptance Rate:                        0.573437\n",
      "Replacements:                               1550\n",
      "Total Samples:                              2703\n",
      "Nested Sampling ln(Z):              -1634.141101\n",
      "Acceptance Rate:                        0.569192\n",
      "Replacements:                               1600\n",
      "Total Samples:                              2811\n",
      "Nested Sampling ln(Z):              -1633.999433\n",
      "Acceptance Rate:                        0.566038\n",
      "Replacements:                               1650\n",
      "Total Samples:                              2915\n",
      "Nested Sampling ln(Z):              -1633.429729\n",
      "Acceptance Rate:                        0.558476\n",
      "Replacements:                               1700\n",
      "Total Samples:                              3044\n",
      "Nested Sampling ln(Z):              -1631.408498\n",
      "Acceptance Rate:                        0.549451\n",
      "Replacements:                               1750\n",
      "Total Samples:                              3185\n",
      "Nested Sampling ln(Z):              -1627.536918\n",
      "Acceptance Rate:                        0.539892\n",
      "Replacements:                               1800\n",
      "Total Samples:                              3334\n",
      "Nested Sampling ln(Z):              -1622.839954\n",
      "Acceptance Rate:                        0.537634\n",
      "Replacements:                               1850\n",
      "Total Samples:                              3441\n",
      "Nested Sampling ln(Z):              -1615.888010\n",
      "Acceptance Rate:                        0.533109\n",
      "Replacements:                               1900\n",
      "Total Samples:                              3564\n",
      "Nested Sampling ln(Z):              -1608.007602\n",
      "Acceptance Rate:                        0.524758\n",
      "Replacements:                               1950\n",
      "Total Samples:                              3716\n",
      "Nested Sampling ln(Z):              -1596.458921\n",
      "Acceptance Rate:                        0.520969\n",
      "Replacements:                               2000\n",
      "Total Samples:                              3839\n",
      "Nested Sampling ln(Z):              -1582.832171\n",
      "Acceptance Rate:                        0.518725\n",
      "Replacements:                               2050\n",
      "Total Samples:                              3952\n",
      "Nested Sampling ln(Z):              -1569.271676\n",
      "Acceptance Rate:                        0.515717\n",
      "Replacements:                               2100\n",
      "Total Samples:                              4072\n",
      "Nested Sampling ln(Z):              -1549.643874\n",
      "Acceptance Rate:                        0.511539\n",
      "Replacements:                               2150\n",
      "Total Samples:                              4203\n",
      "Nested Sampling ln(Z):              -1528.522496\n",
      "Acceptance Rate:                        0.511866\n",
      "Replacements:                               2200\n",
      "Total Samples:                              4298\n",
      "Nested Sampling ln(Z):              -1507.564726\n",
      "Acceptance Rate:                        0.508130\n",
      "Replacements:                               2250\n",
      "Total Samples:                              4428\n",
      "Nested Sampling ln(Z):              -1488.658174\n",
      "Acceptance Rate:                        0.505828\n",
      "Replacements:                               2300\n",
      "Total Samples:                              4547\n",
      "Nested Sampling ln(Z):              -1461.999119\n",
      "Acceptance Rate:                        0.500213\n",
      "Replacements:                               2350\n",
      "Total Samples:                              4698\n",
      "Nested Sampling ln(Z):              -1438.699794\n",
      "Acceptance Rate:                        0.494030\n",
      "Replacements:                               2400\n",
      "Total Samples:                              4858\n",
      "Nested Sampling ln(Z):              -1418.540476\n",
      "Acceptance Rate:                        0.490294\n",
      "Replacements:                               2450\n",
      "Total Samples:                              4997\n",
      "Nested Sampling ln(Z):              -1393.982613\n",
      "Acceptance Rate:                        0.488091\n",
      "Replacements:                               2500\n",
      "Total Samples:                              5122\n",
      "Nested Sampling ln(Z):              -1368.951019\n",
      "Acceptance Rate:                        0.484883\n",
      "Replacements:                               2550\n",
      "Total Samples:                              5259\n",
      "Nested Sampling ln(Z):              -1342.326777\n",
      "Acceptance Rate:                        0.482823\n",
      "Replacements:                               2600\n",
      "Total Samples:                              5385\n",
      "Nested Sampling ln(Z):              -1319.179247\n",
      "Acceptance Rate:                        0.481293\n",
      "Replacements:                               2650\n",
      "Total Samples:                              5506\n",
      "Nested Sampling ln(Z):              -1298.574856\n",
      "Acceptance Rate:                        0.480171\n",
      "Replacements:                               2700\n",
      "Total Samples:                              5623\n",
      "Nested Sampling ln(Z):              -1275.289250\n",
      "Acceptance Rate:                        0.478677\n",
      "Replacements:                               2750\n",
      "Total Samples:                              5745\n",
      "Nested Sampling ln(Z):              -1248.507569\n",
      "Acceptance Rate:                        0.474657\n",
      "Replacements:                               2800\n",
      "Total Samples:                              5899\n",
      "Nested Sampling ln(Z):              -1222.742730\n",
      "Acceptance Rate:                        0.470452\n",
      "Replacements:                               2850\n",
      "Total Samples:                              6058\n",
      "Nested Sampling ln(Z):              -1195.618166\n",
      "Acceptance Rate:                        0.468195\n",
      "Replacements:                               2900\n",
      "Total Samples:                              6194\n",
      "Nested Sampling ln(Z):              -1169.949147\n",
      "Acceptance Rate:                        0.464421\n",
      "Replacements:                               2950\n",
      "Total Samples:                              6352\n",
      "Nested Sampling ln(Z):              -1146.533940\n",
      "Acceptance Rate:                        0.463034\n",
      "Replacements:                               3000\n",
      "Total Samples:                              6479\n",
      "Nested Sampling ln(Z):              -1125.400132\n",
      "Acceptance Rate:                        0.460100\n",
      "Replacements:                               3050\n",
      "Total Samples:                              6629\n",
      "Nested Sampling ln(Z):              -1102.284859\n",
      "Acceptance Rate:                        0.458648\n",
      "Replacements:                               3100\n",
      "Total Samples:                              6759\n",
      "Nested Sampling ln(Z):              -1083.832479\n",
      "Acceptance Rate:                        0.455927\n",
      "Replacements:                               3150\n",
      "Total Samples:                              6909\n",
      "Nested Sampling ln(Z):              -1061.253871\n",
      "Acceptance Rate:                        0.452489\n",
      "Replacements:                               3200\n",
      "Total Samples:                              7072\n",
      "Nested Sampling ln(Z):              -1043.653911\n",
      "Acceptance Rate:                        0.449454\n",
      "Replacements:                               3250\n",
      "Total Samples:                              7231\n",
      "Nested Sampling ln(Z):              -1022.215012\n",
      "Acceptance Rate:                        0.445104\n",
      "Replacements:                               3300\n",
      "Total Samples:                              7414\n",
      "Nested Sampling ln(Z):              -1004.770206\n",
      "Acceptance Rate:                        0.444651\n",
      "Replacements:                               3350\n",
      "Total Samples:                              7534\n",
      "Nested Sampling ln(Z):               -987.302851\n",
      "Acceptance Rate:                        0.442018\n",
      "Replacements:                               3400\n",
      "Total Samples:                              7692\n",
      "Nested Sampling ln(Z):               -971.644388\n",
      "Acceptance Rate:                        0.439771\n",
      "Replacements:                               3450\n",
      "Total Samples:                              7845\n",
      "Nested Sampling ln(Z):               -956.782573\n",
      "Acceptance Rate:                        0.439037\n",
      "Replacements:                               3500\n",
      "Total Samples:                              7972\n",
      "Nested Sampling ln(Z):               -943.020332\n",
      "Acceptance Rate:                        0.437300\n",
      "Replacements:                               3550\n",
      "Total Samples:                              8118\n",
      "Nested Sampling ln(Z):               -925.680641\n",
      "Acceptance Rate:                        0.435466\n",
      "Replacements:                               3600\n",
      "Total Samples:                              8267\n",
      "Nested Sampling ln(Z):               -912.233552\n",
      "Acceptance Rate:                        0.435094\n",
      "Replacements:                               3650\n",
      "Total Samples:                              8389\n",
      "Nested Sampling ln(Z):               -901.127013\n",
      "Acceptance Rate:                        0.433662\n",
      "Replacements:                               3700\n",
      "Total Samples:                              8532\n",
      "Nested Sampling ln(Z):               -886.002202\n",
      "Acceptance Rate:                        0.432127\n",
      "Replacements:                               3750\n",
      "Total Samples:                              8678\n",
      "Nested Sampling ln(Z):               -872.604575\n",
      "Acceptance Rate:                        0.429767\n",
      "Replacements:                               3800\n",
      "Total Samples:                              8842\n",
      "Nested Sampling ln(Z):               -862.059287\n",
      "Acceptance Rate:                        0.425555\n",
      "Replacements:                               3850\n",
      "Total Samples:                              9047\n",
      "Nested Sampling ln(Z):               -851.099560\n",
      "Acceptance Rate:                        0.423729\n",
      "Replacements:                               3900\n",
      "Total Samples:                              9204\n",
      "Nested Sampling ln(Z):               -840.351562\n",
      "Acceptance Rate:                        0.423184\n",
      "Replacements:                               3950\n",
      "Total Samples:                              9334\n",
      "Nested Sampling ln(Z):               -832.442059\n",
      "Acceptance Rate:                        0.421896\n",
      "Replacements:                               4000\n",
      "Total Samples:                              9481\n",
      "Nested Sampling ln(Z):               -823.968769\n",
      "Acceptance Rate:                        0.421831\n",
      "Replacements:                               4050\n",
      "Total Samples:                              9601\n",
      "Nested Sampling ln(Z):               -814.065955\n",
      "Acceptance Rate:                        0.420901\n",
      "Replacements:                               4100\n",
      "Total Samples:                              9741\n",
      "Nested Sampling ln(Z):               -805.085902\n",
      "Acceptance Rate:                        0.419658\n",
      "Replacements:                               4150\n",
      "Total Samples:                              9889\n",
      "Nested Sampling ln(Z):               -798.173722\n",
      "Acceptance Rate:                        0.417371\n",
      "Replacements:                               4200\n",
      "Total Samples:                             10063\n",
      "Nested Sampling ln(Z):               -791.077665\n",
      "Acceptance Rate:                        0.414392\n",
      "Replacements:                               4250\n",
      "Total Samples:                             10256\n",
      "Nested Sampling ln(Z):               -782.747743\n",
      "Acceptance Rate:                        0.413621\n",
      "Replacements:                               4300\n",
      "Total Samples:                             10396\n",
      "Nested Sampling ln(Z):               -776.746546\n",
      "Acceptance Rate:                        0.412596\n",
      "Replacements:                               4350\n",
      "Total Samples:                             10543\n",
      "Nested Sampling ln(Z):               -770.939346\n",
      "Acceptance Rate:                        0.410065\n",
      "Replacements:                               4400\n",
      "Total Samples:                             10730\n",
      "Nested Sampling ln(Z):               -765.042624\n",
      "Acceptance Rate:                        0.407136\n",
      "Replacements:                               4450\n",
      "Total Samples:                             10930\n",
      "Nested Sampling ln(Z):               -760.100290\n",
      "Acceptance Rate:                        0.405552\n",
      "Replacements:                               4500\n",
      "Total Samples:                             11096\n",
      "Nested Sampling ln(Z):               -754.588299\n",
      "Acceptance Rate:                        0.403297\n",
      "Replacements:                               4550\n",
      "Total Samples:                             11282\n",
      "Nested Sampling ln(Z):               -750.116727\n",
      "Acceptance Rate:                        0.401852\n",
      "Replacements:                               4600\n",
      "Total Samples:                             11447\n",
      "Nested Sampling ln(Z):               -745.278360\n",
      "Acceptance Rate:                        0.400103\n",
      "Replacements:                               4650\n",
      "Total Samples:                             11622\n",
      "Nested Sampling ln(Z):               -741.060953\n",
      "Acceptance Rate:                        0.397665\n",
      "Replacements:                               4700\n",
      "Total Samples:                             11819\n",
      "Nested Sampling ln(Z):               -736.906749\n",
      "Acceptance Rate:                        0.396461\n",
      "Replacements:                               4750\n",
      "Total Samples:                             11981\n",
      "Nested Sampling ln(Z):               -733.780756\n",
      "Acceptance Rate:                        0.393992\n",
      "Replacements:                               4800\n",
      "Total Samples:                             12183\n",
      "Nested Sampling ln(Z):               -730.219642\n",
      "Acceptance Rate:                        0.392903\n",
      "Replacements:                               4850\n",
      "Total Samples:                             12344\n",
      "Nested Sampling ln(Z):               -726.600948\n",
      "Acceptance Rate:                        0.391343\n",
      "Replacements:                               4900\n",
      "Total Samples:                             12521\n",
      "Nested Sampling ln(Z):               -723.508397\n",
      "Acceptance Rate:                        0.389856\n",
      "Replacements:                               4950\n",
      "Total Samples:                             12697\n",
      "Nested Sampling ln(Z):               -720.174953\n",
      "Acceptance Rate:                        0.389014\n",
      "Replacements:                               5000\n",
      "Total Samples:                             12853\n",
      "Nested Sampling ln(Z):               -717.060526\n",
      "Acceptance Rate:                        0.384879\n",
      "Replacements:                               5050\n",
      "Total Samples:                             13121\n",
      "Nested Sampling ln(Z):               -714.023521\n",
      "Acceptance Rate:                        0.383805\n",
      "Replacements:                               5100\n",
      "Total Samples:                             13288\n",
      "Nested Sampling ln(Z):               -711.161588\n",
      "Acceptance Rate:                        0.381284\n",
      "Replacements:                               5150\n",
      "Total Samples:                             13507\n",
      "Nested Sampling ln(Z):               -708.335278\n",
      "Acceptance Rate:                        0.378485\n",
      "Replacements:                               5200\n",
      "Total Samples:                             13739\n",
      "Nested Sampling ln(Z):               -706.108539\n",
      "Acceptance Rate:                        0.376587\n",
      "Replacements:                               5250\n",
      "Total Samples:                             13941\n",
      "Nested Sampling ln(Z):               -703.516263\n",
      "Acceptance Rate:                        0.374744\n",
      "Replacements:                               5300\n",
      "Total Samples:                             14143\n",
      "Nested Sampling ln(Z):               -701.229456\n",
      "Acceptance Rate:                        0.371786\n",
      "Replacements:                               5350\n",
      "Total Samples:                             14390\n",
      "Nested Sampling ln(Z):               -698.974770\n",
      "Acceptance Rate:                        0.368827\n",
      "Replacements:                               5400\n",
      "Total Samples:                             14641\n",
      "Nested Sampling ln(Z):               -696.897729\n",
      "Acceptance Rate:                        0.366781\n",
      "Replacements:                               5450\n",
      "Total Samples:                             14859\n",
      "Nested Sampling ln(Z):               -695.010335\n",
      "Acceptance Rate:                        0.364915\n",
      "Replacements:                               5500\n",
      "Total Samples:                             15072\n",
      "Nested Sampling ln(Z):               -692.666879\n",
      "Acceptance Rate:                        0.363720\n",
      "Replacements:                               5550\n",
      "Total Samples:                             15259\n",
      "Nested Sampling ln(Z):               -690.421203\n",
      "Acceptance Rate:                        0.362976\n",
      "Replacements:                               5600\n",
      "Total Samples:                             15428\n",
      "Nested Sampling ln(Z):               -688.610465\n",
      "Acceptance Rate:                        0.360654\n",
      "Replacements:                               5650\n",
      "Total Samples:                             15666\n",
      "Nested Sampling ln(Z):               -686.869758\n",
      "Acceptance Rate:                        0.358874\n",
      "Replacements:                               5700\n",
      "Total Samples:                             15883\n",
      "Nested Sampling ln(Z):               -685.219437\n",
      "Acceptance Rate:                        0.356965\n",
      "Replacements:                               5750\n",
      "Total Samples:                             16108\n",
      "Nested Sampling ln(Z):               -683.446695\n",
      "Acceptance Rate:                        0.356134\n",
      "Replacements:                               5800\n",
      "Total Samples:                             16286\n",
      "Nested Sampling ln(Z):               -682.099556\n",
      "Acceptance Rate:                        0.353496\n",
      "Replacements:                               5850\n",
      "Total Samples:                             16549\n",
      "Nested Sampling ln(Z):               -680.883655\n",
      "Acceptance Rate:                        0.352008\n",
      "Replacements:                               5900\n",
      "Total Samples:                             16761\n",
      "Nested Sampling ln(Z):               -679.609713\n",
      "Acceptance Rate:                        0.349979\n",
      "Replacements:                               5950\n",
      "Total Samples:                             17001\n",
      "Nested Sampling ln(Z):               -678.469088\n",
      "Acceptance Rate:                        0.347564\n",
      "Replacements:                               6000\n",
      "Total Samples:                             17263\n",
      "Nested Sampling ln(Z):               -677.200528\n",
      "Acceptance Rate:                        0.346367\n",
      "Replacements:                               6050\n",
      "Total Samples:                             17467\n",
      "Nested Sampling ln(Z):               -676.002191\n",
      "Acceptance Rate:                        0.345413\n",
      "Replacements:                               6100\n",
      "Total Samples:                             17660\n",
      "Nested Sampling ln(Z):               -675.060378\n",
      "Acceptance Rate:                        0.343230\n",
      "Replacements:                               6150\n",
      "Total Samples:                             17918\n",
      "Nested Sampling ln(Z):               -674.123167\n",
      "Acceptance Rate:                        0.341956\n",
      "Replacements:                               6200\n",
      "Total Samples:                             18131\n",
      "Nested Sampling ln(Z):               -673.170068\n",
      "Acceptance Rate:                        0.338845\n",
      "Replacements:                               6250\n",
      "Total Samples:                             18445\n",
      "Nested Sampling ln(Z):               -672.190677\n",
      "Acceptance Rate:                        0.336610\n",
      "Replacements:                               6300\n",
      "Total Samples:                             18716\n",
      "Nested Sampling ln(Z):               -671.444756\n",
      "Acceptance Rate:                        0.334404\n",
      "Replacements:                               6350\n",
      "Total Samples:                             18989\n",
      "Nested Sampling ln(Z):               -670.752302\n",
      "Acceptance Rate:                        0.332935\n",
      "Replacements:                               6400\n",
      "Total Samples:                             19223\n",
      "Nested Sampling ln(Z):               -670.092082\n",
      "Acceptance Rate:                        0.331483\n",
      "Replacements:                               6450\n",
      "Total Samples:                             19458\n",
      "Nested Sampling ln(Z):               -669.395714\n",
      "Acceptance Rate:                        0.328648\n",
      "Replacements:                               6500\n",
      "Total Samples:                             19778\n",
      "Nested Sampling ln(Z):               -668.709984\n",
      "Acceptance Rate:                        0.326944\n",
      "Replacements:                               6550\n",
      "Total Samples:                             20034\n",
      "Nested Sampling ln(Z):               -667.983465\n",
      "Acceptance Rate:                        0.325894\n",
      "Replacements:                               6600\n",
      "Total Samples:                             20252\n",
      "Nested Sampling ln(Z):               -667.303619\n",
      "Acceptance Rate:                        0.324564\n",
      "Replacements:                               6650\n",
      "Total Samples:                             20489\n",
      "Nested Sampling ln(Z):               -666.709007\n",
      "Acceptance Rate:                        0.323500\n",
      "Replacements:                               6700\n",
      "Total Samples:                             20711\n",
      "Nested Sampling ln(Z):               -666.117764\n",
      "Acceptance Rate:                        0.321873\n",
      "Replacements:                               6750\n",
      "Total Samples:                             20971\n",
      "Nested Sampling ln(Z):               -665.487203\n",
      "Acceptance Rate:                        0.320422\n",
      "Replacements:                               6800\n",
      "Total Samples:                             21222\n",
      "Nested Sampling ln(Z):               -664.884959\n",
      "Acceptance Rate:                        0.318842\n",
      "Replacements:                               6850\n",
      "Total Samples:                             21484\n",
      "Nested Sampling ln(Z):               -664.347675\n",
      "Acceptance Rate:                        0.316137\n",
      "Replacements:                               6900\n",
      "Total Samples:                             21826\n",
      "Nested Sampling ln(Z):               -663.800889\n",
      "Acceptance Rate:                        0.313997\n",
      "Replacements:                               6950\n",
      "Total Samples:                             22134\n",
      "Nested Sampling ln(Z):               -663.272397\n",
      "Acceptance Rate:                        0.311111\n",
      "Replacements:                               7000\n",
      "Total Samples:                             22500\n",
      "Nested Sampling ln(Z):               -662.758620\n",
      "Acceptance Rate:                        0.309795\n",
      "Replacements:                               7050\n",
      "Total Samples:                             22757\n",
      "Nested Sampling ln(Z):               -662.307602\n",
      "Acceptance Rate:                        0.307959\n",
      "Replacements:                               7100\n",
      "Total Samples:                             23055\n",
      "Nested Sampling ln(Z):               -661.867659\n",
      "Acceptance Rate:                        0.306499\n",
      "Replacements:                               7150\n",
      "Total Samples:                             23328\n",
      "Nested Sampling ln(Z):               -661.426364\n",
      "Acceptance Rate:                        0.305356\n",
      "Replacements:                               7200\n",
      "Total Samples:                             23579\n",
      "Nested Sampling ln(Z):               -661.012376\n",
      "Acceptance Rate:                        0.302461\n",
      "Replacements:                               7250\n",
      "Total Samples:                             23970\n",
      "Nested Sampling ln(Z):               -660.619559\n",
      "Acceptance Rate:                        0.300820\n",
      "Replacements:                               7300\n",
      "Total Samples:                             24267\n",
      "Nested Sampling ln(Z):               -660.252277\n",
      "Acceptance Rate:                        0.299963\n",
      "Replacements:                               7350\n",
      "Total Samples:                             24503\n",
      "Nested Sampling ln(Z):               -659.892340\n",
      "Acceptance Rate:                        0.298027\n",
      "Replacements:                               7400\n",
      "Total Samples:                             24830\n",
      "Nested Sampling ln(Z):               -659.556150\n",
      "Acceptance Rate:                        0.296529\n",
      "Replacements:                               7450\n",
      "Total Samples:                             25124\n",
      "Nested Sampling ln(Z):               -659.237840\n",
      "Acceptance Rate:                        0.294533\n",
      "Replacements:                               7500\n",
      "Total Samples:                             25464\n",
      "Nested Sampling ln(Z):               -658.950916\n",
      "Acceptance Rate:                        0.292795\n",
      "Replacements:                               7550\n",
      "Total Samples:                             25786\n",
      "Nested Sampling ln(Z):               -658.660875\n",
      "Acceptance Rate:                        0.291556\n",
      "Replacements:                               7600\n",
      "Total Samples:                             26067\n",
      "Nested Sampling ln(Z):               -658.365786\n",
      "Acceptance Rate:                        0.289411\n",
      "Replacements:                               7650\n",
      "Total Samples:                             26433\n",
      "Nested Sampling ln(Z):               -658.066081\n",
      "Acceptance Rate:                        0.288023\n",
      "Replacements:                               7700\n",
      "Total Samples:                             26734\n",
      "Nested Sampling ln(Z):               -657.790783\n",
      "Acceptance Rate:                        0.286115\n",
      "Replacements:                               7750\n",
      "Total Samples:                             27087\n",
      "Nested Sampling ln(Z):               -657.522995\n",
      "Acceptance Rate:                        0.285401\n",
      "Replacements:                               7800\n",
      "Total Samples:                             27330\n",
      "Nested Sampling ln(Z):               -657.285067\n",
      "Acceptance Rate:                        0.282975\n",
      "Replacements:                               7850\n",
      "Total Samples:                             27741\n",
      "Nested Sampling ln(Z):               -657.065569\n",
      "Acceptance Rate:                        0.281580\n",
      "Replacements:                               7900\n",
      "Total Samples:                             28056\n",
      "Nested Sampling ln(Z):               -656.852626\n",
      "Acceptance Rate:                        0.279536\n",
      "Replacements:                               7950\n",
      "Total Samples:                             28440\n",
      "Nested Sampling ln(Z):               -656.638714\n",
      "Acceptance Rate:                        0.278358\n",
      "Replacements:                               8000\n",
      "Total Samples:                             28740\n",
      "Nested Sampling ln(Z):               -656.437533\n",
      "Acceptance Rate:                        0.276518\n",
      "Replacements:                               8050\n",
      "Total Samples:                             29112\n",
      "Nested Sampling ln(Z):               -656.240473\n",
      "Acceptance Rate:                        0.274520\n",
      "Replacements:                               8100\n",
      "Total Samples:                             29506\n",
      "Nested Sampling ln(Z):               -656.051456\n",
      "Acceptance Rate:                        0.272557\n",
      "Replacements:                               8150\n",
      "Total Samples:                             29902\n",
      "Nested Sampling ln(Z):               -655.874043\n",
      "Acceptance Rate:                        0.270851\n",
      "Replacements:                               8200\n",
      "Total Samples:                             30275\n",
      "Nested Sampling ln(Z):               -655.704720\n",
      "Acceptance Rate:                        0.268563\n",
      "Replacements:                               8250\n",
      "Total Samples:                             30719\n",
      "Nested Sampling ln(Z):               -655.540761\n",
      "Acceptance Rate:                        0.266324\n",
      "Replacements:                               8300\n",
      "Total Samples:                             31165\n",
      "Nested Sampling ln(Z):               -655.388337\n",
      "Acceptance Rate:                        0.265214\n",
      "Replacements:                               8350\n",
      "Total Samples:                             31484\n",
      "Nested Sampling ln(Z):               -655.244401\n",
      "Acceptance Rate:                        0.263687\n",
      "Replacements:                               8400\n",
      "Total Samples:                             31856\n",
      "Nested Sampling ln(Z):               -655.109102\n",
      "Acceptance Rate:                        0.261553\n",
      "Replacements:                               8450\n",
      "Total Samples:                             32307\n",
      "Nested Sampling ln(Z):               -654.975304\n",
      "Acceptance Rate:                        0.258965\n",
      "Replacements:                               8500\n",
      "Total Samples:                             32823\n",
      "Nested Sampling ln(Z):               -654.844928\n",
      "Acceptance Rate:                        0.256950\n",
      "Replacements:                               8550\n",
      "Total Samples:                             33275\n",
      "Nested Sampling ln(Z):               -654.722391\n",
      "Acceptance Rate:                        0.255405\n",
      "Replacements:                               8600\n",
      "Total Samples:                             33672\n",
      "Nested Sampling ln(Z):               -654.605178\n",
      "Acceptance Rate:                        0.254158\n",
      "Replacements:                               8650\n",
      "Total Samples:                             34034\n",
      "Nested Sampling ln(Z):               -654.490957\n",
      "Acceptance Rate:                        0.252797\n",
      "Replacements:                               8700\n",
      "Total Samples:                             34415\n",
      "Nested Sampling ln(Z):               -654.382361\n",
      "Acceptance Rate:                        0.250057\n",
      "Replacements:                               8750\n",
      "Total Samples:                             34992\n",
      "Nested Sampling ln(Z):               -654.278212\n",
      "Acceptance Rate:                        0.247943\n",
      "Replacements:                               8800\n",
      "Total Samples:                             35492\n",
      "Nested Sampling ln(Z):               -654.177192\n",
      "Acceptance Rate:                        0.245731\n",
      "Replacements:                               8850\n",
      "Total Samples:                             36015\n",
      "Nested Sampling ln(Z):               -654.080320\n",
      "Acceptance Rate:                        0.244083\n",
      "Replacements:                               8900\n",
      "Total Samples:                             36463\n",
      "Nested Sampling ln(Z):               -653.986814\n",
      "Acceptance Rate:                        0.241853\n",
      "Replacements:                               8950\n",
      "Total Samples:                             37006\n",
      "Nested Sampling ln(Z):               -653.898354\n",
      "Acceptance Rate:                        0.240861\n",
      "Replacements:                               9000\n",
      "Total Samples:                             37366\n",
      "Nested Sampling ln(Z):               -653.814934\n",
      "Acceptance Rate:                        0.239970\n",
      "Replacements:                               9050\n",
      "Total Samples:                             37713\n",
      "Nested Sampling ln(Z):               -653.735334\n",
      "Acceptance Rate:                        0.238507\n",
      "Replacements:                               9100\n",
      "Total Samples:                             38154\n",
      "Nested Sampling ln(Z):               -653.658930\n",
      "Acceptance Rate:                        0.236520\n",
      "Replacements:                               9150\n",
      "Total Samples:                             38686\n",
      "Nested Sampling ln(Z):               -653.584880\n",
      "Acceptance Rate:                        0.234556\n",
      "Replacements:                               9200\n",
      "Total Samples:                             39223\n",
      "Nested Sampling ln(Z):               -653.515786\n",
      "Acceptance Rate:                        0.231928\n",
      "Replacements:                               9250\n",
      "Total Samples:                             39883\n",
      "Nested Sampling ln(Z):               -653.451095\n",
      "Acceptance Rate:                        0.230152\n",
      "Replacements:                               9300\n",
      "Total Samples:                             40408\n",
      "Nested Sampling ln(Z):               -653.390471\n",
      "Acceptance Rate:                        0.228757\n",
      "Replacements:                               9350\n",
      "Total Samples:                             40873\n",
      "Nested Sampling ln(Z):               -653.333818\n",
      "Acceptance Rate:                        0.227273\n",
      "Replacements:                               9400\n",
      "Total Samples:                             41360\n",
      "Nested Sampling ln(Z):               -653.279626\n",
      "Acceptance Rate:                        0.225801\n",
      "Replacements:                               9450\n",
      "Total Samples:                             41851\n",
      "Nested Sampling ln(Z):               -653.228590\n",
      "Acceptance Rate:                        0.224025\n",
      "Replacements:                               9500\n",
      "Total Samples:                             42406\n",
      "Nested Sampling ln(Z):               -653.180167\n",
      "Acceptance Rate:                        0.222346\n",
      "Replacements:                               9550\n",
      "Total Samples:                             42951\n",
      "Nested Sampling ln(Z):               -653.134359\n",
      "Acceptance Rate:                        0.220786\n",
      "Replacements:                               9600\n",
      "Total Samples:                             43481\n",
      "Nested Sampling ln(Z):               -653.091428\n",
      "Acceptance Rate:                        0.219883\n",
      "Replacements:                               9650\n",
      "Total Samples:                             43887\n",
      "Nested Sampling ln(Z):               -653.050917\n",
      "Acceptance Rate:                        0.218744\n",
      "Replacements:                               9700\n",
      "Total Samples:                             44344\n",
      "Nested Sampling ln(Z):               -653.012604\n",
      "Acceptance Rate:                        0.217227\n",
      "Replacements:                               9750\n",
      "Total Samples:                             44884\n",
      "Nested Sampling ln(Z):               -652.975703\n",
      "Acceptance Rate:                        0.215792\n",
      "Replacements:                               9800\n",
      "Total Samples:                             45414\n",
      "Nested Sampling ln(Z):               -652.940177\n",
      "Acceptance Rate:                        0.214527\n",
      "Replacements:                               9850\n",
      "Total Samples:                             45915\n",
      "Nested Sampling ln(Z):               -652.905716\n",
      "Acceptance Rate:                        0.213390\n",
      "Replacements:                               9900\n",
      "Total Samples:                             46394\n",
      "Nested Sampling ln(Z):               -652.873337\n",
      "Acceptance Rate:                        0.212258\n",
      "Replacements:                               9950\n",
      "Total Samples:                             46877\n",
      "Nested Sampling ln(Z):               -652.842059\n",
      "Acceptance Rate:                        0.210695\n",
      "Replacements:                              10000\n",
      "Total Samples:                             47462\n",
      "Nested Sampling ln(Z):               -652.812688\n",
      "Acceptance Rate:                        0.208775\n",
      "Replacements:                              10050\n",
      "Total Samples:                             48138\n",
      "Nested Sampling ln(Z):               -652.785157\n",
      "Acceptance Rate:                        0.208059\n",
      "Replacements:                              10100\n",
      "Total Samples:                             48544\n",
      "Nested Sampling ln(Z):               -652.759481\n",
      "Acceptance Rate:                        0.207058\n",
      "Replacements:                              10150\n",
      "Total Samples:                             49020\n",
      "Nested Sampling ln(Z):               -652.734824\n",
      "Acceptance Rate:                        0.205961\n",
      "Replacements:                              10200\n",
      "Total Samples:                             49524\n",
      "Nested Sampling ln(Z):               -652.711033\n",
      "Acceptance Rate:                        0.205226\n",
      "Replacements:                              10250\n",
      "Total Samples:                             49945\n",
      "Nested Sampling ln(Z):               -652.688366\n",
      "Acceptance Rate:                        0.204479\n",
      "Replacements:                              10300\n",
      "Total Samples:                             50372\n",
      "Nested Sampling ln(Z):               -652.667129\n",
      "Acceptance Rate:                        0.203300\n",
      "Replacements:                              10350\n",
      "Total Samples:                             50910\n",
      "Nested Sampling ln(Z):               -652.646679\n",
      "Acceptance Rate:                        0.201942\n",
      "Replacements:                              10400\n",
      "Total Samples:                             51500\n",
      "Nested Sampling ln(Z):               -652.626945\n",
      "Acceptance Rate:                        0.201105\n",
      "Replacements:                              10450\n",
      "Total Samples:                             51963\n",
      "Nested Sampling ln(Z):               -652.608036\n",
      "Acceptance Rate:                        0.199905\n",
      "Replacements:                              10500\n",
      "Total Samples:                             52525\n",
      "Nested Sampling ln(Z):               -652.590333\n",
      "Acceptance Rate:                        0.199049\n",
      "Replacements:                              10550\n",
      "Total Samples:                             53002\n",
      "Nested Sampling ln(Z):               -652.573596\n",
      "Acceptance Rate:                        0.197544\n",
      "Replacements:                              10600\n",
      "Total Samples:                             53659\n",
      "Nested Sampling ln(Z):               -652.557709\n",
      "Acceptance Rate:                        0.196494\n",
      "Replacements:                              10650\n",
      "Total Samples:                             54200\n",
      "Nested Sampling ln(Z):               -652.542871\n",
      "Acceptance Rate:                        0.195648\n",
      "Replacements:                              10700\n",
      "Total Samples:                             54690\n",
      "Nested Sampling ln(Z):               -652.528930\n",
      "Acceptance Rate:                        0.194789\n",
      "Replacements:                              10750\n",
      "Total Samples:                             55188\n",
      "Nested Sampling ln(Z):               -652.515958\n",
      "Acceptance Rate:                        0.193986\n",
      "Replacements:                              10800\n",
      "Total Samples:                             55674\n",
      "Nested Sampling ln(Z):               -652.503559\n",
      "Acceptance Rate:                        0.193356\n",
      "Replacements:                              10850\n",
      "Total Samples:                             56114\n",
      "Nested Sampling ln(Z):               -652.491845\n",
      "Acceptance Rate:                        0.192896\n",
      "Replacements:                              10900\n",
      "Total Samples:                             56507\n",
      "Nested Sampling ln(Z):               -652.480824\n",
      "Acceptance Rate:                        0.191373\n",
      "Replacements:                              10950\n",
      "Total Samples:                             57218\n",
      "Nested Sampling ln(Z):               -652.470427\n"
     ]
    },
    {
     "name": "stderr",
     "output_type": "stream",
     "text": [
      "Exception ignored on calling ctypes callback function: <function run.<locals>.loglike at 0x7f876462b1f0>\n",
      "Traceback (most recent call last):\n",
      "  File \"/home/tobi/.venvs/localizing39/lib/python3.9/site-packages/pymultinest/run.py\", line 228, in loglike\n",
      "    return LogLikelihood(cube, ndim, nparams)\n",
      "  File \"/home/tobi/sw/threeML/threeML/bayesian/sampler_base.py\", line 502, in loglike\n",
      "    log_like = self._log_like(trial_values)\n",
      "  File \"/home/tobi/sw/threeML/threeML/bayesian/sampler_base.py\", line 416, in _log_like\n",
      "    log_like_values[i] = dataset.get_log_like(\n",
      "  File \"/home/tobi/sw/threeML/threeML/plugins/SpectrumLike.py\", line 1827, in get_log_like\n",
      "    loglike, _ = self._likelihood_evaluator.get_current_value(\n",
      "  File \"/home/tobi/sw/threeML/threeML/utils/spectrum/spectrum_likelihood.py\", line 299, in get_current_value\n",
      "    expected_model_counts = self._spectrum_plugin.get_model(precalc_fluxes=precalc_fluxes)\n",
      "  File \"/home/tobi/sw/GBM/gbm_drm_gen/gbm_drm_gen/io/balrog_like.py\", line 132, in get_model\n",
      "    self._response.set_location(ra, dec, cache=self._use_cache)\n",
      "  File \"/home/tobi/sw/GBM/gbm_drm_gen/gbm_drm_gen/io/balrog_drm.py\", line 69, in set_location\n",
      "    self._drm_generator.set_location(ra, dec)\n",
      "  File \"/home/tobi/sw/GBM/gbm_drm_gen/gbm_drm_gen/drmgen.py\", line 498, in set_location\n",
      "    self._drm = self._make_drm_numba(\n",
      "  File \"/home/tobi/sw/GBM/gbm_drm_gen/gbm_drm_gen/drmgen.py\", line 658, in _make_drm_numba\n",
      "    return _build_drm(\n",
      "  File \"/home/tobi/.venvs/localizing39/lib/python3.9/site-packages/numba/core/serialize.py\", line 30, in _numba_unpickle\n",
      "    def _numba_unpickle(address, bytedata, hashed):\n",
      "KeyboardInterrupt: \n",
      "Exception ignored on calling ctypes callback function: <function run.<locals>.loglike at 0x7f876462b1f0>\n",
      "Traceback (most recent call last):\n",
      "  File \"/home/tobi/.venvs/localizing39/lib/python3.9/site-packages/pymultinest/run.py\", line 228, in loglike\n",
      "    return LogLikelihood(cube, ndim, nparams)\n",
      "  File \"/home/tobi/sw/threeML/threeML/bayesian/sampler_base.py\", line 502, in loglike\n",
      "    log_like = self._log_like(trial_values)\n",
      "  File \"/home/tobi/sw/threeML/threeML/bayesian/sampler_base.py\", line 416, in _log_like\n",
      "    log_like_values[i] = dataset.get_log_like(\n",
      "  File \"/home/tobi/sw/threeML/threeML/plugins/SpectrumLike.py\", line 1827, in get_log_like\n",
      "    loglike, _ = self._likelihood_evaluator.get_current_value(\n",
      "  File \"/home/tobi/sw/threeML/threeML/utils/spectrum/spectrum_likelihood.py\", line 299, in get_current_value\n",
      "    expected_model_counts = self._spectrum_plugin.get_model(precalc_fluxes=precalc_fluxes)\n",
      "  File \"/home/tobi/sw/GBM/gbm_drm_gen/gbm_drm_gen/io/balrog_like.py\", line 132, in get_model\n",
      "    self._response.set_location(ra, dec, cache=self._use_cache)\n",
      "  File \"/home/tobi/sw/GBM/gbm_drm_gen/gbm_drm_gen/io/balrog_drm.py\", line 69, in set_location\n",
      "    self._drm_generator.set_location(ra, dec)\n",
      "  File \"/home/tobi/sw/GBM/gbm_drm_gen/gbm_drm_gen/drmgen.py\", line 498, in set_location\n",
      "    self._drm = self._make_drm_numba(\n",
      "  File \"/home/tobi/sw/GBM/gbm_drm_gen/gbm_drm_gen/drmgen.py\", line 658, in _make_drm_numba\n",
      "    return _build_drm(\n",
      "  File \"/home/tobi/.venvs/localizing39/lib/python3.9/site-packages/numba/core/serialize.py\", line 30, in _numba_unpickle\n",
      "    def _numba_unpickle(address, bytedata, hashed):\n",
      "KeyboardInterrupt: \n"
     ]
    }
   ],
   "source": [
    "bayes.sample()"
   ]
  },
  {
   "cell_type": "code",
   "execution_count": null,
   "id": "66868cef-fd4e-4331-94a0-ecd55c0bee37",
   "metadata": {},
   "outputs": [],
   "source": []
  }
 ],
 "metadata": {
  "kernelspec": {
   "display_name": "localizing39",
   "language": "python",
   "name": "localizing39"
  },
  "language_info": {
   "codemirror_mode": {
    "name": "ipython",
    "version": 3
   },
   "file_extension": ".py",
   "mimetype": "text/x-python",
   "name": "python",
   "nbconvert_exporter": "python",
   "pygments_lexer": "ipython3",
   "version": "3.9.18"
  }
 },
 "nbformat": 4,
 "nbformat_minor": 5
}
